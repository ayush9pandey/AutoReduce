{
 "cells": [
  {
   "cell_type": "markdown",
   "metadata": {},
   "source": [
    "  $G_i + P \\quad[k^{b_P}_i]<->[k^{u_P}_i] \\quad  G_i:P \\\\\n",
    "    G_i:P \\quad  --> [k_i^{tx}] \\quad  G_i + P + T_i \\\\\n",
    "    T_i + R \\quad  [k^{b_R}_i]<->[k^{u_R}_i]\\quad   T_i:R \\\\\n",
    "    T_i:R  \\quad -->[k_i^{tl}]\\quad T_i + R + X_i \\\\\n",
    "    T_i + E \\quad  [k^{b_E}_i]<->[k^{u_E}_i] \\quad  T_i:E \\\\\n",
    "    T_i:E \\quad-->[\\delta_i]\\quad E \\\\\n",
    "    X \\quad-->[d]\\quad $"
   ]
  },
  {
   "cell_type": "code",
   "execution_count": 1,
   "metadata": {},
   "outputs": [],
   "source": [
    "%matplotlib inline\n",
    "from IPython.core.interactiveshell import InteractiveShell\n",
    "InteractiveShell.ast_node_interactivity = \"all\"\n",
    "from auto_reduce import *\n",
    "import numpy as np\n",
    "from sympy import symbols"
   ]
  },
  {
   "cell_type": "code",
   "execution_count": 2,
   "metadata": {},
   "outputs": [],
   "source": [
    "# Post conservation law and other approximations phenomenological model at the RNA level\n",
    "n = 8 # Number of states : P, C1, T, R, C2, E, C3, X\n",
    "nouts = 1 # Number of outputs, X_i\n",
    "\n",
    "# Inputs by user \n",
    "x_init = np.zeros(n)\n",
    "x_init[0] = 10000\n",
    "x_init[3] = 10000\n",
    "x_init[5] = 10000\n",
    "C = np.zeros((nouts,n), dtype=int)\n",
    "C[0][7] = 1\n",
    "\n",
    "nstates_tol_max = 4\n",
    "error_tol = 3000\n",
    "# System dynamics symbolically\n",
    "\n",
    "# k_bp, k_up, k_tx, k_br, k_ur, k_tl, k_be, k_ue, d_i, d = params, len(params) = 10\n",
    "\n",
    "\n",
    "x0 = symbols('P')\n",
    "x1 = symbols('C1') # G:P\n",
    "x2 = symbols('T')\n",
    "x3 = symbols('R')\n",
    "x4 = symbols('C2') # T:R\n",
    "x5 = symbols('E')\n",
    "x6 = symbols('C3') # T:E\n",
    "x7 = symbols('X')\n",
    "\n",
    "x = [x0, x1, x2, x3, x4, x5, x6, x7]\n",
    "\n",
    "G = symbols('G')\n",
    "k_bp = symbols('k_bp')\n",
    "k_up = symbols('k_up')\n",
    "k_tx = symbols('k_tx')\n",
    "k_br = symbols('k_br')\n",
    "k_ur = symbols('k_ur')\n",
    "k_tl = symbols('k_tl')\n",
    "k_be = symbols('k_be')\n",
    "k_ue = symbols('k_ue')\n",
    "d_i = symbols('d_i')\n",
    "d = symbols('d')\n",
    "\n",
    "E_tot = symbols('E_tot')\n",
    "P_tot = symbols('P_tot')\n",
    "R_tot = symbols('R_tot')\n",
    "params = [k_bp, k_up, k_tx, k_br, k_ur, k_tl, k_be, k_ue, d_i, d, E_tot, P_tot, R_tot, G]\n",
    "# f0 = (k_bp + k_tx) * x1 - k_up * G * x0\n",
    "f0 = (k_bp + k_tx) * x1 - k_up * G * x0\n",
    "f1 = k_bp * G * x0 - (k_up + k_tx)*x1\n",
    "f2 = k_tx * x1 + k_ur * x4 - k_br * x2 * x3\n",
    "f3 = (k_ur + k_tl) * x4 - k_br * x2 * x3\n",
    "f4 = k_br * x2 * x3 - (k_ur + k_tl) * x4\n",
    "f5 = (k_ue + d_i) * x6 - k_be * x3 * x5\n",
    "f6 = k_be * x2 * x5 - (k_ue + d_i) * x6\n",
    "f7 = k_tl * x4 - d * x7\n",
    "    \n",
    "f = [f0,f1,f2,f3,f4,f5,f6,f7]\n",
    "# parameter values\n",
    "params_values = [100, 10, 4, 10, 0.25, 2, 10, 0.5, 1, 1, 1000, 1000, 1000, 10]\n",
    "sys = System(x, f, params = params, params_values = params_values, C = C, x_init = x_init)"
   ]
  },
  {
   "cell_type": "code",
   "execution_count": 5,
   "metadata": {},
   "outputs": [
    {
     "name": "stderr",
     "output_type": "stream",
     "text": [
      "C:\\Users\\apand\\Anaconda3\\lib\\site-packages\\scipy\\integrate\\odepack.py:247: ODEintWarning: Excess work done on this call (perhaps wrong Dfun type). Run with full_output = 1 to get quantitative information.\n",
      "  warnings.warn(warning_msg, ODEintWarning)\n"
     ]
    },
    {
     "data": {
      "image/png": "[encoded data removed]",
      "text/plain": [
       "<Figure size 432x288 with 1 Axes>"
      ]
     },
     "metadata": {
      "needs_background": "light"
     },
     "output_type": "display_data"
    }
   ],
   "source": [
    "from auto_reduce.utils import get_ODE\n",
    "timepoints_ode = np.linspace(0, 20, 100)\n",
    "sys_ode = get_ODE(sys, timepoints_ode)\n",
    "sol = sys_ode.solve_system().T\n",
    "import matplotlib.pyplot as plt\n",
    "plt.plot(timepoints_ode, np.transpose(np.array(C)@sol))\n",
    "plt.xlabel('Time')\n",
    "plt.ylabel('[Outputs]')\n",
    "plt.show()"
   ]
  },
  {
   "cell_type": "code",
   "execution_count": 3,
   "metadata": {},
   "outputs": [
    {
     "name": "stderr",
     "output_type": "stream",
     "text": [
      "C:\\Users\\apand\\Anaconda3\\lib\\site-packages\\scipy\\integrate\\odepack.py:247: ODEintWarning: Excess work done on this call (perhaps wrong Dfun type). Run with full_output = 1 to get quantitative information.\n",
      "  warnings.warn(warning_msg, ODEintWarning)\n"
     ]
    },
    {
     "name": "stdout",
     "output_type": "stream",
     "text": [
      "SSM Progress: |█████████████████████████-------------------------| 50.4% Complete\r"
     ]
    },
    {
     "name": "stderr",
     "output_type": "stream",
     "text": [
      "C:\\Users\\apand\\Anaconda3\\lib\\site-packages\\scipy\\integrate\\odepack.py:247: ODEintWarning: Excess work done on this call (perhaps wrong Dfun type). Run with full_output = 1 to get quantitative information.\n",
      "  warnings.warn(warning_msg, ODEintWarning)\n"
     ]
    },
    {
     "name": "stdout",
     "output_type": "stream",
     "text": [
      "SSM Progress: |███████████████████████████████████---------------| 70.5% Complete\r"
     ]
    },
    {
     "name": "stderr",
     "output_type": "stream",
     "text": [
      "C:\\Users\\apand\\Anaconda3\\lib\\site-packages\\scipy\\integrate\\odepack.py:247: ODEintWarning: Excess accuracy requested (tolerances too small). Run with full_output = 1 to get quantitative information.\n",
      "  warnings.warn(warning_msg, ODEintWarning)\n"
     ]
    },
    {
     "name": "stdout",
     "output_type": "stream",
     "text": [
      "SSM Progress: |█████████████████████████████████████████████-----| 90.6% Complete\r"
     ]
    },
    {
     "name": "stderr",
     "output_type": "stream",
     "text": [
      "C:\\Users\\apand\\Anaconda3\\lib\\site-packages\\scipy\\integrate\\odepack.py:247: ODEintWarning: Excess accuracy requested (tolerances too small). Run with full_output = 1 to get quantitative information.\n",
      "  warnings.warn(warning_msg, ODEintWarning)\n"
     ]
    },
    {
     "name": "stdout",
     "output_type": "stream",
     "text": [
      "SSM Progress: |██████████████████████████████████████████████████| 100.0% Complete\n"
     ]
    }
   ],
   "source": [
    "from auto_reduce.utils import get_SSM\n",
    "timepoints_ssm = np.linspace(0,100,10)\n",
    "sys_ssm = get_SSM(sys, timepoints_ssm)\n",
    "Ss = sys_ssm.compute_SSM(mode = 'accurate') # len(timepoints) x len(params) x len(states)\n",
    "out_Ss = []\n",
    "for i in range(len(params)):\n",
    "    out_Ss.append((np.array(C)@(Ss[:,i,:].T)))\n",
    "out_Ss = np.reshape(np.array(out_Ss), (len(timepoints_ssm), len(params), nouts))"
   ]
  },
  {
   "cell_type": "code",
   "execution_count": 4,
   "metadata": {},
   "outputs": [
    {
     "data": {
      "text/plain": [
       "array([-1.00000000e+00+0.j, -1.00050251e+05+0.j, -1.00000001e+05+0.j,\n",
       "       -3.82344433e+02+0.j,  2.68344433e+02+0.j, -1.99899549e+00+0.j,\n",
       "       -1.49924999e+00+0.j,  7.71403448e-09+0.j])"
      ]
     },
     "execution_count": 4,
     "metadata": {},
     "output_type": "execute_result"
    },
    {
     "data": {
      "text/plain": [
       "(8, 8)"
      ]
     },
     "execution_count": 4,
     "metadata": {},
     "output_type": "execute_result"
    }
   ],
   "source": [
    "J1 = sys_ssm.compute_J([10,1000,5,10000,100,10000,5,10], mode = 'accurate')\n",
    "import scipy\n",
    "scipy.linalg.eigvals(J1)\n",
    "np.shape(J1)"
   ]
  },
  {
   "cell_type": "code",
   "execution_count": 5,
   "metadata": {},
   "outputs": [
    {
     "data": {
      "text/plain": [
       "<matplotlib.axes._subplots.AxesSubplot at 0x23e4e06dec8>"
      ]
     },
     "execution_count": 5,
     "metadata": {},
     "output_type": "execute_result"
    },
    {
     "data": {
      "text/plain": [
       "Text(0.5, 15.0, 'Time')"
      ]
     },
     "execution_count": 5,
     "metadata": {},
     "output_type": "execute_result"
    },
    {
     "data": {
      "text/plain": [
       "Text(33.0, 0.5, 'Parameters')"
      ]
     },
     "execution_count": 5,
     "metadata": {},
     "output_type": "execute_result"
    },
    {
     "data": {
      "text/plain": [
       "Text(0.5, 1, 'Sensitivity of output[0] with respect to all parameters')"
      ]
     },
     "execution_count": 5,
     "metadata": {},
     "output_type": "execute_result"
    },
    {
     "data": {
      "image/png": "[encoded data removed]",
      "text/plain": [
       "<Figure size 432x288 with 2 Axes>"
      ]
     },
     "metadata": {
      "needs_background": "light"
     },
     "output_type": "display_data"
    }
   ],
   "source": [
    "import seaborn as sn\n",
    "import matplotlib.pyplot as plt\n",
    "for j in range(nouts):\n",
    "    sn.heatmap(out_Ss[:,:,j].T)\n",
    "    plt.xlabel('Time')\n",
    "    plt.ylabel('Parameters')\n",
    "    plt.title('Sensitivity of output[{0}] with respect to all parameters'.format(j))\n",
    "    plt.show()"
   ]
  },
  {
   "cell_type": "code",
   "execution_count": 6,
   "metadata": {},
   "outputs": [],
   "source": [
    "from auto_reduce.utils import reduce\n",
    "timepoints_ssm = np.linspace(0,2,10)\n",
    "timepoints_ode = np.linspace(0,2,100)\n",
    "sys_reduce = reduce(sys, timepoints_ode, timepoints_ssm)\n",
    "sys_reduce.nstates_tol = 4"
   ]
  },
  {
   "cell_type": "code",
   "execution_count": 7,
   "metadata": {},
   "outputs": [],
   "source": [
    "P, C1, T, R, C2, E, C3, X = sys.x\n",
    "conserved_quantities = [P + C1 - P_tot, R + C2 - R_tot, E + C3 - E_tot]\n",
    "states_to_eliminate = [C1, C2, C3]\n",
    "f_cons = sys_reduce.set_conservation_laws(conserved_quantities, states_to_eliminate)"
   ]
  },
  {
   "cell_type": "code",
   "execution_count": 38,
   "metadata": {},
   "outputs": [
    {
     "data": {
      "text/plain": [
       "[<matplotlib.lines.Line2D at 0x23e4ff66688>]"
      ]
     },
     "execution_count": 38,
     "metadata": {},
     "output_type": "execute_result"
    },
    {
     "data": {
      "text/plain": [
       "Text(0.5, 0, 'Time')"
      ]
     },
     "execution_count": 38,
     "metadata": {},
     "output_type": "execute_result"
    },
    {
     "data": {
      "text/plain": [
       "Text(0, 0.5, '[X]')"
      ]
     },
     "execution_count": 38,
     "metadata": {},
     "output_type": "execute_result"
    },
    {
     "data": {
      "image/png": "[encoded data removed]",
      "text/plain": [
       "<Figure size 432x288 with 1 Axes>"
      ]
     },
     "metadata": {
      "needs_background": "light"
     },
     "output_type": "display_data"
    }
   ],
   "source": [
    "from auto_reduce.utils import get_ODE\n",
    "timepoints_ode = np.linspace(0, 5, 100)\n",
    "# params = [k_bp, k_up, k_tx, k_br, k_ur, k_tl, k_be, k_ue, d_i, d, E_tot, P_tot, R_tot, G]\n",
    "params_values = [100, 10, 4, 10, 0.25, 2, 10, 0.5, 1, 10, 10000, 10000, 10000, 0.01]\n",
    "sys_reduce.params_values = params_values\n",
    "sys_ode = get_ODE(sys_reduce, timepoints_ode)\n",
    "sol = sys_ode.solve_system().T\n",
    "import matplotlib.pyplot as plt\n",
    "fig, ax = plt.subplots()\n",
    "plt.plot(timepoints_ode, np.transpose(np.array(sys_reduce.C)@sol), linewidth = 3)\n",
    "plt.xlabel('Time', FontSize = 18)\n",
    "plt.ylabel('[X]', FontSize = 18)\n",
    "ax.tick_params(axis='both', which='major', labelsize=14)\n",
    "# plt.legend()\n",
    "plt.show()"
   ]
  },
  {
   "cell_type": "code",
   "execution_count": 42,
   "metadata": {},
   "outputs": [
    {
     "name": "stdout",
     "output_type": "stream",
     "text": [
      "attempting to retain : [1, 4]\n",
      "Successful time-scale separation solution obtained.\n",
      "SSM Progress: |██████████████████████████████████████████████████| 100.0% Complete\n",
      "SSM Progress: |██████████████████████████████████████████████████| 100.0% Complete\n",
      "Robustness Metric Progress: |██████████████████████████████████████████████████| 100.0% Complete\n"
     ]
    },
    {
     "data": {
      "text/plain": [
       "array([2.00000048e-01, 2.00000000e-01, 2.00567408e-01, 2.97270495e+05,\n",
       "       4.19891139e+01, 7.86949666e+00, 2.00000000e-01, 2.00232052e-01,\n",
       "       2.00430438e-01, 8.05023162e+06, 2.00000066e-01, 2.00000246e-01,\n",
       "       4.26525200e+03, 2.00036806e-01])"
      ]
     },
     "execution_count": 42,
     "metadata": {},
     "output_type": "execute_result"
    },
    {
     "data": {
      "text/plain": [
       "12.572144073511055"
      ]
     },
     "execution_count": 42,
     "metadata": {},
     "output_type": "execute_result"
    }
   ],
   "source": [
    "# results = sys_reduce.reduce_simple()\n",
    "reduced_sys, fast_ss = sys_reduce.solve_timescale_separation([T, X])\n",
    "sys_reduce.get_robustness_metric(reduced_sys)\n",
    "sys_reduce.get_error_metric(reduced_sys)\n"
   ]
  },
  {
   "cell_type": "code",
   "execution_count": null,
   "metadata": {},
   "outputs": [],
   "source": [
    "reduced_sys, fast_ss = sys_reduce.solve_timescale_separation([1,3,5])\n",
    "reduced_sys.f[1]\n",
    "# from auto_reduce.utils import get_ODE\n",
    "x_sol_hat = get_ODE(sys_reduce.get_system(), timepoints_ode).solve_system()"
   ]
  },
  {
   "cell_type": "code",
   "execution_count": null,
   "metadata": {},
   "outputs": [],
   "source": [
    "# results\n",
    "import matplotlib.pyplot as plt\n",
    "for key, value in results.items():\n",
    "    plt.scatter(value[0], key.n,linewidths = 2.5, label = str(key.x))\n",
    "plt.legend()\n",
    "plt.savefig('enzymatic_rxn_e.svg')"
   ]
  },
  {
   "cell_type": "code",
   "execution_count": null,
   "metadata": {},
   "outputs": [],
   "source": [
    "def get_linearized_models(system_obj, output):\n",
    "    "
   ]
  },
  {
   "cell_type": "code",
   "execution_count": 47,
   "metadata": {},
   "outputs": [
    {
     "ename": "IndexError",
     "evalue": "list index out of range",
     "output_type": "error",
     "traceback": [
      "\u001b[1;31m---------------------------------------------------------------------------\u001b[0m",
      "\u001b[1;31mIndexError\u001b[0m                                Traceback (most recent call last)",
      "\u001b[1;32m<ipython-input-47-13951f5defdf>\u001b[0m in \u001b[0;36m<module>\u001b[1;34m\u001b[0m\n\u001b[1;32m----> 1\u001b[1;33m \u001b[0mreduced_sys\u001b[0m\u001b[1;33m.\u001b[0m\u001b[0mf\u001b[0m\u001b[1;33m[\u001b[0m\u001b[1;36m2\u001b[0m\u001b[1;33m]\u001b[0m\u001b[1;33m\u001b[0m\u001b[1;33m\u001b[0m\u001b[0m\n\u001b[0m",
      "\u001b[1;31mIndexError\u001b[0m: list index out of range"
     ]
    }
   ],
   "source": [
    "reduced_sys.f[1]"
   ]
  },
  {
   "cell_type": "code",
   "execution_count": null,
   "metadata": {},
   "outputs": [],
   "source": [
    "import matplotlib.pyplot as plt\n",
    "y_hat = sys_reduce.C@x_sol_hat.T\n",
    "plt.plot(timepoints_ode,y_hat.T)"
   ]
  },
  {
   "cell_type": "code",
   "execution_count": 21,
   "metadata": {},
   "outputs": [],
   "source": [
    "from auto_reduce.utils import reduce_utils\n",
    "rx = reduce_utils(sys_reduce)\n",
    "rx.write_results('gene_expression_results2.txt')"
   ]
  },
  {
   "cell_type": "code",
   "execution_count": 20,
   "metadata": {},
   "outputs": [
    {
     "data": {
      "text/plain": [
       "{<auto_reduce.system.System at 0x23cd588dd08>: [1820.9105557960245,\n",
       "  array([5.93329261e+48, 1.31286936e+37, 2.26146038e+34, 5.64156201e+24,\n",
       "         6.20776566e+25, 1.24603961e+36, 1.91854215e+35, 1.62534793e+22,\n",
       "         5.63549796e+25, 1.55192822e+24, 4.09077900e+22, 1.91854215e+33,\n",
       "         9.09756304e-16])],\n",
       " <auto_reduce.system.System at 0x23cd3f03e48>: [2070.5658094205155,\n",
       "  array([6.29248033e+178, 7.90348418e+005, 7.67916723e+005, 1.00001189e-001,\n",
       "         5.78422384e-001, 4.56193861e+004, 1.00000382e-001, 8.44120580e-001,\n",
       "         1.57639264e+146, 1.64011959e+011, 1.66050295e+157, 1.10794845e+154,\n",
       "         9.15012147e-001])],\n",
       " <auto_reduce.system.System at 0x23cd584dac8>: [1820.9105557960245,\n",
       "  array([2.13909132e+17, 7.90348318e+05, 7.67916623e+05, 8.18127956e-07,\n",
       "         6.31350113e-01, 6.68146918e-07, 7.76434510e-11, 7.67134225e-03,\n",
       "         5.81646804e+05, 2.43307563e+09, 2.23710309e+01, 1.18066590e-05,\n",
       "         8.40218315e-03])],\n",
       " <auto_reduce.system.System at 0x23cd5565408>: [1820.9105557960245,\n",
       "  array([2.13909132e+17, 7.90348318e+05, 7.67916623e+05, 8.18127956e-07,\n",
       "         6.31350113e-01, 6.68146918e-07, 7.76434510e-11, 7.67134225e-03,\n",
       "         5.81646804e+05, 2.43307563e+09, 2.23710309e+01, 1.18066590e-05,\n",
       "         8.40218315e-03])],\n",
       " <auto_reduce.system.System at 0x23cd571f148>: [1820.9105557960245,\n",
       "  array([2.13909132e+17, 7.90348318e+05, 7.67916623e+05, 8.18127956e-07,\n",
       "         6.31350113e-01, 6.68146918e-07, 7.76434510e-11, 7.67134225e-03,\n",
       "         5.81646804e+05, 2.43307563e+09, 2.23710309e+01, 1.18066590e-05,\n",
       "         8.40218315e-03])],\n",
       " <auto_reduce.system.System at 0x23cd5458288>: [1820.9105557960245,\n",
       "  array([2.13909132e+17, 7.90348318e+05, 7.67916623e+05, 8.18127956e-07,\n",
       "         6.31350113e-01, 6.68146918e-07, 7.76434510e-11, 7.67134225e-03,\n",
       "         5.81646804e+05, 2.43307563e+09, 2.23710309e+01, 1.18066590e-05,\n",
       "         8.40218315e-03])],\n",
       " <auto_reduce.system.System at 0x23cd5468ac8>: [2067.62800705995,\n",
       "  array([3.37475379e+33, 4.01373470e+50, 2.97234712e+60, 2.40510554e+38,\n",
       "         4.02384930e+29, 4.10226444e+03, 1.58967788e+26, 5.37910088e+27,\n",
       "         6.78887128e+25, 1.40821498e+37, 3.25524814e+18, 3.30165955e+34,\n",
       "         6.56771025e+24])],\n",
       " <auto_reduce.system.System at 0x23cd556b0c8>: [342.5525413062808,\n",
       "  array([2.13909132e+17, 7.87305786e+04, 1.95117235e+06, 2.24837639e+05,\n",
       "         1.04615316e-01, 4.87553010e+06, 1.57767560e+04, 1.01848882e+01,\n",
       "         2.85237029e+03, 1.58048330e+08, 1.16467006e+01, 2.24710331e+01,\n",
       "         2.40412884e+12])],\n",
       " <auto_reduce.system.System at 0x23cd5488288>: [1297.400434548607,\n",
       "  array([2.13909132e+17, 8.18251991e+04, 1.96673229e+06, 1.73302939e+00,\n",
       "         1.04615316e-01, 9.07497302e+06, 1.57834228e+04, 1.10298127e+01,\n",
       "         5.70464058e+03, 9.70376923e+07, 1.16467006e+01, 2.24710332e+01,\n",
       "         1.00012316e-01])],\n",
       " <auto_reduce.system.System at 0x23cd55588c8>: [2070.565809633107,\n",
       "  array([2.13909134e+17, 7.97833259e+09, 4.64488349e+18, 3.74468156e+00,\n",
       "         1.83314813e+03, 1.21391456e+17, 1.57647924e+04, 4.78567120e+00,\n",
       "         5.70464058e+03, 3.91773158e+09, 1.16467006e+01, 2.22060538e+16,\n",
       "         3.37223392e+00])],\n",
       " <auto_reduce.system.System at 0x23cd5861488>: [1820.9105557960245,\n",
       "  array([2.13909132e+17, 8.00821140e-08, 1.79290313e+02, 1.09644428e-15,\n",
       "         1.67520591e-02, 4.86996480e-06, 3.73335750e-07, 3.26726475e-06,\n",
       "         1.69188674e-06, 5.81646804e+04, 1.15467002e+01, 2.23710309e+01,\n",
       "         4.33234749e-05])],\n",
       " <auto_reduce.system.System at 0x23cd538fec8>: [1820.9105557960245,\n",
       "  array([2.13909132e+17, 8.00821140e-08, 1.79290313e+02, 1.09644428e-15,\n",
       "         1.67520591e-02, 4.86996480e-06, 3.73335750e-07, 3.26726475e-06,\n",
       "         1.69188674e-06, 5.81646804e+04, 1.15467002e+01, 2.23710309e+01,\n",
       "         4.33234749e-05])],\n",
       " <auto_reduce.system.System at 0x23cd5478708>: [1820.9105557960245,\n",
       "  array([2.13909132e+17, 8.00821140e-08, 1.79290313e+02, 1.09644428e-15,\n",
       "         1.67520591e-02, 4.86996480e-06, 3.73335750e-07, 3.26726475e-06,\n",
       "         1.69188674e-06, 5.81646804e+04, 1.15467002e+01, 2.23710309e+01,\n",
       "         4.33234749e-05])],\n",
       " <auto_reduce.system.System at 0x23cd5560e48>: [1820.9105557960245,\n",
       "  array([2.13909132e+17, 8.00821140e-08, 1.79290313e+02, 1.09644428e-15,\n",
       "         1.67520591e-02, 4.86996480e-06, 3.73335750e-07, 3.26726475e-06,\n",
       "         1.69188674e-06, 5.81646804e+04, 1.15467002e+01, 2.23710309e+01,\n",
       "         4.33234749e-05])],\n",
       " <auto_reduce.system.System at 0x23cd5727c88>: [1820.9105557960245,\n",
       "  array([2.13909132e+17, 8.00821140e-08, 1.79290313e+02, 1.09644428e-15,\n",
       "         1.67520591e-02, 4.86996480e-06, 3.73335750e-07, 3.26726475e-06,\n",
       "         1.69188674e-06, 5.81646804e+04, 1.15467002e+01, 2.23710309e+01,\n",
       "         4.33234749e-05])],\n",
       " <auto_reduce.system.System at 0x23cd54aee08>: [1820.9105557960245,\n",
       "  array([2.13909132e+17, 8.00821140e-08, 1.79290313e+02, 1.09644428e-15,\n",
       "         1.67520591e-02, 4.86996480e-06, 3.73335750e-07, 3.26726475e-06,\n",
       "         1.69188674e-06, 5.81646804e+04, 1.15467002e+01, 2.23710309e+01,\n",
       "         4.33234749e-05])],\n",
       " <auto_reduce.system.System at 0x23cd54a4b48>: [339.9538219632188,\n",
       "  array([2.89534288e+108, 1.03892184e+106, 6.10736228e+098, 2.13747589e+002,\n",
       "         1.98781210e+001, 4.58106741e+105, 1.09453305e+083, 3.01910991e+082,\n",
       "         1.42761114e+085, 1.51490245e+115, 1.87239621e+091, 1.72554362e+107,\n",
       "         1.08482157e+116])],\n",
       " <auto_reduce.system.System at 0x23cd5470288>: [1296.0514653771459,\n",
       "  array([2.13931837e+91, 3.79818282e+96, 3.51494394e+97, 2.01437868e+95,\n",
       "         5.61131060e+94, 7.87567506e+87, 3.27061182e+74, 9.37177213e+73,\n",
       "         1.78319532e+74, 1.04343485e+88, 9.43992386e+69, 7.04948308e+94,\n",
       "         2.60945921e+95])],\n",
       " <auto_reduce.system.System at 0x23cd54a46c8>: [1318.6262662088136,\n",
       "  array([1.89587628e+51, 6.22074939e+50, 1.32053712e+57, 1.04653442e+41,\n",
       "         9.56575036e+41, 1.85736749e+42, 4.70765510e+39, 1.56452862e+33,\n",
       "         4.98479224e+32, 8.72069874e+42, 6.24269404e+02, 2.54500922e+06,\n",
       "         1.49832059e+52])],\n",
       " <auto_reduce.system.System at 0x23cd564a188>: [3.7426344942081933,\n",
       "  array([1.01671128e+21, 1.01670195e+22, 4.09323100e+20, 3.13125490e+25,\n",
       "         6.24183911e+16, 3.79250070e+15, 6.01128220e+06, 1.20224539e+08,\n",
       "         5.51538238e+02, 6.68724351e+05, 1.24908906e+22, 1.25248616e+22,\n",
       "         1.24074658e+22])],\n",
       " <auto_reduce.system.System at 0x23cd53d8c88>: [342.55252980442805,\n",
       "  array([2.13909132e+17, 5.88785462e+05, 6.83212661e+05, 3.25391057e+12,\n",
       "         1.29647846e+10, 2.74752571e+05, 1.00000003e-01, 1.00020413e-01,\n",
       "         1.00000235e-01, 6.68947928e+05, 9.76556447e+02, 1.16467002e+01,\n",
       "         3.92479849e+03])],\n",
       " <auto_reduce.system.System at 0x23cd563c648>: [1297.4004232677255,\n",
       "  array([2.13909132e+17, 5.88785462e+05, 6.83212661e+05, 2.66167132e+01,\n",
       "         7.31350111e-01, 9.27848786e+04, 1.00000003e-01, 1.00013390e-01,\n",
       "         1.00000085e-01, 1.94683173e+06, 5.81746804e+02, 1.16467002e+01,\n",
       "         2.24710309e+01])],\n",
       " <auto_reduce.system.System at 0x23cd5746d48>: [1820.9105557960245,\n",
       "  array([2.13909132e+17, 5.88785362e+05, 6.83212561e+05, 7.96177831e-08,\n",
       "         6.31350101e-01, 8.69223772e-06, 4.35176141e-11, 1.94799647e-05,\n",
       "         2.28678978e-07, 1.33632475e-07, 5.81646804e+02, 1.15467002e+01,\n",
       "         2.23710309e+01])],\n",
       " <auto_reduce.system.System at 0x23cd564a548>: [1820.9105557960245,\n",
       "  array([2.13909132e+17, 5.88785362e+05, 6.83212561e+05, 7.96177831e-08,\n",
       "         6.31350101e-01, 8.69223772e-06, 4.35176141e-11, 1.94799647e-05,\n",
       "         2.28678978e-07, 1.33632475e-07, 5.81646804e+02, 1.15467002e+01,\n",
       "         2.23710309e+01])],\n",
       " <auto_reduce.system.System at 0x23cd5841e48>: [1820.9105557960245,\n",
       "  array([2.13909132e+17, 5.88785362e+05, 6.83212561e+05, 7.96177831e-08,\n",
       "         6.31350101e-01, 8.69223772e-06, 4.35176141e-11, 1.94799647e-05,\n",
       "         2.28678978e-07, 1.33632475e-07, 5.81646804e+02, 1.15467002e+01,\n",
       "         2.23710309e+01])],\n",
       " <auto_reduce.system.System at 0x23cd5552c08>: [1820.9105557960245,\n",
       "  array([2.13909132e+17, 5.88785362e+05, 6.83212561e+05, 7.96177831e-08,\n",
       "         6.31350101e-01, 8.69223772e-06, 4.35176141e-11, 1.94799647e-05,\n",
       "         2.28678978e-07, 1.33632475e-07, 5.81646804e+02, 1.15467002e+01,\n",
       "         2.23710309e+01])]}"
      ]
     },
     "execution_count": 20,
     "metadata": {},
     "output_type": "execute_result"
    }
   ],
   "source": [
    "results"
   ]
  },
  {
   "cell_type": "code",
   "execution_count": 24,
   "metadata": {},
   "outputs": [],
   "source": [
    "sys_reduce.g"
   ]
  },
  {
   "cell_type": "code",
   "execution_count": 26,
   "metadata": {},
   "outputs": [],
   "source": [
    "from sympy.printing import latex\n",
    "filename = 'test_gene_expr.txt'\n",
    "f1 = open(filename, 'w')\n",
    "f1.write('Model reduction results.\\n')\n",
    "for key,value in sys_reduce.results_dict.items():\n",
    "    f1.write('A possible reduced model: \\n \\n')\n",
    "    f1.write('\\n$x_{hat} = ')\n",
    "    f1.write(str(key.x))\n",
    "    f1.write('$\\n\\n\\n\\n')\n",
    "    for k in range(len(key.f)):\n",
    "        f1.write('\\n$f_{hat}('+ str(k+1) + ') = ')\n",
    "        f1.write(latex(key.f[k]))\n",
    "        f1.write('$\\n\\n')\n",
    "    f1.write('\\n\\n\\n')\n",
    "    f1.write('\\nError metric:')\n",
    "    f1.write(str(value[0]))\n",
    "    f1.write('\\n\\n\\n')\n",
    "    f1.write('\\nRobustness metric:')\n",
    "    f1.write(str(value[1]))\n",
    "    f1.write('\\n\\n\\n')\n",
    "    f1.write('Other properties') \n",
    "    f1.write('\\n\\n\\n')\n",
    "    f1.write('\\n C = ')\n",
    "    f1.write(str(key.C))\n",
    "    f1.write('\\n$ g = ')\n",
    "    f1.write(str(key.g))\n",
    "    f1.write('$\\n h = ')\n",
    "    f1.write(str(key.h))\n",
    "    f1.write('\\n$h = ')\n",
    "    f1.write(str(key.h))\n",
    "    f1.write('$\\n Solutions : \\n')\n",
    "    f1.write(str(key.x_sol))\n",
    "    f1.write('\\n\\n\\n\\n')\n",
    "    f1.write('\\n Sensitivity Solutions : \\n')\n",
    "    f1.write(str(key.S))\n",
    "    f1.write('\\n\\n\\n\\n')\n",
    "f1.close()"
   ]
  },
  {
   "cell_type": "code",
   "execution_count": 49,
   "metadata": {},
   "outputs": [],
   "source": [
    "# G,T,X\n",
    "# G,C1,T,X\n",
    "# G,C2,T,X\n",
    "# G,C3,T,X\n",
    "x_gtx = list(results.keys())[7].x_sol\n",
    "sys_gtx = list(results.keys())[7]\n",
    "x_gc1tx = list(results.keys())[16].x_sol\n",
    "sys_gc1tx = list(results.keys())[16]\n",
    "x_gc2tx = list(results.keys())[19].x_sol\n",
    "sys_gc2tx = list(results.keys())[19]\n",
    "x_gc3tx = list(results.keys())[20].x_sol\n",
    "sys_gc3tx = list(results.keys())[20]\n",
    "\n"
   ]
  },
  {
   "cell_type": "code",
   "execution_count": 132,
   "metadata": {},
   "outputs": [],
   "source": [
    "# params = [k_bp, k_up, k_tx, k_br, k_ur, k_tl, k_be, k_ue, d_i, d, E_tot, P_tot, R_tot]\n",
    "\n",
    "params_values_new = params_values = [100, 10, 4, 10, 0.25, 2, 1, 0.5, 1, 10, 1000, 1000, 1000]\n",
    "sys.params_values = params_values_new\n",
    "sys_gtx.params_values = params_values_new\n",
    "sys_gc1tx.params_values = params_values_new\n",
    "sys_gc2tx.params_values = params_values_new\n",
    "sys_gc3tx.params_values = params_values_new\n",
    "timepoints_ode = np.linspace(0, 2, 100)\n",
    "\n",
    "sys_ode = get_ODE(sys_reduce, timepoints_ode)\n",
    "sol = sys_ode.solve_system().T\n",
    "\n",
    "\n",
    "sys_gtx_ode = get_ODE(sys_gtx, timepoints_ode)\n",
    "x_gtx = sys_gtx_ode.solve_system().T\n",
    "\n",
    "\n",
    "sys_gc1tx_ode = get_ODE(sys_gc1tx, timepoints_ode)\n",
    "x_gc1tx = sys_gc1tx_ode.solve_system().T\n",
    "\n",
    "\n",
    "sys_gc2tx_ode = get_ODE(sys_gc2tx, timepoints_ode)\n",
    "x_gc2tx = sys_gc2tx_ode.solve_system().T\n",
    "\n",
    "\n",
    "sys_gc3tx_ode = get_ODE(sys_gc3tx, timepoints_ode)\n",
    "x_gc3tx = sys_gc3tx_ode.solve_system().T\n"
   ]
  },
  {
   "cell_type": "code",
   "execution_count": 149,
   "metadata": {},
   "outputs": [
    {
     "data": {
      "image/png": "[encoded data removed]",
      "text/plain": [
       "<Figure size 432x288 with 1 Axes>"
      ]
     },
     "metadata": {
      "needs_background": "light"
     },
     "output_type": "display_data"
    }
   ],
   "source": [
    "import matplotlib.pyplot as plt\n",
    "fig, ax = plt.subplots()\n",
    "\n",
    "plt.plot(timepoints_ode, np.transpose(np.array(sys_reduce.C)@sol), 'k--', label = 'Full CRN model', linewidth = 5)\n",
    "plt.plot(timepoints_ode, np.transpose(np.array(sys_gtx.C)@x_gtx), label = '[T, X]', linewidth = 2)\n",
    "plt.plot(timepoints_ode, np.transpose(np.array(sys_gc1tx.C)@x_gc1tx), label = '[T, C1, X]', linewidth = 2)\n",
    "plt.plot(timepoints_ode, np.transpose(np.array(sys_gc2tx.C)@x_gc2tx), label = '[T, C2, X]', linewidth = 2)\n",
    "plt.plot(timepoints_ode, np.transpose(np.array(sys_gc3tx.C)@x_gc3tx), label = '[T, C3, X]', linewidth = 2)\n",
    "plt.xlabel('Time', FontSize = 18)\n",
    "plt.ylabel('[X]', FontSize = 18)\n",
    "ax.tick_params(axis='both', which='major', labelsize=14)\n",
    "plt.legend()\n",
    "plt.savefig('gene_expression_timecourse.svg')\n",
    "plt.show()"
   ]
  },
  {
   "cell_type": "code",
   "execution_count": 160,
   "metadata": {},
   "outputs": [
    {
     "data": {
      "text/latex": [
       "$\\displaystyle \\frac{G P_{tot} k_{bp} \\left(k_{bp} + k_{tx}\\right)}{G k_{bp} + k_{tx} + k_{up}} - G k_{up} \\left(- \\frac{G P_{tot} k_{bp}}{G k_{bp} + k_{tx} + k_{up}} + P_{tot}\\right)$"
      ],
      "text/plain": [
       "G*P_tot*k_bp*(k_bp + k_tx)/(G*k_bp + k_tx + k_up) - G*k_up*(-G*P_tot*k_bp/(G*k_bp + k_tx + k_up) + P_tot)"
      ]
     },
     "execution_count": 160,
     "metadata": {},
     "output_type": "execute_result"
    }
   ],
   "source": [
    "g0 = - k_up * x1\n",
    "g1 = - k_up * x1\n",
    "g2 = k_bp * x1 \n",
    "g3 = 0\n",
    "g4 = 0\n",
    "g5 = 0\n",
    "g6 = 0\n",
    "g7 = 0\n",
    "g8 = 0\n",
    "g = [g0,g1,g2,g3,g4,g5,g6,g7,g8]\n"
   ]
  },
  {
   "cell_type": "code",
   "execution_count": 181,
   "metadata": {},
   "outputs": [],
   "source": [
    "def evaluate(system, f, x, P, u = None):\n",
    "    \"\"\"\n",
    "    Evaluate the given symbolic function (f) that is part of the System\n",
    "    at the values given by x for self.x and P for self.params\n",
    "    \"\"\"\n",
    "    fs = []\n",
    "    for i in range(len(f)):\n",
    "        fi = f[i]\n",
    "        fi = fi.subs(list(zip(system.x, x)))\n",
    "        if system.u is not None:\n",
    "            fi = fi.subs(list(zip(system.u, u)))\n",
    "        fi = fi.subs(list(zip(system.params, P)))\n",
    "        fs.append(fi)\n",
    "    return fs\n",
    "\n",
    "def compute_J(system, x, **kwargs):\n",
    "    '''\n",
    "    Compute the Jacobian J = df/dx at a timepoint k.\n",
    "    Returns a matrix of size n x n.\n",
    "    Use mode = 'accurate' for this object attribute to use accurate computations using numdifftools.\n",
    "    '''\n",
    "    \n",
    "    # initialize J\n",
    "    J = np.zeros( (system.n, system.n) )   \n",
    "    P = system.params_values \n",
    "    u = system.u\n",
    "    # store x\n",
    "    X = x \n",
    "    if 'fun' in kwargs:\n",
    "        fun = kwargs.get('fun')\n",
    "    else:\n",
    "        fun = system.f\n",
    "    for i in range(system.n):\n",
    "        for j in range(system.n):\n",
    "            F = np.zeros( (4,1) )\n",
    "            h = X[j]*0.01\n",
    "            # Gets O(4) central difference on dfi/dxj\n",
    "            if h != 0:\n",
    "                x = X\n",
    "                x[j] = X[j] + 2*h\n",
    "                f = evaluate(system, fun, x, P, u)\n",
    "                F[0] = f[i]\n",
    "                x[j] = X[j] + h\n",
    "                f = evaluate(system, fun, x, P, u)\n",
    "                F[1] = f[i]\n",
    "                x[j] = X[j] - h\n",
    "                f = evaluate(system, fun, x, P, u)\n",
    "                F[2] = f[i]\n",
    "                x[j] = X[j] - 2*h\n",
    "                f = evaluate(system, fun, x, P, u)\n",
    "                F[3] = f[i]\n",
    "                #Store approx. dfi/dxj into J\n",
    "                J[i,j]= (-F[0] + 8*F[1] - 8*F[2] + F[3])/(12*h)   \n",
    "                # print(J[i,j])\n",
    "                # if J[i,j] == np.Inf:\n",
    "                #     J[i,j] = 1\n",
    "                # elif J[i,j] == np.NaN:\n",
    "                #     J[i,j] = 0\n",
    "    return J\n"
   ]
  },
  {
   "cell_type": "code",
   "execution_count": 273,
   "metadata": {},
   "outputs": [
    {
     "data": {
      "image/png": "[encoded data removed]",
      "text/plain": [
       "<Figure size 432x288 with 1 Axes>"
      ]
     },
     "metadata": {
      "needs_background": "light"
     },
     "output_type": "display_data"
    }
   ],
   "source": [
    "t_lin = [timepoints_ode[6], timepoints_ode[15], timepoints_ode[30]]\n",
    "# t_lin = [timepoints_ode[6]]\n",
    "fig, ax = plt.subplots()\n",
    "out_sol = np.array(sys_reduce.C)@sol\n",
    "out_gtx = np.array(sys_gtx.C)@x_gtx\n",
    "out_gc1tx = np.array(sys_gc1tx.C)@x_gc1tx\n",
    "out_gc2tx = np.array(sys_gc2tx.C)@x_gc2tx\n",
    "out_gc3tx = np.array(sys_gc3tx.C)@x_gc3tx\n",
    "plt.plot(timepoints_ode, np.transpose(out_sol), 'k--', label = 'Full CRN model', linewidth = 5)\n",
    "plt.plot(timepoints_ode, np.transpose(out_gtx), label = '[T, X]', linewidth = 2)\n",
    "plt.plot(timepoints_ode, np.transpose(out_gc1tx), label = '[T, C1, X]', linewidth = 2)\n",
    "plt.plot(timepoints_ode, np.transpose(out_gc2tx), label = '[T, C2, X]', linewidth = 2)\n",
    "plt.plot(timepoints_ode, np.transpose(out_gc3tx), label = '[T, C3, X]', linewidth = 2)\n",
    "\n",
    "for t in t_lin:\n",
    "    x_pt = sol[:,list(timepoints_ode).index(t)]\n",
    "    J_full = compute_J(sys_reduce, x_pt)\n",
    "#     B_full = compute_J(sys_reduce, x_pt, var = sys_reduce.g)\n",
    "    n_size = np.shape(J_full)[1]\n",
    "    A_full = J_full[1:n_size,1:n_size]\n",
    "    B_full = J_full[0,:]\n",
    "    C_full = sys_reduce.C\n",
    "#     G_full = \n",
    "    \n",
    "    x_pt = x_gtx[:,list(timepoints_ode).index(t)]\n",
    "    J_gtx = compute_J(sys_gtx, x_pt)\n",
    "    n_size = np.shape(J_gtx)[1]\n",
    "    A_gtx = J_gtx[1:n_size,1:n_size]\n",
    "    B_gtx = J_gtx[0,:]\n",
    "#     B_gtx = compute_J(sys_gtx, x_pt, var = sys_gtx.g)\n",
    "    C_gtx = sys_gtx.C\n",
    "    \n",
    "    x_pt = x_gc1tx[:,list(timepoints_ode).index(t)]\n",
    "    x_pt_C1 = x_pt\n",
    "    J_gc1tx = compute_J(sys_gc1tx, x_pt)\n",
    "    n_size = np.shape(J_gc1tx)[1]\n",
    "#     B_gc1tx = compute_J(sys_gc1tx, x_pt, var = sys_gc1tx.g)\n",
    "    A_gc1tx = J_gc1tx[1:n_size,1:n_size]\n",
    "    B_gc1tx = J_gc1tx[0,:]\n",
    "    C_gc1tx = sys_gc1tx.C\n",
    "    \n",
    "    x_pt = x_gc2tx[:,list(timepoints_ode).index(t)]\n",
    "    J_gc2tx = compute_J(sys_gc2tx, x_pt)\n",
    "    n_size = np.shape(J_gc2tx)[1]\n",
    "#     B_gc2tx = compute_J(sys_gc2tx, x_pt, var = sys_gc2tx.g)\n",
    "    A_gc2tx = J_gc2tx[1:n_size,1:n_size]\n",
    "    B_gc2tx = J_gc2tx[0,:]\n",
    "    C_gc2tx = sys_gc2tx.C\n",
    "    \n",
    "    x_pt = x_gc3tx[:,list(timepoints_ode).index(t)]\n",
    "    J_gc3tx = compute_J(sys_gc3tx, x_pt)\n",
    "    n_size = np.shape(J_gc3tx)[1]\n",
    "#     B_gc3tx = compute_J(sys_gc3tx, x_pt, var = sys_gc3tx.g)\n",
    "    A_gc3tx = J_gc3tx[1:n_size,1:n_size]\n",
    "    B_gc3tx = J_gc3tx[0,:]\n",
    "    C_gc3tx = sys_gc3tx.C\n",
    "    \n",
    "    plt.axvline(x=t, color = 'k',linestyle = ':',linewidth = 1.5)\n",
    "plt.xlabel('Time', FontSize = 18)\n",
    "plt.ylabel('[X]', FontSize = 18)\n",
    "ax.tick_params(axis='both', which='major', labelsize=14)\n",
    "plt.legend()\n",
    "plt.savefig('linearizations_model.svg')\n",
    "plt.show()    "
   ]
  },
  {
   "cell_type": "code",
   "execution_count": 274,
   "metadata": {},
   "outputs": [
    {
     "data": {
      "text/plain": [
       "array([61901.90343886,   999.99773836,  1209.16264208,   199.47669259])"
      ]
     },
     "execution_count": 274,
     "metadata": {},
     "output_type": "execute_result"
    }
   ],
   "source": [
    "x_pt_C1"
   ]
  },
  {
   "cell_type": "code",
   "execution_count": 213,
   "metadata": {},
   "outputs": [
    {
     "data": {
      "text/plain": [
       "array([-5.00000000e+00+0.j, -2.59064741e+03+0.j, -2.59319416e+03+0.j,\n",
       "       -8.37802498e-04+0.j, -3.09510217e+06+0.j])"
      ]
     },
     "execution_count": 213,
     "metadata": {},
     "output_type": "execute_result"
    }
   ],
   "source": [
    "from scipy.linalg import eigvals\n",
    "eigvals(A_full)"
   ]
  },
  {
   "cell_type": "code",
   "execution_count": 194,
   "metadata": {},
   "outputs": [
    {
     "data": {
      "text/plain": [
       "(6,)"
      ]
     },
     "execution_count": 194,
     "metadata": {},
     "output_type": "execute_result"
    }
   ],
   "source": [
    "np.shape(sys_reduce.x)"
   ]
  },
  {
   "cell_type": "code",
   "execution_count": 162,
   "metadata": {},
   "outputs": [],
   "source": [
    "arrr = np.zeros( (5,5) )"
   ]
  },
  {
   "cell_type": "code",
   "execution_count": 168,
   "metadata": {},
   "outputs": [
    {
     "data": {
      "text/plain": [
       "array([[0., 0., 0., 0., 0.],\n",
       "       [0., 0., 0., 0., 0.]])"
      ]
     },
     "execution_count": 168,
     "metadata": {},
     "output_type": "execute_result"
    }
   ],
   "source": [
    "arrr[2:-1,:]"
   ]
  },
  {
   "cell_type": "code",
   "execution_count": 179,
   "metadata": {},
   "outputs": [
    {
     "data": {
      "text/plain": [
       "array([36.42819151])"
      ]
     },
     "execution_count": 179,
     "metadata": {},
     "output_type": "execute_result"
    }
   ],
   "source": [
    "out_sol[:,list(timepoints_ode).index(t)]"
   ]
  },
  {
   "cell_type": "code",
   "execution_count": 210,
   "metadata": {},
   "outputs": [
    {
     "data": {
      "text/plain": [
       "array([[-3.09510217e+06,  0.00000000e+00,  0.00000000e+00,\n",
       "         0.00000000e+00,  0.00000000e+00],\n",
       "       [ 2.00000000e+00, -2.17258455e+00,  2.59002241e+03,\n",
       "         0.00000000e+00,  0.00000000e+00],\n",
       "       [ 0.00000000e+00,  2.17258455e+00, -2.59102241e+03,\n",
       "         0.00000000e+00,  0.00000000e+00],\n",
       "       [ 0.00000000e+00,  1.44859968e+00,  0.00000000e+00,\n",
       "        -2.59064741e+03,  0.00000000e+00],\n",
       "       [ 0.00000000e+00,  0.00000000e+00,  1.00000000e+00,\n",
       "         0.00000000e+00, -5.00000000e+00]])"
      ]
     },
     "execution_count": 210,
     "metadata": {},
     "output_type": "execute_result"
    }
   ],
   "source": [
    "J_full[1:6,1:6]\n",
    "# A_full"
   ]
  },
  {
   "cell_type": "code",
   "execution_count": 200,
   "metadata": {},
   "outputs": [
    {
     "data": {
      "text/plain": [
       "array([[-1.13082019e-02,  3.09561517e+05,  0.00000000e+00,\n",
       "         0.00000000e+00,  0.00000000e+00,  0.00000000e+00],\n",
       "       [ 1.13082016e-01, -3.09510217e+06,  0.00000000e+00,\n",
       "         0.00000000e+00,  0.00000000e+00,  0.00000000e+00],\n",
       "       [ 0.00000000e+00,  2.00000000e+00, -2.17258455e+00,\n",
       "         2.59002241e+03,  0.00000000e+00,  0.00000000e+00],\n",
       "       [ 0.00000000e+00,  0.00000000e+00,  2.17258455e+00,\n",
       "        -2.59102241e+03,  0.00000000e+00,  0.00000000e+00],\n",
       "       [ 0.00000000e+00,  0.00000000e+00,  1.44859968e+00,\n",
       "         0.00000000e+00, -2.59064741e+03,  0.00000000e+00],\n",
       "       [ 0.00000000e+00,  0.00000000e+00,  0.00000000e+00,\n",
       "         1.00000000e+00,  0.00000000e+00, -5.00000000e+00]])"
      ]
     },
     "execution_count": 200,
     "metadata": {},
     "output_type": "execute_result"
    }
   ],
   "source": [
    "J_full"
   ]
  },
  {
   "cell_type": "code",
   "execution_count": 258,
   "metadata": {},
   "outputs": [],
   "source": [
    "# At t = 0.1\n",
    "norm_full = 0.04\n",
    "norm_gtx = 5.4555e-13\n",
    "norm_gc1tx = 0.04\n",
    "norm_gc2tx = 0\n",
    "norm_gc3tx = 2.7277e-13\n",
    "\n",
    "# At t = 0.4\n",
    "norm_full = 0.04\n",
    "norm_gtx = 3.3490e-13\n",
    "norm_c1gtx = 0.04\n",
    "norm_c2gtx = 1.1543e-11\n",
    "norm_c3gtx = 5.0234e-13\n",
    "\n",
    "\n",
    "# At t = 1\n",
    "norm_full = 0.0400\n",
    "norm_gtx =  2.8312e-13\n",
    "norm_c1gtx = 0.0400\n",
    "norm_c2gtx = 5.8298e-13\n",
    "norm_c3gtx =  5.6624e-13\n"
   ]
  },
  {
   "cell_type": "code",
   "execution_count": 264,
   "metadata": {},
   "outputs": [
    {
     "data": {
      "text/latex": [
       "$\\displaystyle C_{1} \\left(k_{bp} + k_{tx}\\right) - G k_{up} \\left(- C_{1} + P_{tot}\\right)$"
      ],
      "text/plain": [
       "C1*(k_bp + k_tx) - G*k_up*(-C1 + P_tot)"
      ]
     },
     "execution_count": 264,
     "metadata": {},
     "output_type": "execute_result"
    }
   ],
   "source": [
    "sys_gc1tx.f[0]"
   ]
  },
  {
   "cell_type": "code",
   "execution_count": 265,
   "metadata": {},
   "outputs": [
    {
     "data": {
      "text/latex": [
       "$\\displaystyle - C_{1} \\left(k_{tx} + k_{up}\\right) + G k_{bp} \\left(- C_{1} + P_{tot}\\right)$"
      ],
      "text/plain": [
       "-C1*(k_tx + k_up) + G*k_bp*(-C1 + P_tot)"
      ]
     },
     "execution_count": 265,
     "metadata": {},
     "output_type": "execute_result"
    }
   ],
   "source": [
    "sys_gc1tx.f[1]"
   ]
  },
  {
   "cell_type": "code",
   "execution_count": 272,
   "metadata": {},
   "outputs": [
    {
     "data": {
      "text/latex": [
       "$\\displaystyle C_{1} k_{tx} + \\frac{R_{tot} T k_{br} k_{ur}}{T k_{br} + k_{tl} + k_{ur}} - T k_{br} \\left(- \\frac{R_{tot} T k_{br}}{T k_{br} + k_{tl} + k_{ur}} + R_{tot}\\right)$"
      ],
      "text/plain": [
       "C1*k_tx + R_tot*T*k_br*k_ur/(T*k_br + k_tl + k_ur) - T*k_br*(-R_tot*T*k_br/(T*k_br + k_tl + k_ur) + R_tot)"
      ]
     },
     "execution_count": 272,
     "metadata": {},
     "output_type": "execute_result"
    }
   ],
   "source": [
    "sys_gc1tx.f[2]"
   ]
  },
  {
   "cell_type": "code",
   "execution_count": 271,
   "metadata": {},
   "outputs": [
    {
     "data": {
      "text/latex": [
       "$\\displaystyle \\frac{R_{tot} T k_{br} k_{tl}}{T k_{br} + k_{tl} + k_{ur}} - X d$"
      ],
      "text/plain": [
       "R_tot*T*k_br*k_tl/(T*k_br + k_tl + k_ur) - X*d"
      ]
     },
     "execution_count": 271,
     "metadata": {},
     "output_type": "execute_result"
    }
   ],
   "source": [
    "\n",
    "sys_gc1tx.f[3]"
   ]
  },
  {
   "cell_type": "code",
   "execution_count": 270,
   "metadata": {},
   "outputs": [
    {
     "data": {
      "text/plain": [
       "[G, C1, T, X]"
      ]
     },
     "execution_count": 270,
     "metadata": {},
     "output_type": "execute_result"
    }
   ],
   "source": [
    "sys_gc1tx.x"
   ]
  },
  {
   "cell_type": "code",
   "execution_count": 268,
   "metadata": {},
   "outputs": [
    {
     "data": {
      "text/latex": [
       "$\\displaystyle C_{1} \\left(k_{bp} + k_{tx}\\right) - G k_{up} \\left(- C_{1} + P_{tot}\\right)$"
      ],
      "text/plain": [
       "C1*(k_bp + k_tx) - G*k_up*(-C1 + P_tot)"
      ]
     },
     "execution_count": 268,
     "metadata": {},
     "output_type": "execute_result"
    }
   ],
   "source": [
    "sys.f[0]"
   ]
  },
  {
   "cell_type": "code",
   "execution_count": 275,
   "metadata": {},
   "outputs": [
    {
     "data": {
      "text/plain": [
       "array([[-3.09510217e+06,  0.00000000e+00,  0.00000000e+00],\n",
       "       [ 2.00000000e+00, -1.44961953e-04,  3.79950280e-14],\n",
       "       [ 0.00000000e+00,  1.44961948e-04, -5.00000000e+00]])"
      ]
     },
     "execution_count": 275,
     "metadata": {},
     "output_type": "execute_result"
    }
   ],
   "source": [
    "A_gc1tx"
   ]
  },
  {
   "cell_type": "code",
   "execution_count": 276,
   "metadata": {},
   "outputs": [
    {
     "data": {
      "text/plain": [
       "array([-1.13081920e-02,  3.09561517e+05,  0.00000000e+00,  0.00000000e+00])"
      ]
     },
     "execution_count": 276,
     "metadata": {},
     "output_type": "execute_result"
    }
   ],
   "source": [
    "B_gc1tx"
   ]
  },
  {
   "cell_type": "code",
   "execution_count": null,
   "metadata": {},
   "outputs": [],
   "source": []
  }
 ],
 "metadata": {
  "kernelspec": {
   "display_name": "Python 3",
   "language": "python",
   "name": "python3"
  },
  "language_info": {
   "codemirror_mode": {
    "name": "ipython",
    "version": 3
   },
   "file_extension": ".py",
   "mimetype": "text/x-python",
   "name": "python",
   "nbconvert_exporter": "python",
   "pygments_lexer": "ipython3",
   "version": "3.7.4"
  }
 },
 "nbformat": 4,
 "nbformat_minor": 2
}
