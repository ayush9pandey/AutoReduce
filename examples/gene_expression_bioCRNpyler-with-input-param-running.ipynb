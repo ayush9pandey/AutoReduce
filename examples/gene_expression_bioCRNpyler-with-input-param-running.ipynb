{
 "cells": [
  {
   "cell_type": "markdown",
   "metadata": {},
   "source": [
    "  $G_i + P \\quad[k^{b_P}_i]<->[k^{u_P}_i] \\quad  G_i:P \\\\\n",
    "    G_i:P \\quad  --> [k_i^{tx}] \\quad  G_i + P + T_i \\\\\n",
    "    T_i + R \\quad  [k^{b_R}_i]<->[k^{u_R}_i]\\quad   T_i:R \\\\\n",
    "    T_i:R  \\quad -->[k_i^{tl}]\\quad T_i + R + X_i \\\\\n",
    "    T_i + E \\quad  [k^{b_E}_i]<->[k^{u_E}_i] \\quad  T_i:E \\\\\n",
    "    T_i:E \\quad-->[\\delta_i]\\quad E \\\\\n",
    "    X \\quad-->[d]\\quad $"
   ]
  },
  {
   "cell_type": "code",
   "execution_count": 1,
   "metadata": {},
   "outputs": [],
   "source": [
    "%matplotlib inline\n",
    "from IPython.core.interactiveshell import InteractiveShell\n",
    "InteractiveShell.ast_node_interactivity = \"all\"\n",
    "from auto_reduce import *\n",
    "import numpy as np\n",
    "from sympy import symbols"
   ]
  },
  {
   "cell_type": "code",
   "execution_count": 2,
   "metadata": {},
   "outputs": [],
   "source": [
    "# Post conservation law and other approximations phenomenological model at the RNA level\n",
    "n = 8 # Number of states : P, C1, T, R, C2, E, C3, X\n",
    "nouts = 1 # Number of outputs, X_i\n",
    "\n",
    "# Inputs by user \n",
    "x_init = np.zeros(n)\n",
    "x_init[0] = 10000\n",
    "x_init[3] = 10000\n",
    "x_init[5] = 10000\n",
    "C = np.zeros((nouts,n), dtype=int)\n",
    "C[0][7] = 1\n",
    "\n",
    "nstates_tol_max = 4\n",
    "error_tol = 3000\n",
    "# System dynamics symbolically\n",
    "\n",
    "# k_bp, k_up, k_tx, k_br, k_ur, k_tl, k_be, k_ue, d_i, d = params, len(params) = 10\n",
    "\n",
    "\n",
    "x0 = symbols('P')\n",
    "x1 = symbols('C1') # G:P\n",
    "x2 = symbols('T')\n",
    "x3 = symbols('R')\n",
    "x4 = symbols('C2') # T:R\n",
    "x5 = symbols('E')\n",
    "x6 = symbols('C3') # T:E\n",
    "x7 = symbols('X')\n",
    "\n",
    "x = [x0, x1, x2, x3, x4, x5, x6, x7]\n",
    "\n",
    "G = symbols('G')\n",
    "k_bp = symbols('k_bp')\n",
    "k_up = symbols('k_up')\n",
    "k_tx = symbols('k_tx')\n",
    "k_br = symbols('k_br')\n",
    "k_ur = symbols('k_ur')\n",
    "k_tl = symbols('k_tl')\n",
    "k_be = symbols('k_be')\n",
    "k_ue = symbols('k_ue')\n",
    "d_i = symbols('d_i')\n",
    "d = symbols('d')\n",
    "\n",
    "E_tot = symbols('E_tot')\n",
    "P_tot = symbols('P_tot')\n",
    "R_tot = symbols('R_tot')\n",
    "params = [k_bp, k_up, k_tx, k_br, k_ur, k_tl, k_be, k_ue, d_i, d, E_tot, P_tot, R_tot, G]\n",
    "# f0 = (k_bp + k_tx) * x1 - k_up * G * x0\n",
    "f0 = (k_bp + k_tx) * x1 - k_up * G * x0\n",
    "f1 = k_bp * G * x0 - (k_up + k_tx)*x1\n",
    "f2 = k_tx * x1 + k_ur * x4 - k_br * x2 * x3\n",
    "f3 = (k_ur + k_tl) * x4 - k_br * x2 * x3\n",
    "f4 = k_br * x2 * x3 - (k_ur + k_tl) * x4\n",
    "f5 = (k_ue + d_i) * x6 - k_be * x3 * x5\n",
    "f6 = k_be * x2 * x5 - (k_ue + d_i) * x6\n",
    "f7 = k_tl * x4 - d * x7\n",
    "    \n",
    "f = [f0,f1,f2,f3,f4,f5,f6,f7]\n",
    "# parameter values\n",
    "params_values = [100, 10, 4, 10, 0.25, 2, 10, 0.5, 1, 1, 1000, 1000, 1000, 10]\n",
    "sys = System(x, f, params = params, params_values = params_values, C = C, x_init = x_init)"
   ]
  },
  {
   "cell_type": "code",
   "execution_count": 5,
   "metadata": {},
   "outputs": [
    {
     "name": "stderr",
     "output_type": "stream",
     "text": [
      "C:\\Users\\apand\\Anaconda3\\lib\\site-packages\\scipy\\integrate\\odepack.py:247: ODEintWarning: Excess work done on this call (perhaps wrong Dfun type). Run with full_output = 1 to get quantitative information.\n",
      "  warnings.warn(warning_msg, ODEintWarning)\n"
     ]
    },
    {
     "data": {
      "image/png": "[encoded data removed]",
      "text/plain": [
       "<Figure size 432x288 with 1 Axes>"
      ]
     },
     "metadata": {
      "needs_background": "light"
     },
     "output_type": "display_data"
    }
   ],
   "source": [
    "from auto_reduce.utils import get_ODE\n",
    "timepoints_ode = np.linspace(0, 20, 100)\n",
    "sys_ode = get_ODE(sys, timepoints_ode)\n",
    "sol = sys_ode.solve_system().T\n",
    "import matplotlib.pyplot as plt\n",
    "plt.plot(timepoints_ode, np.transpose(np.array(C)@sol))\n",
    "plt.xlabel('Time')\n",
    "plt.ylabel('[Outputs]')\n",
    "plt.show()"
   ]
  },
  {
   "cell_type": "code",
   "execution_count": 3,
   "metadata": {},
   "outputs": [
    {
     "name": "stderr",
     "output_type": "stream",
     "text": [
      "C:\\Users\\apand\\Anaconda3\\lib\\site-packages\\scipy\\integrate\\odepack.py:247: ODEintWarning: Excess work done on this call (perhaps wrong Dfun type). Run with full_output = 1 to get quantitative information.\n",
      "  warnings.warn(warning_msg, ODEintWarning)\n"
     ]
    },
    {
     "name": "stdout",
     "output_type": "stream",
     "text": [
      "SSM Progress: |█████████████████████████-------------------------| 50.4% Complete\r"
     ]
    },
    {
     "name": "stderr",
     "output_type": "stream",
     "text": [
      "C:\\Users\\apand\\Anaconda3\\lib\\site-packages\\scipy\\integrate\\odepack.py:247: ODEintWarning: Excess work done on this call (perhaps wrong Dfun type). Run with full_output = 1 to get quantitative information.\n",
      "  warnings.warn(warning_msg, ODEintWarning)\n"
     ]
    },
    {
     "name": "stdout",
     "output_type": "stream",
     "text": [
      "SSM Progress: |███████████████████████████████████---------------| 70.5% Complete\r"
     ]
    },
    {
     "name": "stderr",
     "output_type": "stream",
     "text": [
      "C:\\Users\\apand\\Anaconda3\\lib\\site-packages\\scipy\\integrate\\odepack.py:247: ODEintWarning: Excess accuracy requested (tolerances too small). Run with full_output = 1 to get quantitative information.\n",
      "  warnings.warn(warning_msg, ODEintWarning)\n"
     ]
    },
    {
     "name": "stdout",
     "output_type": "stream",
     "text": [
      "SSM Progress: |█████████████████████████████████████████████-----| 90.6% Complete\r"
     ]
    },
    {
     "name": "stderr",
     "output_type": "stream",
     "text": [
      "C:\\Users\\apand\\Anaconda3\\lib\\site-packages\\scipy\\integrate\\odepack.py:247: ODEintWarning: Excess accuracy requested (tolerances too small). Run with full_output = 1 to get quantitative information.\n",
      "  warnings.warn(warning_msg, ODEintWarning)\n"
     ]
    },
    {
     "name": "stdout",
     "output_type": "stream",
     "text": [
      "SSM Progress: |██████████████████████████████████████████████████| 100.0% Complete\n"
     ]
    }
   ],
   "source": [
    "from auto_reduce.utils import get_SSM\n",
    "timepoints_ssm = np.linspace(0,100,10)\n",
    "sys_ssm = get_SSM(sys, timepoints_ssm)\n",
    "Ss = sys_ssm.compute_SSM(mode = 'accurate') # len(timepoints) x len(params) x len(states)\n",
    "out_Ss = []\n",
    "for i in range(len(params)):\n",
    "    out_Ss.append((np.array(C)@(Ss[:,i,:].T)))\n",
    "out_Ss = np.reshape(np.array(out_Ss), (len(timepoints_ssm), len(params), nouts))"
   ]
  },
  {
   "cell_type": "code",
   "execution_count": 4,
   "metadata": {},
   "outputs": [
    {
     "data": {
      "text/plain": [
       "array([-1.00000000e+00+0.j, -1.00050251e+05+0.j, -1.00000001e+05+0.j,\n",
       "       -3.82344433e+02+0.j,  2.68344433e+02+0.j, -1.99899549e+00+0.j,\n",
       "       -1.49924999e+00+0.j,  7.71403448e-09+0.j])"
      ]
     },
     "execution_count": 4,
     "metadata": {},
     "output_type": "execute_result"
    },
    {
     "data": {
      "text/plain": [
       "(8, 8)"
      ]
     },
     "execution_count": 4,
     "metadata": {},
     "output_type": "execute_result"
    }
   ],
   "source": [
    "J1 = sys_ssm.compute_J([10,1000,5,10000,100,10000,5,10], mode = 'accurate')\n",
    "import scipy\n",
    "scipy.linalg.eigvals(J1)\n",
    "np.shape(J1)"
   ]
  },
  {
   "cell_type": "code",
   "execution_count": 5,
   "metadata": {},
   "outputs": [
    {
     "data": {
      "text/plain": [
       "<matplotlib.axes._subplots.AxesSubplot at 0x23e4e06dec8>"
      ]
     },
     "execution_count": 5,
     "metadata": {},
     "output_type": "execute_result"
    },
    {
     "data": {
      "text/plain": [
       "Text(0.5, 15.0, 'Time')"
      ]
     },
     "execution_count": 5,
     "metadata": {},
     "output_type": "execute_result"
    },
    {
     "data": {
      "text/plain": [
       "Text(33.0, 0.5, 'Parameters')"
      ]
     },
     "execution_count": 5,
     "metadata": {},
     "output_type": "execute_result"
    },
    {
     "data": {
      "text/plain": [
       "Text(0.5, 1, 'Sensitivity of output[0] with respect to all parameters')"
      ]
     },
     "execution_count": 5,
     "metadata": {},
     "output_type": "execute_result"
    },
    {
     "data": {
      "image/png": "[encoded data removed]",
      "text/plain": [
       "<Figure size 432x288 with 2 Axes>"
      ]
     },
     "metadata": {
      "needs_background": "light"
     },
     "output_type": "display_data"
    }
   ],
   "source": [
    "import seaborn as sn\n",
    "import matplotlib.pyplot as plt\n",
    "for j in range(nouts):\n",
    "    sn.heatmap(out_Ss[:,:,j].T)\n",
    "    plt.xlabel('Time')\n",
    "    plt.ylabel('Parameters')\n",
    "    plt.title('Sensitivity of output[{0}] with respect to all parameters'.format(j))\n",
    "    plt.show()"
   ]
  },
  {
   "cell_type": "code",
   "execution_count": 3,
   "metadata": {},
   "outputs": [],
   "source": [
    "from auto_reduce.utils import reduce\n",
    "timepoints_ssm = np.linspace(0,2,10)\n",
    "timepoints_ode = np.linspace(0,2,100)\n",
    "sys_reduce = reduce(sys, timepoints_ode, timepoints_ssm)\n",
    "sys_reduce.nstates_tol = 4"
   ]
  },
  {
   "cell_type": "code",
   "execution_count": 4,
   "metadata": {},
   "outputs": [],
   "source": [
    "P, C1, T, R, C2, E, C3, X = sys.x\n",
    "conserved_quantities = [P + C1 - P_tot, R + C2 - R_tot, E + C3 - E_tot]\n",
    "states_to_eliminate = [C1, C2, C3]\n",
    "f_cons = sys_reduce.set_conservation_laws(conserved_quantities, states_to_eliminate)"
   ]
  },
  {
   "cell_type": "code",
   "execution_count": 5,
   "metadata": {},
   "outputs": [
    {
     "data": {
      "text/plain": [
       "[<matplotlib.lines.Line2D at 0x26b396c9f88>]"
      ]
     },
     "execution_count": 5,
     "metadata": {},
     "output_type": "execute_result"
    },
    {
     "data": {
      "text/plain": [
       "Text(0.5, 0, 'Time')"
      ]
     },
     "execution_count": 5,
     "metadata": {},
     "output_type": "execute_result"
    },
    {
     "data": {
      "text/plain": [
       "Text(0, 0.5, '[X]')"
      ]
     },
     "execution_count": 5,
     "metadata": {},
     "output_type": "execute_result"
    },
    {
     "data": {
      "image/png": "[encoded data removed]",
      "text/plain": [
       "<Figure size 432x288 with 1 Axes>"
      ]
     },
     "metadata": {
      "needs_background": "light"
     },
     "output_type": "display_data"
    }
   ],
   "source": [
    "from auto_reduce.utils import get_ODE\n",
    "timepoints_ode = np.linspace(0, 5, 100)\n",
    "# params = [k_bp, k_up, k_tx, k_br, k_ur, k_tl, k_be, k_ue, d_i, d, E_tot, P_tot, R_tot, G]\n",
    "params_values = [100, 10, 4, 10, 0.25, 2, 10, 0.5, 1, 10, 10000, 10000, 10000, 0.01]\n",
    "sys_reduce.params_values = params_values\n",
    "sys_ode = get_ODE(sys_reduce, timepoints_ode)\n",
    "sol = sys_ode.solve_system().T\n",
    "import matplotlib.pyplot as plt\n",
    "fig, ax = plt.subplots()\n",
    "plt.plot(timepoints_ode, np.transpose(np.array(sys_reduce.C)@sol), linewidth = 3)\n",
    "plt.xlabel('Time', FontSize = 18)\n",
    "plt.ylabel('[X]', FontSize = 18)\n",
    "ax.tick_params(axis='both', which='major', labelsize=14)\n",
    "# plt.legend()\n",
    "plt.show()"
   ]
  },
  {
   "cell_type": "code",
   "execution_count": 6,
   "metadata": {},
   "outputs": [
    {
     "name": "stdout",
     "output_type": "stream",
     "text": [
      "attempting to retain : [4]\n",
      "Successful time-scale separation solution obtained.\n",
      "SSM Progress: |██████████████████████████████████████████████████| 100.0% Complete\n",
      "SSM Progress: |██████████████████████████████████████████████████| 100.0% Complete\n"
     ]
    },
    {
     "name": "stderr",
     "output_type": "stream",
     "text": [
      "C:\\Users\\apand\\Anaconda3\\lib\\site-packages\\scipy\\linalg\\_solvers.py:196: RuntimeWarning: Input \"a\" has an eigenvalue pair whose sum is very close to or exactly zero. The solution is obtained via perturbing the coefficients.\n",
      "  RuntimeWarning)\n",
      "C:\\Users\\apand\\OneDrive\\Documents\\synBio\\autoReduce\\auto_reduce\\model_reduction.py:200: ComplexWarning: Casting complex values to real discards the imaginary part\n",
      "  Se[j] = max_eig_P + 2*len(reduced_ssm.timepoints)*S_metric_max\n"
     ]
    },
    {
     "name": "stdout",
     "output_type": "stream",
     "text": [
      "Robustness Metric Progress: |██████████████████████████████████████████████████| 100.0% Complete\n",
      "attempting to retain : [0, 4]\n",
      "Successful time-scale separation solution obtained.\n",
      "SSM Progress: |██████████████████████████████████████████████████| 100.0% Complete\n",
      "SSM Progress: |██████████████████████████████████████████████████| 100.0% Complete\n",
      "Robustness Metric Progress: |██████████████████████████████████████████████████| 100.0% Complete\n",
      "attempting to retain : [1, 4]\n",
      "Successful time-scale separation solution obtained.\n",
      "SSM Progress: |██████████████████████████████████████████████████| 100.0% Complete\n",
      "SSM Progress: |██████████████████████████████████████████████████| 100.0% Complete\n",
      "Robustness Metric Progress: |██████████████████████████████████████████████████| 100.0% Complete\n",
      "attempting to retain : [2, 4]\n",
      "Successful time-scale separation solution obtained.\n",
      "SSM Progress: |██████████████████████████████████████████████████| 100.0% Complete\n",
      "SSM Progress: |██████████████████████████████████████████████████| 100.0% Complete\n",
      "Robustness Metric Progress: |██████████████████████████████████████████████████| 100.0% Complete\n",
      "attempting to retain : [3, 4]\n",
      "Successful time-scale separation solution obtained.\n",
      "SSM Progress: |██████████████████████████████████████████████████| 100.0% Complete\n",
      "SSM Progress: |██████████████████████████████████████████████████| 100.0% Complete\n",
      "Robustness Metric Progress: |██████████████████████████████████████████████████| 100.0% Complete\n",
      "attempting to retain : [0, 1, 4]\n",
      "Successful time-scale separation solution obtained.\n",
      "SSM Progress: |██████████████████████████████████████████████████| 100.0% Complete\n",
      "SSM Progress: |██████████████████████████████████████████████████| 100.0% Complete\n",
      "Robustness Metric Progress: |██████████████████████████████████████████████████| 100.0% Complete\n",
      "attempting to retain : [0, 2, 4]\n",
      "Successful time-scale separation solution obtained.\n",
      "SSM Progress: |██████████████████████████████████████████████████| 100.0% Complete\n",
      "SSM Progress: |██████████████████████████████████████████████████| 100.0% Complete\n",
      "Robustness Metric Progress: |██████████████████████████████████████████████████| 100.0% Complete\n",
      "attempting to retain : [0, 3, 4]\n",
      "Successful time-scale separation solution obtained.\n",
      "SSM Progress: |██████████████████████████████████████████████████| 100.0% Complete\n",
      "SSM Progress: |█████████████████████-----------------------------| 43.2% Complete\r"
     ]
    },
    {
     "name": "stderr",
     "output_type": "stream",
     "text": [
      "C:\\Users\\apand\\Anaconda3\\lib\\site-packages\\scipy\\integrate\\odepack.py:247: ODEintWarning: Excess work done on this call (perhaps wrong Dfun type). Run with full_output = 1 to get quantitative information.\n",
      "  warnings.warn(warning_msg, ODEintWarning)\n"
     ]
    },
    {
     "name": "stdout",
     "output_type": "stream",
     "text": [
      "SSM Progress: |██████████████████████████████████████████████████| 100.0% Complete\n",
      "Robustness Metric Progress: |██████████████████████████████████████████████████| 100.0% Complete\n",
      "attempting to retain : [1, 2, 4]\n",
      "Successful time-scale separation solution obtained.\n",
      "SSM Progress: |██████████████████████████████████████████████████| 100.0% Complete\n",
      "SSM Progress: |██████████████████████████████████████████████████| 100.0% Complete\n",
      "Robustness Metric Progress: |██████████████████████████████████████████████████| 100.0% Complete\n",
      "attempting to retain : [1, 3, 4]\n",
      "Successful time-scale separation solution obtained.\n",
      "SSM Progress: |██████████████████████████████████████████████████| 100.0% Complete\n",
      "SSM Progress: |██████████████████████████████████████████████████| 100.0% Complete\n",
      "Robustness Metric Progress: |██████████████████████████████████████████████████| 100.0% Complete\n",
      "attempting to retain : [2, 3, 4]\n",
      "Successful time-scale separation solution obtained.\n",
      "SSM Progress: |██████████████████████████████████████████████████| 100.0% Complete\n",
      "SSM Progress: |██████████████████████████████████████████████████| 100.0% Complete\n",
      "Robustness Metric Progress: |██████████████████████████████████████████████████| 100.0% Complete\n",
      "attempting to retain : [0, 1, 2, 4]\n",
      "Successful time-scale separation solution obtained.\n",
      "SSM Progress: |██████████████████████████████████████████████████| 100.0% Complete\n",
      "SSM Progress: |██████████████████████████████████████████████████| 100.0% Complete\n",
      "Robustness Metric Progress: |██████████████████████████████████████████████████| 100.0% Complete\n",
      "attempting to retain : [0, 1, 3, 4]\n",
      "Successful time-scale separation solution obtained.\n",
      "SSM Progress: |██████████████████████████████████████████████████| 100.0% Complete\n",
      "SSM Progress: |██████████████████████████████████████████████████| 100.0% Complete\n",
      "Robustness Metric Progress: |██████████████████████████████████████████████████| 100.0% Complete\n",
      "attempting to retain : [0, 2, 3, 4]\n",
      "Successful time-scale separation solution obtained.\n",
      "SSM Progress: |██████████████████████████████████████████████████| 100.0% Complete\n",
      "SSM Progress: |██████████████████████████████████████████████████| 100.0% Complete\n",
      "Robustness Metric Progress: |██████████████████████████████████████████████████| 100.0% Complete\n",
      "attempting to retain : [1, 2, 3, 4]\n",
      "Successful time-scale separation solution obtained.\n",
      "SSM Progress: |██████████████████████████████████████████████████| 100.0% Complete\n",
      "SSM Progress: |██████████████████████████████████████████████████| 100.0% Complete\n",
      "Robustness Metric Progress: |██████████████████████████████████████████████████| 100.0% Complete\n"
     ]
    }
   ],
   "source": [
    "results = sys_reduce.reduce_simple()\n",
    "# reduced_sys, fast_ss = sys_reduce.solve_timescale_separation([T, X])\n",
    "# sys_reduce.get_robustness_metric(reduced_sys)\n",
    "# sys_reduce.get_error_metric(reduced_sys)\n"
   ]
  },
  {
   "cell_type": "code",
   "execution_count": null,
   "metadata": {},
   "outputs": [],
   "source": [
    "reduced_sys, fast_ss = sys_reduce.solve_timescale_separation([1,3,5])\n",
    "reduced_sys.f[1]\n",
    "# from auto_reduce.utils import get_ODE\n",
    "x_sol_hat = get_ODE(sys_reduce.get_system(), timepoints_ode).solve_system()"
   ]
  },
  {
   "cell_type": "markdown",
   "metadata": {},
   "source": [
    "### Write results into LaTeX"
   ]
  },
  {
   "cell_type": "code",
   "execution_count": null,
   "metadata": {},
   "outputs": [],
   "source": [
    "# results\n",
    "import matplotlib.pyplot as plt\n",
    "for key, value in results.items():\n",
    "    plt.scatter(value[0], key.n,linewidths = 2.5, label = str(key.x))\n",
    "plt.legend()\n",
    "plt.savefig('enzymatic_rxn_e.svg')"
   ]
  },
  {
   "cell_type": "code",
   "execution_count": null,
   "metadata": {},
   "outputs": [],
   "source": [
    "import matplotlib.pyplot as plt\n",
    "y_hat = sys_reduce.C@x_sol_hat.T\n",
    "plt.plot(timepoints_ode,y_hat.T)"
   ]
  },
  {
   "cell_type": "code",
   "execution_count": 292,
   "metadata": {},
   "outputs": [],
   "source": [
    "from auto_reduce.utils import reduce_utils\n",
    "rx = reduce_utils(sys_reduce)\n",
    "rx.write_results('gene_expression_results_with_input.txt')"
   ]
  },
  {
   "cell_type": "code",
   "execution_count": 295,
   "metadata": {},
   "outputs": [
    {
     "data": {
      "text/plain": [
       "25"
      ]
     },
     "execution_count": 295,
     "metadata": {},
     "output_type": "execute_result"
    },
    {
     "data": {
      "text/plain": [
       "12"
      ]
     },
     "execution_count": 295,
     "metadata": {},
     "output_type": "execute_result"
    },
    {
     "data": {
      "text/plain": [
       "3"
      ]
     },
     "execution_count": 295,
     "metadata": {},
     "output_type": "execute_result"
    },
    {
     "data": {
      "text/plain": [
       "5"
      ]
     },
     "execution_count": 295,
     "metadata": {},
     "output_type": "execute_result"
    },
    {
     "data": {
      "text/plain": [
       "15"
      ]
     },
     "execution_count": 295,
     "metadata": {},
     "output_type": "execute_result"
    },
    {
     "data": {
      "text/plain": [
       "192"
      ]
     },
     "execution_count": 295,
     "metadata": {},
     "output_type": "execute_result"
    },
    {
     "data": {
      "text/plain": [
       "3"
      ]
     },
     "execution_count": 295,
     "metadata": {},
     "output_type": "execute_result"
    },
    {
     "data": {
      "text/plain": [
       "12"
      ]
     },
     "execution_count": 295,
     "metadata": {},
     "output_type": "execute_result"
    },
    {
     "data": {
      "text/plain": [
       "6"
      ]
     },
     "execution_count": 295,
     "metadata": {},
     "output_type": "execute_result"
    },
    {
     "data": {
      "text/plain": [
       "5"
      ]
     },
     "execution_count": 295,
     "metadata": {},
     "output_type": "execute_result"
    },
    {
     "data": {
      "text/plain": [
       "15"
      ]
     },
     "execution_count": 295,
     "metadata": {},
     "output_type": "execute_result"
    },
    {
     "data": {
      "text/plain": [
       "70"
      ]
     },
     "execution_count": 295,
     "metadata": {},
     "output_type": "execute_result"
    },
    {
     "data": {
      "text/plain": [
       "3"
      ]
     },
     "execution_count": 295,
     "metadata": {},
     "output_type": "execute_result"
    },
    {
     "data": {
      "text/plain": [
       "15"
      ]
     },
     "execution_count": 295,
     "metadata": {},
     "output_type": "execute_result"
    },
    {
     "data": {
      "text/plain": [
       "95"
      ]
     },
     "execution_count": 295,
     "metadata": {},
     "output_type": "execute_result"
    },
    {
     "data": {
      "text/plain": [
       "3"
      ]
     },
     "execution_count": 295,
     "metadata": {},
     "output_type": "execute_result"
    },
    {
     "data": {
      "text/plain": [
       "12"
      ]
     },
     "execution_count": 295,
     "metadata": {},
     "output_type": "execute_result"
    },
    {
     "data": {
      "text/plain": [
       "6"
      ]
     },
     "execution_count": 295,
     "metadata": {},
     "output_type": "execute_result"
    },
    {
     "data": {
      "text/plain": [
       "5"
      ]
     },
     "execution_count": 295,
     "metadata": {},
     "output_type": "execute_result"
    },
    {
     "data": {
      "text/plain": [
       "15"
      ]
     },
     "execution_count": 295,
     "metadata": {},
     "output_type": "execute_result"
    },
    {
     "data": {
      "text/plain": [
       "294"
      ]
     },
     "execution_count": 295,
     "metadata": {},
     "output_type": "execute_result"
    },
    {
     "data": {
      "text/plain": [
       "3"
      ]
     },
     "execution_count": 295,
     "metadata": {},
     "output_type": "execute_result"
    },
    {
     "data": {
      "text/plain": [
       "15"
      ]
     },
     "execution_count": 295,
     "metadata": {},
     "output_type": "execute_result"
    },
    {
     "data": {
      "text/plain": [
       "111"
      ]
     },
     "execution_count": 295,
     "metadata": {},
     "output_type": "execute_result"
    },
    {
     "data": {
      "text/plain": [
       "3"
      ]
     },
     "execution_count": 295,
     "metadata": {},
     "output_type": "execute_result"
    },
    {
     "data": {
      "text/plain": [
       "12"
      ]
     },
     "execution_count": 295,
     "metadata": {},
     "output_type": "execute_result"
    },
    {
     "data": {
      "text/plain": [
       "6"
      ]
     },
     "execution_count": 295,
     "metadata": {},
     "output_type": "execute_result"
    },
    {
     "data": {
      "text/plain": [
       "5"
      ]
     },
     "execution_count": 295,
     "metadata": {},
     "output_type": "execute_result"
    },
    {
     "data": {
      "text/plain": [
       "15"
      ]
     },
     "execution_count": 295,
     "metadata": {},
     "output_type": "execute_result"
    },
    {
     "data": {
      "text/plain": [
       "246"
      ]
     },
     "execution_count": 295,
     "metadata": {},
     "output_type": "execute_result"
    },
    {
     "data": {
      "text/plain": [
       "3"
      ]
     },
     "execution_count": 295,
     "metadata": {},
     "output_type": "execute_result"
    },
    {
     "data": {
      "text/plain": [
       "15"
      ]
     },
     "execution_count": 295,
     "metadata": {},
     "output_type": "execute_result"
    },
    {
     "data": {
      "text/plain": [
       "41"
      ]
     },
     "execution_count": 295,
     "metadata": {},
     "output_type": "execute_result"
    },
    {
     "data": {
      "text/plain": [
       "3"
      ]
     },
     "execution_count": 295,
     "metadata": {},
     "output_type": "execute_result"
    },
    {
     "data": {
      "text/plain": [
       "12"
      ]
     },
     "execution_count": 295,
     "metadata": {},
     "output_type": "execute_result"
    },
    {
     "data": {
      "text/plain": [
       "6"
      ]
     },
     "execution_count": 295,
     "metadata": {},
     "output_type": "execute_result"
    },
    {
     "data": {
      "text/plain": [
       "5"
      ]
     },
     "execution_count": 295,
     "metadata": {},
     "output_type": "execute_result"
    },
    {
     "data": {
      "text/plain": [
       "15"
      ]
     },
     "execution_count": 295,
     "metadata": {},
     "output_type": "execute_result"
    },
    {
     "data": {
      "text/plain": [
       "235"
      ]
     },
     "execution_count": 295,
     "metadata": {},
     "output_type": "execute_result"
    },
    {
     "data": {
      "text/plain": [
       "3"
      ]
     },
     "execution_count": 295,
     "metadata": {},
     "output_type": "execute_result"
    },
    {
     "data": {
      "text/plain": [
       "15"
      ]
     },
     "execution_count": 295,
     "metadata": {},
     "output_type": "execute_result"
    },
    {
     "data": {
      "text/plain": [
       "192"
      ]
     },
     "execution_count": 295,
     "metadata": {},
     "output_type": "execute_result"
    },
    {
     "data": {
      "text/plain": [
       "3"
      ]
     },
     "execution_count": 295,
     "metadata": {},
     "output_type": "execute_result"
    },
    {
     "data": {
      "text/plain": [
       "12"
      ]
     },
     "execution_count": 295,
     "metadata": {},
     "output_type": "execute_result"
    },
    {
     "data": {
      "text/plain": [
       "9"
      ]
     },
     "execution_count": 295,
     "metadata": {},
     "output_type": "execute_result"
    },
    {
     "data": {
      "text/plain": [
       "5"
      ]
     },
     "execution_count": 295,
     "metadata": {},
     "output_type": "execute_result"
    },
    {
     "data": {
      "text/plain": [
       "15"
      ]
     },
     "execution_count": 295,
     "metadata": {},
     "output_type": "execute_result"
    },
    {
     "data": {
      "text/plain": [
       "70"
      ]
     },
     "execution_count": 295,
     "metadata": {},
     "output_type": "execute_result"
    },
    {
     "data": {
      "text/plain": [
       "3"
      ]
     },
     "execution_count": 295,
     "metadata": {},
     "output_type": "execute_result"
    },
    {
     "data": {
      "text/plain": [
       "15"
      ]
     },
     "execution_count": 295,
     "metadata": {},
     "output_type": "execute_result"
    },
    {
     "data": {
      "text/plain": [
       "224"
      ]
     },
     "execution_count": 295,
     "metadata": {},
     "output_type": "execute_result"
    },
    {
     "data": {
      "text/plain": [
       "3"
      ]
     },
     "execution_count": 295,
     "metadata": {},
     "output_type": "execute_result"
    },
    {
     "data": {
      "text/plain": [
       "15"
      ]
     },
     "execution_count": 295,
     "metadata": {},
     "output_type": "execute_result"
    },
    {
     "data": {
      "text/plain": [
       "111"
      ]
     },
     "execution_count": 295,
     "metadata": {},
     "output_type": "execute_result"
    },
    {
     "data": {
      "text/plain": [
       "3"
      ]
     },
     "execution_count": 295,
     "metadata": {},
     "output_type": "execute_result"
    },
    {
     "data": {
      "text/plain": [
       "12"
      ]
     },
     "execution_count": 295,
     "metadata": {},
     "output_type": "execute_result"
    },
    {
     "data": {
      "text/plain": [
       "9"
      ]
     },
     "execution_count": 295,
     "metadata": {},
     "output_type": "execute_result"
    },
    {
     "data": {
      "text/plain": [
       "5"
      ]
     },
     "execution_count": 295,
     "metadata": {},
     "output_type": "execute_result"
    },
    {
     "data": {
      "text/plain": [
       "15"
      ]
     },
     "execution_count": 295,
     "metadata": {},
     "output_type": "execute_result"
    },
    {
     "data": {
      "text/plain": [
       "70"
      ]
     },
     "execution_count": 295,
     "metadata": {},
     "output_type": "execute_result"
    },
    {
     "data": {
      "text/plain": [
       "3"
      ]
     },
     "execution_count": 295,
     "metadata": {},
     "output_type": "execute_result"
    },
    {
     "data": {
      "text/plain": [
       "15"
      ]
     },
     "execution_count": 295,
     "metadata": {},
     "output_type": "execute_result"
    },
    {
     "data": {
      "text/plain": [
       "111"
      ]
     },
     "execution_count": 295,
     "metadata": {},
     "output_type": "execute_result"
    },
    {
     "data": {
      "text/plain": [
       "3"
      ]
     },
     "execution_count": 295,
     "metadata": {},
     "output_type": "execute_result"
    },
    {
     "data": {
      "text/plain": [
       "15"
      ]
     },
     "execution_count": 295,
     "metadata": {},
     "output_type": "execute_result"
    },
    {
     "data": {
      "text/plain": [
       "41"
      ]
     },
     "execution_count": 295,
     "metadata": {},
     "output_type": "execute_result"
    },
    {
     "data": {
      "text/plain": [
       "3"
      ]
     },
     "execution_count": 295,
     "metadata": {},
     "output_type": "execute_result"
    },
    {
     "data": {
      "text/plain": [
       "12"
      ]
     },
     "execution_count": 295,
     "metadata": {},
     "output_type": "execute_result"
    },
    {
     "data": {
      "text/plain": [
       "9"
      ]
     },
     "execution_count": 295,
     "metadata": {},
     "output_type": "execute_result"
    },
    {
     "data": {
      "text/plain": [
       "5"
      ]
     },
     "execution_count": 295,
     "metadata": {},
     "output_type": "execute_result"
    },
    {
     "data": {
      "text/plain": [
       "15"
      ]
     },
     "execution_count": 295,
     "metadata": {},
     "output_type": "execute_result"
    },
    {
     "data": {
      "text/plain": [
       "70"
      ]
     },
     "execution_count": 295,
     "metadata": {},
     "output_type": "execute_result"
    },
    {
     "data": {
      "text/plain": [
       "3"
      ]
     },
     "execution_count": 295,
     "metadata": {},
     "output_type": "execute_result"
    },
    {
     "data": {
      "text/plain": [
       "15"
      ]
     },
     "execution_count": 295,
     "metadata": {},
     "output_type": "execute_result"
    },
    {
     "data": {
      "text/plain": [
       "138"
      ]
     },
     "execution_count": 295,
     "metadata": {},
     "output_type": "execute_result"
    },
    {
     "data": {
      "text/plain": [
       "3"
      ]
     },
     "execution_count": 295,
     "metadata": {},
     "output_type": "execute_result"
    },
    {
     "data": {
      "text/plain": [
       "15"
      ]
     },
     "execution_count": 295,
     "metadata": {},
     "output_type": "execute_result"
    },
    {
     "data": {
      "text/plain": [
       "95"
      ]
     },
     "execution_count": 295,
     "metadata": {},
     "output_type": "execute_result"
    },
    {
     "data": {
      "text/plain": [
       "3"
      ]
     },
     "execution_count": 295,
     "metadata": {},
     "output_type": "execute_result"
    },
    {
     "data": {
      "text/plain": [
       "12"
      ]
     },
     "execution_count": 295,
     "metadata": {},
     "output_type": "execute_result"
    },
    {
     "data": {
      "text/plain": [
       "9"
      ]
     },
     "execution_count": 295,
     "metadata": {},
     "output_type": "execute_result"
    },
    {
     "data": {
      "text/plain": [
       "5"
      ]
     },
     "execution_count": 295,
     "metadata": {},
     "output_type": "execute_result"
    },
    {
     "data": {
      "text/plain": [
       "15"
      ]
     },
     "execution_count": 295,
     "metadata": {},
     "output_type": "execute_result"
    },
    {
     "data": {
      "text/plain": [
       "154"
      ]
     },
     "execution_count": 295,
     "metadata": {},
     "output_type": "execute_result"
    },
    {
     "data": {
      "text/plain": [
       "3"
      ]
     },
     "execution_count": 295,
     "metadata": {},
     "output_type": "execute_result"
    },
    {
     "data": {
      "text/plain": [
       "15"
      ]
     },
     "execution_count": 295,
     "metadata": {},
     "output_type": "execute_result"
    },
    {
     "data": {
      "text/plain": [
       "70"
      ]
     },
     "execution_count": 295,
     "metadata": {},
     "output_type": "execute_result"
    },
    {
     "data": {
      "text/plain": [
       "3"
      ]
     },
     "execution_count": 295,
     "metadata": {},
     "output_type": "execute_result"
    },
    {
     "data": {
      "text/plain": [
       "15"
      ]
     },
     "execution_count": 295,
     "metadata": {},
     "output_type": "execute_result"
    },
    {
     "data": {
      "text/plain": [
       "41"
      ]
     },
     "execution_count": 295,
     "metadata": {},
     "output_type": "execute_result"
    },
    {
     "data": {
      "text/plain": [
       "3"
      ]
     },
     "execution_count": 295,
     "metadata": {},
     "output_type": "execute_result"
    },
    {
     "data": {
      "text/plain": [
       "12"
      ]
     },
     "execution_count": 295,
     "metadata": {},
     "output_type": "execute_result"
    },
    {
     "data": {
      "text/plain": [
       "9"
      ]
     },
     "execution_count": 295,
     "metadata": {},
     "output_type": "execute_result"
    },
    {
     "data": {
      "text/plain": [
       "5"
      ]
     },
     "execution_count": 295,
     "metadata": {},
     "output_type": "execute_result"
    },
    {
     "data": {
      "text/plain": [
       "15"
      ]
     },
     "execution_count": 295,
     "metadata": {},
     "output_type": "execute_result"
    },
    {
     "data": {
      "text/plain": [
       "294"
      ]
     },
     "execution_count": 295,
     "metadata": {},
     "output_type": "execute_result"
    },
    {
     "data": {
      "text/plain": [
       "3"
      ]
     },
     "execution_count": 295,
     "metadata": {},
     "output_type": "execute_result"
    },
    {
     "data": {
      "text/plain": [
       "15"
      ]
     },
     "execution_count": 295,
     "metadata": {},
     "output_type": "execute_result"
    },
    {
     "data": {
      "text/plain": [
       "139"
      ]
     },
     "execution_count": 295,
     "metadata": {},
     "output_type": "execute_result"
    },
    {
     "data": {
      "text/plain": [
       "3"
      ]
     },
     "execution_count": 295,
     "metadata": {},
     "output_type": "execute_result"
    },
    {
     "data": {
      "text/plain": [
       "15"
      ]
     },
     "execution_count": 295,
     "metadata": {},
     "output_type": "execute_result"
    },
    {
     "data": {
      "text/plain": [
       "111"
      ]
     },
     "execution_count": 295,
     "metadata": {},
     "output_type": "execute_result"
    },
    {
     "data": {
      "text/plain": [
       "3"
      ]
     },
     "execution_count": 295,
     "metadata": {},
     "output_type": "execute_result"
    },
    {
     "data": {
      "text/plain": [
       "12"
      ]
     },
     "execution_count": 295,
     "metadata": {},
     "output_type": "execute_result"
    },
    {
     "data": {
      "text/plain": [
       "9"
      ]
     },
     "execution_count": 295,
     "metadata": {},
     "output_type": "execute_result"
    },
    {
     "data": {
      "text/plain": [
       "5"
      ]
     },
     "execution_count": 295,
     "metadata": {},
     "output_type": "execute_result"
    },
    {
     "data": {
      "text/plain": [
       "15"
      ]
     },
     "execution_count": 295,
     "metadata": {},
     "output_type": "execute_result"
    },
    {
     "data": {
      "text/plain": [
       "246"
      ]
     },
     "execution_count": 295,
     "metadata": {},
     "output_type": "execute_result"
    },
    {
     "data": {
      "text/plain": [
       "3"
      ]
     },
     "execution_count": 295,
     "metadata": {},
     "output_type": "execute_result"
    },
    {
     "data": {
      "text/plain": [
       "15"
      ]
     },
     "execution_count": 295,
     "metadata": {},
     "output_type": "execute_result"
    },
    {
     "data": {
      "text/plain": [
       "69"
      ]
     },
     "execution_count": 295,
     "metadata": {},
     "output_type": "execute_result"
    },
    {
     "data": {
      "text/plain": [
       "3"
      ]
     },
     "execution_count": 295,
     "metadata": {},
     "output_type": "execute_result"
    },
    {
     "data": {
      "text/plain": [
       "15"
      ]
     },
     "execution_count": 295,
     "metadata": {},
     "output_type": "execute_result"
    },
    {
     "data": {
      "text/plain": [
       "41"
      ]
     },
     "execution_count": 295,
     "metadata": {},
     "output_type": "execute_result"
    },
    {
     "data": {
      "text/plain": [
       "3"
      ]
     },
     "execution_count": 295,
     "metadata": {},
     "output_type": "execute_result"
    },
    {
     "data": {
      "text/plain": [
       "12"
      ]
     },
     "execution_count": 295,
     "metadata": {},
     "output_type": "execute_result"
    },
    {
     "data": {
      "text/plain": [
       "12"
      ]
     },
     "execution_count": 295,
     "metadata": {},
     "output_type": "execute_result"
    },
    {
     "data": {
      "text/plain": [
       "5"
      ]
     },
     "execution_count": 295,
     "metadata": {},
     "output_type": "execute_result"
    },
    {
     "data": {
      "text/plain": [
       "15"
      ]
     },
     "execution_count": 295,
     "metadata": {},
     "output_type": "execute_result"
    },
    {
     "data": {
      "text/plain": [
       "70"
      ]
     },
     "execution_count": 295,
     "metadata": {},
     "output_type": "execute_result"
    },
    {
     "data": {
      "text/plain": [
       "3"
      ]
     },
     "execution_count": 295,
     "metadata": {},
     "output_type": "execute_result"
    },
    {
     "data": {
      "text/plain": [
       "15"
      ]
     },
     "execution_count": 295,
     "metadata": {},
     "output_type": "execute_result"
    },
    {
     "data": {
      "text/plain": [
       "84"
      ]
     },
     "execution_count": 295,
     "metadata": {},
     "output_type": "execute_result"
    },
    {
     "data": {
      "text/plain": [
       "3"
      ]
     },
     "execution_count": 295,
     "metadata": {},
     "output_type": "execute_result"
    },
    {
     "data": {
      "text/plain": [
       "15"
      ]
     },
     "execution_count": 295,
     "metadata": {},
     "output_type": "execute_result"
    },
    {
     "data": {
      "text/plain": [
       "70"
      ]
     },
     "execution_count": 295,
     "metadata": {},
     "output_type": "execute_result"
    },
    {
     "data": {
      "text/plain": [
       "3"
      ]
     },
     "execution_count": 295,
     "metadata": {},
     "output_type": "execute_result"
    },
    {
     "data": {
      "text/plain": [
       "15"
      ]
     },
     "execution_count": 295,
     "metadata": {},
     "output_type": "execute_result"
    },
    {
     "data": {
      "text/plain": [
       "41"
      ]
     },
     "execution_count": 295,
     "metadata": {},
     "output_type": "execute_result"
    },
    {
     "data": {
      "text/plain": [
       "3"
      ]
     },
     "execution_count": 295,
     "metadata": {},
     "output_type": "execute_result"
    },
    {
     "data": {
      "text/plain": [
       "12"
      ]
     },
     "execution_count": 295,
     "metadata": {},
     "output_type": "execute_result"
    },
    {
     "data": {
      "text/plain": [
       "12"
      ]
     },
     "execution_count": 295,
     "metadata": {},
     "output_type": "execute_result"
    },
    {
     "data": {
      "text/plain": [
       "5"
      ]
     },
     "execution_count": 295,
     "metadata": {},
     "output_type": "execute_result"
    },
    {
     "data": {
      "text/plain": [
       "15"
      ]
     },
     "execution_count": 295,
     "metadata": {},
     "output_type": "execute_result"
    },
    {
     "data": {
      "text/plain": [
       "70"
      ]
     },
     "execution_count": 295,
     "metadata": {},
     "output_type": "execute_result"
    },
    {
     "data": {
      "text/plain": [
       "3"
      ]
     },
     "execution_count": 295,
     "metadata": {},
     "output_type": "execute_result"
    },
    {
     "data": {
      "text/plain": [
       "15"
      ]
     },
     "execution_count": 295,
     "metadata": {},
     "output_type": "execute_result"
    },
    {
     "data": {
      "text/plain": [
       "224"
      ]
     },
     "execution_count": 295,
     "metadata": {},
     "output_type": "execute_result"
    },
    {
     "data": {
      "text/plain": [
       "3"
      ]
     },
     "execution_count": 295,
     "metadata": {},
     "output_type": "execute_result"
    },
    {
     "data": {
      "text/plain": [
       "15"
      ]
     },
     "execution_count": 295,
     "metadata": {},
     "output_type": "execute_result"
    },
    {
     "data": {
      "text/plain": [
       "139"
      ]
     },
     "execution_count": 295,
     "metadata": {},
     "output_type": "execute_result"
    },
    {
     "data": {
      "text/plain": [
       "3"
      ]
     },
     "execution_count": 295,
     "metadata": {},
     "output_type": "execute_result"
    },
    {
     "data": {
      "text/plain": [
       "15"
      ]
     },
     "execution_count": 295,
     "metadata": {},
     "output_type": "execute_result"
    },
    {
     "data": {
      "text/plain": [
       "111"
      ]
     },
     "execution_count": 295,
     "metadata": {},
     "output_type": "execute_result"
    },
    {
     "data": {
      "text/plain": [
       "3"
      ]
     },
     "execution_count": 295,
     "metadata": {},
     "output_type": "execute_result"
    },
    {
     "data": {
      "text/plain": [
       "12"
      ]
     },
     "execution_count": 295,
     "metadata": {},
     "output_type": "execute_result"
    },
    {
     "data": {
      "text/plain": [
       "12"
      ]
     },
     "execution_count": 295,
     "metadata": {},
     "output_type": "execute_result"
    },
    {
     "data": {
      "text/plain": [
       "5"
      ]
     },
     "execution_count": 295,
     "metadata": {},
     "output_type": "execute_result"
    },
    {
     "data": {
      "text/plain": [
       "15"
      ]
     },
     "execution_count": 295,
     "metadata": {},
     "output_type": "execute_result"
    },
    {
     "data": {
      "text/plain": [
       "70"
      ]
     },
     "execution_count": 295,
     "metadata": {},
     "output_type": "execute_result"
    },
    {
     "data": {
      "text/plain": [
       "3"
      ]
     },
     "execution_count": 295,
     "metadata": {},
     "output_type": "execute_result"
    },
    {
     "data": {
      "text/plain": [
       "15"
      ]
     },
     "execution_count": 295,
     "metadata": {},
     "output_type": "execute_result"
    },
    {
     "data": {
      "text/plain": [
       "111"
      ]
     },
     "execution_count": 295,
     "metadata": {},
     "output_type": "execute_result"
    },
    {
     "data": {
      "text/plain": [
       "3"
      ]
     },
     "execution_count": 295,
     "metadata": {},
     "output_type": "execute_result"
    },
    {
     "data": {
      "text/plain": [
       "15"
      ]
     },
     "execution_count": 295,
     "metadata": {},
     "output_type": "execute_result"
    },
    {
     "data": {
      "text/plain": [
       "69"
      ]
     },
     "execution_count": 295,
     "metadata": {},
     "output_type": "execute_result"
    },
    {
     "data": {
      "text/plain": [
       "3"
      ]
     },
     "execution_count": 295,
     "metadata": {},
     "output_type": "execute_result"
    },
    {
     "data": {
      "text/plain": [
       "15"
      ]
     },
     "execution_count": 295,
     "metadata": {},
     "output_type": "execute_result"
    },
    {
     "data": {
      "text/plain": [
       "41"
      ]
     },
     "execution_count": 295,
     "metadata": {},
     "output_type": "execute_result"
    },
    {
     "data": {
      "text/plain": [
       "3"
      ]
     },
     "execution_count": 295,
     "metadata": {},
     "output_type": "execute_result"
    },
    {
     "data": {
      "text/plain": [
       "12"
      ]
     },
     "execution_count": 295,
     "metadata": {},
     "output_type": "execute_result"
    },
    {
     "data": {
      "text/plain": [
       "12"
      ]
     },
     "execution_count": 295,
     "metadata": {},
     "output_type": "execute_result"
    },
    {
     "data": {
      "text/plain": [
       "5"
      ]
     },
     "execution_count": 295,
     "metadata": {},
     "output_type": "execute_result"
    },
    {
     "data": {
      "text/plain": [
       "15"
      ]
     },
     "execution_count": 295,
     "metadata": {},
     "output_type": "execute_result"
    },
    {
     "data": {
      "text/plain": [
       "154"
      ]
     },
     "execution_count": 295,
     "metadata": {},
     "output_type": "execute_result"
    },
    {
     "data": {
      "text/plain": [
       "3"
      ]
     },
     "execution_count": 295,
     "metadata": {},
     "output_type": "execute_result"
    },
    {
     "data": {
      "text/plain": [
       "15"
      ]
     },
     "execution_count": 295,
     "metadata": {},
     "output_type": "execute_result"
    },
    {
     "data": {
      "text/plain": [
       "70"
      ]
     },
     "execution_count": 295,
     "metadata": {},
     "output_type": "execute_result"
    },
    {
     "data": {
      "text/plain": [
       "3"
      ]
     },
     "execution_count": 295,
     "metadata": {},
     "output_type": "execute_result"
    },
    {
     "data": {
      "text/plain": [
       "15"
      ]
     },
     "execution_count": 295,
     "metadata": {},
     "output_type": "execute_result"
    },
    {
     "data": {
      "text/plain": [
       "69"
      ]
     },
     "execution_count": 295,
     "metadata": {},
     "output_type": "execute_result"
    },
    {
     "data": {
      "text/plain": [
       "3"
      ]
     },
     "execution_count": 295,
     "metadata": {},
     "output_type": "execute_result"
    },
    {
     "data": {
      "text/plain": [
       "15"
      ]
     },
     "execution_count": 295,
     "metadata": {},
     "output_type": "execute_result"
    },
    {
     "data": {
      "text/plain": [
       "41"
      ]
     },
     "execution_count": 295,
     "metadata": {},
     "output_type": "execute_result"
    },
    {
     "data": {
      "text/plain": [
       "3"
      ]
     },
     "execution_count": 295,
     "metadata": {},
     "output_type": "execute_result"
    }
   ],
   "source": [
    "from sympy.printing import latex\n",
    "filename = 'gene_expression_results_with_input.txt'\n",
    "f1 = open(filename, 'w')\n",
    "f1.write('Model reduction results.\\n')\n",
    "for key,value in sys_reduce.results_dict.items():\n",
    "#     f1.write('A possible reduced model: \\n \\n')\n",
    "    f1.write('\\n$x_{hat} = ')\n",
    "    f1.write(str(key.x))\n",
    "    f1.write('$\\n\\n\\n\\n')\n",
    "    for k in range(len(key.f)):\n",
    "        f1.write('\\n$f_{hat}('+ str(k+1) + ') = ')\n",
    "        f1.write(latex(key.f[k]))\n",
    "        f1.write('$\\n\\n')\n",
    "#     f1.write('\\n\\n\\n')\n",
    "#     f1.write('\\nError metric:')\n",
    "#     f1.write(str(value[0]))\n",
    "#     f1.write('\\n\\n\\n')\n",
    "#     f1.write('\\nRobustness metric:')\n",
    "#     f1.write(str(value[1]))\n",
    "#     f1.write('\\n\\n\\n')\n",
    "#     f1.write('Other properties') \n",
    "#     f1.write('\\n\\n\\n')\n",
    "#     f1.write('\\n C = ')\n",
    "#     f1.write(str(key.C))\n",
    "#     f1.write('\\n$ g = ')\n",
    "#     f1.write(str(key.g))\n",
    "#     f1.write('$\\n h = ')\n",
    "#     f1.write(str(key.h))\n",
    "#     f1.write('\\n$h = ')\n",
    "#     f1.write(str(key.h))\n",
    "#     f1.write('$\\n Solutions : \\n')\n",
    "#     f1.write(str(key.x_sol))\n",
    "#     f1.write('\\n\\n\\n\\n')\n",
    "#     f1.write('\\n Sensitivity Solutions : \\n')\n",
    "#     f1.write(str(key.S))\n",
    "#     f1.write('\\n\\n\\n\\n')\n",
    "f1.close()"
   ]
  },
  {
   "cell_type": "markdown",
   "metadata": {},
   "source": [
    "### Error metric"
   ]
  },
  {
   "cell_type": "code",
   "execution_count": 291,
   "metadata": {},
   "outputs": [
    {
     "data": {
      "image/png": "[encoded data removed]",
      "text/plain": [
       "<Figure size 432x288 with 1 Axes>"
      ]
     },
     "metadata": {
      "needs_background": "light"
     },
     "output_type": "display_data"
    }
   ],
   "source": [
    "fig, ax = plt.subplots() \n",
    "count = 0\n",
    "_ = plt.plot(timepoints_ode, np.transpose(np.array(sys_reduce.C)@sol), 'k--', label = 'Full CRN model', linewidth = 5)\n",
    "for key,value in results.items():\n",
    "    error = value[0]\n",
    "    if error > 1e-2:\n",
    "        sys_i = key\n",
    "        if len(sys_i.x) > 3:\n",
    "            continue\n",
    "#         _ = plt.subplots(count%3, count%3)\n",
    "        sys_i_ode = get_ODE(sys_i, timepoints_ode)\n",
    "        sol_i = sys_i_ode.solve_system().T\n",
    "        _ = plt.plot(timepoints_ode, np.transpose(sys_i.C@sol_i), label = str(sys_i.x)+', $\\|e\\|_2$ = '+str(\"%.2f\" %error), linewidth = 2)\n",
    "        _ = plt.xlabel('Time', FontSize = 18)\n",
    "        _ = plt.ylabel('[X]', FontSize = 18)\n",
    "        _ = ax.tick_params(axis='both', which='major', labelsize=14)\n",
    "        _ = plt.legend(prop={'size': 8})\n",
    "        count += 1\n",
    "\n",
    "# _ = plt.axvline(x=timepoints_ode[6], color = 'k',linestyle = ':',linewidth = 1.5)\n",
    "# _ = plt.axvline(x=timepoints_ode[15], color = 'k',linestyle = ':',linewidth = 1.5)\n",
    "# _ = plt.axvline(x=timepoints_ode[30], color = 'k',linestyle = ':',linewidth = 1.5)\n",
    "_ = plt.savefig('error_metric_gene_expression.svg')\n",
    "plt.show()\n"
   ]
  },
  {
   "cell_type": "markdown",
   "metadata": {},
   "source": [
    "### Robustness metric \n"
   ]
  },
  {
   "cell_type": "code",
   "execution_count": 205,
   "metadata": {},
   "outputs": [
    {
     "data": {
      "image/png": "[encoded data removed]",
      "text/plain": [
       "<Figure size 560x480 with 2 Axes>"
      ]
     },
     "metadata": {},
     "output_type": "display_data"
    }
   ],
   "source": [
    "# fig, ax = plt.subplots() \n",
    "fig = plt.figure(num=None, figsize=(7, 6), dpi=80, facecolor='w', edgecolor='k')\n",
    "# count = 0\n",
    "import seaborn as sn\n",
    "# params_names = ['$'+str(i)+'$' for i in params]\n",
    "params_names = ['$k_{bp}$', '$k_{up}$', '$k_{tx}$', '$k_{br}$', '$k_{ur}$', '$k_{tl}$', '$k_{be}$', '$k_{ue}$',\n",
    "          '$d_i$', '$d$', '$E_{tot}$', '$P_{tot}$', '$R_{tot}$']\n",
    "rob_2d_all = []\n",
    "rob_2d = []\n",
    "sys_reduced_x = []\n",
    "# plt.plot(timepoints_ode, np.transpose(np.array(sys_reduce.C)@sol), 'k--', label = 'Full CRN model', linewidth = 5)\n",
    "# params_names[0] = '$k_b$'\n",
    "for key,value in results.items():\n",
    "    sys_i = key\n",
    "    Se = value[1]\n",
    "    Se = np.delete(Se, -1)\n",
    "    if len(sys_i.x) > 3:\n",
    "        continue\n",
    "    sys_reduced_x.append(str(sys_i.x))\n",
    "    rob_2d.append(Se)\n",
    "\n",
    "sn_ax = sn.heatmap(np.array(rob_2d), cbar_kws={'label': 'Robustness metric ($\\|S_e\\|$)', 'orientation':'horizontal','fraction':0.2})\n",
    "# cbar_axes = sn_ax.figure.axes[-1]\n",
    "sn_ax.figure.axes[-1].xaxis.label.set_size(18)\n",
    "ax = fig.axes\n",
    "_ = plt.xlabel('Parameters', FontSize = 18)\n",
    "_ = plt.ylabel('Reduced models', FontSize = 18)\n",
    "_ = ax[0].tick_params(axis='x', which='major', labelsize=14)\n",
    "_ = ax[0].set_xticklabels(params_names)\n",
    "_ = ax[0].set_yticklabels(sys_reduced_x, rotation = 0)\n",
    "# h.set_rotation(0)\n",
    "_ = plt.savefig('robustness_metric_gene_expression_final.svg')\n",
    "plt.show()"
   ]
  },
  {
   "cell_type": "markdown",
   "metadata": {},
   "source": [
    "### Gamma (Input-Output mapping) => linearize the dynamics"
   ]
  },
  {
   "cell_type": "code",
   "execution_count": 294,
   "metadata": {},
   "outputs": [
    {
     "data": {
      "image/png": "[encoded data removed]",
      "text/plain": [
       "<Figure size 432x288 with 1 Axes>"
      ]
     },
     "metadata": {
      "needs_background": "light"
     },
     "output_type": "display_data"
    }
   ],
   "source": [
    "t_lin = [timepoints_ode[6], timepoints_ode[15], timepoints_ode[30]]\n",
    "fig = plt.figure()\n",
    "from auto_reduce.utils import get_SSM\n",
    "from scipy import signal\n",
    "from scipy.linalg import solve_lyapunov\n",
    "G_2norms = {}\n",
    "list_of_systems = [i for i in results.keys()]\n",
    "list_of_systems.append(sys_reduce)\n",
    "for sys_i in list_of_systems:\n",
    "    if len(sys_i.x) > 3 and sys_i is not sys_reduce:\n",
    "        continue\n",
    "    sys_i_ode = get_ODE(sys_i, timepoints_ode)\n",
    "    sol_i = sys_i_ode.solve_system().T\n",
    "    for t in t_lin:\n",
    "        x_pt = sol_i[:,list(timepoints_ode).index(t)]\n",
    "        A_i = compute_J(sys_i, x_pt, mode = 'accurate')\n",
    "        sys_i_ssm = get_SSM(sys_i, timepoints_ode)\n",
    "        B_i = sys_i_ssm.compute_Zj(x_pt, 13)\n",
    "        B_i = np.reshape(B_i, (len(sys_i.x),1))\n",
    "        n_size = np.shape(J_i)[1]\n",
    "        C_i = sys_i.C\n",
    "        G_i = signal.StateSpace(A_i, B_i, C_i, 0)\n",
    "        G_i_tf = signal.TransferFunction(G_i)\n",
    "        L = solve_lyapunov(A_i, -B_i@B_i.T)\n",
    "        val_2norm = np.sqrt(C_i@L@C_i.T)\n",
    "        G_2norms[str(sys_i.x) + ' at time ' + str(t)] = val_2norm\n",
    "    if sys_i == sys_reduce:\n",
    "        _ = plt.plot(timepoints_ode, np.transpose(sys_i.C@sol_i), 'k--', label = str('Full CRN model') +', $\\gamma(H)$ = '+str(\"%.2f\" %val_2norm), linewidth = 5)\n",
    "    else:\n",
    "        _ = plt.plot(timepoints_ode, np.transpose(sys_i.C@sol_i), label = str(sys_i.x)+', $\\gamma(H)$ = '+str(\"%.2f\" %val_2norm), linewidth = 2)\n",
    "    _ = plt.xlabel('Time', FontSize = 18)\n",
    "    _ = plt.ylabel('[X]', FontSize = 18)\n",
    "\n",
    "ax = fig.axes[0]\n",
    "_ = ax.tick_params(axis='both', which='major', labelsize=14)\n",
    "_ = plt.legend(prop={'size': 8})\n",
    "_ = plt.axvline(x=timepoints_ode[6], color = 'k',linestyle = ':',linewidth = 1.5)\n",
    "_ = plt.axvline(x=timepoints_ode[15], color = 'k',linestyle = ':',linewidth = 1.5)\n",
    "_ = plt.axvline(x=timepoints_ode[30], color = 'k',linestyle = ':',linewidth = 1.5)\n",
    "_ = plt.savefig('gene_expression_gamma.svg')\n",
    "plt.show()\n"
   ]
  },
  {
   "cell_type": "code",
   "execution_count": 275,
   "metadata": {},
   "outputs": [
    {
     "data": {
      "text/plain": [
       "{'[X] at time 0.30303030303030304': array([[606.92754038]]),\n",
       " '[X] at time 0.7575757575757576': array([[606.92754038]]),\n",
       " '[X] at time 1.5151515151515151': array([[606.92754038]]),\n",
       " '[P, X] at time 0.30303030303030304': array([[579.75488741]]),\n",
       " '[P, X] at time 0.7575757575757576': array([[579.75488741]]),\n",
       " '[P, X] at time 1.5151515151515151': array([[579.75488742]]),\n",
       " '[T, X] at time 0.30303030303030304': array([[606.89326811]]),\n",
       " '[T, X] at time 0.7575757575757576': array([[606.89326809]]),\n",
       " '[T, X] at time 1.5151515151515151': array([[606.89326811]]),\n",
       " '[R, X] at time 0.30303030303030304': array([[247.7771308]]),\n",
       " '[R, X] at time 0.7575757575757576': array([[247.7771308]]),\n",
       " '[R, X] at time 1.5151515151515151': array([[247.7771308]]),\n",
       " '[E, X] at time 0.30303030303030304': array([[606.92754038]]),\n",
       " '[E, X] at time 0.7575757575757576': array([[606.92754038]]),\n",
       " '[E, X] at time 1.5151515151515151': array([[606.92754038]]),\n",
       " '[P, T, X] at time 0.30303030303030304': array([[579.75484897]]),\n",
       " '[P, T, X] at time 0.7575757575757576': array([[579.75484896]]),\n",
       " '[P, T, X] at time 1.5151515151515151': array([[579.75484897]]),\n",
       " '[P, R, X] at time 0.30303030303030304': array([[247.58664295]]),\n",
       " '[P, R, X] at time 0.7575757575757576': array([[247.58664294]]),\n",
       " '[P, R, X] at time 1.5151515151515151': array([[247.58664294]]),\n",
       " '[P, E, X] at time 0.30303030303030304': array([[579.75488741]]),\n",
       " '[P, E, X] at time 0.7575757575757576': array([[579.75488742]]),\n",
       " '[P, E, X] at time 1.5151515151515151': array([[579.75488741]]),\n",
       " '[T, R, X] at time 0.30303030303030304': array([[247.77686801]]),\n",
       " '[T, R, X] at time 0.7575757575757576': array([[247.77686769]]),\n",
       " '[T, R, X] at time 1.5151515151515151': array([[247.77686751]]),\n",
       " '[T, E, X] at time 0.30303030303030304': array([[606.89326809]]),\n",
       " '[T, E, X] at time 0.7575757575757576': array([[606.8932681]]),\n",
       " '[T, E, X] at time 1.5151515151515151': array([[606.8932681]]),\n",
       " '[R, E, X] at time 0.30303030303030304': array([[247.77713081]]),\n",
       " '[R, E, X] at time 0.7575757575757576': array([[247.7771308]]),\n",
       " '[R, E, X] at time 1.5151515151515151': array([[247.7771308]]),\n",
       " '[P, T, R, E, X] at time 0.30303030303030304': array([[247.58638092]]),\n",
       " '[P, T, R, E, X] at time 0.7575757575757576': array([[247.58638058]]),\n",
       " '[P, T, R, E, X] at time 1.5151515151515151': array([[247.5863804]])}"
      ]
     },
     "execution_count": 275,
     "metadata": {},
     "output_type": "execute_result"
    }
   ],
   "source": [
    "from scipy.linalg import eigvals, norm\n",
    "# eigvals(J_i)\n",
    "# len(params)\n",
    "# A_i\n",
    "G_2norms\n",
    "# C_i\n"
   ]
  },
  {
   "cell_type": "code",
   "execution_count": 271,
   "metadata": {},
   "outputs": [
    {
     "data": {
      "text/plain": [
       "[P, T, R, E, X]"
      ]
     },
     "execution_count": 271,
     "metadata": {},
     "output_type": "execute_result"
    }
   ],
   "source": [
    "sys_reduce.x"
   ]
  },
  {
   "cell_type": "code",
   "execution_count": 248,
   "metadata": {},
   "outputs": [
    {
     "data": {
      "text/plain": [
       "12.325325713920698"
      ]
     },
     "execution_count": 248,
     "metadata": {},
     "output_type": "execute_result"
    },
    {
     "data": {
      "text/plain": [
       "[<matplotlib.lines.Line2D at 0x26b41add188>]"
      ]
     },
     "execution_count": 248,
     "metadata": {},
     "output_type": "execute_result"
    },
    {
     "data": {
      "text/plain": [
       "[<matplotlib.lines.Line2D at 0x26b3fc2e808>]"
      ]
     },
     "execution_count": 248,
     "metadata": {},
     "output_type": "execute_result"
    },
    {
     "data": {
      "text/plain": [
       "Text(0.5, 0, 'Time')"
      ]
     },
     "execution_count": 248,
     "metadata": {},
     "output_type": "execute_result"
    },
    {
     "data": {
      "text/plain": [
       "Text(0, 0.5, '[X]')"
      ]
     },
     "execution_count": 248,
     "metadata": {},
     "output_type": "execute_result"
    },
    {
     "data": {
      "image/png": "[encoded data removed]",
      "text/plain": [
       "<Figure size 432x288 with 1 Axes>"
      ]
     },
     "metadata": {
      "needs_background": "light"
     },
     "output_type": "display_data"
    },
    {
     "data": {
      "text/plain": [
       "[P, T, E, X]"
      ]
     },
     "execution_count": 248,
     "metadata": {},
     "output_type": "execute_result"
    }
   ],
   "source": [
    "sys_reduce.get_error_metric(list(results.keys())[-3])\n",
    "sys_i = list(results.keys())[-3]\n",
    "sys_i_ode = get_ODE(sys_i, timepoints_ode)\n",
    "sol_i = sys_i_ode.solve_system().T\n",
    "sys_ode = get_ODE(sys_reduce, timepoints_ode)\n",
    "sol = sys_ode.solve_system().T\n",
    "plt.plot(timepoints_ode, np.transpose(np.array(sys_reduce.C)@sol))\n",
    "plt.plot(timepoints_ode, np.transpose(np.array(sys_i.C)@sol_i))\n",
    "plt.xlabel('Time')\n",
    "plt.ylabel('[X]')\n",
    "plt.show()\n",
    "sys_i.x"
   ]
  },
  {
   "cell_type": "code",
   "execution_count": 12,
   "metadata": {},
   "outputs": [],
   "source": [
    "# params = [k_bp, k_up, k_tx, k_br, k_ur, k_tl, k_be, k_ue, d_i, d, E_tot, P_tot, R_tot]\n",
    "\n",
    "params_values_new = params_values = params_values = [100, 10, 4, 10, 0.25, 2, 10, 0.5, 1, 10, 10000, 10000, 10000, 0.01]\n",
    "sys.params_values = params_values_new\n",
    "sys_gtx.params_values = params_values_new\n",
    "sys_gc1tx.params_values = params_values_new\n",
    "sys_gc2tx.params_values = params_values_new\n",
    "sys_gc3tx.params_values = params_values_new\n",
    "timepoints_ode = np.linspace(0, 5, 100)\n",
    "\n",
    "sys_ode = get_ODE(sys_reduce, timepoints_ode)\n",
    "sol = sys_ode.solve_system().T\n",
    "\n",
    "\n",
    "sys_gtx_ode = get_ODE(sys_gtx, timepoints_ode)\n",
    "x_gtx = sys_gtx_ode.solve_system().T\n",
    "\n",
    "\n",
    "sys_gc1tx_ode = get_ODE(sys_gc1tx, timepoints_ode)\n",
    "x_gc1tx = sys_gc1tx_ode.solve_system().T\n",
    "\n",
    "\n",
    "sys_gc2tx_ode = get_ODE(sys_gc2tx, timepoints_ode)\n",
    "x_gc2tx = sys_gc2tx_ode.solve_system().T\n",
    "\n",
    "\n",
    "sys_gc3tx_ode = get_ODE(sys_gc3tx, timepoints_ode)\n",
    "x_gc3tx = sys_gc3tx_ode.solve_system().T\n"
   ]
  },
  {
   "cell_type": "code",
   "execution_count": 49,
   "metadata": {},
   "outputs": [
    {
     "data": {
      "text/plain": [
       "[<matplotlib.lines.Line2D at 0x26b3cc9b4c8>]"
      ]
     },
     "execution_count": 49,
     "metadata": {},
     "output_type": "execute_result"
    },
    {
     "data": {
      "text/plain": [
       "[<matplotlib.lines.Line2D at 0x26b3b505688>]"
      ]
     },
     "execution_count": 49,
     "metadata": {},
     "output_type": "execute_result"
    },
    {
     "data": {
      "text/plain": [
       "Text(0.5, 0, 'Time')"
      ]
     },
     "execution_count": 49,
     "metadata": {},
     "output_type": "execute_result"
    },
    {
     "data": {
      "text/plain": [
       "Text(0, 0.5, '[X]')"
      ]
     },
     "execution_count": 49,
     "metadata": {},
     "output_type": "execute_result"
    },
    {
     "data": {
      "text/plain": [
       "<matplotlib.legend.Legend at 0x26b3b35be08>"
      ]
     },
     "execution_count": 49,
     "metadata": {},
     "output_type": "execute_result"
    },
    {
     "data": {
      "image/png": "[encoded data removed]",
      "text/plain": [
       "<Figure size 432x288 with 1 Axes>"
      ]
     },
     "metadata": {
      "needs_background": "light"
     },
     "output_type": "display_data"
    }
   ],
   "source": [
    "import matplotlib.pyplot as plt\n",
    "fig, ax = plt.subplots()\n",
    "xs1 = list(results.keys())[3].x_sol\n",
    "sys1 = list(results.keys())[3]\n",
    "xs2 = list(results.keys())[6].x_sol\n",
    "sys2 = list(results.keys())[6]\n",
    "xs3 = list(results.keys())[8].x_sol\n",
    "sys3 = list(results.keys())[8]\n",
    "xs4 = list(results.keys())[10].x_sol\n",
    "sys4 = list(results.keys())[10]\n",
    "xs5 = list(results.keys())[11].x_sol\n",
    "sys5 = list(results.keys())[11]\n",
    "xs6 = list(results.keys())[13].x_sol\n",
    "sys6 = list(results.keys())[13]\n",
    "xs7 = list(results.keys())[14].x_sol\n",
    "sys7 = list(results.keys())[14]\n",
    "plt.plot(timepoints_ode, np.transpose(np.array(sys_reduce.C)@sol), 'k--', label = 'Full CRN model', linewidth = 5)\n",
    "plt.plot(timepoints_ode, np.transpose(np.array(sys3.C)@xs3), label = str(sys1.x), linewidth = 2)\n",
    "# plt.plot(timepoints_ode, np.transpose(np.array(sys_gc1tx.C)@x_gc1tx), label = str(sys_gc1tx.x), linewidth = 2)\n",
    "# plt.plot(timepoints_ode, np.transpose(np.array(sys_gc2tx.C)@x_gc2tx), label = str(sys_gc2tx.x), linewidth = 2)\n",
    "# plt.plot(timepoints_ode, np.transpose(np.array(sys_gc3tx.C)@x_gc3tx), label = str(sys_gc3tx.x), linewidth = 2)\n",
    "plt.xlabel('Time', FontSize = 18)\n",
    "plt.ylabel('[X]', FontSize = 18)\n",
    "ax.tick_params(axis='both', which='major', labelsize=14)\n",
    "plt.legend()\n",
    "plt.savefig('gene_expression_timecourse.svg')\n",
    "plt.show()"
   ]
  },
  {
   "cell_type": "code",
   "execution_count": 28,
   "metadata": {},
   "outputs": [
    {
     "data": {
      "text/latex": [
       "$\\displaystyle - X d + k_{tl} \\left(- R + R_{tot}\\right)$"
      ],
      "text/plain": [
       "-X*d + k_tl*(-R + R_tot)"
      ]
     },
     "execution_count": 28,
     "metadata": {},
     "output_type": "execute_result"
    }
   ],
   "source": [
    "sys_gc2tx.f[2]"
   ]
  },
  {
   "cell_type": "code",
   "execution_count": 30,
   "metadata": {},
   "outputs": [],
   "source": [
    "def evaluate(system, f, x, P, u = None):\n",
    "    \"\"\"\n",
    "    Evaluate the given symbolic function (f) that is part of the System\n",
    "    at the values given by x for self.x and P for self.params\n",
    "    \"\"\"\n",
    "    fs = []\n",
    "    for i in range(len(f)):\n",
    "        fi = f[i]\n",
    "        fi = fi.subs(list(zip(system.x, x)))\n",
    "        if system.u is not None:\n",
    "            fi = fi.subs(list(zip(system.u, u)))\n",
    "        fi = fi.subs(list(zip(system.params, P)))\n",
    "        fs.append(fi)\n",
    "    return fs\n",
    "\n",
    "def compute_J(system, x, **kwargs):\n",
    "    '''\n",
    "    Compute the Jacobian J = df/dx at a timepoint k.\n",
    "    Returns a matrix of size n x n.\n",
    "    Use mode = 'accurate' for this object attribute to use accurate computations using numdifftools.\n",
    "    '''\n",
    "    \n",
    "    # initialize J\n",
    "    J = np.zeros( (system.n, system.n) )   \n",
    "    P = system.params_values \n",
    "    u = system.u\n",
    "    # store x\n",
    "    X = x \n",
    "    if 'fun' in kwargs:\n",
    "        fun = kwargs.get('fun')\n",
    "    else:\n",
    "        fun = system.f\n",
    "    for i in range(system.n):\n",
    "        for j in range(system.n):\n",
    "            F = np.zeros( (4,1) )\n",
    "            h = X[j]*0.01\n",
    "            # Gets O(4) central difference on dfi/dxj\n",
    "            if h != 0:\n",
    "                x = X\n",
    "                x[j] = X[j] + 2*h\n",
    "                f = evaluate(system, fun, x, P, u)\n",
    "                F[0] = f[i]\n",
    "                x[j] = X[j] + h\n",
    "                f = evaluate(system, fun, x, P, u)\n",
    "                F[1] = f[i]\n",
    "                x[j] = X[j] - h\n",
    "                f = evaluate(system, fun, x, P, u)\n",
    "                F[2] = f[i]\n",
    "                x[j] = X[j] - 2*h\n",
    "                f = evaluate(system, fun, x, P, u)\n",
    "                F[3] = f[i]\n",
    "                #Store approx. dfi/dxj into J\n",
    "                J[i,j]= (-F[0] + 8*F[1] - 8*F[2] + F[3])/(12*h)   \n",
    "                # print(J[i,j])\n",
    "                # if J[i,j] == np.Inf:\n",
    "                #     J[i,j] = 1\n",
    "                # elif J[i,j] == np.NaN:\n",
    "                #     J[i,j] = 0\n",
    "    return J\n"
   ]
  },
  {
   "cell_type": "code",
   "execution_count": 31,
   "metadata": {},
   "outputs": [
    {
     "data": {
      "text/plain": [
       "[<matplotlib.lines.Line2D at 0x26b3afce748>]"
      ]
     },
     "execution_count": 31,
     "metadata": {},
     "output_type": "execute_result"
    },
    {
     "data": {
      "text/plain": [
       "[<matplotlib.lines.Line2D at 0x26b3afa96c8>]"
      ]
     },
     "execution_count": 31,
     "metadata": {},
     "output_type": "execute_result"
    },
    {
     "data": {
      "text/plain": [
       "[<matplotlib.lines.Line2D at 0x26b3af92408>]"
      ]
     },
     "execution_count": 31,
     "metadata": {},
     "output_type": "execute_result"
    },
    {
     "data": {
      "text/plain": [
       "[<matplotlib.lines.Line2D at 0x26b3afd5e48>]"
      ]
     },
     "execution_count": 31,
     "metadata": {},
     "output_type": "execute_result"
    },
    {
     "data": {
      "text/plain": [
       "[<matplotlib.lines.Line2D at 0x26b3afe1948>]"
      ]
     },
     "execution_count": 31,
     "metadata": {},
     "output_type": "execute_result"
    },
    {
     "data": {
      "text/plain": [
       "<matplotlib.lines.Line2D at 0x26b3af6de48>"
      ]
     },
     "execution_count": 31,
     "metadata": {},
     "output_type": "execute_result"
    },
    {
     "data": {
      "text/plain": [
       "<matplotlib.lines.Line2D at 0x26b3ae3f788>"
      ]
     },
     "execution_count": 31,
     "metadata": {},
     "output_type": "execute_result"
    },
    {
     "data": {
      "text/plain": [
       "<matplotlib.lines.Line2D at 0x26b3afa9888>"
      ]
     },
     "execution_count": 31,
     "metadata": {},
     "output_type": "execute_result"
    },
    {
     "data": {
      "text/plain": [
       "Text(0.5, 0, 'Time')"
      ]
     },
     "execution_count": 31,
     "metadata": {},
     "output_type": "execute_result"
    },
    {
     "data": {
      "text/plain": [
       "Text(0, 0.5, '[X]')"
      ]
     },
     "execution_count": 31,
     "metadata": {},
     "output_type": "execute_result"
    },
    {
     "data": {
      "text/plain": [
       "<matplotlib.legend.Legend at 0x26b3b01e448>"
      ]
     },
     "execution_count": 31,
     "metadata": {},
     "output_type": "execute_result"
    },
    {
     "data": {
      "image/png": "[encoded data removed]",
      "text/plain": [
       "<Figure size 432x288 with 1 Axes>"
      ]
     },
     "metadata": {
      "needs_background": "light"
     },
     "output_type": "display_data"
    }
   ],
   "source": [
    "t_lin = [timepoints_ode[6], timepoints_ode[15], timepoints_ode[30]]\n",
    "# t_lin = [timepoints_ode[6]]\n",
    "fig, ax = plt.subplots()\n",
    "out_sol = np.array(sys_reduce.C)@sol\n",
    "out_gtx = np.array(sys_gtx.C)@x_gtx\n",
    "out_gc1tx = np.array(sys_gc1tx.C)@x_gc1tx\n",
    "out_gc2tx = np.array(sys_gc2tx.C)@x_gc2tx\n",
    "out_gc3tx = np.array(sys_gc3tx.C)@x_gc3tx\n",
    "plt.plot(timepoints_ode, np.transpose(out_sol), 'k--', label = 'Full CRN model', linewidth = 5)\n",
    "plt.plot(timepoints_ode, np.transpose(out_gtx), label = '[T, X]', linewidth = 2)\n",
    "plt.plot(timepoints_ode, np.transpose(out_gc1tx), label = '[T, C1, X]', linewidth = 2)\n",
    "plt.plot(timepoints_ode, np.transpose(out_gc2tx), label = '[T, C2, X]', linewidth = 2)\n",
    "plt.plot(timepoints_ode, np.transpose(out_gc3tx), label = '[T, C3, X]', linewidth = 2)\n",
    "\n",
    "for t in t_lin:\n",
    "    x_pt = sol[:,list(timepoints_ode).index(t)]\n",
    "    J_full = compute_J(sys_reduce, x_pt, mode = 'accurate')\n",
    "#     B_full = compute_J(sys_reduce, x_pt, var = sys_reduce.g)\n",
    "    n_size = np.shape(J_full)[1]\n",
    "#     A_full = J_full[1:n_size,1:n_size]\n",
    "#     B_full = J_full[0,:]\n",
    "    C_full = sys_reduce.C\n",
    "#     G_full = \n",
    "    \n",
    "    x_pt = x_gtx[:,list(timepoints_ode).index(t)]\n",
    "    J_gtx = compute_J(sys_gtx, x_pt, mode = 'accurate')\n",
    "    n_size = np.shape(J_gtx)[1]\n",
    "#     A_gtx = J_gtx[1:n_size,1:n_size]\n",
    "#     B_gtx = J_gtx[0,:]\n",
    "#     B_gtx = compute_J(sys_gtx, x_pt, var = sys_gtx.g)\n",
    "    C_gtx = sys_gtx.C\n",
    "    \n",
    "    x_pt = x_gc1tx[:,list(timepoints_ode).index(t)]\n",
    "    x_pt_C1 = x_pt\n",
    "    J_gc1tx = compute_J(sys_gc1tx, x_pt, mode = 'accurate')\n",
    "    n_size = np.shape(J_gc1tx)[1]\n",
    "#     B_gc1tx = compute_J(sys_gc1tx, x_pt, var = sys_gc1tx.g)\n",
    "#     A_gc1tx = J_gc1tx[1:n_size,1:n_size]\n",
    "#     B_gc1tx = J_gc1tx[0,:]\n",
    "    C_gc1tx = sys_gc1tx.C\n",
    "    \n",
    "    x_pt = x_gc2tx[:,list(timepoints_ode).index(t)]\n",
    "    J_gc2tx = compute_J(sys_gc2tx, x_pt, mode = 'accurate')\n",
    "    n_size = np.shape(J_gc2tx)[1]\n",
    "#     B_gc2tx = compute_J(sys_gc2tx, x_pt, var = sys_gc2tx.g)\n",
    "#     A_gc2tx = J_gc2tx[1:n_size,1:n_size]\n",
    "#     B_gc2tx = J_gc2tx[0,:]\n",
    "    C_gc2tx = sys_gc2tx.C\n",
    "    \n",
    "    x_pt = x_gc3tx[:,list(timepoints_ode).index(t)]\n",
    "    J_gc3tx = compute_J(sys_gc3tx, x_pt, mode = 'accurate')\n",
    "    n_size = np.shape(J_gc3tx)[1]\n",
    "#     B_gc3tx = compute_J(sys_gc3tx, x_pt, var = sys_gc3tx.g)\n",
    "#     A_gc3tx = J_gc3tx[1:n_size,1:n_size]\n",
    "#     B_gc3tx = J_gc3tx[0,:]\n",
    "    C_gc3tx = sys_gc3tx.C\n",
    "    \n",
    "    plt.axvline(x=t, color = 'k',linestyle = ':',linewidth = 1.5)\n",
    "plt.xlabel('Time', FontSize = 18)\n",
    "plt.ylabel('[X]', FontSize = 18)\n",
    "ax.tick_params(axis='both', which='major', labelsize=14)\n",
    "plt.legend()\n",
    "plt.savefig('linearizations_model.svg')\n",
    "plt.show()    "
   ]
  },
  {
   "cell_type": "code",
   "execution_count": 274,
   "metadata": {},
   "outputs": [
    {
     "data": {
      "text/plain": [
       "array([61901.90343886,   999.99773836,  1209.16264208,   199.47669259])"
      ]
     },
     "execution_count": 274,
     "metadata": {},
     "output_type": "execute_result"
    }
   ],
   "source": [
    "x_pt_C1"
   ]
  },
  {
   "cell_type": "code",
   "execution_count": 213,
   "metadata": {},
   "outputs": [
    {
     "data": {
      "text/plain": [
       "array([-5.00000000e+00+0.j, -2.59064741e+03+0.j, -2.59319416e+03+0.j,\n",
       "       -8.37802498e-04+0.j, -3.09510217e+06+0.j])"
      ]
     },
     "execution_count": 213,
     "metadata": {},
     "output_type": "execute_result"
    }
   ],
   "source": [
    "from scipy.linalg import eigvals\n",
    "eigvals(A_full)"
   ]
  },
  {
   "cell_type": "code",
   "execution_count": 194,
   "metadata": {},
   "outputs": [
    {
     "data": {
      "text/plain": [
       "(6,)"
      ]
     },
     "execution_count": 194,
     "metadata": {},
     "output_type": "execute_result"
    }
   ],
   "source": [
    "np.shape(sys_reduce.x)"
   ]
  },
  {
   "cell_type": "code",
   "execution_count": 162,
   "metadata": {},
   "outputs": [],
   "source": [
    "arrr = np.zeros( (5,5) )"
   ]
  },
  {
   "cell_type": "code",
   "execution_count": 168,
   "metadata": {},
   "outputs": [
    {
     "data": {
      "text/plain": [
       "array([[0., 0., 0., 0., 0.],\n",
       "       [0., 0., 0., 0., 0.]])"
      ]
     },
     "execution_count": 168,
     "metadata": {},
     "output_type": "execute_result"
    }
   ],
   "source": [
    "arrr[2:-1,:]"
   ]
  },
  {
   "cell_type": "code",
   "execution_count": 179,
   "metadata": {},
   "outputs": [
    {
     "data": {
      "text/plain": [
       "array([36.42819151])"
      ]
     },
     "execution_count": 179,
     "metadata": {},
     "output_type": "execute_result"
    }
   ],
   "source": [
    "out_sol[:,list(timepoints_ode).index(t)]"
   ]
  },
  {
   "cell_type": "code",
   "execution_count": 210,
   "metadata": {},
   "outputs": [
    {
     "data": {
      "text/plain": [
       "array([[-3.09510217e+06,  0.00000000e+00,  0.00000000e+00,\n",
       "         0.00000000e+00,  0.00000000e+00],\n",
       "       [ 2.00000000e+00, -2.17258455e+00,  2.59002241e+03,\n",
       "         0.00000000e+00,  0.00000000e+00],\n",
       "       [ 0.00000000e+00,  2.17258455e+00, -2.59102241e+03,\n",
       "         0.00000000e+00,  0.00000000e+00],\n",
       "       [ 0.00000000e+00,  1.44859968e+00,  0.00000000e+00,\n",
       "        -2.59064741e+03,  0.00000000e+00],\n",
       "       [ 0.00000000e+00,  0.00000000e+00,  1.00000000e+00,\n",
       "         0.00000000e+00, -5.00000000e+00]])"
      ]
     },
     "execution_count": 210,
     "metadata": {},
     "output_type": "execute_result"
    }
   ],
   "source": [
    "J_full[1:6,1:6]\n",
    "# A_full"
   ]
  },
  {
   "cell_type": "code",
   "execution_count": 200,
   "metadata": {},
   "outputs": [
    {
     "data": {
      "text/plain": [
       "array([[-1.13082019e-02,  3.09561517e+05,  0.00000000e+00,\n",
       "         0.00000000e+00,  0.00000000e+00,  0.00000000e+00],\n",
       "       [ 1.13082016e-01, -3.09510217e+06,  0.00000000e+00,\n",
       "         0.00000000e+00,  0.00000000e+00,  0.00000000e+00],\n",
       "       [ 0.00000000e+00,  2.00000000e+00, -2.17258455e+00,\n",
       "         2.59002241e+03,  0.00000000e+00,  0.00000000e+00],\n",
       "       [ 0.00000000e+00,  0.00000000e+00,  2.17258455e+00,\n",
       "        -2.59102241e+03,  0.00000000e+00,  0.00000000e+00],\n",
       "       [ 0.00000000e+00,  0.00000000e+00,  1.44859968e+00,\n",
       "         0.00000000e+00, -2.59064741e+03,  0.00000000e+00],\n",
       "       [ 0.00000000e+00,  0.00000000e+00,  0.00000000e+00,\n",
       "         1.00000000e+00,  0.00000000e+00, -5.00000000e+00]])"
      ]
     },
     "execution_count": 200,
     "metadata": {},
     "output_type": "execute_result"
    }
   ],
   "source": [
    "J_full"
   ]
  },
  {
   "cell_type": "code",
   "execution_count": 258,
   "metadata": {},
   "outputs": [],
   "source": [
    "# At t = 0.1\n",
    "norm_full = 0.04\n",
    "norm_gtx = 5.4555e-13\n",
    "norm_gc1tx = 0.04\n",
    "norm_gc2tx = 0\n",
    "norm_gc3tx = 2.7277e-13\n",
    "\n",
    "# At t = 0.4\n",
    "norm_full = 0.04\n",
    "norm_gtx = 3.3490e-13\n",
    "norm_c1gtx = 0.04\n",
    "norm_c2gtx = 1.1543e-11\n",
    "norm_c3gtx = 5.0234e-13\n",
    "\n",
    "\n",
    "# At t = 1\n",
    "norm_full = 0.0400\n",
    "norm_gtx =  2.8312e-13\n",
    "norm_c1gtx = 0.0400\n",
    "norm_c2gtx = 5.8298e-13\n",
    "norm_c3gtx =  5.6624e-13\n"
   ]
  },
  {
   "cell_type": "code",
   "execution_count": 264,
   "metadata": {},
   "outputs": [
    {
     "data": {
      "text/latex": [
       "$\\displaystyle C_{1} \\left(k_{bp} + k_{tx}\\right) - G k_{up} \\left(- C_{1} + P_{tot}\\right)$"
      ],
      "text/plain": [
       "C1*(k_bp + k_tx) - G*k_up*(-C1 + P_tot)"
      ]
     },
     "execution_count": 264,
     "metadata": {},
     "output_type": "execute_result"
    }
   ],
   "source": [
    "sys_gc1tx.f[0]"
   ]
  },
  {
   "cell_type": "code",
   "execution_count": 265,
   "metadata": {},
   "outputs": [
    {
     "data": {
      "text/latex": [
       "$\\displaystyle - C_{1} \\left(k_{tx} + k_{up}\\right) + G k_{bp} \\left(- C_{1} + P_{tot}\\right)$"
      ],
      "text/plain": [
       "-C1*(k_tx + k_up) + G*k_bp*(-C1 + P_tot)"
      ]
     },
     "execution_count": 265,
     "metadata": {},
     "output_type": "execute_result"
    }
   ],
   "source": [
    "sys_gc1tx.f[1]"
   ]
  },
  {
   "cell_type": "code",
   "execution_count": 272,
   "metadata": {},
   "outputs": [
    {
     "data": {
      "text/latex": [
       "$\\displaystyle C_{1} k_{tx} + \\frac{R_{tot} T k_{br} k_{ur}}{T k_{br} + k_{tl} + k_{ur}} - T k_{br} \\left(- \\frac{R_{tot} T k_{br}}{T k_{br} + k_{tl} + k_{ur}} + R_{tot}\\right)$"
      ],
      "text/plain": [
       "C1*k_tx + R_tot*T*k_br*k_ur/(T*k_br + k_tl + k_ur) - T*k_br*(-R_tot*T*k_br/(T*k_br + k_tl + k_ur) + R_tot)"
      ]
     },
     "execution_count": 272,
     "metadata": {},
     "output_type": "execute_result"
    }
   ],
   "source": [
    "sys_gc1tx.f[2]"
   ]
  },
  {
   "cell_type": "code",
   "execution_count": 271,
   "metadata": {},
   "outputs": [
    {
     "data": {
      "text/latex": [
       "$\\displaystyle \\frac{R_{tot} T k_{br} k_{tl}}{T k_{br} + k_{tl} + k_{ur}} - X d$"
      ],
      "text/plain": [
       "R_tot*T*k_br*k_tl/(T*k_br + k_tl + k_ur) - X*d"
      ]
     },
     "execution_count": 271,
     "metadata": {},
     "output_type": "execute_result"
    }
   ],
   "source": [
    "\n",
    "sys_gc1tx.f[3]"
   ]
  },
  {
   "cell_type": "code",
   "execution_count": 270,
   "metadata": {},
   "outputs": [
    {
     "data": {
      "text/plain": [
       "[G, C1, T, X]"
      ]
     },
     "execution_count": 270,
     "metadata": {},
     "output_type": "execute_result"
    }
   ],
   "source": [
    "sys_gc1tx.x"
   ]
  },
  {
   "cell_type": "code",
   "execution_count": 268,
   "metadata": {},
   "outputs": [
    {
     "data": {
      "text/latex": [
       "$\\displaystyle C_{1} \\left(k_{bp} + k_{tx}\\right) - G k_{up} \\left(- C_{1} + P_{tot}\\right)$"
      ],
      "text/plain": [
       "C1*(k_bp + k_tx) - G*k_up*(-C1 + P_tot)"
      ]
     },
     "execution_count": 268,
     "metadata": {},
     "output_type": "execute_result"
    }
   ],
   "source": [
    "sys.f[0]"
   ]
  },
  {
   "cell_type": "code",
   "execution_count": 275,
   "metadata": {},
   "outputs": [
    {
     "data": {
      "text/plain": [
       "array([[-3.09510217e+06,  0.00000000e+00,  0.00000000e+00],\n",
       "       [ 2.00000000e+00, -1.44961953e-04,  3.79950280e-14],\n",
       "       [ 0.00000000e+00,  1.44961948e-04, -5.00000000e+00]])"
      ]
     },
     "execution_count": 275,
     "metadata": {},
     "output_type": "execute_result"
    }
   ],
   "source": [
    "A_gc1tx"
   ]
  },
  {
   "cell_type": "code",
   "execution_count": 276,
   "metadata": {},
   "outputs": [
    {
     "data": {
      "text/plain": [
       "array([-1.13081920e-02,  3.09561517e+05,  0.00000000e+00,  0.00000000e+00])"
      ]
     },
     "execution_count": 276,
     "metadata": {},
     "output_type": "execute_result"
    }
   ],
   "source": [
    "B_gc1tx"
   ]
  },
  {
   "cell_type": "code",
   "execution_count": null,
   "metadata": {},
   "outputs": [],
   "source": []
  }
 ],
 "metadata": {
  "kernelspec": {
   "display_name": "Python 3",
   "language": "python",
   "name": "python3"
  },
  "language_info": {
   "codemirror_mode": {
    "name": "ipython",
    "version": 3
   },
   "file_extension": ".py",
   "mimetype": "text/x-python",
   "name": "python",
   "nbconvert_exporter": "python",
   "pygments_lexer": "ipython3",
   "version": "3.7.4"
  }
 },
 "nbformat": 4,
 "nbformat_minor": 2
}
