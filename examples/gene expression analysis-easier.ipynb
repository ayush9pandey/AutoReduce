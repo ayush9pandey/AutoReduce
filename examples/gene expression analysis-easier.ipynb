{
 "cells": [
  {
   "cell_type": "markdown",
   "metadata": {},
   "source": [
    "$G_i + P \\quad[k^{b_P}_i]<->[k^{u_P}_i] \\quad  G_i:P \\\\\n",
    "G_i:P \\quad  --> [k_i^{tx}] \\quad  G_i + P + T_i \\\\\n",
    "T_i + R \\quad  [k^{b_R}_i]<->[k^{u_R}_i]\\quad   T_i:R \\\\\n",
    "T_i:R  \\quad -->[k_i^{tl}]\\quad T_i + R + X_i \\\\\n",
    "T_i + E \\quad  [k^{b_E}_i]<->[k^{u_E}_i] \\quad  T_i:E \\\\\n",
    "T_i:E \\quad-->[\\delta_i]\\quad E \\\\\n",
    "T \\quad-->[d_T]\\quad \\\\\n",
    "X \\quad-->[d]\\quad $"
   ]
  },
  {
   "cell_type": "code",
   "execution_count": 1,
   "metadata": {},
   "outputs": [],
   "source": [
    "%matplotlib inline\n",
    "from IPython.core.interactiveshell import InteractiveShell\n",
    "InteractiveShell.ast_node_interactivity = \"all\"\n",
    "from autoreduce import *\n",
    "import numpy as np\n",
    "from sympy import symbols"
   ]
  },
  {
   "cell_type": "code",
   "execution_count": 2,
   "metadata": {},
   "outputs": [],
   "source": [
    "# Post conservation law and other approximations phenomenological model at the RNA level\n",
    "n = 8 # Number of states : P, C1, T, R, C2, E, C3, X\n",
    "nouts = 1 # Number of outputs, X_i\n",
    "\n",
    "# Inputs by user \n",
    "x_init = np.zeros(n)\n",
    "x_init[0] = 100\n",
    "x_init[3] = 400\n",
    "x_init[5] = 20\n",
    "C = np.zeros((nouts,n), dtype=int)\n",
    "C[0][7] = 1\n",
    "\n",
    "nstates_tol_max = 3\n",
    "nsatees_tol_min = 2\n",
    "error_tol = 3000\n",
    "# System dynamics symbolically\n",
    "\n",
    "# k_bp, k_up, k_tx, k_br, k_ur, k_tl, k_be, k_ue, d_i, d = params, len(params) = 10\n",
    "\n",
    "\n",
    "x0 = symbols('P')\n",
    "x1 = symbols('C1') # G:P\n",
    "x2 = symbols('T')\n",
    "x3 = symbols('R')\n",
    "x4 = symbols('C2') # T:R\n",
    "x5 = symbols('E')\n",
    "x6 = symbols('C3') # T:E\n",
    "x7 = symbols('X')\n",
    "\n",
    "x = [x0, x1, x2, x3, x4, x5, x6, x7]\n",
    "\n",
    "G = symbols('G')\n",
    "k_bp = symbols('k_bp')\n",
    "k_up = symbols('k_up')\n",
    "k_tx = symbols('k_tx')\n",
    "k_br = symbols('k_br')\n",
    "k_ur = symbols('k_ur')\n",
    "k_tl = symbols('k_tl')\n",
    "k_be = symbols('k_be')\n",
    "k_ue = symbols('k_ue')\n",
    "d_i = symbols('d_i')\n",
    "d = symbols('d')\n",
    "d_T = symbols('d_T')\n",
    "\n",
    "E_tot = symbols('E_tot')\n",
    "P_tot = symbols('P_tot')\n",
    "R_tot = symbols('R_tot')\n",
    "params = [k_bp, k_up, k_tx, k_br, k_ur, k_tl, k_be, k_ue, d_i, d, d_T, E_tot, P_tot, R_tot, G]\n",
    "# f0 = (k_bp + k_tx) * x1 - k_up * G * x0\n",
    "f0 = (k_up + k_tx) * x1 - k_bp * G * x0\n",
    "f1 = k_bp * G * x0 - (k_up + k_tx)*x1\n",
    "f2 = k_tx * x1 + (k_ur + k_tl) * x4 + k_ue * x6 - k_br * x2 * x3 - k_be * x2 * x5 - d_T * x2\n",
    "f3 = (k_ur + k_tl) * x4 - k_br * x2 * x3\n",
    "f4 = k_br * x2 * x3 - (k_ur + k_tl) * x4\n",
    "f5 = (k_ue + d_i) * x6 - k_be * x2 * x5\n",
    "f6 = k_be * x2 * x5 - (k_ue + d_i) * x6\n",
    "f7 = k_tl * x4 - d * x7\n",
    "    \n",
    "f = [f0,f1,f2,f3,f4,f5,f6,f7]\n",
    "# parameter values\n",
    "# E_tot = 20\n",
    "# P_tot = 100\n",
    "# R_tot = 400\n",
    "params_values = [30, 10, 0.50, 80, 2, 8, 10, 2, 1, 0.5, 0.01, 20, 100, 400, 10]\n",
    "# params_values = [100, 10, 4, 10, 0.25, 2, 10, 0.5, 1, 1, 1000, 1000, 1000, 10]\n",
    "sys = System(x, f, params = params, params_values = params_values, C = C, x_init = x_init)"
   ]
  },
  {
   "cell_type": "code",
   "execution_count": 3,
   "metadata": {},
   "outputs": [
    {
     "data": {
      "text/plain": [
       "[<matplotlib.lines.Line2D at 0x1dbae0943c8>]"
      ]
     },
     "execution_count": 3,
     "metadata": {},
     "output_type": "execute_result"
    },
    {
     "data": {
      "text/plain": [
       "Text(0.5, 0, 'Time')"
      ]
     },
     "execution_count": 3,
     "metadata": {},
     "output_type": "execute_result"
    },
    {
     "data": {
      "text/plain": [
       "Text(0, 0.5, '[Outputs]')"
      ]
     },
     "execution_count": 3,
     "metadata": {},
     "output_type": "execute_result"
    },
    {
     "data": {
      "image/png": "[encoded data removed]",
      "text/plain": [
       "<Figure size 432x288 with 1 Axes>"
      ]
     },
     "metadata": {
      "needs_background": "light"
     },
     "output_type": "display_data"
    }
   ],
   "source": [
    "from autoreduce.utils import get_ODE\n",
    "timepoints_ode = np.linspace(0, 20, 100)\n",
    "sys_ode = get_ODE(sys, timepoints_ode)\n",
    "sol = sys_ode.solve_system().T\n",
    "import matplotlib.pyplot as plt\n",
    "plt.plot(timepoints_ode, np.transpose(np.array(C)@sol))\n",
    "plt.xlabel('Time')\n",
    "plt.ylabel('[Outputs]')\n",
    "plt.show()"
   ]
  },
  {
   "cell_type": "code",
   "execution_count": 4,
   "metadata": {},
   "outputs": [],
   "source": [
    "from autoreduce.utils import get_reducible\n",
    "timepoints_ssm = np.linspace(0,2,10)\n",
    "timepoints_ode = np.linspace(0,2,100)\n",
    "sys_reduce = get_reducible(sys, timepoints_ode, timepoints_ssm)\n",
    "sys_reduce.nstates_tol_min = 2\n",
    "sys_reduce.nstates_tol_max = 3"
   ]
  },
  {
   "cell_type": "code",
   "execution_count": 5,
   "metadata": {},
   "outputs": [],
   "source": [
    "P, C1, T, R, C2, E, C3, X = sys.x\n",
    "conserved_quantities = [P + C1 - P_tot, R + C2 - R_tot, E + C3 - E_tot]\n",
    "states_to_eliminate = [C1, C2, C3]\n",
    "f_cons = sys_reduce.set_conservation_laws(conserved_quantities, states_to_eliminate)"
   ]
  },
  {
   "cell_type": "code",
   "execution_count": 6,
   "metadata": {},
   "outputs": [
    {
     "data": {
      "text/plain": [
       "[-G*P*k_bp + (-P + P_tot)*(k_tx + k_up),\n",
       " -E*T*k_be - R*T*k_br - T*d_T + k_tx*(-P + P_tot) + k_ue*(-E + E_tot) + (-R + R_tot)*(k_tl + k_ur),\n",
       " -R*T*k_br + (-R + R_tot)*(k_tl + k_ur),\n",
       " -E*T*k_be + (-E + E_tot)*(d_i + k_ue),\n",
       " -X*d + k_tl*(-R + R_tot)]"
      ]
     },
     "execution_count": 6,
     "metadata": {},
     "output_type": "execute_result"
    }
   ],
   "source": [
    "f_cons"
   ]
  },
  {
   "cell_type": "code",
   "execution_count": 7,
   "metadata": {},
   "outputs": [
    {
     "data": {
      "text/plain": [
       "[<matplotlib.lines.Line2D at 0x1dbadffaf48>]"
      ]
     },
     "execution_count": 7,
     "metadata": {},
     "output_type": "execute_result"
    },
    {
     "data": {
      "text/plain": [
       "Text(0.5, 0, 'Time')"
      ]
     },
     "execution_count": 7,
     "metadata": {},
     "output_type": "execute_result"
    },
    {
     "data": {
      "text/plain": [
       "Text(0, 0.5, '[X]')"
      ]
     },
     "execution_count": 7,
     "metadata": {},
     "output_type": "execute_result"
    },
    {
     "data": {
      "image/png": "[encoded data removed]",
      "text/plain": [
       "<Figure size 432x288 with 1 Axes>"
      ]
     },
     "metadata": {
      "needs_background": "light"
     },
     "output_type": "display_data"
    }
   ],
   "source": [
    "from autoreduce.utils import get_ODE\n",
    "timepoints_ode = np.linspace(0, 20, 100)\n",
    "# params = [k_bp, k_up, k_tx, k_br, k_ur, k_tl, k_be, k_ue, d_i, d, E_tot, P_tot, R_tot, G]\n",
    "# params_values = [100, 10, 4, 10, 0.25, 2, 10, 0.5, 1, 10, 10000, 10000, 10000, 0.01]\n",
    "# params_values = [30, 10, 0.50, 80, 2, 8, 10, 2, 1, 0.5, 0.01, 20, 100, 400, 10]\n",
    "# sys_reduce.params_values = params_values\n",
    "sys_ode = get_ODE(sys_reduce, timepoints_ode)\n",
    "sol = sys_ode.solve_system().T\n",
    "import matplotlib.pyplot as plt\n",
    "fig, ax = plt.subplots()\n",
    "plt.plot(timepoints_ode, np.transpose(np.array(sys_reduce.C)@sol), linewidth = 3)\n",
    "plt.xlabel('Time', FontSize = 18)\n",
    "plt.ylabel('[X]', FontSize = 18)\n",
    "ax.tick_params(axis='both', which='major', labelsize=14)\n",
    "# plt.legend()\n",
    "plt.show()"
   ]
  },
  {
   "cell_type": "code",
   "execution_count": 8,
   "metadata": {},
   "outputs": [
    {
     "data": {
      "text/plain": [
       "[-G*P*k_bp + (-P + P_tot)*(k_tx + k_up),\n",
       " -E*T*k_be - R*T*k_br - T*d_T + k_tx*(-P + P_tot) + k_ue*(-E + E_tot) + (-R + R_tot)*(k_tl + k_ur),\n",
       " -R*T*k_br + (-R + R_tot)*(k_tl + k_ur),\n",
       " -E*T*k_be + (-E + E_tot)*(d_i + k_ue),\n",
       " -X*d + k_tl*(-R + R_tot)]"
      ]
     },
     "execution_count": 8,
     "metadata": {},
     "output_type": "execute_result"
    }
   ],
   "source": [
    "sys_reduce.f"
   ]
  },
  {
   "cell_type": "code",
   "execution_count": 9,
   "metadata": {},
   "outputs": [
    {
     "data": {
      "text/plain": [
       "[P, T, R, E, X]"
      ]
     },
     "execution_count": 9,
     "metadata": {},
     "output_type": "execute_result"
    }
   ],
   "source": [
    "sys_reduce.x"
   ]
  },
  {
   "cell_type": "code",
   "execution_count": 13,
   "metadata": {},
   "outputs": [
    {
     "name": "stdout",
     "output_type": "stream",
     "text": [
      "Reduced set of variables is [T, R, X]\n",
      "f_hat =  [-E*T*k_be - R*T*k_br - T*d_T + k_tx*(-P + P_tot) + k_ue*(-E + E_tot) + (-R + R_tot)*(k_tl + k_ur), -R*T*k_br + (-R + R_tot)*(k_tl + k_ur), -X*d + k_tl*(-R + R_tot)]\n",
      "Collapsed set of variables is [E, P]\n",
      "In sympy_solve_and_substitute, solving for  E\n",
      "From  -E*T*k_be + (-E + E_tot)*(d_i + k_ue)\n",
      "Solution found:  {E: [E_tot*(d_i + k_ue)/(T*k_be + d_i + k_ue)]}\n",
      "current state E\n",
      "Updated f_hat now is  [-E_tot*T*k_be*(d_i + k_ue)/(T*k_be + d_i + k_ue) - R*T*k_br - T*d_T + k_tx*(-P + P_tot) + k_ue*(-E_tot*(d_i + k_ue)/(T*k_be + d_i + k_ue) + E_tot) + (-R + R_tot)*(k_tl + k_ur), -R*T*k_br + (-R + R_tot)*(k_tl + k_ur), -X*d + k_tl*(-R + R_tot)]\n",
      "In sympy_solve_and_substitute, solving for  P\n",
      "From  -G*P*k_bp + (-P + P_tot)*(k_tx + k_up)\n",
      "Solution found:  {E: [E_tot*(d_i + k_ue)/(T*k_be + d_i + k_ue)], P: [P_tot*(k_tx + k_up)/(G*k_bp + k_tx + k_up)]}\n",
      "current state P\n",
      "Updated f_hat now is  [-E_tot*T*k_be*(d_i + k_ue)/(T*k_be + d_i + k_ue) - R*T*k_br - T*d_T + k_tx*(-P_tot*(k_tx + k_up)/(G*k_bp + k_tx + k_up) + P_tot) + k_ue*(-E_tot*(d_i + k_ue)/(T*k_be + d_i + k_ue) + E_tot) + (-R + R_tot)*(k_tl + k_ur), -R*T*k_br + (-R + R_tot)*(k_tl + k_ur), -X*d + k_tl*(-R + R_tot)]\n",
      "Successful time-scale separation solution obtained with states: [T, R, X]!\n"
     ]
    }
   ],
   "source": [
    "reduced_sys, fast_ss = sys_reduce.solve_timescale_separation([T, R,X], fast_states = [E, P], debug = True)\n"
   ]
  },
  {
   "cell_type": "code",
   "execution_count": 14,
   "metadata": {},
   "outputs": [
    {
     "data": {
      "text/latex": [
       "$\\displaystyle - R T k_{br} + \\left(- R + R_{tot}\\right) \\left(k_{tl} + k_{ur}\\right)$"
      ],
      "text/plain": [
       "-R*T*k_br + (-R + R_tot)*(k_tl + k_ur)"
      ]
     },
     "execution_count": 14,
     "metadata": {},
     "output_type": "execute_result"
    }
   ],
   "source": [
    "reduced_sys.f[1]"
   ]
  },
  {
   "cell_type": "code",
   "execution_count": 15,
   "metadata": {},
   "outputs": [
    {
     "data": {
      "image/png": "[encoded data removed]",
      "text/plain": [
       "<Figure size 432x288 with 1 Axes>"
      ]
     },
     "metadata": {
      "needs_background": "light"
     },
     "output_type": "display_data"
    }
   ],
   "source": [
    "fig, ax = plt.subplots() \n",
    "# params = [k_bp, k_up, k_tx, k_br, k_ur, k_tl, k_be, k_ue, d_i, d, d_T, E_tot, P_tot, R_tot, G]\n",
    "params_values_new = [80, 2, 0.5, 80, 2, 5, 80, 2, 0.1, 0.5, 0.05, 100, 100, 400, 10]\n",
    "sys_reduce.params_values = params_values_new\n",
    "\n",
    "sys_ode = get_ODE(sys_reduce, timepoints_ode)\n",
    "sol = sys_ode.solve_system().T\n",
    "_ = plt.plot(timepoints_ode, np.transpose(np.array(sys_reduce.C)@sol), 'k--', label = 'Full CRN model', linewidth = 5)\n",
    "reduced_ode = get_ODE(reduced_sys, timepoints_ode)\n",
    "reduced_sol = reduced_ode.solve_system().T\n",
    "_ = plt.plot(timepoints_ode, np.transpose(np.array(reduced_sys.C)@reduced_sol), 'r', label = 'Reduced model', linewidth = 2)\n",
    "plt.show()\n"
   ]
  },
  {
   "cell_type": "code",
   "execution_count": 16,
   "metadata": {},
   "outputs": [
    {
     "data": {
      "text/plain": [
       "2"
      ]
     },
     "execution_count": 16,
     "metadata": {},
     "output_type": "execute_result"
    }
   ],
   "source": [
    "sys_reduce.nstates_tol_min"
   ]
  },
  {
   "cell_type": "code",
   "execution_count": 17,
   "metadata": {},
   "outputs": [
    {
     "name": "stdout",
     "output_type": "stream",
     "text": [
      "The time-scale separation that retains states [P, X] does not work because either a collapsed state-variables appears\n",
      " in the reduced model or a solution is not possible.\n",
      "Successful time-scale separation solution obtained with states: [T, X]!\n",
      "The time-scale separation that retains states [R, X] does not work because either a collapsed state-variables appears\n",
      " in the reduced model or a solution is not possible.\n",
      "The time-scale separation that retains states [E, X] does not work because either a collapsed state-variables appears\n",
      " in the reduced model or a solution is not possible.\n",
      "Successful time-scale separation solution obtained with states: [P, T, X]!\n",
      "The time-scale separation that retains states [P, R, X] does not work because either a collapsed state-variables appears\n",
      " in the reduced model or a solution is not possible.\n",
      "The time-scale separation that retains states [P, E, X] does not work because either a collapsed state-variables appears\n",
      " in the reduced model or a solution is not possible.\n",
      "Successful time-scale separation solution obtained with states: [T, R, X]!\n",
      "Successful time-scale separation solution obtained with states: [T, E, X]!\n",
      "Successful time-scale separation solution obtained with states: [R, E, X]!\n",
      "Successful time-scale separation solution obtained with states: [P, T, R, X]!\n",
      "Successful time-scale separation solution obtained with states: [P, T, E, X]!\n",
      "Successful time-scale separation solution obtained with states: [P, R, E, X]!\n",
      "Successful time-scale separation solution obtained with states: [T, R, E, X]!\n"
     ]
    }
   ],
   "source": [
    "results = sys_reduce.reduce_simple(skip_numerical_computations = True)\n",
    "# reduced_sys, fast_ss = sys_reduce.solve_timescale_separation([T,X], debug = False)\n",
    "# se1 = sys_reduce.get_robustness_metric(reduced_sys)\n",
    "# e1 = sys_reduce.get_error_metric(reduced_sys)\n"
   ]
  },
  {
   "cell_type": "code",
   "execution_count": 18,
   "metadata": {},
   "outputs": [
    {
     "data": {
      "text/plain": [
       "[P, T, X]"
      ]
     },
     "execution_count": 18,
     "metadata": {},
     "output_type": "execute_result"
    }
   ],
   "source": [
    "list(results.keys())[1].x\n",
    "# reduced_sys.f\n",
    "# isinstance(reduced_sys, System)"
   ]
  },
  {
   "cell_type": "code",
   "execution_count": 19,
   "metadata": {},
   "outputs": [
    {
     "data": {
      "text/plain": [
       "[[T, X],\n",
       " [P, T, X],\n",
       " [T, R, X],\n",
       " [T, E, X],\n",
       " [R, E, X],\n",
       " [P, T, R, X],\n",
       " [P, T, E, X],\n",
       " [P, R, E, X],\n",
       " [T, R, E, X]]"
      ]
     },
     "execution_count": 19,
     "metadata": {},
     "output_type": "execute_result"
    }
   ],
   "source": [
    "reduced_states = [sys_x.x for sys_x in list(results.keys())]\n",
    "reduced_states"
   ]
  },
  {
   "cell_type": "code",
   "execution_count": 13,
   "metadata": {},
   "outputs": [
    {
     "name": "stdout",
     "output_type": "stream",
     "text": [
      "Successful time-scale separation solution obtained with states:! [T, R, X]\n"
     ]
    },
    {
     "data": {
      "text/latex": [
       "$\\displaystyle - R T k_{br} + \\left(- R + R_{tot}\\right) \\left(k_{tl} + k_{ur}\\right)$"
      ],
      "text/plain": [
       "-R*T*k_br + (-R + R_tot)*(k_tl + k_ur)"
      ]
     },
     "execution_count": 13,
     "metadata": {},
     "output_type": "execute_result"
    }
   ],
   "source": [
    "reduced_sys, fast_ss = sys_reduce.solve_timescale_separation([R, X])\n",
    "reduced_sys.f[1]\n",
    "# from auto_reduce.utils import get_ODE\n",
    "x_sol_hat = get_ODE(sys_reduce.get_system(), timepoints_ode).solve_system()"
   ]
  },
  {
   "cell_type": "markdown",
   "metadata": {},
   "source": [
    "### Write results into LaTeX"
   ]
  },
  {
   "cell_type": "code",
   "execution_count": 14,
   "metadata": {},
   "outputs": [
    {
     "data": {
      "text/plain": [
       "<matplotlib.collections.PathCollection at 0x223b8253948>"
      ]
     },
     "execution_count": 14,
     "metadata": {},
     "output_type": "execute_result"
    },
    {
     "data": {
      "text/plain": [
       "<matplotlib.collections.PathCollection at 0x223b806dd08>"
      ]
     },
     "execution_count": 14,
     "metadata": {},
     "output_type": "execute_result"
    },
    {
     "data": {
      "text/plain": [
       "<matplotlib.collections.PathCollection at 0x223b7fdca08>"
      ]
     },
     "execution_count": 14,
     "metadata": {},
     "output_type": "execute_result"
    },
    {
     "data": {
      "text/plain": [
       "<matplotlib.collections.PathCollection at 0x223b7fdc3c8>"
      ]
     },
     "execution_count": 14,
     "metadata": {},
     "output_type": "execute_result"
    },
    {
     "data": {
      "text/plain": [
       "<matplotlib.collections.PathCollection at 0x223b80cb348>"
      ]
     },
     "execution_count": 14,
     "metadata": {},
     "output_type": "execute_result"
    },
    {
     "data": {
      "text/plain": [
       "<matplotlib.collections.PathCollection at 0x223b80fec08>"
      ]
     },
     "execution_count": 14,
     "metadata": {},
     "output_type": "execute_result"
    },
    {
     "data": {
      "text/plain": [
       "<matplotlib.collections.PathCollection at 0x223b810e3c8>"
      ]
     },
     "execution_count": 14,
     "metadata": {},
     "output_type": "execute_result"
    },
    {
     "data": {
      "text/plain": [
       "<matplotlib.collections.PathCollection at 0x223b810e948>"
      ]
     },
     "execution_count": 14,
     "metadata": {},
     "output_type": "execute_result"
    },
    {
     "data": {
      "text/plain": [
       "<matplotlib.collections.PathCollection at 0x223b810e5c8>"
      ]
     },
     "execution_count": 14,
     "metadata": {},
     "output_type": "execute_result"
    },
    {
     "data": {
      "text/plain": [
       "<matplotlib.legend.Legend at 0x223b810e108>"
      ]
     },
     "execution_count": 14,
     "metadata": {},
     "output_type": "execute_result"
    },
    {
     "data": {
      "image/png": "[encoded data removed]",
      "text/plain": [
       "<Figure size 432x288 with 1 Axes>"
      ]
     },
     "metadata": {
      "needs_background": "light"
     },
     "output_type": "display_data"
    }
   ],
   "source": [
    "# results\n",
    "import matplotlib.pyplot as plt\n",
    "for key, value in results.items():\n",
    "    plt.scatter(value[0], key.n,linewidths = 2.5, label = str(key.x))\n",
    "plt.legend()\n",
    "plt.savefig('enzymatic_rxn_e.svg')"
   ]
  },
  {
   "cell_type": "code",
   "execution_count": 15,
   "metadata": {},
   "outputs": [
    {
     "data": {
      "text/plain": [
       "[<matplotlib.lines.Line2D at 0x223b8387d48>]"
      ]
     },
     "execution_count": 15,
     "metadata": {},
     "output_type": "execute_result"
    },
    {
     "data": {
      "image/png": "[encoded data removed]",
      "text/plain": [
       "<Figure size 432x288 with 1 Axes>"
      ]
     },
     "metadata": {
      "needs_background": "light"
     },
     "output_type": "display_data"
    }
   ],
   "source": [
    "import matplotlib.pyplot as plt\n",
    "y_hat = sys_reduce.C@x_sol_hat.T\n",
    "plt.plot(timepoints_ode,y_hat.T)"
   ]
  },
  {
   "cell_type": "code",
   "execution_count": 17,
   "metadata": {},
   "outputs": [],
   "source": [
    "from autoreduce.utils import reduce_utils\n",
    "rx = reduce_utils(sys_reduce)\n",
    "rx.write_results('gene_expression_results_with_input.txt')"
   ]
  },
  {
   "cell_type": "code",
   "execution_count": 18,
   "metadata": {},
   "outputs": [
    {
     "data": {
      "text/plain": [
       "25"
      ]
     },
     "execution_count": 18,
     "metadata": {},
     "output_type": "execute_result"
    },
    {
     "data": {
      "text/plain": [
       "12"
      ]
     },
     "execution_count": 18,
     "metadata": {},
     "output_type": "execute_result"
    },
    {
     "data": {
      "text/plain": [
       "6"
      ]
     },
     "execution_count": 18,
     "metadata": {},
     "output_type": "execute_result"
    },
    {
     "data": {
      "text/plain": [
       "5"
      ]
     },
     "execution_count": 18,
     "metadata": {},
     "output_type": "execute_result"
    },
    {
     "data": {
      "text/plain": [
       "15"
      ]
     },
     "execution_count": 18,
     "metadata": {},
     "output_type": "execute_result"
    },
    {
     "data": {
      "text/plain": [
       "511"
      ]
     },
     "execution_count": 18,
     "metadata": {},
     "output_type": "execute_result"
    },
    {
     "data": {
      "text/plain": [
       "3"
      ]
     },
     "execution_count": 18,
     "metadata": {},
     "output_type": "execute_result"
    },
    {
     "data": {
      "text/plain": [
       "15"
      ]
     },
     "execution_count": 18,
     "metadata": {},
     "output_type": "execute_result"
    },
    {
     "data": {
      "text/plain": [
       "111"
      ]
     },
     "execution_count": 18,
     "metadata": {},
     "output_type": "execute_result"
    },
    {
     "data": {
      "text/plain": [
       "3"
      ]
     },
     "execution_count": 18,
     "metadata": {},
     "output_type": "execute_result"
    },
    {
     "data": {
      "text/plain": [
       "12"
      ]
     },
     "execution_count": 18,
     "metadata": {},
     "output_type": "execute_result"
    },
    {
     "data": {
      "text/plain": [
       "9"
      ]
     },
     "execution_count": 18,
     "metadata": {},
     "output_type": "execute_result"
    },
    {
     "data": {
      "text/plain": [
       "5"
      ]
     },
     "execution_count": 18,
     "metadata": {},
     "output_type": "execute_result"
    },
    {
     "data": {
      "text/plain": [
       "15"
      ]
     },
     "execution_count": 18,
     "metadata": {},
     "output_type": "execute_result"
    },
    {
     "data": {
      "text/plain": [
       "70"
      ]
     },
     "execution_count": 18,
     "metadata": {},
     "output_type": "execute_result"
    },
    {
     "data": {
      "text/plain": [
       "3"
      ]
     },
     "execution_count": 18,
     "metadata": {},
     "output_type": "execute_result"
    },
    {
     "data": {
      "text/plain": [
       "15"
      ]
     },
     "execution_count": 18,
     "metadata": {},
     "output_type": "execute_result"
    },
    {
     "data": {
      "text/plain": [
       "441"
      ]
     },
     "execution_count": 18,
     "metadata": {},
     "output_type": "execute_result"
    },
    {
     "data": {
      "text/plain": [
       "3"
      ]
     },
     "execution_count": 18,
     "metadata": {},
     "output_type": "execute_result"
    },
    {
     "data": {
      "text/plain": [
       "15"
      ]
     },
     "execution_count": 18,
     "metadata": {},
     "output_type": "execute_result"
    },
    {
     "data": {
      "text/plain": [
       "111"
      ]
     },
     "execution_count": 18,
     "metadata": {},
     "output_type": "execute_result"
    },
    {
     "data": {
      "text/plain": [
       "3"
      ]
     },
     "execution_count": 18,
     "metadata": {},
     "output_type": "execute_result"
    },
    {
     "data": {
      "text/plain": [
       "12"
      ]
     },
     "execution_count": 18,
     "metadata": {},
     "output_type": "execute_result"
    },
    {
     "data": {
      "text/plain": [
       "9"
      ]
     },
     "execution_count": 18,
     "metadata": {},
     "output_type": "execute_result"
    },
    {
     "data": {
      "text/plain": [
       "5"
      ]
     },
     "execution_count": 18,
     "metadata": {},
     "output_type": "execute_result"
    },
    {
     "data": {
      "text/plain": [
       "15"
      ]
     },
     "execution_count": 18,
     "metadata": {},
     "output_type": "execute_result"
    },
    {
     "data": {
      "text/plain": [
       "371"
      ]
     },
     "execution_count": 18,
     "metadata": {},
     "output_type": "execute_result"
    },
    {
     "data": {
      "text/plain": [
       "3"
      ]
     },
     "execution_count": 18,
     "metadata": {},
     "output_type": "execute_result"
    },
    {
     "data": {
      "text/plain": [
       "15"
      ]
     },
     "execution_count": 18,
     "metadata": {},
     "output_type": "execute_result"
    },
    {
     "data": {
      "text/plain": [
       "70"
      ]
     },
     "execution_count": 18,
     "metadata": {},
     "output_type": "execute_result"
    },
    {
     "data": {
      "text/plain": [
       "3"
      ]
     },
     "execution_count": 18,
     "metadata": {},
     "output_type": "execute_result"
    },
    {
     "data": {
      "text/plain": [
       "15"
      ]
     },
     "execution_count": 18,
     "metadata": {},
     "output_type": "execute_result"
    },
    {
     "data": {
      "text/plain": [
       "41"
      ]
     },
     "execution_count": 18,
     "metadata": {},
     "output_type": "execute_result"
    },
    {
     "data": {
      "text/plain": [
       "3"
      ]
     },
     "execution_count": 18,
     "metadata": {},
     "output_type": "execute_result"
    },
    {
     "data": {
      "text/plain": [
       "12"
      ]
     },
     "execution_count": 18,
     "metadata": {},
     "output_type": "execute_result"
    },
    {
     "data": {
      "text/plain": [
       "9"
      ]
     },
     "execution_count": 18,
     "metadata": {},
     "output_type": "execute_result"
    },
    {
     "data": {
      "text/plain": [
       "5"
      ]
     },
     "execution_count": 18,
     "metadata": {},
     "output_type": "execute_result"
    },
    {
     "data": {
      "text/plain": [
       "15"
      ]
     },
     "execution_count": 18,
     "metadata": {},
     "output_type": "execute_result"
    },
    {
     "data": {
      "text/plain": [
       "375"
      ]
     },
     "execution_count": 18,
     "metadata": {},
     "output_type": "execute_result"
    },
    {
     "data": {
      "text/plain": [
       "3"
      ]
     },
     "execution_count": 18,
     "metadata": {},
     "output_type": "execute_result"
    },
    {
     "data": {
      "text/plain": [
       "15"
      ]
     },
     "execution_count": 18,
     "metadata": {},
     "output_type": "execute_result"
    },
    {
     "data": {
      "text/plain": [
       "69"
      ]
     },
     "execution_count": 18,
     "metadata": {},
     "output_type": "execute_result"
    },
    {
     "data": {
      "text/plain": [
       "3"
      ]
     },
     "execution_count": 18,
     "metadata": {},
     "output_type": "execute_result"
    },
    {
     "data": {
      "text/plain": [
       "15"
      ]
     },
     "execution_count": 18,
     "metadata": {},
     "output_type": "execute_result"
    },
    {
     "data": {
      "text/plain": [
       "111"
      ]
     },
     "execution_count": 18,
     "metadata": {},
     "output_type": "execute_result"
    },
    {
     "data": {
      "text/plain": [
       "3"
      ]
     },
     "execution_count": 18,
     "metadata": {},
     "output_type": "execute_result"
    },
    {
     "data": {
      "text/plain": [
       "12"
      ]
     },
     "execution_count": 18,
     "metadata": {},
     "output_type": "execute_result"
    },
    {
     "data": {
      "text/plain": [
       "9"
      ]
     },
     "execution_count": 18,
     "metadata": {},
     "output_type": "execute_result"
    },
    {
     "data": {
      "text/plain": [
       "5"
      ]
     },
     "execution_count": 18,
     "metadata": {},
     "output_type": "execute_result"
    },
    {
     "data": {
      "text/plain": [
       "15"
      ]
     },
     "execution_count": 18,
     "metadata": {},
     "output_type": "execute_result"
    },
    {
     "data": {
      "text/plain": [
       "299"
      ]
     },
     "execution_count": 18,
     "metadata": {},
     "output_type": "execute_result"
    },
    {
     "data": {
      "text/plain": [
       "3"
      ]
     },
     "execution_count": 18,
     "metadata": {},
     "output_type": "execute_result"
    },
    {
     "data": {
      "text/plain": [
       "15"
      ]
     },
     "execution_count": 18,
     "metadata": {},
     "output_type": "execute_result"
    },
    {
     "data": {
      "text/plain": [
       "298"
      ]
     },
     "execution_count": 18,
     "metadata": {},
     "output_type": "execute_result"
    },
    {
     "data": {
      "text/plain": [
       "3"
      ]
     },
     "execution_count": 18,
     "metadata": {},
     "output_type": "execute_result"
    },
    {
     "data": {
      "text/plain": [
       "15"
      ]
     },
     "execution_count": 18,
     "metadata": {},
     "output_type": "execute_result"
    },
    {
     "data": {
      "text/plain": [
       "41"
      ]
     },
     "execution_count": 18,
     "metadata": {},
     "output_type": "execute_result"
    },
    {
     "data": {
      "text/plain": [
       "3"
      ]
     },
     "execution_count": 18,
     "metadata": {},
     "output_type": "execute_result"
    },
    {
     "data": {
      "text/plain": [
       "12"
      ]
     },
     "execution_count": 18,
     "metadata": {},
     "output_type": "execute_result"
    },
    {
     "data": {
      "text/plain": [
       "12"
      ]
     },
     "execution_count": 18,
     "metadata": {},
     "output_type": "execute_result"
    },
    {
     "data": {
      "text/plain": [
       "5"
      ]
     },
     "execution_count": 18,
     "metadata": {},
     "output_type": "execute_result"
    },
    {
     "data": {
      "text/plain": [
       "15"
      ]
     },
     "execution_count": 18,
     "metadata": {},
     "output_type": "execute_result"
    },
    {
     "data": {
      "text/plain": [
       "70"
      ]
     },
     "execution_count": 18,
     "metadata": {},
     "output_type": "execute_result"
    },
    {
     "data": {
      "text/plain": [
       "3"
      ]
     },
     "execution_count": 18,
     "metadata": {},
     "output_type": "execute_result"
    },
    {
     "data": {
      "text/plain": [
       "15"
      ]
     },
     "execution_count": 18,
     "metadata": {},
     "output_type": "execute_result"
    },
    {
     "data": {
      "text/plain": [
       "301"
      ]
     },
     "execution_count": 18,
     "metadata": {},
     "output_type": "execute_result"
    },
    {
     "data": {
      "text/plain": [
       "3"
      ]
     },
     "execution_count": 18,
     "metadata": {},
     "output_type": "execute_result"
    },
    {
     "data": {
      "text/plain": [
       "15"
      ]
     },
     "execution_count": 18,
     "metadata": {},
     "output_type": "execute_result"
    },
    {
     "data": {
      "text/plain": [
       "70"
      ]
     },
     "execution_count": 18,
     "metadata": {},
     "output_type": "execute_result"
    },
    {
     "data": {
      "text/plain": [
       "3"
      ]
     },
     "execution_count": 18,
     "metadata": {},
     "output_type": "execute_result"
    },
    {
     "data": {
      "text/plain": [
       "15"
      ]
     },
     "execution_count": 18,
     "metadata": {},
     "output_type": "execute_result"
    },
    {
     "data": {
      "text/plain": [
       "41"
      ]
     },
     "execution_count": 18,
     "metadata": {},
     "output_type": "execute_result"
    },
    {
     "data": {
      "text/plain": [
       "3"
      ]
     },
     "execution_count": 18,
     "metadata": {},
     "output_type": "execute_result"
    },
    {
     "data": {
      "text/plain": [
       "12"
      ]
     },
     "execution_count": 18,
     "metadata": {},
     "output_type": "execute_result"
    },
    {
     "data": {
      "text/plain": [
       "12"
      ]
     },
     "execution_count": 18,
     "metadata": {},
     "output_type": "execute_result"
    },
    {
     "data": {
      "text/plain": [
       "5"
      ]
     },
     "execution_count": 18,
     "metadata": {},
     "output_type": "execute_result"
    },
    {
     "data": {
      "text/plain": [
       "15"
      ]
     },
     "execution_count": 18,
     "metadata": {},
     "output_type": "execute_result"
    },
    {
     "data": {
      "text/plain": [
       "70"
      ]
     },
     "execution_count": 18,
     "metadata": {},
     "output_type": "execute_result"
    },
    {
     "data": {
      "text/plain": [
       "3"
      ]
     },
     "execution_count": 18,
     "metadata": {},
     "output_type": "execute_result"
    },
    {
     "data": {
      "text/plain": [
       "15"
      ]
     },
     "execution_count": 18,
     "metadata": {},
     "output_type": "execute_result"
    },
    {
     "data": {
      "text/plain": [
       "305"
      ]
     },
     "execution_count": 18,
     "metadata": {},
     "output_type": "execute_result"
    },
    {
     "data": {
      "text/plain": [
       "3"
      ]
     },
     "execution_count": 18,
     "metadata": {},
     "output_type": "execute_result"
    },
    {
     "data": {
      "text/plain": [
       "15"
      ]
     },
     "execution_count": 18,
     "metadata": {},
     "output_type": "execute_result"
    },
    {
     "data": {
      "text/plain": [
       "69"
      ]
     },
     "execution_count": 18,
     "metadata": {},
     "output_type": "execute_result"
    },
    {
     "data": {
      "text/plain": [
       "3"
      ]
     },
     "execution_count": 18,
     "metadata": {},
     "output_type": "execute_result"
    },
    {
     "data": {
      "text/plain": [
       "15"
      ]
     },
     "execution_count": 18,
     "metadata": {},
     "output_type": "execute_result"
    },
    {
     "data": {
      "text/plain": [
       "111"
      ]
     },
     "execution_count": 18,
     "metadata": {},
     "output_type": "execute_result"
    },
    {
     "data": {
      "text/plain": [
       "3"
      ]
     },
     "execution_count": 18,
     "metadata": {},
     "output_type": "execute_result"
    },
    {
     "data": {
      "text/plain": [
       "12"
      ]
     },
     "execution_count": 18,
     "metadata": {},
     "output_type": "execute_result"
    },
    {
     "data": {
      "text/plain": [
       "12"
      ]
     },
     "execution_count": 18,
     "metadata": {},
     "output_type": "execute_result"
    },
    {
     "data": {
      "text/plain": [
       "5"
      ]
     },
     "execution_count": 18,
     "metadata": {},
     "output_type": "execute_result"
    },
    {
     "data": {
      "text/plain": [
       "15"
      ]
     },
     "execution_count": 18,
     "metadata": {},
     "output_type": "execute_result"
    },
    {
     "data": {
      "text/plain": [
       "70"
      ]
     },
     "execution_count": 18,
     "metadata": {},
     "output_type": "execute_result"
    },
    {
     "data": {
      "text/plain": [
       "3"
      ]
     },
     "execution_count": 18,
     "metadata": {},
     "output_type": "execute_result"
    },
    {
     "data": {
      "text/plain": [
       "15"
      ]
     },
     "execution_count": 18,
     "metadata": {},
     "output_type": "execute_result"
    },
    {
     "data": {
      "text/plain": [
       "229"
      ]
     },
     "execution_count": 18,
     "metadata": {},
     "output_type": "execute_result"
    },
    {
     "data": {
      "text/plain": [
       "3"
      ]
     },
     "execution_count": 18,
     "metadata": {},
     "output_type": "execute_result"
    },
    {
     "data": {
      "text/plain": [
       "15"
      ]
     },
     "execution_count": 18,
     "metadata": {},
     "output_type": "execute_result"
    },
    {
     "data": {
      "text/plain": [
       "228"
      ]
     },
     "execution_count": 18,
     "metadata": {},
     "output_type": "execute_result"
    },
    {
     "data": {
      "text/plain": [
       "3"
      ]
     },
     "execution_count": 18,
     "metadata": {},
     "output_type": "execute_result"
    },
    {
     "data": {
      "text/plain": [
       "15"
      ]
     },
     "execution_count": 18,
     "metadata": {},
     "output_type": "execute_result"
    },
    {
     "data": {
      "text/plain": [
       "41"
      ]
     },
     "execution_count": 18,
     "metadata": {},
     "output_type": "execute_result"
    },
    {
     "data": {
      "text/plain": [
       "3"
      ]
     },
     "execution_count": 18,
     "metadata": {},
     "output_type": "execute_result"
    },
    {
     "data": {
      "text/plain": [
       "12"
      ]
     },
     "execution_count": 18,
     "metadata": {},
     "output_type": "execute_result"
    },
    {
     "data": {
      "text/plain": [
       "12"
      ]
     },
     "execution_count": 18,
     "metadata": {},
     "output_type": "execute_result"
    },
    {
     "data": {
      "text/plain": [
       "5"
      ]
     },
     "execution_count": 18,
     "metadata": {},
     "output_type": "execute_result"
    },
    {
     "data": {
      "text/plain": [
       "15"
      ]
     },
     "execution_count": 18,
     "metadata": {},
     "output_type": "execute_result"
    },
    {
     "data": {
      "text/plain": [
       "235"
      ]
     },
     "execution_count": 18,
     "metadata": {},
     "output_type": "execute_result"
    },
    {
     "data": {
      "text/plain": [
       "3"
      ]
     },
     "execution_count": 18,
     "metadata": {},
     "output_type": "execute_result"
    },
    {
     "data": {
      "text/plain": [
       "15"
      ]
     },
     "execution_count": 18,
     "metadata": {},
     "output_type": "execute_result"
    },
    {
     "data": {
      "text/plain": [
       "70"
      ]
     },
     "execution_count": 18,
     "metadata": {},
     "output_type": "execute_result"
    },
    {
     "data": {
      "text/plain": [
       "3"
      ]
     },
     "execution_count": 18,
     "metadata": {},
     "output_type": "execute_result"
    },
    {
     "data": {
      "text/plain": [
       "15"
      ]
     },
     "execution_count": 18,
     "metadata": {},
     "output_type": "execute_result"
    },
    {
     "data": {
      "text/plain": [
       "69"
      ]
     },
     "execution_count": 18,
     "metadata": {},
     "output_type": "execute_result"
    },
    {
     "data": {
      "text/plain": [
       "3"
      ]
     },
     "execution_count": 18,
     "metadata": {},
     "output_type": "execute_result"
    },
    {
     "data": {
      "text/plain": [
       "15"
      ]
     },
     "execution_count": 18,
     "metadata": {},
     "output_type": "execute_result"
    },
    {
     "data": {
      "text/plain": [
       "41"
      ]
     },
     "execution_count": 18,
     "metadata": {},
     "output_type": "execute_result"
    },
    {
     "data": {
      "text/plain": [
       "3"
      ]
     },
     "execution_count": 18,
     "metadata": {},
     "output_type": "execute_result"
    }
   ],
   "source": [
    "from sympy.printing import latex\n",
    "filename = 'gene_expression_results_with_input.txt'\n",
    "f1 = open(filename, 'w')\n",
    "f1.write('Model reduction results.\\n')\n",
    "for key,value in sys_reduce.results_dict.items():\n",
    "#     f1.write('A possible reduced model: \\n \\n')\n",
    "    f1.write('\\n$x_{hat} = ')\n",
    "    f1.write(str(key.x))\n",
    "    f1.write('$\\n\\n\\n\\n')\n",
    "    for k in range(len(key.f)):\n",
    "        f1.write('\\n$f_{hat}('+ str(k+1) + ') = ')\n",
    "        f1.write(latex(key.f[k]))\n",
    "        f1.write('$\\n\\n')\n",
    "#     f1.write('\\n\\n\\n')\n",
    "#     f1.write('\\nError metric:')\n",
    "#     f1.write(str(value[0]))\n",
    "#     f1.write('\\n\\n\\n')\n",
    "#     f1.write('\\nRobustness metric:')\n",
    "#     f1.write(str(value[1]))\n",
    "#     f1.write('\\n\\n\\n')\n",
    "#     f1.write('Other properties') \n",
    "#     f1.write('\\n\\n\\n')\n",
    "#     f1.write('\\n C = ')\n",
    "#     f1.write(str(key.C))\n",
    "#     f1.write('\\n$ g = ')\n",
    "#     f1.write(str(key.g))\n",
    "#     f1.write('$\\n h = ')\n",
    "#     f1.write(str(key.h))\n",
    "#     f1.write('\\n$h = ')\n",
    "#     f1.write(str(key.h))\n",
    "#     f1.write('$\\n Solutions : \\n')\n",
    "#     f1.write(str(key.x_sol))\n",
    "#     f1.write('\\n\\n\\n\\n')\n",
    "#     f1.write('\\n Sensitivity Solutions : \\n')\n",
    "#     f1.write(str(key.S))\n",
    "#     f1.write('\\n\\n\\n\\n')\n",
    "f1.close()"
   ]
  },
  {
   "cell_type": "markdown",
   "metadata": {},
   "source": [
    "### Error metric"
   ]
  },
  {
   "cell_type": "code",
   "execution_count": 20,
   "metadata": {},
   "outputs": [
    {
     "ename": "TypeError",
     "evalue": "'NoneType' object is not subscriptable",
     "output_type": "error",
     "traceback": [
      "\u001b[1;31m---------------------------------------------------------------------------\u001b[0m",
      "\u001b[1;31mTypeError\u001b[0m                                 Traceback (most recent call last)",
      "\u001b[1;32m<ipython-input-20-2d3f10bf643a>\u001b[0m in \u001b[0;36m<module>\u001b[1;34m\u001b[0m\n\u001b[0;32m      9\u001b[0m \u001b[0m_\u001b[0m \u001b[1;33m=\u001b[0m \u001b[0mplt\u001b[0m\u001b[1;33m.\u001b[0m\u001b[0mplot\u001b[0m\u001b[1;33m(\u001b[0m\u001b[0mtimepoints_ode\u001b[0m\u001b[1;33m,\u001b[0m \u001b[0mnp\u001b[0m\u001b[1;33m.\u001b[0m\u001b[0mtranspose\u001b[0m\u001b[1;33m(\u001b[0m\u001b[0mnp\u001b[0m\u001b[1;33m.\u001b[0m\u001b[0marray\u001b[0m\u001b[1;33m(\u001b[0m\u001b[0msys_reduce\u001b[0m\u001b[1;33m.\u001b[0m\u001b[0mC\u001b[0m\u001b[1;33m)\u001b[0m\u001b[1;33m@\u001b[0m\u001b[0msol\u001b[0m\u001b[1;33m)\u001b[0m\u001b[1;33m,\u001b[0m \u001b[1;34m'k--'\u001b[0m\u001b[1;33m,\u001b[0m \u001b[0mlabel\u001b[0m \u001b[1;33m=\u001b[0m \u001b[1;34m'Full CRN model'\u001b[0m\u001b[1;33m,\u001b[0m \u001b[0mlinewidth\u001b[0m \u001b[1;33m=\u001b[0m \u001b[1;36m5\u001b[0m\u001b[1;33m)\u001b[0m\u001b[1;33m\u001b[0m\u001b[1;33m\u001b[0m\u001b[0m\n\u001b[0;32m     10\u001b[0m \u001b[1;32mfor\u001b[0m \u001b[0mkey\u001b[0m\u001b[1;33m,\u001b[0m\u001b[0mvalue\u001b[0m \u001b[1;32min\u001b[0m \u001b[0mresults\u001b[0m\u001b[1;33m.\u001b[0m\u001b[0mitems\u001b[0m\u001b[1;33m(\u001b[0m\u001b[1;33m)\u001b[0m\u001b[1;33m:\u001b[0m\u001b[1;33m\u001b[0m\u001b[1;33m\u001b[0m\u001b[0m\n\u001b[1;32m---> 11\u001b[1;33m     \u001b[0merror\u001b[0m \u001b[1;33m=\u001b[0m \u001b[0mvalue\u001b[0m\u001b[1;33m[\u001b[0m\u001b[1;36m0\u001b[0m\u001b[1;33m]\u001b[0m\u001b[1;33m\u001b[0m\u001b[1;33m\u001b[0m\u001b[0m\n\u001b[0m\u001b[0;32m     12\u001b[0m \u001b[1;31m#     if error > 1e-5:\u001b[0m\u001b[1;33m\u001b[0m\u001b[1;33m\u001b[0m\u001b[1;33m\u001b[0m\u001b[0m\n\u001b[0;32m     13\u001b[0m     \u001b[0msys_i\u001b[0m \u001b[1;33m=\u001b[0m \u001b[0mkey\u001b[0m\u001b[1;33m\u001b[0m\u001b[1;33m\u001b[0m\u001b[0m\n",
      "\u001b[1;31mTypeError\u001b[0m: 'NoneType' object is not subscriptable"
     ]
    },
    {
     "data": {
      "image/png": "[encoded data removed]",
      "text/plain": [
       "<Figure size 432x288 with 1 Axes>"
      ]
     },
     "metadata": {
      "needs_background": "light"
     },
     "output_type": "display_data"
    }
   ],
   "source": [
    "fig, ax = plt.subplots() \n",
    "count = 0\n",
    "# params = [k_bp, k_up, k_tx, k_br, k_ur, k_tl, k_be, k_ue, d_i, d, d_T, E_tot, P_tot, R_tot, G]\n",
    "params_values_new = [80, 2, 0.5, 80, 2, 0.5, 80, 2, 0.1, 0.5, 0.05, 40, 100, 400, 10]\n",
    "sys_reduce.params_values = params_values_new\n",
    "\n",
    "sys_ode = get_ODE(sys_reduce, timepoints_ode)\n",
    "sol = sys_ode.solve_system().T\n",
    "_ = plt.plot(timepoints_ode, np.transpose(np.array(sys_reduce.C)@sol), 'k--', label = 'Full CRN model', linewidth = 5)\n",
    "for key,value in results.items():\n",
    "    error = value[0]\n",
    "#     if error > 1e-5:\n",
    "    sys_i = key\n",
    "    sys_i.params_values = params_values_new\n",
    "#     if sys_i.x == [T,R,X] or sys_i.x == [R, E, X] or sys_i.x == [T,X]:\n",
    "#         _ = plt.subplots(count%3, count%3)\n",
    "    sys_i_ode = get_ODE(sys_i, timepoints_ode)\n",
    "    sol_i = sys_i_ode.solve_system().T\n",
    "    _ = plt.plot(timepoints_ode, np.transpose(sys_i.C@sol_i), label = str(sys_i.x)+', $\\|e\\|_2$ = '+str(\"%.2f\" %error), linewidth = 2)\n",
    "    _ = plt.xlabel('Time', FontSize = 18)\n",
    "    _ = plt.ylabel('[X]', FontSize = 18)\n",
    "    _ = ax.tick_params(axis='both', which='major', labelsize=14)\n",
    "    _ = plt.legend(prop={'size': 8})\n",
    "    count += 1\n",
    "\n",
    "# _ = plt.axvline(x=timepoints_ode[6], color = 'k',linestyle = ':',linewidth = 1.5)\n",
    "# _ = plt.axvline(x=timepoints_ode[15], color = 'k',linestyle = ':',linewidth = 1.5)\n",
    "# _ = plt.axvline(x=timepoints_ode[30], color = 'k',linestyle = ':',linewidth = 1.5)\n",
    "_ = plt.savefig('error_metric_gene_expression.svg')\n",
    "plt.show()\n"
   ]
  },
  {
   "cell_type": "code",
   "execution_count": 144,
   "metadata": {},
   "outputs": [
    {
     "data": {
      "image/png": "[encoded data removed]",
      "text/plain": [
       "<Figure size 432x288 with 1 Axes>"
      ]
     },
     "metadata": {
      "needs_background": "light"
     },
     "output_type": "display_data"
    }
   ],
   "source": [
    "fig, ax = plt.subplots() \n",
    "count = 0\n",
    "# params = [k_bp, k_up, k_tx, k_br, k_ur, k_tl, k_be, k_ue, d_i, d, d_T, E_tot, P_tot, R_tot, G]\n",
    "params_values_new = [200, 2, 0.5, 0.1, 0.2, 0.1, 20, 5, 0.1, 0.5, 0.05, 100, 10, 1000, 0.1]\n",
    "sys_reduce.params_values = params_values_new\n",
    "timepoints_ode = np.linspace(0,24,100)\n",
    "sys_ode = get_ODE(sys_reduce, timepoints_ode)\n",
    "sol = sys_ode.solve_system().T\n",
    "_ = plt.plot(timepoints_ode, np.transpose(np.array(sys_reduce.C)@sol), 'k--', label = 'Full CRN model', linewidth = 5)\n",
    "for key,value in results.items():\n",
    "#     error = value[0]\n",
    "#     if error > 1e-5:\n",
    "    sys_i = key\n",
    "    sys_i.params_values = params_values_new\n",
    "    if sys_i.x == [P,T,E,X] or sys_i.x == [T,E,X] or sys_i.x == [T,R, E,X] :\n",
    "        continue\n",
    "#         _ = plt.subplots(count%3, count%3)\n",
    "    sys_i_ode = get_ODE(sys_i, timepoints_ode)\n",
    "    sol_i = sys_i_ode.solve_system().T\n",
    "    _ = plt.plot(timepoints_ode, np.transpose(sys_i.C@sol_i), label = str(sys_i.x), linewidth = 2)\n",
    "    _ = plt.xlabel('Time', FontSize = 18)\n",
    "    _ = plt.ylabel('[X]', FontSize = 18)\n",
    "    _ = ax.tick_params(axis='both', which='major', labelsize=14)\n",
    "    _ = plt.legend(prop={'size': 8})\n",
    "    count += 1\n",
    "\n",
    "# _ = plt.axvline(x=timepoints_ode[6], color = 'k',linestyle = ':',linewidth = 1.5)\n",
    "# _ = plt.axvline(x=timepoints_ode[15], color = 'k',linestyle = ':',linewidth = 1.5)\n",
    "# _ = plt.axvline(x=timepoints_ode[30], color = 'k',linestyle = ':',linewidth = 1.5)\n",
    "_ = plt.savefig('error_metric_gene_expression.svg')\n",
    "plt.show()\n"
   ]
  },
  {
   "cell_type": "markdown",
   "metadata": {},
   "source": [
    "### Robustness metric \n"
   ]
  },
  {
   "cell_type": "code",
   "execution_count": null,
   "metadata": {},
   "outputs": [],
   "source": [
    "# fig, ax = plt.subplots() \n",
    "fig = plt.figure(num=None, figsize=(7, 6), dpi=80, facecolor='w', edgecolor='k')\n",
    "# count = 0\n",
    "import seaborn as sn\n",
    "# params_names = ['$'+str(i)+'$' for i in params]\n",
    "params_names = ['$k_{bp}$', '$k_{up}$', '$k_{tx}$', '$k_{br}$', '$k_{ur}$', '$k_{tl}$', '$k_{be}$', '$k_{ue}$',\n",
    "          '$d_i$', '$d$', '$E_{tot}$', '$P_{tot}$', '$R_{tot}$']\n",
    "rob_2d_all = []\n",
    "rob_2d = []\n",
    "sys_reduced_x = []\n",
    "# plt.plot(timepoints_ode, np.transpose(np.array(sys_reduce.C)@sol), 'k--', label = 'Full CRN model', linewidth = 5)\n",
    "# params_names[0] = '$k_b$'\n",
    "for key,value in results.items():\n",
    "    sys_i = key\n",
    "    Se = value[1]\n",
    "    Se = np.delete(Se, -1)\n",
    "    if len(sys_i.x) > 4:\n",
    "        continue\n",
    "    sys_reduced_x.append(str(sys_i.x))\n",
    "    rob_2d.append(Se)\n",
    "\n",
    "sn_ax = sn.heatmap(np.array(rob_2d), cbar_kws={'label': 'Robustness metric ($\\|S_e\\|$)', 'orientation':'horizontal','fraction':0.2})\n",
    "# cbar_axes = sn_ax.figure.axes[-1]\n",
    "sn_ax.figure.axes[-1].xaxis.label.set_size(18)\n",
    "ax = fig.axes\n",
    "_ = plt.xlabel('Parameters', FontSize = 18)\n",
    "_ = plt.ylabel('Reduced models', FontSize = 18)\n",
    "_ = ax[0].tick_params(axis='x', which='major', labelsize=14)\n",
    "_ = ax[0].set_xticklabels(params_names)\n",
    "_ = ax[0].set_yticklabels(sys_reduced_x, rotation = 0)\n",
    "# h.set_rotation(0)\n",
    "_ = plt.savefig('robustness_metric_gene_expression_final.svg')\n",
    "plt.show()"
   ]
  },
  {
   "cell_type": "markdown",
   "metadata": {},
   "source": [
    "### Gamma (Input-Output mapping) => linearize the dynamics"
   ]
  },
  {
   "cell_type": "code",
   "execution_count": null,
   "metadata": {},
   "outputs": [],
   "source": [
    "t_lin = [timepoints_ode[6], timepoints_ode[15], timepoints_ode[30]]\n",
    "fig = plt.figure()\n",
    "from auto_reduce.utils import get_SSM\n",
    "from scipy import signal\n",
    "from scipy.linalg import solve_lyapunov\n",
    "G_2norms = {}\n",
    "list_of_systems = [i for i in results.keys()]\n",
    "list_of_systems.append(sys_reduce)\n",
    "for sys_i in list_of_systems:\n",
    "    if len(sys_i.x) > 3 and sys_i is not sys_reduce:\n",
    "        continue\n",
    "    sys_i_ode = get_ODE(sys_i, timepoints_ode)\n",
    "    sol_i = sys_i_ode.solve_system().T\n",
    "    for t in t_lin:\n",
    "        x_pt = sol_i[:,list(timepoints_ode).index(t)]\n",
    "        A_i = compute_J(sys_i, x_pt, mode = 'accurate')\n",
    "        sys_i_ssm = get_SSM(sys_i, timepoints_ode)\n",
    "        B_i = sys_i_ssm.compute_Zj(x_pt, 13)\n",
    "        B_i = np.reshape(B_i, (len(sys_i.x),1))\n",
    "        n_size = np.shape(J_i)[1]\n",
    "        C_i = sys_i.C\n",
    "        G_i = signal.StateSpace(A_i, B_i, C_i, 0)\n",
    "        G_i_tf = signal.TransferFunction(G_i)\n",
    "        L = solve_lyapunov(A_i, -B_i@B_i.T)\n",
    "        val_2norm = np.sqrt(C_i@L@C_i.T)\n",
    "        G_2norms[str(sys_i.x) + ' at time ' + str(t)] = val_2norm\n",
    "    if sys_i == sys_reduce:\n",
    "        _ = plt.plot(timepoints_ode, np.transpose(sys_i.C@sol_i), 'k--', label = str('Full CRN model') +', $\\gamma(H)$ = '+str(\"%.2f\" %val_2norm), linewidth = 5)\n",
    "    else:\n",
    "        _ = plt.plot(timepoints_ode, np.transpose(sys_i.C@sol_i), label = str(sys_i.x)+', $\\gamma(H)$ = '+str(\"%.2f\" %val_2norm), linewidth = 2)\n",
    "    _ = plt.xlabel('Time', FontSize = 18)\n",
    "    _ = plt.ylabel('[X]', FontSize = 18)\n",
    "\n",
    "ax = fig.axes[0]\n",
    "_ = ax.tick_params(axis='both', which='major', labelsize=14)\n",
    "_ = plt.legend(prop={'size': 8})\n",
    "_ = plt.axvline(x=timepoints_ode[6], color = 'k',linestyle = ':',linewidth = 1.5)\n",
    "_ = plt.axvline(x=timepoints_ode[15], color = 'k',linestyle = ':',linewidth = 1.5)\n",
    "_ = plt.axvline(x=timepoints_ode[30], color = 'k',linestyle = ':',linewidth = 1.5)\n",
    "_ = plt.savefig('gene_expression_gamma.svg')\n",
    "plt.show()\n"
   ]
  },
  {
   "cell_type": "code",
   "execution_count": null,
   "metadata": {},
   "outputs": [],
   "source": [
    "from scipy.linalg import eigvals, norm\n",
    "# eigvals(J_i)\n",
    "# len(params)\n",
    "# A_i\n",
    "G_2norms\n",
    "# C_i\n"
   ]
  },
  {
   "cell_type": "code",
   "execution_count": null,
   "metadata": {},
   "outputs": [],
   "source": [
    "sys_reduce.x"
   ]
  },
  {
   "cell_type": "code",
   "execution_count": null,
   "metadata": {},
   "outputs": [],
   "source": [
    "sys_reduce.get_error_metric(list(results.keys())[-3])\n",
    "sys_i = list(results.keys())[-3]\n",
    "sys_i_ode = get_ODE(sys_i, timepoints_ode)\n",
    "sol_i = sys_i_ode.solve_system().T\n",
    "sys_ode = get_ODE(sys_reduce, timepoints_ode)\n",
    "sol = sys_ode.solve_system().T\n",
    "plt.plot(timepoints_ode, np.transpose(np.array(sys_reduce.C)@sol))\n",
    "plt.plot(timepoints_ode, np.transpose(np.array(sys_i.C)@sol_i))\n",
    "plt.xlabel('Time')\n",
    "plt.ylabel('[X]')\n",
    "plt.show()\n",
    "sys_i.x"
   ]
  },
  {
   "cell_type": "code",
   "execution_count": null,
   "metadata": {},
   "outputs": [],
   "source": [
    "# params = [k_bp, k_up, k_tx, k_br, k_ur, k_tl, k_be, k_ue, d_i, d, E_tot, P_tot, R_tot]\n",
    "\n",
    "params_values_new = params_values = params_values = [100, 10, 4, 10, 0.25, 2, 10, 0.5, 1, 10, 10000, 10000, 10000, 0.01]\n",
    "sys.params_values = params_values_new\n",
    "sys_gtx.params_values = params_values_new\n",
    "sys_gc1tx.params_values = params_values_new\n",
    "sys_gc2tx.params_values = params_values_new\n",
    "sys_gc3tx.params_values = params_values_new\n",
    "timepoints_ode = np.linspace(0, 5, 100)\n",
    "\n",
    "sys_ode = get_ODE(sys_reduce, timepoints_ode)\n",
    "sol = sys_ode.solve_system().T\n",
    "\n",
    "\n",
    "sys_gtx_ode = get_ODE(sys_gtx, timepoints_ode)\n",
    "x_gtx = sys_gtx_ode.solve_system().T\n",
    "\n",
    "\n",
    "sys_gc1tx_ode = get_ODE(sys_gc1tx, timepoints_ode)\n",
    "x_gc1tx = sys_gc1tx_ode.solve_system().T\n",
    "\n",
    "\n",
    "sys_gc2tx_ode = get_ODE(sys_gc2tx, timepoints_ode)\n",
    "x_gc2tx = sys_gc2tx_ode.solve_system().T\n",
    "\n",
    "\n",
    "sys_gc3tx_ode = get_ODE(sys_gc3tx, timepoints_ode)\n",
    "x_gc3tx = sys_gc3tx_ode.solve_system().T\n"
   ]
  },
  {
   "cell_type": "code",
   "execution_count": null,
   "metadata": {},
   "outputs": [],
   "source": [
    "import matplotlib.pyplot as plt\n",
    "fig, ax = plt.subplots()\n",
    "xs1 = list(results.keys())[3].x_sol\n",
    "sys1 = list(results.keys())[3]\n",
    "xs2 = list(results.keys())[6].x_sol\n",
    "sys2 = list(results.keys())[6]\n",
    "xs3 = list(results.keys())[8].x_sol\n",
    "sys3 = list(results.keys())[8]\n",
    "xs4 = list(results.keys())[10].x_sol\n",
    "sys4 = list(results.keys())[10]\n",
    "xs5 = list(results.keys())[11].x_sol\n",
    "sys5 = list(results.keys())[11]\n",
    "xs6 = list(results.keys())[13].x_sol\n",
    "sys6 = list(results.keys())[13]\n",
    "xs7 = list(results.keys())[14].x_sol\n",
    "sys7 = list(results.keys())[14]\n",
    "plt.plot(timepoints_ode, np.transpose(np.array(sys_reduce.C)@sol), 'k--', label = 'Full CRN model', linewidth = 5)\n",
    "plt.plot(timepoints_ode, np.transpose(np.array(sys3.C)@xs3), label = str(sys1.x), linewidth = 2)\n",
    "# plt.plot(timepoints_ode, np.transpose(np.array(sys_gc1tx.C)@x_gc1tx), label = str(sys_gc1tx.x), linewidth = 2)\n",
    "# plt.plot(timepoints_ode, np.transpose(np.array(sys_gc2tx.C)@x_gc2tx), label = str(sys_gc2tx.x), linewidth = 2)\n",
    "# plt.plot(timepoints_ode, np.transpose(np.array(sys_gc3tx.C)@x_gc3tx), label = str(sys_gc3tx.x), linewidth = 2)\n",
    "plt.xlabel('Time', FontSize = 18)\n",
    "plt.ylabel('[X]', FontSize = 18)\n",
    "ax.tick_params(axis='both', which='major', labelsize=14)\n",
    "plt.legend()\n",
    "plt.savefig('gene_expression_timecourse.svg')\n",
    "plt.show()"
   ]
  },
  {
   "cell_type": "code",
   "execution_count": null,
   "metadata": {},
   "outputs": [],
   "source": [
    "sys_gc2tx.f[2]"
   ]
  },
  {
   "cell_type": "code",
   "execution_count": null,
   "metadata": {},
   "outputs": [],
   "source": [
    "def evaluate(system, f, x, P, u = None):\n",
    "    \"\"\"\n",
    "    Evaluate the given symbolic function (f) that is part of the System\n",
    "    at the values given by x for self.x and P for self.params\n",
    "    \"\"\"\n",
    "    fs = []\n",
    "    for i in range(len(f)):\n",
    "        fi = f[i]\n",
    "        fi = fi.subs(list(zip(system.x, x)))\n",
    "        if system.u is not None:\n",
    "            fi = fi.subs(list(zip(system.u, u)))\n",
    "        fi = fi.subs(list(zip(system.params, P)))\n",
    "        fs.append(fi)\n",
    "    return fs\n",
    "\n",
    "def compute_J(system, x, **kwargs):\n",
    "    '''\n",
    "    Compute the Jacobian J = df/dx at a timepoint k.\n",
    "    Returns a matrix of size n x n.\n",
    "    Use mode = 'accurate' for this object attribute to use accurate computations using numdifftools.\n",
    "    '''\n",
    "    \n",
    "    # initialize J\n",
    "    J = np.zeros( (system.n, system.n) )   \n",
    "    P = system.params_values \n",
    "    u = system.u\n",
    "    # store x\n",
    "    X = x \n",
    "    if 'fun' in kwargs:\n",
    "        fun = kwargs.get('fun')\n",
    "    else:\n",
    "        fun = system.f\n",
    "    for i in range(system.n):\n",
    "        for j in range(system.n):\n",
    "            F = np.zeros( (4,1) )\n",
    "            h = X[j]*0.01\n",
    "            # Gets O(4) central difference on dfi/dxj\n",
    "            if h != 0:\n",
    "                x = X\n",
    "                x[j] = X[j] + 2*h\n",
    "                f = evaluate(system, fun, x, P, u)\n",
    "                F[0] = f[i]\n",
    "                x[j] = X[j] + h\n",
    "                f = evaluate(system, fun, x, P, u)\n",
    "                F[1] = f[i]\n",
    "                x[j] = X[j] - h\n",
    "                f = evaluate(system, fun, x, P, u)\n",
    "                F[2] = f[i]\n",
    "                x[j] = X[j] - 2*h\n",
    "                f = evaluate(system, fun, x, P, u)\n",
    "                F[3] = f[i]\n",
    "                #Store approx. dfi/dxj into J\n",
    "                J[i,j]= (-F[0] + 8*F[1] - 8*F[2] + F[3])/(12*h)   \n",
    "                # print(J[i,j])\n",
    "                # if J[i,j] == np.Inf:\n",
    "                #     J[i,j] = 1\n",
    "                # elif J[i,j] == np.NaN:\n",
    "                #     J[i,j] = 0\n",
    "    return J\n"
   ]
  },
  {
   "cell_type": "code",
   "execution_count": null,
   "metadata": {},
   "outputs": [],
   "source": [
    "t_lin = [timepoints_ode[6], timepoints_ode[15], timepoints_ode[30]]\n",
    "# t_lin = [timepoints_ode[6]]\n",
    "fig, ax = plt.subplots()\n",
    "out_sol = np.array(sys_reduce.C)@sol\n",
    "out_gtx = np.array(sys_gtx.C)@x_gtx\n",
    "out_gc1tx = np.array(sys_gc1tx.C)@x_gc1tx\n",
    "out_gc2tx = np.array(sys_gc2tx.C)@x_gc2tx\n",
    "out_gc3tx = np.array(sys_gc3tx.C)@x_gc3tx\n",
    "plt.plot(timepoints_ode, np.transpose(out_sol), 'k--', label = 'Full CRN model', linewidth = 5)\n",
    "plt.plot(timepoints_ode, np.transpose(out_gtx), label = '[T, X]', linewidth = 2)\n",
    "plt.plot(timepoints_ode, np.transpose(out_gc1tx), label = '[T, C1, X]', linewidth = 2)\n",
    "plt.plot(timepoints_ode, np.transpose(out_gc2tx), label = '[T, C2, X]', linewidth = 2)\n",
    "plt.plot(timepoints_ode, np.transpose(out_gc3tx), label = '[T, C3, X]', linewidth = 2)\n",
    "\n",
    "for t in t_lin:\n",
    "    x_pt = sol[:,list(timepoints_ode).index(t)]\n",
    "    J_full = compute_J(sys_reduce, x_pt, mode = 'accurate')\n",
    "#     B_full = compute_J(sys_reduce, x_pt, var = sys_reduce.g)\n",
    "    n_size = np.shape(J_full)[1]\n",
    "#     A_full = J_full[1:n_size,1:n_size]\n",
    "#     B_full = J_full[0,:]\n",
    "    C_full = sys_reduce.C\n",
    "#     G_full = \n",
    "    \n",
    "    x_pt = x_gtx[:,list(timepoints_ode).index(t)]\n",
    "    J_gtx = compute_J(sys_gtx, x_pt, mode = 'accurate')\n",
    "    n_size = np.shape(J_gtx)[1]\n",
    "#     A_gtx = J_gtx[1:n_size,1:n_size]\n",
    "#     B_gtx = J_gtx[0,:]\n",
    "#     B_gtx = compute_J(sys_gtx, x_pt, var = sys_gtx.g)\n",
    "    C_gtx = sys_gtx.C\n",
    "    \n",
    "    x_pt = x_gc1tx[:,list(timepoints_ode).index(t)]\n",
    "    x_pt_C1 = x_pt\n",
    "    J_gc1tx = compute_J(sys_gc1tx, x_pt, mode = 'accurate')\n",
    "    n_size = np.shape(J_gc1tx)[1]\n",
    "#     B_gc1tx = compute_J(sys_gc1tx, x_pt, var = sys_gc1tx.g)\n",
    "#     A_gc1tx = J_gc1tx[1:n_size,1:n_size]\n",
    "#     B_gc1tx = J_gc1tx[0,:]\n",
    "    C_gc1tx = sys_gc1tx.C\n",
    "    \n",
    "    x_pt = x_gc2tx[:,list(timepoints_ode).index(t)]\n",
    "    J_gc2tx = compute_J(sys_gc2tx, x_pt, mode = 'accurate')\n",
    "    n_size = np.shape(J_gc2tx)[1]\n",
    "#     B_gc2tx = compute_J(sys_gc2tx, x_pt, var = sys_gc2tx.g)\n",
    "#     A_gc2tx = J_gc2tx[1:n_size,1:n_size]\n",
    "#     B_gc2tx = J_gc2tx[0,:]\n",
    "    C_gc2tx = sys_gc2tx.C\n",
    "    \n",
    "    x_pt = x_gc3tx[:,list(timepoints_ode).index(t)]\n",
    "    J_gc3tx = compute_J(sys_gc3tx, x_pt, mode = 'accurate')\n",
    "    n_size = np.shape(J_gc3tx)[1]\n",
    "#     B_gc3tx = compute_J(sys_gc3tx, x_pt, var = sys_gc3tx.g)\n",
    "#     A_gc3tx = J_gc3tx[1:n_size,1:n_size]\n",
    "#     B_gc3tx = J_gc3tx[0,:]\n",
    "    C_gc3tx = sys_gc3tx.C\n",
    "    \n",
    "    plt.axvline(x=t, color = 'k',linestyle = ':',linewidth = 1.5)\n",
    "plt.xlabel('Time', FontSize = 18)\n",
    "plt.ylabel('[X]', FontSize = 18)\n",
    "ax.tick_params(axis='both', which='major', labelsize=14)\n",
    "plt.legend()\n",
    "plt.savefig('linearizations_model.svg')\n",
    "plt.show()    "
   ]
  },
  {
   "cell_type": "code",
   "execution_count": null,
   "metadata": {},
   "outputs": [],
   "source": [
    "x_pt_C1"
   ]
  },
  {
   "cell_type": "code",
   "execution_count": null,
   "metadata": {},
   "outputs": [],
   "source": [
    "from scipy.linalg import eigvals\n",
    "eigvals(A_full)"
   ]
  },
  {
   "cell_type": "code",
   "execution_count": null,
   "metadata": {},
   "outputs": [],
   "source": [
    "np.shape(sys_reduce.x)"
   ]
  },
  {
   "cell_type": "code",
   "execution_count": null,
   "metadata": {},
   "outputs": [],
   "source": [
    "arrr = np.zeros( (5,5) )"
   ]
  },
  {
   "cell_type": "code",
   "execution_count": null,
   "metadata": {},
   "outputs": [],
   "source": [
    "arrr[2:-1,:]"
   ]
  },
  {
   "cell_type": "code",
   "execution_count": null,
   "metadata": {},
   "outputs": [],
   "source": [
    "out_sol[:,list(timepoints_ode).index(t)]"
   ]
  },
  {
   "cell_type": "code",
   "execution_count": null,
   "metadata": {},
   "outputs": [],
   "source": [
    "J_full[1:6,1:6]\n",
    "# A_full"
   ]
  },
  {
   "cell_type": "code",
   "execution_count": null,
   "metadata": {},
   "outputs": [],
   "source": [
    "J_full"
   ]
  },
  {
   "cell_type": "code",
   "execution_count": null,
   "metadata": {},
   "outputs": [],
   "source": [
    "# At t = 0.1\n",
    "norm_full = 0.04\n",
    "norm_gtx = 5.4555e-13\n",
    "norm_gc1tx = 0.04\n",
    "norm_gc2tx = 0\n",
    "norm_gc3tx = 2.7277e-13\n",
    "\n",
    "# At t = 0.4\n",
    "norm_full = 0.04\n",
    "norm_gtx = 3.3490e-13\n",
    "norm_c1gtx = 0.04\n",
    "norm_c2gtx = 1.1543e-11\n",
    "norm_c3gtx = 5.0234e-13\n",
    "\n",
    "\n",
    "# At t = 1\n",
    "norm_full = 0.0400\n",
    "norm_gtx =  2.8312e-13\n",
    "norm_c1gtx = 0.0400\n",
    "norm_c2gtx = 5.8298e-13\n",
    "norm_c3gtx =  5.6624e-13\n"
   ]
  },
  {
   "cell_type": "code",
   "execution_count": null,
   "metadata": {},
   "outputs": [],
   "source": [
    "sys_gc1tx.f[0]"
   ]
  },
  {
   "cell_type": "code",
   "execution_count": null,
   "metadata": {},
   "outputs": [],
   "source": [
    "sys_gc1tx.f[1]"
   ]
  },
  {
   "cell_type": "code",
   "execution_count": null,
   "metadata": {},
   "outputs": [],
   "source": [
    "sys_gc1tx.f[2]"
   ]
  },
  {
   "cell_type": "code",
   "execution_count": null,
   "metadata": {},
   "outputs": [],
   "source": [
    "\n",
    "sys_gc1tx.f[3]"
   ]
  },
  {
   "cell_type": "code",
   "execution_count": null,
   "metadata": {},
   "outputs": [],
   "source": [
    "sys_gc1tx.x"
   ]
  },
  {
   "cell_type": "code",
   "execution_count": null,
   "metadata": {},
   "outputs": [],
   "source": [
    "sys.f[0]"
   ]
  },
  {
   "cell_type": "code",
   "execution_count": null,
   "metadata": {},
   "outputs": [],
   "source": [
    "A_gc1tx"
   ]
  },
  {
   "cell_type": "code",
   "execution_count": null,
   "metadata": {},
   "outputs": [],
   "source": [
    "B_gc1tx"
   ]
  },
  {
   "cell_type": "code",
   "execution_count": null,
   "metadata": {},
   "outputs": [],
   "source": []
  }
 ],
 "metadata": {
  "kernelspec": {
   "display_name": "Python 3",
   "language": "python",
   "name": "python3"
  },
  "language_info": {
   "codemirror_mode": {
    "name": "ipython",
    "version": 3
   },
   "file_extension": ".py",
   "mimetype": "text/x-python",
   "name": "python",
   "nbconvert_exporter": "python",
   "pygments_lexer": "ipython3",
   "version": "3.7.4"
  }
 },
 "nbformat": 4,
 "nbformat_minor": 2
}
