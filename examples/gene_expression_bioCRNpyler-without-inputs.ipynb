{
 "cells": [
  {
   "cell_type": "markdown",
   "metadata": {},
   "source": [
    "  $G_i + P \\quad[k^{b_P}_i]<->[k^{u_P}_i] \\quad  G_i:P \\\\\n",
    "    G_i:P \\quad  --> [k_i^{tx}] \\quad  G_i + P + T_i \\\\\n",
    "    T_i + R \\quad  [k^{b_R}_i]<->[k^{u_R}_i]\\quad   T_i:R \\\\\n",
    "    T_i:R  \\quad -->[k_i^{tl}]\\quad T_i + R + X_i \\\\\n",
    "    T_i + E \\quad  [k^{b_E}_i]<->[k^{u_E}_i] \\quad  T_i:E \\\\\n",
    "    T_i:E \\quad-->[\\delta_i]\\quad E \\\\\n",
    "    X \\quad-->[d]\\quad $"
   ]
  },
  {
   "cell_type": "code",
   "execution_count": 1,
   "metadata": {},
   "outputs": [],
   "source": [
    "%matplotlib inline\n",
    "from auto_reduce import *\n",
    "import numpy as np\n",
    "from sympy import symbols"
   ]
  },
  {
   "cell_type": "code",
   "execution_count": 2,
   "metadata": {},
   "outputs": [],
   "source": [
    "# Post conservation law and other approximations phenomenological model at the RNA level\n",
    "n = 9 # Number of states : G, P, C1, T, R, C2, E, C3, X\n",
    "nouts = 1 # Number of outputs, X_i\n",
    "\n",
    "# Inputs by user \n",
    "x_init = np.zeros(n)\n",
    "x_init[0] = 10\n",
    "x_init[1] = 10000\n",
    "x_init[4] = 10000\n",
    "x_init[6] = 10000\n",
    "C = np.zeros((nouts,n), dtype=int)\n",
    "C[0][8] = 1\n",
    "\n",
    "nstates_tol = 8\n",
    "error_tol = 3000\n",
    "# System dynamics symbolically\n",
    "\n",
    "# k_bp, k_up, k_tx, k_br, k_ur, k_tl, k_be, k_ue, d_i, d = params, len(params) = 10\n",
    "\n",
    "x0 = symbols('G')\n",
    "x1 = symbols('P')\n",
    "x2 = symbols('C1') # G:P\n",
    "x3 = symbols('T')\n",
    "x4 = symbols('R')\n",
    "x5 = symbols('C2') # T:R\n",
    "x6 = symbols('E')\n",
    "x7 = symbols('C3') # T:E\n",
    "x8 = symbols('X')\n",
    "\n",
    "x = [x0, x1, x2, x3, x4, x5, x6, x7, x8]\n",
    "\n",
    "k_bp = symbols('k_bp')\n",
    "k_up = symbols('k_up')\n",
    "k_tx = symbols('k_tx')\n",
    "k_br = symbols('k_br')\n",
    "k_ur = symbols('k_ur')\n",
    "k_tl = symbols('k_tl')\n",
    "k_be = symbols('k_be')\n",
    "k_ue = symbols('k_ue')\n",
    "d_i = symbols('d_i')\n",
    "d = symbols('d')\n",
    "\n",
    "E_tot = symbols('E_tot')\n",
    "P_tot = symbols('P_tot')\n",
    "R_tot = symbols('R_tot')\n",
    "params = [k_bp, k_up, k_tx, k_br, k_ur, k_tl, k_be, k_ue, d_i, d, E_tot, P_tot, R_tot]\n",
    "f0 = (k_bp + k_tx) * x2 - k_up * x0 * x1\n",
    "f1 = (k_bp + k_tx) * x2 - k_up * x0 * x1\n",
    "f2 = k_bp * x0 * x1 - (k_up + k_tx)*x2\n",
    "f3 = k_tx * x2 + k_ur * x5 - k_br * x3 * x4\n",
    "f4 = (k_ur + k_tl) * x5 - k_br * x3 * x4\n",
    "f5 = k_br * x3 * x4 - (k_ur + k_tl) * x5\n",
    "f6 = (k_ue + d_i) * x7 - k_be * x3 * x6\n",
    "f7 = k_be * x3 * x6 - (k_ue + d_i) * x7\n",
    "f8 = k_tl * x5 - d * x8\n",
    "    \n",
    "f = [f0,f1,f2,f3,f4,f5,f6,f7,f8]\n",
    "# parameter values\n",
    "params_values = [100, 10, 4, 10, 0.25, 2, 10, 0.5, 1, 1, 1000, 1000, 1000]\n",
    "sys = System(x, f, params = params, params_values = params_values, C = C, x_init = x_init)"
   ]
  },
  {
   "cell_type": "code",
   "execution_count": 3,
   "metadata": {},
   "outputs": [
    {
     "name": "stderr",
     "output_type": "stream",
     "text": [
      "C:\\Users\\apand\\Anaconda3\\lib\\site-packages\\scipy\\integrate\\odepack.py:247: ODEintWarning: Excess work done on this call (perhaps wrong Dfun type). Run with full_output = 1 to get quantitative information.\n",
      "  warnings.warn(warning_msg, ODEintWarning)\n"
     ]
    },
    {
     "data": {
      "image/png": "[encoded data removed]",
      "text/plain": [
       "<Figure size 432x288 with 1 Axes>"
      ]
     },
     "metadata": {
      "needs_background": "light"
     },
     "output_type": "display_data"
    }
   ],
   "source": [
    "from auto_reduce.utils import get_ODE\n",
    "timepoints_ode = np.linspace(0, 20, 100)\n",
    "sys_ode = get_ODE(sys, timepoints_ode)\n",
    "sol = sys_ode.solve_system().T\n",
    "import matplotlib.pyplot as plt\n",
    "plt.plot(timepoints_ode, np.transpose(np.array(C)@sol))\n",
    "plt.xlabel('Time')\n",
    "plt.ylabel('[Outputs]')\n",
    "plt.show()"
   ]
  },
  {
   "cell_type": "code",
   "execution_count": 4,
   "metadata": {},
   "outputs": [
    {
     "data": {
      "text/plain": [
       "array([[ 1.00000000e+001,  2.92967463e+003,  1.21550207e-311,\n",
       "        -1.74776349e-311,  1.21553914e-311, -3.45384827e-311,\n",
       "         1.21553833e-311, -5.15993317e-311,  1.21553834e-311,\n",
       "        -6.86601614e-311,  1.21547205e-311, -8.57210105e-311,\n",
       "         1.21553914e-311, -1.02781858e-310,  6.95259948e-310,\n",
       "        -1.14410419e-310,  1.21553831e-311, -1.31471269e-310,\n",
       "         1.21550823e-311, -1.48532118e-310,  1.21547210e-311,\n",
       "        -1.65592966e-310,  1.21550827e-311, -1.82653794e-310,\n",
       "         1.21548714e-311, -1.99714645e-310,  1.21552594e-311,\n",
       "        -2.16775494e-310,  1.21549979e-311, -2.29443831e-310,\n",
       "         1.21549258e-311, -2.45740762e-310,  1.21548629e-311,\n",
       "        -2.62037694e-310,  1.21548629e-311, -2.78334624e-310,\n",
       "         1.21553834e-311, -2.94631533e-310,  1.21547203e-311,\n",
       "        -3.10928463e-310,  1.21548628e-311, -3.27225395e-310,\n",
       "         1.21553836e-311, -3.43522346e-310,  1.21549050e-311,\n",
       "        -3.59819276e-310,  1.21547192e-311, -3.76116206e-310,\n",
       "         1.21552615e-311, -3.92413138e-310,  1.21547209e-311,\n",
       "        -4.08710048e-310,  1.21548629e-311, -4.25006977e-310,\n",
       "         1.21553417e-311, -4.41303908e-310,  1.21553414e-311,\n",
       "         3.76745878e-304,  1.21549623e-311,  1.21553914e-311,\n",
       "         1.21547208e-311,  1.21548713e-311,  1.21553833e-311,\n",
       "         1.21548700e-311,  1.21553914e-311,  1.21553914e-311,\n",
       "         1.21553914e-311,  1.21553417e-311,  1.21549953e-311,\n",
       "         1.21548621e-311,  1.21547208e-311,  1.21553833e-311,\n",
       "         1.21548713e-311,  6.95259948e-310,  1.21547203e-311,\n",
       "         1.21548846e-311,  1.21550809e-311,  1.21548846e-311,\n",
       "         1.21552793e-311,  1.21553914e-311,  1.21547208e-311,\n",
       "         1.21548629e-311,  1.21547209e-311,  1.21548629e-311,\n",
       "         1.21553914e-311,  1.21553914e-311,  1.21547203e-311,\n",
       "         1.21553914e-311,  1.21551869e-311,  6.95259948e-310,\n",
       "         1.21552615e-311,  1.21553914e-311,  1.21547205e-311,\n",
       "         1.21548629e-311,  1.21553914e-311,  1.21547203e-311,\n",
       "         1.21548846e-311,  1.21553914e-311,  1.21547197e-311,\n",
       "         1.21553833e-311],\n",
       "       [ 1.00000000e+004,  1.29196746e+004,  8.27578359e-313,\n",
       "         0.00000000e+000,  1.59149684e-312,  0.00000000e+000,\n",
       "         2.35541533e-312,  1.21551660e-311,  3.11933381e-312,\n",
       "         1.21550387e-311,  3.88325230e-312,  1.21551744e-311,\n",
       "         4.64717078e-312,  1.21551660e-311,  5.41108927e-312,\n",
       "         0.00000000e+000,  6.17500775e-312,  0.00000000e+000,\n",
       "         6.93892624e-312,  0.00000000e+000,  7.70284472e-312,\n",
       "         1.21551660e-311,  8.46676321e-312,  1.21551744e-311,\n",
       "         9.23068169e-312,  1.21551660e-311,  9.99460018e-312,\n",
       "         0.00000000e+000,  1.21378159e-311,  1.21551744e-311,\n",
       "         1.21378159e-311,  0.00000000e+000,  1.21378159e-311,\n",
       "         0.00000000e+000,  1.21378159e-311,  1.21551744e-311,\n",
       "         1.21378159e-311,  1.21551660e-311,  1.21378159e-311,\n",
       "         0.00000000e+000,  1.21378159e-311,  1.21550387e-311,\n",
       "         1.21378159e-311,  1.21551660e-311,  1.21378159e-311,\n",
       "         0.00000000e+000,  1.21378159e-311,  0.00000000e+000,\n",
       "         1.21378159e-311,  0.00000000e+000,  1.21378159e-311,\n",
       "         0.00000000e+000,  1.21378159e-311,  1.21551744e-311,\n",
       "         1.21378159e-311,  0.00000000e+000,  1.21378159e-311,\n",
       "         1.21551765e-311,  1.21549255e-311,  1.21549623e-311,\n",
       "         1.21548629e-311,  1.21553914e-311,  1.21553424e-311,\n",
       "         1.21548846e-311,  1.21549623e-311,  1.21550898e-311,\n",
       "         1.21553914e-311,  1.21553914e-311,  1.21547203e-311,\n",
       "         1.21553914e-311,  1.21553833e-311,  1.21553914e-311,\n",
       "         1.21553914e-311,  1.21548629e-311,  1.21553914e-311,\n",
       "         1.21549130e-311,  1.21549107e-311,  1.21549130e-311,\n",
       "         1.21553914e-311,  1.21553914e-311,  1.21547212e-311,\n",
       "         1.21550207e-311,  1.21548629e-311,  1.21553768e-311,\n",
       "         1.21553834e-311,  1.21548629e-311,  1.21553914e-311,\n",
       "         1.21547193e-311,  1.21553914e-311,  1.21553914e-311,\n",
       "         1.21548629e-311,  6.95259948e-310,  1.21547203e-311,\n",
       "         1.21553914e-311,  1.21548846e-311,  1.21553768e-311,\n",
       "         1.21549130e-311,  1.21549623e-311,  1.21553768e-311,\n",
       "         1.21553768e-311],\n",
       "       [ 0.00000000e+000,  3.66291761e+006,  8.70018274e-313,\n",
       "         7.59688697e-313,  1.63393676e-312,  7.59669984e-313,\n",
       "         2.39785524e-312,  7.59711458e-313,  3.16177373e-312,\n",
       "         7.59680307e-313,  3.92569221e-312,  7.59669949e-313,\n",
       "         4.68961070e-312,  4.34537467e-311,  5.45352918e-312,\n",
       "         4.34537467e-311,  6.21744767e-312,  7.59711457e-313,\n",
       "         6.98136615e-312,  7.59670092e-313,  7.74528464e-312,\n",
       "         7.59670100e-313,  8.50920312e-312,  7.59670020e-313,\n",
       "         9.27312161e-312,  7.59669959e-313,  1.00370401e-311,\n",
       "         7.59687372e-313,  1.21547205e-311,  7.59687204e-313,\n",
       "         1.21549258e-311,  7.59711961e-313,  1.21553833e-311,\n",
       "         7.59669970e-313,  1.21547208e-311,  7.59679456e-313,\n",
       "         1.21553914e-311,  7.59681952e-313,  1.21549623e-311,\n",
       "         7.59670048e-313,  1.21547208e-311,  7.59670029e-313,\n",
       "         1.21553914e-311,  7.59687204e-313,  1.21549623e-311,\n",
       "         7.59670052e-313,  1.21547208e-311,  7.59708846e-313,\n",
       "         1.21548713e-311,  7.59708859e-313,  1.21553417e-311,\n",
       "         7.59679470e-313,  1.21553914e-311,  7.59711457e-313,\n",
       "         1.21547208e-311,  7.59711457e-313,  1.21553417e-311,\n",
       "         1.21551660e-311,  1.21547208e-311,  1.21549255e-311,\n",
       "         1.21553833e-311,  6.95259948e-310,  1.21553914e-311,\n",
       "         1.21553914e-311,  1.21549255e-311,  1.21553914e-311,\n",
       "         1.21553914e-311,  1.21549061e-311,  1.21553417e-311,\n",
       "         1.21548623e-311,  1.21553415e-311,  1.21553768e-311,\n",
       "         1.21549623e-311,  1.21547205e-311,  1.21548629e-311,\n",
       "         1.21553768e-311,  1.21553914e-311,  1.21553768e-311,\n",
       "         1.21553834e-311,  1.21553833e-311,  1.21547208e-311,\n",
       "         1.21548629e-311,  1.21553914e-311,  1.21547193e-311,\n",
       "         1.21548629e-311,  1.21552615e-311,  1.21547203e-311,\n",
       "         1.21551869e-311,  1.21548629e-311,  1.21549255e-311,\n",
       "         1.21553914e-311,  1.21548629e-311,  1.21553833e-311,\n",
       "         1.21548629e-311,  1.21549130e-311,  1.21548846e-311,\n",
       "         1.21553768e-311,  1.21549256e-311,  6.95259948e-310,\n",
       "         1.21548629e-311],\n",
       "       [ 0.00000000e+000,  4.36890192e+003, -1.17906839e-311,\n",
       "         1.21550191e-311, -2.88515330e-311,  1.21547197e-311,\n",
       "        -4.59123833e-311,  1.21553833e-311, -6.29732117e-311,\n",
       "         1.21548849e-311, -8.00340595e-311,  1.21547192e-311,\n",
       "        -9.70949085e-311,  6.95259948e-310, -1.08723470e-310,\n",
       "         6.95259948e-310, -1.25784319e-310,  1.21553833e-311,\n",
       "        -1.42845167e-310,  1.21547215e-311, -1.59906016e-310,\n",
       "         1.21547216e-311, -1.76966846e-310,  1.21547203e-311,\n",
       "        -1.94027695e-310,  1.21547193e-311, -2.11088543e-310,\n",
       "         1.21549979e-311, -2.28085732e-310,  1.21549953e-311,\n",
       "        -2.40308453e-310,  1.21553914e-311, -2.56605383e-310,\n",
       "         1.21547195e-311, -2.72902313e-310,  1.21548713e-311,\n",
       "        -2.89199222e-310,  1.21549112e-311, -3.05496154e-310,\n",
       "         1.21547208e-311, -3.21793085e-310,  1.21547205e-311,\n",
       "        -3.38090014e-310,  1.21549953e-311, -3.54386966e-310,\n",
       "         1.21547208e-311, -3.70683897e-310,  1.21553415e-311,\n",
       "        -3.86980828e-310,  1.21553417e-311, -4.03277737e-310,\n",
       "         1.21548715e-311, -4.19574667e-310,  1.21553833e-311,\n",
       "        -4.35871599e-310,  1.21553833e-311,  1.21548883e-311,\n",
       "         1.21548700e-311,  1.21548715e-311,  1.21553914e-311,\n",
       "         1.21548629e-311,  1.21548700e-311,  1.21548700e-311,\n",
       "         1.21549623e-311,  1.21553914e-311,  1.21548713e-311,\n",
       "         1.21553914e-311,  1.21552348e-311,  1.21547203e-311,\n",
       "         6.95259948e-310,  1.21547208e-311,  1.21553833e-311,\n",
       "         1.21549256e-311,  1.21549623e-311,  1.21548846e-311,\n",
       "         1.21548629e-311,  1.21548846e-311,  1.21548629e-311,\n",
       "         1.21547208e-311,  1.21553914e-311,  1.21547209e-311,\n",
       "         1.21552615e-311,  1.21547193e-311,  1.21547212e-311,\n",
       "         1.21547205e-311,  1.21548629e-311,  1.21553828e-311,\n",
       "         1.21553914e-311,  1.21553914e-311,  1.21549108e-311,\n",
       "         1.21553914e-311,  1.21547205e-311,  1.21553833e-311,\n",
       "         1.21548846e-311,  1.21552615e-311,  1.21547205e-311,\n",
       "         1.21548629e-311,  1.21549623e-311,  1.21553914e-311,\n",
       "         1.21553914e-311],\n",
       "       [ 1.00000000e+004,  8.36531589e-001,  1.21551744e-311,\n",
       "         1.33685735e-312,  1.21551660e-311,  2.10077583e-312,\n",
       "         0.00000000e+000,  2.86469432e-312,  0.00000000e+000,\n",
       "         3.62861280e-312,  0.00000000e+000,  4.39253129e-312,\n",
       "         0.00000000e+000,  5.15644977e-312,  0.00000000e+000,\n",
       "         5.92036826e-312,  0.00000000e+000,  6.68428674e-312,\n",
       "         1.21551744e-311,  7.44820523e-312,  0.00000000e+000,\n",
       "         8.21212371e-312,  1.21550387e-311,  8.97604220e-312,\n",
       "         0.00000000e+000,  9.73996068e-312,  0.00000000e+000,\n",
       "         1.05038792e-311,  0.00000000e+000,  1.21378159e-311,\n",
       "         1.21551660e-311,  1.21378159e-311,  0.00000000e+000,\n",
       "         1.21378159e-311,  1.21551744e-311,  1.21378159e-311,\n",
       "         0.00000000e+000,  1.21378159e-311,  0.00000000e+000,\n",
       "         1.21378159e-311,  0.00000000e+000,  1.21378159e-311,\n",
       "         1.21551744e-311,  1.21378159e-311,  0.00000000e+000,\n",
       "         1.21378159e-311,  0.00000000e+000,  1.21378159e-311,\n",
       "         0.00000000e+000,  1.21378159e-311,  1.21551744e-311,\n",
       "         1.21378159e-311,  1.21551660e-311,  6.95250701e-310,\n",
       "         0.00000000e+000,  1.21378159e-311,  1.21553833e-311,\n",
       "         1.21553914e-311,  6.95259948e-310,  1.21549623e-311,\n",
       "         1.21548715e-311,  1.21553914e-311,  1.21548846e-311,\n",
       "         1.21549255e-311,  1.21547208e-311,  1.21548715e-311,\n",
       "         1.21548846e-311,  1.21547205e-311,  1.21547208e-311,\n",
       "         1.21553833e-311,  1.21553415e-311,  1.21547212e-311,\n",
       "         1.21547203e-311,  1.21547197e-311,  1.21547205e-311,\n",
       "         1.21553914e-311,  1.21552793e-311,  1.21553914e-311,\n",
       "         1.21550207e-311,  1.21553914e-311,  1.21547208e-311,\n",
       "         1.21547193e-311,  1.21549953e-311,  1.21548629e-311,\n",
       "         1.21547203e-311,  1.21553834e-311,  1.21547195e-311,\n",
       "         6.95259948e-310,  1.21548629e-311,  1.21553914e-311,\n",
       "         1.21547193e-311,  1.21547203e-311,  1.21548846e-311,\n",
       "         1.21547205e-311,  1.21548629e-311,  1.21547203e-311,\n",
       "         1.21553914e-311,  1.21547197e-311,  6.95259948e-310,\n",
       "         6.95259948e-310],\n",
       "       [ 0.00000000e+000,  9.99916347e+003,  7.59682842e-313,\n",
       "         1.37929726e-312,  7.59708846e-313,  2.14321575e-312,\n",
       "         7.59682847e-313,  2.90713423e-312,  7.59678880e-313,\n",
       "         3.67105272e-312,  7.59678879e-313,  4.43497120e-312,\n",
       "         7.59711461e-313,  5.19888969e-312,  7.59711457e-313,\n",
       "         5.96280817e-312,  7.59711457e-313,  6.72672666e-312,\n",
       "         7.59711461e-313,  7.49064514e-312,  7.59678879e-313,\n",
       "         8.25456363e-312,  7.59669958e-313,  9.01848211e-312,\n",
       "         7.59680283e-313,  9.78240060e-312,  7.59711460e-313,\n",
       "         1.05463191e-311, -7.59669944e-313,  1.21548629e-311,\n",
       "         7.59678927e-313,  1.21549258e-311,  7.59679455e-313,\n",
       "         1.21548629e-311,  7.59685033e-313,  1.21547208e-311,\n",
       "         7.59708847e-313,  1.21549623e-311,  7.59711961e-313,\n",
       "         1.21549112e-311,  7.59708932e-313,  1.21547208e-311,\n",
       "         7.59670029e-313,  1.21549623e-311,  7.59711457e-313,\n",
       "         1.21549112e-311,  7.59685141e-313,  1.21553914e-311,\n",
       "         7.59670073e-313,  1.21548713e-311,  7.59682845e-313,\n",
       "         1.21549623e-311,  7.59708840e-313,  1.21553914e-311,\n",
       "         7.59711457e-313,  1.21553914e-311,  1.21553613e-311,\n",
       "         1.21553538e-311,  1.21553833e-311,  1.21547197e-311,\n",
       "         1.21553538e-311,  1.21547201e-311,  1.21553914e-311,\n",
       "         1.21548883e-311,  1.21548629e-311,  1.21553914e-311,\n",
       "         1.21553914e-311,  1.21548846e-311,  1.21549953e-311,\n",
       "         1.21553914e-311,  1.21552615e-311,  1.21553914e-311,\n",
       "         1.21553415e-311,  1.21553914e-311,  1.21547203e-311,\n",
       "         1.21548629e-311,  1.21553914e-311,  1.21548629e-311,\n",
       "         1.21547203e-311,  1.21553768e-311,  1.21549953e-311,\n",
       "         1.21547212e-311,  1.21548629e-311,  1.21553914e-311,\n",
       "         1.21552615e-311,  1.21552615e-311,  1.21552615e-311,\n",
       "         1.21552594e-311,  1.21549130e-311,  1.21548629e-311,\n",
       "         1.21552615e-311,  1.21553914e-311,  1.21553833e-311,\n",
       "         1.21547203e-311,  1.21553914e-311,  1.21553914e-311,\n",
       "         1.21548629e-311,  1.21547208e-311,  1.21548629e-311,\n",
       "         1.21553914e-311],\n",
       "       [ 1.00000000e+004,  6.46880647e-001,  1.21549255e-311,\n",
       "        -2.31645846e-311,  1.21553415e-311, -4.02254337e-311,\n",
       "         1.21549256e-311, -5.72862607e-311,  1.21548621e-311,\n",
       "        -7.43471098e-311,  1.21548621e-311, -9.14079601e-311,\n",
       "         1.21553834e-311, -1.08468809e-310,  1.21553833e-311,\n",
       "        -1.20097368e-310,  1.21553833e-311, -1.37158218e-310,\n",
       "         1.21553834e-311, -1.54219068e-310,  1.21548621e-311,\n",
       "        -1.71279896e-310,  1.21547193e-311, -1.88340744e-310,\n",
       "         1.21548845e-311, -2.05401593e-310,  1.21553834e-311,\n",
       "        -2.22462444e-310,  1.21547191e-311, -2.38950374e-310,\n",
       "         1.21548628e-311, -2.51173072e-310,  1.21548713e-311,\n",
       "        -2.71544234e-310,  1.21549605e-311, -2.83766914e-310,\n",
       "         1.21553415e-311, -3.00063844e-310,  1.21553914e-311,\n",
       "        -3.16360773e-310,  1.21553429e-311, -3.32657704e-310,\n",
       "         1.21547205e-311, -3.48954657e-310,  1.21553833e-311,\n",
       "        -3.65251587e-310,  1.21549623e-311, -3.81548517e-310,\n",
       "         1.21547212e-311, -3.97845447e-310,  1.21549255e-311,\n",
       "        -4.14142358e-310,  1.21553414e-311, -4.30439289e-310,\n",
       "         1.21553833e-311, -4.50810450e-310,  1.21553914e-311,\n",
       "         1.21548883e-311,  1.21548715e-311,  1.21547208e-311,\n",
       "         1.21553914e-311,  1.21550898e-311,  1.21553914e-311,\n",
       "         1.21553914e-311,  1.21553833e-311,  1.21548700e-311,\n",
       "         6.95259948e-310,  1.21548700e-311,  6.95259948e-310,\n",
       "         1.21553914e-311,  1.21553833e-311,  1.21553833e-311,\n",
       "         1.21549623e-311,  6.95259948e-310,  1.21552615e-311,\n",
       "         1.21548700e-311,  1.21548700e-311,  1.21548700e-311,\n",
       "         1.21553914e-311,  1.21547212e-311,  1.21548629e-311,\n",
       "         1.21548629e-311,  1.21553833e-311,  1.21547193e-311,\n",
       "         1.21553914e-311,  1.21548629e-311,  1.21548629e-311,\n",
       "         1.21553914e-311,  1.21551869e-311,  1.21552615e-311,\n",
       "         1.21548629e-311,  1.21553914e-311,  1.21548846e-311,\n",
       "         1.21553914e-311,  1.21548629e-311,  1.21553914e-311,\n",
       "         1.21553833e-311,  1.21548715e-311,  1.21547205e-311,\n",
       "         1.21547205e-311],\n",
       "       [ 0.00000000e+000,  9.99935312e+003,  1.08221785e-312,\n",
       "         0.00000000e+000,  1.84613634e-312,  1.21551660e-311,\n",
       "         2.61005482e-312,  0.00000000e+000,  3.37397331e-312,\n",
       "         0.00000000e+000,  4.13789179e-312,  0.00000000e+000,\n",
       "         4.90181028e-312,  0.00000000e+000,  5.66572876e-312,\n",
       "         0.00000000e+000,  6.42964725e-312,  0.00000000e+000,\n",
       "         7.19356573e-312,  1.21551744e-311,  7.95748422e-312,\n",
       "         0.00000000e+000,  8.72140270e-312,  0.00000000e+000,\n",
       "         9.48532119e-312,  1.21551744e-311,  1.02492397e-311,\n",
       "         0.00000000e+000,  1.21378159e-311,  0.00000000e+000,\n",
       "         1.21378159e-311,  1.21551660e-311,  6.95250701e-310,\n",
       "         1.21550387e-311,  1.21378159e-311,  0.00000000e+000,\n",
       "         1.21378159e-311,  1.21551744e-311,  1.21378159e-311,\n",
       "         0.00000000e+000,  1.21378159e-311,  0.00000000e+000,\n",
       "         1.21378159e-311,  0.00000000e+000,  1.21378159e-311,\n",
       "         1.21551744e-311,  1.21378159e-311,  1.21551744e-311,\n",
       "         1.21378159e-311,  0.00000000e+000,  1.21378159e-311,\n",
       "         1.21551744e-311,  1.21378159e-311,  0.00000000e+000,\n",
       "         1.21378159e-311,  1.21551744e-311,  1.21548700e-311,\n",
       "         1.21553914e-311,  1.21550823e-311,  1.21548715e-311,\n",
       "         6.95259948e-310,  1.21548715e-311,  1.21553424e-311,\n",
       "         1.21550823e-311,  1.21548629e-311,  1.21548846e-311,\n",
       "         1.21547203e-311,  1.21547203e-311,  1.21547215e-311,\n",
       "         1.21553914e-311,  1.21552615e-311,  1.21553415e-311,\n",
       "         1.21547197e-311,  1.21548700e-311,  1.21552793e-311,\n",
       "         1.21547203e-311,  1.21548846e-311,  1.21553914e-311,\n",
       "         1.21550207e-311,  1.21547209e-311,  1.21547205e-311,\n",
       "         1.21553914e-311,  1.21547193e-311,  1.21549953e-311,\n",
       "         1.21549255e-311,  1.21553914e-311,  1.21553914e-311,\n",
       "         1.21551869e-311,  1.21553834e-311,  1.21548629e-311,\n",
       "         1.21553914e-311,  1.21548629e-311,  1.21549130e-311,\n",
       "         1.21553914e-311,  1.21548629e-311,  1.21548846e-311,\n",
       "         1.21547208e-311,  6.95259948e-310,  1.21547203e-311,\n",
       "         1.21549623e-311],\n",
       "       [ 0.00000000e+000,  2.61155634e+001,  1.12465777e-312,\n",
       "         7.59711961e-313,  1.88857625e-312,  7.59711457e-313,\n",
       "         2.65249474e-312,  7.59711460e-313,  3.41641322e-312,\n",
       "         7.59670029e-313,  4.18033171e-312,  7.59711961e-313,\n",
       "         4.94425019e-312,  4.34537467e-311,  5.70816868e-312,\n",
       "         7.59711445e-313,  6.47208716e-312,  7.59692646e-313,\n",
       "         7.23600565e-312,  7.59670062e-313,  7.99992413e-312,\n",
       "         7.59692667e-313,  8.76384262e-312,  7.59679463e-313,\n",
       "         9.52776110e-312,  7.59703711e-313,  1.02916796e-311,\n",
       "         7.59687372e-313,  1.21548629e-311,  7.59682864e-313,\n",
       "         1.21547205e-311,  7.59678934e-313,  1.21553833e-311,\n",
       "         7.59678932e-313,  1.21553833e-311,  7.59711460e-313,\n",
       "         1.21553914e-311,  7.59670020e-313,  1.21550898e-311,\n",
       "         7.59678927e-313,  1.21553833e-311,  7.59711474e-313,\n",
       "         1.21553914e-311,  7.59681565e-313,  1.21550898e-311,\n",
       "         7.59669948e-313,  1.21547208e-311,  7.59703841e-313,\n",
       "         1.21553914e-311,  7.59670058e-313,  1.21553914e-311,\n",
       "         7.59678932e-313,  1.21549623e-311,  7.59708858e-313,\n",
       "         1.21549953e-311,  7.59708840e-313,  1.21553914e-311,\n",
       "         1.21553914e-311,  6.95259948e-310,  6.95259948e-310,\n",
       "         1.21553914e-311,  1.21548883e-311,  1.21553914e-311,\n",
       "         6.95259948e-310,  6.95259948e-310,  1.21553914e-311,\n",
       "         1.21553914e-311,  1.21547208e-311,  1.21553834e-311,\n",
       "         1.21553834e-311,  1.21553914e-311,  1.21553415e-311,\n",
       "         1.21552615e-311,  1.21547205e-311,  1.21553914e-311,\n",
       "         1.21552793e-311,  1.21553914e-311,  1.21548846e-311,\n",
       "         1.21552615e-311,  1.21549953e-311,  1.21547208e-311,\n",
       "         1.21547193e-311,  1.21547209e-311,  1.21548629e-311,\n",
       "         1.21549108e-311,  6.95259948e-310,  1.21548629e-311,\n",
       "         1.21547212e-311,  1.21551869e-311,  1.21553834e-311,\n",
       "         1.21547193e-311,  1.21548846e-311,  1.21552615e-311,\n",
       "         1.21548846e-311,  1.21547205e-311,  1.21553914e-311,\n",
       "         1.21553834e-311,  1.21549623e-311,  1.21553768e-311,\n",
       "         1.21547197e-311]])"
      ]
     },
     "execution_count": 4,
     "metadata": {},
     "output_type": "execute_result"
    }
   ],
   "source": [
    "sol"
   ]
  },
  {
   "cell_type": "code",
   "execution_count": 5,
   "metadata": {},
   "outputs": [],
   "source": [
    "from auto_reduce.utils import get_SSM\n",
    "timepoints_ssm = np.linspace(0,100,10)\n",
    "sys_ssm = get_SSM(sys, timepoints_ssm)\n",
    "# Ss = sys_ssm.compute_SSM() # len(timepoints) x len(params) x len(states)\n",
    "# out_Ss = []\n",
    "# for i in range(len(params)):\n",
    "#     out_Ss.append((np.array(C)@(Ss[:,i,:].T)))\n",
    "# out_Ss = np.reshape(np.array(out_Ss), (len(timepoints_ssm), len(params), nouts))"
   ]
  },
  {
   "cell_type": "code",
   "execution_count": 6,
   "metadata": {},
   "outputs": [
    {
     "data": {
      "text/plain": [
       "array([-5.00000000e-01+0.00000000e+00j, -5.00251255e+04+0.00000000e+00j,\n",
       "       -2.86227845e+02+0.00000000e+00j,  1.79227845e+02+0.00000000e+00j,\n",
       "       -2.57500000e+01+0.00000000e+00j, -9.99497742e-01+0.00000000e+00j,\n",
       "       -1.12588746e-13+1.51596112e-13j, -1.12588746e-13-1.51596112e-13j,\n",
       "        2.37177427e-17+0.00000000e+00j])"
      ]
     },
     "execution_count": 6,
     "metadata": {},
     "output_type": "execute_result"
    }
   ],
   "source": [
    "J1 = sys_ssm.compute_J([10,10,1000,5,10000,100,10000,5,10])\n",
    "import scipy\n",
    "scipy.linalg.eigvals(J1)"
   ]
  },
  {
   "cell_type": "code",
   "execution_count": 7,
   "metadata": {},
   "outputs": [
    {
     "data": {
      "text/plain": [
       "array([1., 1., 1., 1., 1., 1., 1., 1., 1.])"
      ]
     },
     "execution_count": 7,
     "metadata": {},
     "output_type": "execute_result"
    }
   ],
   "source": [
    "np.ones(9)"
   ]
  },
  {
   "cell_type": "code",
   "execution_count": 8,
   "metadata": {},
   "outputs": [],
   "source": [
    "# import seaborn as sn\n",
    "# import matplotlib.pyplot as plt\n",
    "# for j in range(nouts):\n",
    "#     sn.heatmap(out_Ss[:,:,j].T)\n",
    "#     plt.xlabel('Time')\n",
    "#     plt.ylabel('Parameters')\n",
    "#     plt.title('Sensitivity of output[{0}] with respect to all parameters'.format(j))\n",
    "#     plt.show()"
   ]
  },
  {
   "cell_type": "code",
   "execution_count": 14,
   "metadata": {},
   "outputs": [],
   "source": [
    "from auto_reduce.utils import reduce\n",
    "timepoints_ssm = np.linspace(0,2,10)\n",
    "timepoints_ode = np.linspace(0,2,100)\n",
    "sys_reduce = reduce(sys, timepoints_ode, timepoints_ssm)\n",
    "sys_reduce.nstates_tol = 4"
   ]
  },
  {
   "cell_type": "code",
   "execution_count": 15,
   "metadata": {},
   "outputs": [],
   "source": [
    "G, P, C1, T, R, C2, E, C3, X = sys.x\n",
    "conserved_quantities = [P + C1 - P_tot, R + C2 - R_tot, E + C3 - E_tot]\n",
    "states_to_eliminate = [1,4,6]\n",
    "f_cons = sys_reduce.set_conservation_laws(conserved_quantities, states_to_eliminate)"
   ]
  },
  {
   "cell_type": "code",
   "execution_count": 16,
   "metadata": {},
   "outputs": [
    {
     "data": {
      "image/png": "[encoded data removed]",
      "text/plain": [
       "<Figure size 432x288 with 1 Axes>"
      ]
     },
     "metadata": {
      "needs_background": "light"
     },
     "output_type": "display_data"
    }
   ],
   "source": [
    "from auto_reduce.utils import get_ODE\n",
    "timepoints_ode = np.linspace(0, 2, 100)\n",
    "params_values = [100, 10, 4, 10, 0.25, 2, 10, 0.5, 1, 10, 1000, 1000, 1000]\n",
    "sys_reduce.params_values = params_values\n",
    "sys_ode = get_ODE(sys_reduce, timepoints_ode)\n",
    "sol = sys_ode.solve_system().T\n",
    "import matplotlib.pyplot as plt\n",
    "plt.plot(timepoints_ode, np.transpose(np.array(sys_reduce.C)@sol))\n",
    "plt.xlabel('Time')\n",
    "plt.ylabel('[Outputs]')\n",
    "plt.show()"
   ]
  },
  {
   "cell_type": "code",
   "execution_count": 17,
   "metadata": {},
   "outputs": [
    {
     "name": "stdout",
     "output_type": "stream",
     "text": [
      "attempting : [5]\n",
      "SSM Progress: |██████████████████████████████████████████████████| 100.0% Complete\n",
      "SSM Progress: |██████████████████████████████████████████████████| 100.0% Complete\n",
      "Robustness Metric Progress: |██████████████████████████████████████████████████| 100.0% Complete\n",
      "attempting : [0, 5]\n",
      "SSM Progress: |██████████████████████████████████████████████████| 100.0% Complete\n",
      "SSM Progress: |██████████████████████████████████████████████████| 100.0% Complete\n",
      "Robustness Metric Progress: |██████████████████████████████████████████████████| 100.0% Complete\n",
      "attempting : [1, 5]\n",
      "SSM Progress: |██████████████████████████████████████████████████| 100.0% Complete\n",
      "SSM Progress: |██████████████████████████████████████████████████| 100.0% Complete\n",
      "Robustness Metric Progress: |██████████████████████████████████████████████████| 100.0% Complete\n",
      "attempting : [2, 5]\n",
      "SSM Progress: |██████████████████████████████████████████████████| 100.0% Complete\n",
      "SSM Progress: |██████████████████████████████████████████████████| 100.0% Complete\n",
      "Robustness Metric Progress: |██████████████████████████████████████████████████| 100.0% Complete\n",
      "attempting : [3, 5]\n",
      "SSM Progress: |██████████████████████████████████████████████████| 100.0% Complete\n",
      "SSM Progress: |██████████████████████████████████████████████████| 100.0% Complete\n",
      "Robustness Metric Progress: |██████████████████████████████████████████████████| 100.0% Complete\n",
      "attempting : [4, 5]\n",
      "SSM Progress: |██████████████████████████████████████████████████| 100.0% Complete\n",
      "SSM Progress: |██████████████████████████████████████████████████| 100.0% Complete\n",
      "Robustness Metric Progress: |██████████████████████████████████████████████████| 100.0% Complete\n",
      "attempting : [0, 1, 5]\n",
      "SSM Progress: |██████████████████████████████████████████████████| 100.0% Complete\n",
      "SSM Progress: |██████████████████████████████████████████████████| 100.0% Complete\n",
      "Robustness Metric Progress: |██████████████████████████████████████████████████| 100.0% Complete\n",
      "attempting : [0, 2, 5]\n",
      "SSM Progress: |██████████████████████████████████████████████████| 100.0% Complete\n",
      "SSM Progress: |██████████████████████████████████████████████████| 100.0% Complete\n",
      "Robustness Metric Progress: |██████████████████████████████████████████████████| 100.0% Complete\n",
      "attempting : [0, 3, 5]\n",
      "SSM Progress: |██████████████████████████████████████████████████| 100.0% Complete\n",
      "SSM Progress: |██████████████████████████████████████████████████| 100.0% Complete\n",
      "Robustness Metric Progress: |██████████████████████████████████████████████████| 100.0% Complete\n",
      "attempting : [0, 4, 5]\n",
      "SSM Progress: |██████████████████████████████████████████████████| 100.0% Complete\n",
      "SSM Progress: |██████████████████████████████████████████████████| 100.0% Complete\n",
      "Robustness Metric Progress: |██████████████████████████████████████████████████| 100.0% Complete\n",
      "attempting : [1, 2, 5]\n",
      "SSM Progress: |██████████████████████████████████████████████████| 100.0% Complete\n",
      "SSM Progress: |██████████████████████████████████████████████████| 100.0% Complete\n",
      "Robustness Metric Progress: |██████████████████████████████████████████████████| 100.0% Complete\n",
      "attempting : [1, 3, 5]\n",
      "SSM Progress: |██████████████████████████████████████████████████| 100.0% Complete\n",
      "SSM Progress: |██████████████████████████████████████████████████| 100.0% Complete\n",
      "Robustness Metric Progress: |██████████████████████████████████████████████████| 100.0% Complete\n",
      "attempting : [1, 4, 5]\n",
      "SSM Progress: |██████████████████████████████████████████████████| 100.0% Complete\n",
      "SSM Progress: |██████████████████████████████████████████████████| 100.0% Complete\n",
      "Robustness Metric Progress: |██████████████████████████████████████████████████| 100.0% Complete\n",
      "attempting : [2, 3, 5]\n",
      "SSM Progress: |██████████████████████████████████████████████████| 100.0% Complete\n",
      "SSM Progress: |██████████████████████████████████████████████████| 100.0% Complete\n",
      "Robustness Metric Progress: |██████████████████████████████████████████████████| 100.0% Complete\n",
      "attempting : [2, 4, 5]\n",
      "SSM Progress: |██████████████████████████████████████████████████| 100.0% Complete\n",
      "SSM Progress: |██████████████████████████████████████████████████| 100.0% Complete\n",
      "Robustness Metric Progress: |██████████████████████████████████████████████████| 100.0% Complete\n",
      "attempting : [3, 4, 5]\n",
      "SSM Progress: |██████████████████████████████████████████████████| 100.0% Complete\n",
      "SSM Progress: |██████████████████████████████████████████████████| 100.0% Complete\n",
      "Robustness Metric Progress: |██████████████████████████████████████████████████| 100.0% Complete\n",
      "attempting : [0, 1, 2, 5]\n",
      "SSM Progress: |██████████████████████████████████████████████████| 100.0% Complete\n",
      "SSM Progress: |██████████████████████████████████████████████████| 100.0% Complete\n",
      "Robustness Metric Progress: |██████████████████████████████████████████████████| 100.0% Complete\n",
      "attempting : [0, 1, 3, 5]\n",
      "SSM Progress: |██████████████████████████████████████████████████| 100.0% Complete\n",
      "SSM Progress: |██████████████████████████████████████████████████| 100.0% Complete\n",
      "Robustness Metric Progress: |██████████████████████████████████████████████████| 100.0% Complete\n",
      "attempting : [0, 1, 4, 5]\n",
      "SSM Progress: |██████████████████████████████████████████████████| 100.0% Complete\n",
      "SSM Progress: |██████████████████████████████████████████████████| 100.0% Complete\n",
      "Robustness Metric Progress: |██████████████████████████████████████████████████| 100.0% Complete\n",
      "attempting : [0, 2, 3, 5]\n",
      "SSM Progress: |██████████████████████████████████████████████████| 100.0% Complete\n",
      "SSM Progress: |██████████████████████████████████████████████████| 100.0% Complete\n",
      "Robustness Metric Progress: |██████████████████████████████████████████████████| 100.0% Complete\n",
      "attempting : [0, 2, 4, 5]\n",
      "SSM Progress: |██████████████████████████████████████████████████| 100.0% Complete\n",
      "SSM Progress: |██████████████████████████████████████████████████| 100.0% Complete\n",
      "Robustness Metric Progress: |██████████████████████████████████████████████████| 100.0% Complete\n",
      "attempting : [0, 3, 4, 5]\n",
      "SSM Progress: |██████████████████████████████████████████████████| 100.0% Complete\n",
      "SSM Progress: |██████████████████████████████████████████████████| 100.0% Complete\n",
      "Robustness Metric Progress: |██████████████████████████████████████████████████| 100.0% Complete\n",
      "attempting : [1, 2, 3, 5]\n",
      "SSM Progress: |██████████████████████████████████████████████████| 100.0% Complete\n",
      "SSM Progress: |██████████████████████████████████████████████████| 100.0% Complete\n",
      "Robustness Metric Progress: |██████████████████████████████████████████████████| 100.0% Complete\n",
      "attempting : [1, 2, 4, 5]\n",
      "SSM Progress: |██████████████████████████████████████████████████| 100.0% Complete\n",
      "SSM Progress: |██████████████████████████████████████████████████| 100.0% Complete\n",
      "Robustness Metric Progress: |██████████████████████████████████████████████████| 100.0% Complete\n",
      "attempting : [1, 3, 4, 5]\n",
      "SSM Progress: |██████████████████████████████████████████████████| 100.0% Complete\n",
      "SSM Progress: |██████████████████████████████████████████████████| 100.0% Complete\n",
      "Robustness Metric Progress: |██████████████████████████████████████████████████| 100.0% Complete\n",
      "attempting : [2, 3, 4, 5]\n",
      "SSM Progress: |██████████████████████████████████████████████████| 100.0% Complete\n",
      "SSM Progress: |██████████████████████████████████████████████████| 100.0% Complete\n",
      "Robustness Metric Progress: |██████████████████████████████████████████████████| 100.0% Complete\n"
     ]
    }
   ],
   "source": [
    "results = sys_reduce.reduce_simple()\n",
    "# reduced_sys, fast_ss = sys_reduce.solve_timescale_separation([0,2,5])\n",
    "# sys_reduce.get_robustness_metric(reduced_sys, fast_ss, [0,2,5])\n",
    "# sys_reduce.get_error_metric(reduced_sys)\n"
   ]
  },
  {
   "cell_type": "code",
   "execution_count": null,
   "metadata": {},
   "outputs": [],
   "source": [
    "reduced_sys, fast_ss = sys_reduce.solve_timescale_separation([1,3,5])\n",
    "reduced_sys.f[1]\n",
    "# from auto_reduce.utils import get_ODE\n",
    "x_sol_hat = get_ODE(sys_reduce.get_system(), timepoints_ode).solve_system()"
   ]
  },
  {
   "cell_type": "code",
   "execution_count": null,
   "metadata": {},
   "outputs": [],
   "source": [
    "# results\n",
    "import matplotlib.pyplot as plt\n",
    "for key, value in results.items():\n",
    "    plt.scatter(value[0], key.n,linewidths = 2.5, label = str(key.x))\n",
    "plt.legend()\n",
    "plt.savefig('enzymatic_rxn_e.svg')"
   ]
  },
  {
   "cell_type": "code",
   "execution_count": null,
   "metadata": {},
   "outputs": [],
   "source": [
    "def get_gamma(system_obj, input, output):\n",
    "    "
   ]
  },
  {
   "cell_type": "code",
   "execution_count": 18,
   "metadata": {},
   "outputs": [
    {
     "data": {
      "text/plain": [
       "{<auto_reduce.system.System at 0x23cd588dd08>: [1820.9105557960245,\n",
       "  array([5.93329261e+48, 1.31286936e+37, 2.26146038e+34, 5.64156201e+24,\n",
       "         6.20776566e+25, 1.24603961e+36, 1.91854215e+35, 1.62534793e+22,\n",
       "         5.63549796e+25, 1.55192822e+24, 4.09077900e+22, 1.91854215e+33,\n",
       "         9.09756304e-16])],\n",
       " <auto_reduce.system.System at 0x23cd3f03e48>: [2070.5658094205155,\n",
       "  array([6.29248033e+178, 7.90348418e+005, 7.67916723e+005, 1.00001189e-001,\n",
       "         5.78422384e-001, 4.56193861e+004, 1.00000382e-001, 8.44120580e-001,\n",
       "         1.57639264e+146, 1.64011959e+011, 1.66050295e+157, 1.10794845e+154,\n",
       "         9.15012147e-001])],\n",
       " <auto_reduce.system.System at 0x23cd584dac8>: [1820.9105557960245,\n",
       "  array([2.13909132e+17, 7.90348318e+05, 7.67916623e+05, 8.18127956e-07,\n",
       "         6.31350113e-01, 6.68146918e-07, 7.76434510e-11, 7.67134225e-03,\n",
       "         5.81646804e+05, 2.43307563e+09, 2.23710309e+01, 1.18066590e-05,\n",
       "         8.40218315e-03])],\n",
       " <auto_reduce.system.System at 0x23cd5565408>: [1820.9105557960245,\n",
       "  array([2.13909132e+17, 7.90348318e+05, 7.67916623e+05, 8.18127956e-07,\n",
       "         6.31350113e-01, 6.68146918e-07, 7.76434510e-11, 7.67134225e-03,\n",
       "         5.81646804e+05, 2.43307563e+09, 2.23710309e+01, 1.18066590e-05,\n",
       "         8.40218315e-03])],\n",
       " <auto_reduce.system.System at 0x23cd571f148>: [1820.9105557960245,\n",
       "  array([2.13909132e+17, 7.90348318e+05, 7.67916623e+05, 8.18127956e-07,\n",
       "         6.31350113e-01, 6.68146918e-07, 7.76434510e-11, 7.67134225e-03,\n",
       "         5.81646804e+05, 2.43307563e+09, 2.23710309e+01, 1.18066590e-05,\n",
       "         8.40218315e-03])],\n",
       " <auto_reduce.system.System at 0x23cd5458288>: [1820.9105557960245,\n",
       "  array([2.13909132e+17, 7.90348318e+05, 7.67916623e+05, 8.18127956e-07,\n",
       "         6.31350113e-01, 6.68146918e-07, 7.76434510e-11, 7.67134225e-03,\n",
       "         5.81646804e+05, 2.43307563e+09, 2.23710309e+01, 1.18066590e-05,\n",
       "         8.40218315e-03])],\n",
       " <auto_reduce.system.System at 0x23cd5468ac8>: [2067.62800705995,\n",
       "  array([3.37475379e+33, 4.01373470e+50, 2.97234712e+60, 2.40510554e+38,\n",
       "         4.02384930e+29, 4.10226444e+03, 1.58967788e+26, 5.37910088e+27,\n",
       "         6.78887128e+25, 1.40821498e+37, 3.25524814e+18, 3.30165955e+34,\n",
       "         6.56771025e+24])],\n",
       " <auto_reduce.system.System at 0x23cd556b0c8>: [342.5525413062808,\n",
       "  array([2.13909132e+17, 7.87305786e+04, 1.95117235e+06, 2.24837639e+05,\n",
       "         1.04615316e-01, 4.87553010e+06, 1.57767560e+04, 1.01848882e+01,\n",
       "         2.85237029e+03, 1.58048330e+08, 1.16467006e+01, 2.24710331e+01,\n",
       "         2.40412884e+12])],\n",
       " <auto_reduce.system.System at 0x23cd5488288>: [1297.400434548607,\n",
       "  array([2.13909132e+17, 8.18251991e+04, 1.96673229e+06, 1.73302939e+00,\n",
       "         1.04615316e-01, 9.07497302e+06, 1.57834228e+04, 1.10298127e+01,\n",
       "         5.70464058e+03, 9.70376923e+07, 1.16467006e+01, 2.24710332e+01,\n",
       "         1.00012316e-01])],\n",
       " <auto_reduce.system.System at 0x23cd55588c8>: [2070.565809633107,\n",
       "  array([2.13909134e+17, 7.97833259e+09, 4.64488349e+18, 3.74468156e+00,\n",
       "         1.83314813e+03, 1.21391456e+17, 1.57647924e+04, 4.78567120e+00,\n",
       "         5.70464058e+03, 3.91773158e+09, 1.16467006e+01, 2.22060538e+16,\n",
       "         3.37223392e+00])],\n",
       " <auto_reduce.system.System at 0x23cd5861488>: [1820.9105557960245,\n",
       "  array([2.13909132e+17, 8.00821140e-08, 1.79290313e+02, 1.09644428e-15,\n",
       "         1.67520591e-02, 4.86996480e-06, 3.73335750e-07, 3.26726475e-06,\n",
       "         1.69188674e-06, 5.81646804e+04, 1.15467002e+01, 2.23710309e+01,\n",
       "         4.33234749e-05])],\n",
       " <auto_reduce.system.System at 0x23cd538fec8>: [1820.9105557960245,\n",
       "  array([2.13909132e+17, 8.00821140e-08, 1.79290313e+02, 1.09644428e-15,\n",
       "         1.67520591e-02, 4.86996480e-06, 3.73335750e-07, 3.26726475e-06,\n",
       "         1.69188674e-06, 5.81646804e+04, 1.15467002e+01, 2.23710309e+01,\n",
       "         4.33234749e-05])],\n",
       " <auto_reduce.system.System at 0x23cd5478708>: [1820.9105557960245,\n",
       "  array([2.13909132e+17, 8.00821140e-08, 1.79290313e+02, 1.09644428e-15,\n",
       "         1.67520591e-02, 4.86996480e-06, 3.73335750e-07, 3.26726475e-06,\n",
       "         1.69188674e-06, 5.81646804e+04, 1.15467002e+01, 2.23710309e+01,\n",
       "         4.33234749e-05])],\n",
       " <auto_reduce.system.System at 0x23cd5560e48>: [1820.9105557960245,\n",
       "  array([2.13909132e+17, 8.00821140e-08, 1.79290313e+02, 1.09644428e-15,\n",
       "         1.67520591e-02, 4.86996480e-06, 3.73335750e-07, 3.26726475e-06,\n",
       "         1.69188674e-06, 5.81646804e+04, 1.15467002e+01, 2.23710309e+01,\n",
       "         4.33234749e-05])],\n",
       " <auto_reduce.system.System at 0x23cd5727c88>: [1820.9105557960245,\n",
       "  array([2.13909132e+17, 8.00821140e-08, 1.79290313e+02, 1.09644428e-15,\n",
       "         1.67520591e-02, 4.86996480e-06, 3.73335750e-07, 3.26726475e-06,\n",
       "         1.69188674e-06, 5.81646804e+04, 1.15467002e+01, 2.23710309e+01,\n",
       "         4.33234749e-05])],\n",
       " <auto_reduce.system.System at 0x23cd54aee08>: [1820.9105557960245,\n",
       "  array([2.13909132e+17, 8.00821140e-08, 1.79290313e+02, 1.09644428e-15,\n",
       "         1.67520591e-02, 4.86996480e-06, 3.73335750e-07, 3.26726475e-06,\n",
       "         1.69188674e-06, 5.81646804e+04, 1.15467002e+01, 2.23710309e+01,\n",
       "         4.33234749e-05])],\n",
       " <auto_reduce.system.System at 0x23cd54a4b48>: [339.9538219632188,\n",
       "  array([2.89534288e+108, 1.03892184e+106, 6.10736228e+098, 2.13747589e+002,\n",
       "         1.98781210e+001, 4.58106741e+105, 1.09453305e+083, 3.01910991e+082,\n",
       "         1.42761114e+085, 1.51490245e+115, 1.87239621e+091, 1.72554362e+107,\n",
       "         1.08482157e+116])],\n",
       " <auto_reduce.system.System at 0x23cd5470288>: [1296.0514653771459,\n",
       "  array([2.13931837e+91, 3.79818282e+96, 3.51494394e+97, 2.01437868e+95,\n",
       "         5.61131060e+94, 7.87567506e+87, 3.27061182e+74, 9.37177213e+73,\n",
       "         1.78319532e+74, 1.04343485e+88, 9.43992386e+69, 7.04948308e+94,\n",
       "         2.60945921e+95])],\n",
       " <auto_reduce.system.System at 0x23cd54a46c8>: [1318.6262662088136,\n",
       "  array([1.89587628e+51, 6.22074939e+50, 1.32053712e+57, 1.04653442e+41,\n",
       "         9.56575036e+41, 1.85736749e+42, 4.70765510e+39, 1.56452862e+33,\n",
       "         4.98479224e+32, 8.72069874e+42, 6.24269404e+02, 2.54500922e+06,\n",
       "         1.49832059e+52])],\n",
       " <auto_reduce.system.System at 0x23cd564a188>: [3.7426344942081933,\n",
       "  array([1.01671128e+21, 1.01670195e+22, 4.09323100e+20, 3.13125490e+25,\n",
       "         6.24183911e+16, 3.79250070e+15, 6.01128220e+06, 1.20224539e+08,\n",
       "         5.51538238e+02, 6.68724351e+05, 1.24908906e+22, 1.25248616e+22,\n",
       "         1.24074658e+22])],\n",
       " <auto_reduce.system.System at 0x23cd53d8c88>: [342.55252980442805,\n",
       "  array([2.13909132e+17, 5.88785462e+05, 6.83212661e+05, 3.25391057e+12,\n",
       "         1.29647846e+10, 2.74752571e+05, 1.00000003e-01, 1.00020413e-01,\n",
       "         1.00000235e-01, 6.68947928e+05, 9.76556447e+02, 1.16467002e+01,\n",
       "         3.92479849e+03])],\n",
       " <auto_reduce.system.System at 0x23cd563c648>: [1297.4004232677255,\n",
       "  array([2.13909132e+17, 5.88785462e+05, 6.83212661e+05, 2.66167132e+01,\n",
       "         7.31350111e-01, 9.27848786e+04, 1.00000003e-01, 1.00013390e-01,\n",
       "         1.00000085e-01, 1.94683173e+06, 5.81746804e+02, 1.16467002e+01,\n",
       "         2.24710309e+01])],\n",
       " <auto_reduce.system.System at 0x23cd5746d48>: [1820.9105557960245,\n",
       "  array([2.13909132e+17, 5.88785362e+05, 6.83212561e+05, 7.96177831e-08,\n",
       "         6.31350101e-01, 8.69223772e-06, 4.35176141e-11, 1.94799647e-05,\n",
       "         2.28678978e-07, 1.33632475e-07, 5.81646804e+02, 1.15467002e+01,\n",
       "         2.23710309e+01])],\n",
       " <auto_reduce.system.System at 0x23cd564a548>: [1820.9105557960245,\n",
       "  array([2.13909132e+17, 5.88785362e+05, 6.83212561e+05, 7.96177831e-08,\n",
       "         6.31350101e-01, 8.69223772e-06, 4.35176141e-11, 1.94799647e-05,\n",
       "         2.28678978e-07, 1.33632475e-07, 5.81646804e+02, 1.15467002e+01,\n",
       "         2.23710309e+01])],\n",
       " <auto_reduce.system.System at 0x23cd5841e48>: [1820.9105557960245,\n",
       "  array([2.13909132e+17, 5.88785362e+05, 6.83212561e+05, 7.96177831e-08,\n",
       "         6.31350101e-01, 8.69223772e-06, 4.35176141e-11, 1.94799647e-05,\n",
       "         2.28678978e-07, 1.33632475e-07, 5.81646804e+02, 1.15467002e+01,\n",
       "         2.23710309e+01])],\n",
       " <auto_reduce.system.System at 0x23cd5552c08>: [1820.9105557960245,\n",
       "  array([2.13909132e+17, 5.88785362e+05, 6.83212561e+05, 7.96177831e-08,\n",
       "         6.31350101e-01, 8.69223772e-06, 4.35176141e-11, 1.94799647e-05,\n",
       "         2.28678978e-07, 1.33632475e-07, 5.81646804e+02, 1.15467002e+01,\n",
       "         2.23710309e+01])]}"
      ]
     },
     "execution_count": 18,
     "metadata": {},
     "output_type": "execute_result"
    }
   ],
   "source": [
    "results"
   ]
  },
  {
   "cell_type": "code",
   "execution_count": null,
   "metadata": {},
   "outputs": [],
   "source": [
    "import matplotlib.pyplot as plt\n",
    "y_hat = sys_reduce.C@x_sol_hat.T\n",
    "plt.plot(timepoints_ode,y_hat.T)"
   ]
  },
  {
   "cell_type": "code",
   "execution_count": 21,
   "metadata": {},
   "outputs": [],
   "source": [
    "from auto_reduce.utils import reduce_utils\n",
    "rx = reduce_utils(sys_reduce)\n",
    "rx.write_results('gene_expression_results2.txt')"
   ]
  },
  {
   "cell_type": "code",
   "execution_count": 20,
   "metadata": {},
   "outputs": [
    {
     "data": {
      "text/plain": [
       "{<auto_reduce.system.System at 0x23cd588dd08>: [1820.9105557960245,\n",
       "  array([5.93329261e+48, 1.31286936e+37, 2.26146038e+34, 5.64156201e+24,\n",
       "         6.20776566e+25, 1.24603961e+36, 1.91854215e+35, 1.62534793e+22,\n",
       "         5.63549796e+25, 1.55192822e+24, 4.09077900e+22, 1.91854215e+33,\n",
       "         9.09756304e-16])],\n",
       " <auto_reduce.system.System at 0x23cd3f03e48>: [2070.5658094205155,\n",
       "  array([6.29248033e+178, 7.90348418e+005, 7.67916723e+005, 1.00001189e-001,\n",
       "         5.78422384e-001, 4.56193861e+004, 1.00000382e-001, 8.44120580e-001,\n",
       "         1.57639264e+146, 1.64011959e+011, 1.66050295e+157, 1.10794845e+154,\n",
       "         9.15012147e-001])],\n",
       " <auto_reduce.system.System at 0x23cd584dac8>: [1820.9105557960245,\n",
       "  array([2.13909132e+17, 7.90348318e+05, 7.67916623e+05, 8.18127956e-07,\n",
       "         6.31350113e-01, 6.68146918e-07, 7.76434510e-11, 7.67134225e-03,\n",
       "         5.81646804e+05, 2.43307563e+09, 2.23710309e+01, 1.18066590e-05,\n",
       "         8.40218315e-03])],\n",
       " <auto_reduce.system.System at 0x23cd5565408>: [1820.9105557960245,\n",
       "  array([2.13909132e+17, 7.90348318e+05, 7.67916623e+05, 8.18127956e-07,\n",
       "         6.31350113e-01, 6.68146918e-07, 7.76434510e-11, 7.67134225e-03,\n",
       "         5.81646804e+05, 2.43307563e+09, 2.23710309e+01, 1.18066590e-05,\n",
       "         8.40218315e-03])],\n",
       " <auto_reduce.system.System at 0x23cd571f148>: [1820.9105557960245,\n",
       "  array([2.13909132e+17, 7.90348318e+05, 7.67916623e+05, 8.18127956e-07,\n",
       "         6.31350113e-01, 6.68146918e-07, 7.76434510e-11, 7.67134225e-03,\n",
       "         5.81646804e+05, 2.43307563e+09, 2.23710309e+01, 1.18066590e-05,\n",
       "         8.40218315e-03])],\n",
       " <auto_reduce.system.System at 0x23cd5458288>: [1820.9105557960245,\n",
       "  array([2.13909132e+17, 7.90348318e+05, 7.67916623e+05, 8.18127956e-07,\n",
       "         6.31350113e-01, 6.68146918e-07, 7.76434510e-11, 7.67134225e-03,\n",
       "         5.81646804e+05, 2.43307563e+09, 2.23710309e+01, 1.18066590e-05,\n",
       "         8.40218315e-03])],\n",
       " <auto_reduce.system.System at 0x23cd5468ac8>: [2067.62800705995,\n",
       "  array([3.37475379e+33, 4.01373470e+50, 2.97234712e+60, 2.40510554e+38,\n",
       "         4.02384930e+29, 4.10226444e+03, 1.58967788e+26, 5.37910088e+27,\n",
       "         6.78887128e+25, 1.40821498e+37, 3.25524814e+18, 3.30165955e+34,\n",
       "         6.56771025e+24])],\n",
       " <auto_reduce.system.System at 0x23cd556b0c8>: [342.5525413062808,\n",
       "  array([2.13909132e+17, 7.87305786e+04, 1.95117235e+06, 2.24837639e+05,\n",
       "         1.04615316e-01, 4.87553010e+06, 1.57767560e+04, 1.01848882e+01,\n",
       "         2.85237029e+03, 1.58048330e+08, 1.16467006e+01, 2.24710331e+01,\n",
       "         2.40412884e+12])],\n",
       " <auto_reduce.system.System at 0x23cd5488288>: [1297.400434548607,\n",
       "  array([2.13909132e+17, 8.18251991e+04, 1.96673229e+06, 1.73302939e+00,\n",
       "         1.04615316e-01, 9.07497302e+06, 1.57834228e+04, 1.10298127e+01,\n",
       "         5.70464058e+03, 9.70376923e+07, 1.16467006e+01, 2.24710332e+01,\n",
       "         1.00012316e-01])],\n",
       " <auto_reduce.system.System at 0x23cd55588c8>: [2070.565809633107,\n",
       "  array([2.13909134e+17, 7.97833259e+09, 4.64488349e+18, 3.74468156e+00,\n",
       "         1.83314813e+03, 1.21391456e+17, 1.57647924e+04, 4.78567120e+00,\n",
       "         5.70464058e+03, 3.91773158e+09, 1.16467006e+01, 2.22060538e+16,\n",
       "         3.37223392e+00])],\n",
       " <auto_reduce.system.System at 0x23cd5861488>: [1820.9105557960245,\n",
       "  array([2.13909132e+17, 8.00821140e-08, 1.79290313e+02, 1.09644428e-15,\n",
       "         1.67520591e-02, 4.86996480e-06, 3.73335750e-07, 3.26726475e-06,\n",
       "         1.69188674e-06, 5.81646804e+04, 1.15467002e+01, 2.23710309e+01,\n",
       "         4.33234749e-05])],\n",
       " <auto_reduce.system.System at 0x23cd538fec8>: [1820.9105557960245,\n",
       "  array([2.13909132e+17, 8.00821140e-08, 1.79290313e+02, 1.09644428e-15,\n",
       "         1.67520591e-02, 4.86996480e-06, 3.73335750e-07, 3.26726475e-06,\n",
       "         1.69188674e-06, 5.81646804e+04, 1.15467002e+01, 2.23710309e+01,\n",
       "         4.33234749e-05])],\n",
       " <auto_reduce.system.System at 0x23cd5478708>: [1820.9105557960245,\n",
       "  array([2.13909132e+17, 8.00821140e-08, 1.79290313e+02, 1.09644428e-15,\n",
       "         1.67520591e-02, 4.86996480e-06, 3.73335750e-07, 3.26726475e-06,\n",
       "         1.69188674e-06, 5.81646804e+04, 1.15467002e+01, 2.23710309e+01,\n",
       "         4.33234749e-05])],\n",
       " <auto_reduce.system.System at 0x23cd5560e48>: [1820.9105557960245,\n",
       "  array([2.13909132e+17, 8.00821140e-08, 1.79290313e+02, 1.09644428e-15,\n",
       "         1.67520591e-02, 4.86996480e-06, 3.73335750e-07, 3.26726475e-06,\n",
       "         1.69188674e-06, 5.81646804e+04, 1.15467002e+01, 2.23710309e+01,\n",
       "         4.33234749e-05])],\n",
       " <auto_reduce.system.System at 0x23cd5727c88>: [1820.9105557960245,\n",
       "  array([2.13909132e+17, 8.00821140e-08, 1.79290313e+02, 1.09644428e-15,\n",
       "         1.67520591e-02, 4.86996480e-06, 3.73335750e-07, 3.26726475e-06,\n",
       "         1.69188674e-06, 5.81646804e+04, 1.15467002e+01, 2.23710309e+01,\n",
       "         4.33234749e-05])],\n",
       " <auto_reduce.system.System at 0x23cd54aee08>: [1820.9105557960245,\n",
       "  array([2.13909132e+17, 8.00821140e-08, 1.79290313e+02, 1.09644428e-15,\n",
       "         1.67520591e-02, 4.86996480e-06, 3.73335750e-07, 3.26726475e-06,\n",
       "         1.69188674e-06, 5.81646804e+04, 1.15467002e+01, 2.23710309e+01,\n",
       "         4.33234749e-05])],\n",
       " <auto_reduce.system.System at 0x23cd54a4b48>: [339.9538219632188,\n",
       "  array([2.89534288e+108, 1.03892184e+106, 6.10736228e+098, 2.13747589e+002,\n",
       "         1.98781210e+001, 4.58106741e+105, 1.09453305e+083, 3.01910991e+082,\n",
       "         1.42761114e+085, 1.51490245e+115, 1.87239621e+091, 1.72554362e+107,\n",
       "         1.08482157e+116])],\n",
       " <auto_reduce.system.System at 0x23cd5470288>: [1296.0514653771459,\n",
       "  array([2.13931837e+91, 3.79818282e+96, 3.51494394e+97, 2.01437868e+95,\n",
       "         5.61131060e+94, 7.87567506e+87, 3.27061182e+74, 9.37177213e+73,\n",
       "         1.78319532e+74, 1.04343485e+88, 9.43992386e+69, 7.04948308e+94,\n",
       "         2.60945921e+95])],\n",
       " <auto_reduce.system.System at 0x23cd54a46c8>: [1318.6262662088136,\n",
       "  array([1.89587628e+51, 6.22074939e+50, 1.32053712e+57, 1.04653442e+41,\n",
       "         9.56575036e+41, 1.85736749e+42, 4.70765510e+39, 1.56452862e+33,\n",
       "         4.98479224e+32, 8.72069874e+42, 6.24269404e+02, 2.54500922e+06,\n",
       "         1.49832059e+52])],\n",
       " <auto_reduce.system.System at 0x23cd564a188>: [3.7426344942081933,\n",
       "  array([1.01671128e+21, 1.01670195e+22, 4.09323100e+20, 3.13125490e+25,\n",
       "         6.24183911e+16, 3.79250070e+15, 6.01128220e+06, 1.20224539e+08,\n",
       "         5.51538238e+02, 6.68724351e+05, 1.24908906e+22, 1.25248616e+22,\n",
       "         1.24074658e+22])],\n",
       " <auto_reduce.system.System at 0x23cd53d8c88>: [342.55252980442805,\n",
       "  array([2.13909132e+17, 5.88785462e+05, 6.83212661e+05, 3.25391057e+12,\n",
       "         1.29647846e+10, 2.74752571e+05, 1.00000003e-01, 1.00020413e-01,\n",
       "         1.00000235e-01, 6.68947928e+05, 9.76556447e+02, 1.16467002e+01,\n",
       "         3.92479849e+03])],\n",
       " <auto_reduce.system.System at 0x23cd563c648>: [1297.4004232677255,\n",
       "  array([2.13909132e+17, 5.88785462e+05, 6.83212661e+05, 2.66167132e+01,\n",
       "         7.31350111e-01, 9.27848786e+04, 1.00000003e-01, 1.00013390e-01,\n",
       "         1.00000085e-01, 1.94683173e+06, 5.81746804e+02, 1.16467002e+01,\n",
       "         2.24710309e+01])],\n",
       " <auto_reduce.system.System at 0x23cd5746d48>: [1820.9105557960245,\n",
       "  array([2.13909132e+17, 5.88785362e+05, 6.83212561e+05, 7.96177831e-08,\n",
       "         6.31350101e-01, 8.69223772e-06, 4.35176141e-11, 1.94799647e-05,\n",
       "         2.28678978e-07, 1.33632475e-07, 5.81646804e+02, 1.15467002e+01,\n",
       "         2.23710309e+01])],\n",
       " <auto_reduce.system.System at 0x23cd564a548>: [1820.9105557960245,\n",
       "  array([2.13909132e+17, 5.88785362e+05, 6.83212561e+05, 7.96177831e-08,\n",
       "         6.31350101e-01, 8.69223772e-06, 4.35176141e-11, 1.94799647e-05,\n",
       "         2.28678978e-07, 1.33632475e-07, 5.81646804e+02, 1.15467002e+01,\n",
       "         2.23710309e+01])],\n",
       " <auto_reduce.system.System at 0x23cd5841e48>: [1820.9105557960245,\n",
       "  array([2.13909132e+17, 5.88785362e+05, 6.83212561e+05, 7.96177831e-08,\n",
       "         6.31350101e-01, 8.69223772e-06, 4.35176141e-11, 1.94799647e-05,\n",
       "         2.28678978e-07, 1.33632475e-07, 5.81646804e+02, 1.15467002e+01,\n",
       "         2.23710309e+01])],\n",
       " <auto_reduce.system.System at 0x23cd5552c08>: [1820.9105557960245,\n",
       "  array([2.13909132e+17, 5.88785362e+05, 6.83212561e+05, 7.96177831e-08,\n",
       "         6.31350101e-01, 8.69223772e-06, 4.35176141e-11, 1.94799647e-05,\n",
       "         2.28678978e-07, 1.33632475e-07, 5.81646804e+02, 1.15467002e+01,\n",
       "         2.23710309e+01])]}"
      ]
     },
     "execution_count": 20,
     "metadata": {},
     "output_type": "execute_result"
    }
   ],
   "source": [
    "results"
   ]
  },
  {
   "cell_type": "code",
   "execution_count": 24,
   "metadata": {},
   "outputs": [],
   "source": [
    "sys_reduce.g"
   ]
  },
  {
   "cell_type": "code",
   "execution_count": 26,
   "metadata": {},
   "outputs": [],
   "source": [
    "from sympy.printing import latex\n",
    "filename = 'test_gene_expr.txt'\n",
    "f1 = open(filename, 'w')\n",
    "f1.write('Model reduction results.\\n')\n",
    "for key,value in sys_reduce.results_dict.items():\n",
    "    f1.write('A possible reduced model: \\n \\n')\n",
    "    f1.write('\\n$x_{hat} = ')\n",
    "    f1.write(str(key.x))\n",
    "    f1.write('$\\n\\n\\n\\n')\n",
    "    for k in range(len(key.f)):\n",
    "        f1.write('\\n$f_{hat}('+ str(k+1) + ') = ')\n",
    "        f1.write(latex(key.f[k]))\n",
    "        f1.write('$\\n\\n')\n",
    "    f1.write('\\n\\n\\n')\n",
    "    f1.write('\\nError metric:')\n",
    "    f1.write(str(value[0]))\n",
    "    f1.write('\\n\\n\\n')\n",
    "    f1.write('\\nRobustness metric:')\n",
    "    f1.write(str(value[1]))\n",
    "    f1.write('\\n\\n\\n')\n",
    "    f1.write('Other properties') \n",
    "    f1.write('\\n\\n\\n')\n",
    "    f1.write('\\n C = ')\n",
    "    f1.write(str(key.C))\n",
    "    f1.write('\\n$ g = ')\n",
    "    f1.write(str(key.g))\n",
    "    f1.write('$\\n h = ')\n",
    "    f1.write(str(key.h))\n",
    "    f1.write('\\n$h = ')\n",
    "    f1.write(str(key.h))\n",
    "    f1.write('$\\n Solutions : \\n')\n",
    "    f1.write(str(key.x_sol))\n",
    "    f1.write('\\n\\n\\n\\n')\n",
    "    f1.write('\\n Sensitivity Solutions : \\n')\n",
    "    f1.write(str(key.S))\n",
    "    f1.write('\\n\\n\\n\\n')\n",
    "f1.close()"
   ]
  },
  {
   "cell_type": "code",
   "execution_count": 49,
   "metadata": {},
   "outputs": [],
   "source": [
    "# G,T,X\n",
    "# G,C1,T,X\n",
    "# G,C2,T,X\n",
    "# G,C3,T,X\n",
    "x_gtx = list(results.keys())[7].x_sol\n",
    "sys_gtx = list(results.keys())[7]\n",
    "x_gc1tx = list(results.keys())[16].x_sol\n",
    "sys_gc1tx = list(results.keys())[16]\n",
    "x_gc2tx = list(results.keys())[19].x_sol\n",
    "sys_gc2tx = list(results.keys())[19]\n",
    "x_gc3tx = list(results.keys())[20].x_sol\n",
    "sys_gc3tx = list(results.keys())[20]\n",
    "\n"
   ]
  },
  {
   "cell_type": "code",
   "execution_count": 132,
   "metadata": {},
   "outputs": [],
   "source": [
    "# params = [k_bp, k_up, k_tx, k_br, k_ur, k_tl, k_be, k_ue, d_i, d, E_tot, P_tot, R_tot]\n",
    "\n",
    "params_values_new = params_values = [100, 10, 4, 10, 0.25, 2, 1, 0.5, 1, 10, 1000, 1000, 1000]\n",
    "sys.params_values = params_values_new\n",
    "sys_gtx.params_values = params_values_new\n",
    "sys_gc1tx.params_values = params_values_new\n",
    "sys_gc2tx.params_values = params_values_new\n",
    "sys_gc3tx.params_values = params_values_new\n",
    "timepoints_ode = np.linspace(0, 2, 100)\n",
    "\n",
    "sys_ode = get_ODE(sys_reduce, timepoints_ode)\n",
    "sol = sys_ode.solve_system().T\n",
    "\n",
    "\n",
    "sys_gtx_ode = get_ODE(sys_gtx, timepoints_ode)\n",
    "x_gtx = sys_gtx_ode.solve_system().T\n",
    "\n",
    "\n",
    "sys_gc1tx_ode = get_ODE(sys_gc1tx, timepoints_ode)\n",
    "x_gc1tx = sys_gc1tx_ode.solve_system().T\n",
    "\n",
    "\n",
    "sys_gc2tx_ode = get_ODE(sys_gc2tx, timepoints_ode)\n",
    "x_gc2tx = sys_gc2tx_ode.solve_system().T\n",
    "\n",
    "\n",
    "sys_gc3tx_ode = get_ODE(sys_gc3tx, timepoints_ode)\n",
    "x_gc3tx = sys_gc3tx_ode.solve_system().T\n"
   ]
  },
  {
   "cell_type": "code",
   "execution_count": 149,
   "metadata": {},
   "outputs": [
    {
     "data": {
      "image/png": "[encoded data removed]",
      "text/plain": [
       "<Figure size 432x288 with 1 Axes>"
      ]
     },
     "metadata": {
      "needs_background": "light"
     },
     "output_type": "display_data"
    }
   ],
   "source": [
    "import matplotlib.pyplot as plt\n",
    "fig, ax = plt.subplots()\n",
    "\n",
    "plt.plot(timepoints_ode, np.transpose(np.array(sys_reduce.C)@sol), 'k--', label = 'Full CRN model', linewidth = 5)\n",
    "plt.plot(timepoints_ode, np.transpose(np.array(sys_gtx.C)@x_gtx), label = '[T, X]', linewidth = 2)\n",
    "plt.plot(timepoints_ode, np.transpose(np.array(sys_gc1tx.C)@x_gc1tx), label = '[T, C1, X]', linewidth = 2)\n",
    "plt.plot(timepoints_ode, np.transpose(np.array(sys_gc2tx.C)@x_gc2tx), label = '[T, C2, X]', linewidth = 2)\n",
    "plt.plot(timepoints_ode, np.transpose(np.array(sys_gc3tx.C)@x_gc3tx), label = '[T, C3, X]', linewidth = 2)\n",
    "plt.xlabel('Time', FontSize = 18)\n",
    "plt.ylabel('[X]', FontSize = 18)\n",
    "ax.tick_params(axis='both', which='major', labelsize=14)\n",
    "plt.legend()\n",
    "plt.savefig('gene_expression_timecourse.svg')\n",
    "plt.show()"
   ]
  },
  {
   "cell_type": "code",
   "execution_count": 160,
   "metadata": {},
   "outputs": [
    {
     "data": {
      "text/latex": [
       "$\\displaystyle \\frac{G P_{tot} k_{bp} \\left(k_{bp} + k_{tx}\\right)}{G k_{bp} + k_{tx} + k_{up}} - G k_{up} \\left(- \\frac{G P_{tot} k_{bp}}{G k_{bp} + k_{tx} + k_{up}} + P_{tot}\\right)$"
      ],
      "text/plain": [
       "G*P_tot*k_bp*(k_bp + k_tx)/(G*k_bp + k_tx + k_up) - G*k_up*(-G*P_tot*k_bp/(G*k_bp + k_tx + k_up) + P_tot)"
      ]
     },
     "execution_count": 160,
     "metadata": {},
     "output_type": "execute_result"
    }
   ],
   "source": [
    "g0 = - k_up * x1\n",
    "g1 = - k_up * x1\n",
    "g2 = k_bp * x1 \n",
    "g3 = 0\n",
    "g4 = 0\n",
    "g5 = 0\n",
    "g6 = 0\n",
    "g7 = 0\n",
    "g8 = 0\n",
    "g = [g0,g1,g2,g3,g4,g5,g6,g7,g8]\n"
   ]
  },
  {
   "cell_type": "code",
   "execution_count": 181,
   "metadata": {},
   "outputs": [],
   "source": [
    "def evaluate(system, f, x, P, u = None):\n",
    "    \"\"\"\n",
    "    Evaluate the given symbolic function (f) that is part of the System\n",
    "    at the values given by x for self.x and P for self.params\n",
    "    \"\"\"\n",
    "    fs = []\n",
    "    for i in range(len(f)):\n",
    "        fi = f[i]\n",
    "        fi = fi.subs(list(zip(system.x, x)))\n",
    "        if system.u is not None:\n",
    "            fi = fi.subs(list(zip(system.u, u)))\n",
    "        fi = fi.subs(list(zip(system.params, P)))\n",
    "        fs.append(fi)\n",
    "    return fs\n",
    "\n",
    "def compute_J(system, x, **kwargs):\n",
    "    '''\n",
    "    Compute the Jacobian J = df/dx at a timepoint k.\n",
    "    Returns a matrix of size n x n.\n",
    "    Use mode = 'accurate' for this object attribute to use accurate computations using numdifftools.\n",
    "    '''\n",
    "    \n",
    "    # initialize J\n",
    "    J = np.zeros( (system.n, system.n) )   \n",
    "    P = system.params_values \n",
    "    u = system.u\n",
    "    # store x\n",
    "    X = x \n",
    "    if 'fun' in kwargs:\n",
    "        fun = kwargs.get('fun')\n",
    "    else:\n",
    "        fun = system.f\n",
    "    for i in range(system.n):\n",
    "        for j in range(system.n):\n",
    "            F = np.zeros( (4,1) )\n",
    "            h = X[j]*0.01\n",
    "            # Gets O(4) central difference on dfi/dxj\n",
    "            if h != 0:\n",
    "                x = X\n",
    "                x[j] = X[j] + 2*h\n",
    "                f = evaluate(system, fun, x, P, u)\n",
    "                F[0] = f[i]\n",
    "                x[j] = X[j] + h\n",
    "                f = evaluate(system, fun, x, P, u)\n",
    "                F[1] = f[i]\n",
    "                x[j] = X[j] - h\n",
    "                f = evaluate(system, fun, x, P, u)\n",
    "                F[2] = f[i]\n",
    "                x[j] = X[j] - 2*h\n",
    "                f = evaluate(system, fun, x, P, u)\n",
    "                F[3] = f[i]\n",
    "                #Store approx. dfi/dxj into J\n",
    "                J[i,j]= (-F[0] + 8*F[1] - 8*F[2] + F[3])/(12*h)   \n",
    "                # print(J[i,j])\n",
    "                # if J[i,j] == np.Inf:\n",
    "                #     J[i,j] = 1\n",
    "                # elif J[i,j] == np.NaN:\n",
    "                #     J[i,j] = 0\n",
    "    return J\n"
   ]
  },
  {
   "cell_type": "code",
   "execution_count": 273,
   "metadata": {},
   "outputs": [
    {
     "data": {
      "image/png": "[encoded data removed]",
      "text/plain": [
       "<Figure size 432x288 with 1 Axes>"
      ]
     },
     "metadata": {
      "needs_background": "light"
     },
     "output_type": "display_data"
    }
   ],
   "source": [
    "t_lin = [timepoints_ode[6], timepoints_ode[15], timepoints_ode[30]]\n",
    "# t_lin = [timepoints_ode[6]]\n",
    "fig, ax = plt.subplots()\n",
    "out_sol = np.array(sys_reduce.C)@sol\n",
    "out_gtx = np.array(sys_gtx.C)@x_gtx\n",
    "out_gc1tx = np.array(sys_gc1tx.C)@x_gc1tx\n",
    "out_gc2tx = np.array(sys_gc2tx.C)@x_gc2tx\n",
    "out_gc3tx = np.array(sys_gc3tx.C)@x_gc3tx\n",
    "plt.plot(timepoints_ode, np.transpose(out_sol), 'k--', label = 'Full CRN model', linewidth = 5)\n",
    "plt.plot(timepoints_ode, np.transpose(out_gtx), label = '[T, X]', linewidth = 2)\n",
    "plt.plot(timepoints_ode, np.transpose(out_gc1tx), label = '[T, C1, X]', linewidth = 2)\n",
    "plt.plot(timepoints_ode, np.transpose(out_gc2tx), label = '[T, C2, X]', linewidth = 2)\n",
    "plt.plot(timepoints_ode, np.transpose(out_gc3tx), label = '[T, C3, X]', linewidth = 2)\n",
    "\n",
    "for t in t_lin:\n",
    "    x_pt = sol[:,list(timepoints_ode).index(t)]\n",
    "    J_full = compute_J(sys_reduce, x_pt)\n",
    "#     B_full = compute_J(sys_reduce, x_pt, var = sys_reduce.g)\n",
    "    n_size = np.shape(J_full)[1]\n",
    "    A_full = J_full[1:n_size,1:n_size]\n",
    "    B_full = J_full[0,:]\n",
    "    C_full = sys_reduce.C\n",
    "#     G_full = \n",
    "    \n",
    "    x_pt = x_gtx[:,list(timepoints_ode).index(t)]\n",
    "    J_gtx = compute_J(sys_gtx, x_pt)\n",
    "    n_size = np.shape(J_gtx)[1]\n",
    "    A_gtx = J_gtx[1:n_size,1:n_size]\n",
    "    B_gtx = J_gtx[0,:]\n",
    "#     B_gtx = compute_J(sys_gtx, x_pt, var = sys_gtx.g)\n",
    "    C_gtx = sys_gtx.C\n",
    "    \n",
    "    x_pt = x_gc1tx[:,list(timepoints_ode).index(t)]\n",
    "    x_pt_C1 = x_pt\n",
    "    J_gc1tx = compute_J(sys_gc1tx, x_pt)\n",
    "    n_size = np.shape(J_gc1tx)[1]\n",
    "#     B_gc1tx = compute_J(sys_gc1tx, x_pt, var = sys_gc1tx.g)\n",
    "    A_gc1tx = J_gc1tx[1:n_size,1:n_size]\n",
    "    B_gc1tx = J_gc1tx[0,:]\n",
    "    C_gc1tx = sys_gc1tx.C\n",
    "    \n",
    "    x_pt = x_gc2tx[:,list(timepoints_ode).index(t)]\n",
    "    J_gc2tx = compute_J(sys_gc2tx, x_pt)\n",
    "    n_size = np.shape(J_gc2tx)[1]\n",
    "#     B_gc2tx = compute_J(sys_gc2tx, x_pt, var = sys_gc2tx.g)\n",
    "    A_gc2tx = J_gc2tx[1:n_size,1:n_size]\n",
    "    B_gc2tx = J_gc2tx[0,:]\n",
    "    C_gc2tx = sys_gc2tx.C\n",
    "    \n",
    "    x_pt = x_gc3tx[:,list(timepoints_ode).index(t)]\n",
    "    J_gc3tx = compute_J(sys_gc3tx, x_pt)\n",
    "    n_size = np.shape(J_gc3tx)[1]\n",
    "#     B_gc3tx = compute_J(sys_gc3tx, x_pt, var = sys_gc3tx.g)\n",
    "    A_gc3tx = J_gc3tx[1:n_size,1:n_size]\n",
    "    B_gc3tx = J_gc3tx[0,:]\n",
    "    C_gc3tx = sys_gc3tx.C\n",
    "    \n",
    "    plt.axvline(x=t, color = 'k',linestyle = ':',linewidth = 1.5)\n",
    "plt.xlabel('Time', FontSize = 18)\n",
    "plt.ylabel('[X]', FontSize = 18)\n",
    "ax.tick_params(axis='both', which='major', labelsize=14)\n",
    "plt.legend()\n",
    "plt.savefig('linearizations_model.svg')\n",
    "plt.show()    "
   ]
  },
  {
   "cell_type": "code",
   "execution_count": 274,
   "metadata": {},
   "outputs": [
    {
     "data": {
      "text/plain": [
       "array([61901.90343886,   999.99773836,  1209.16264208,   199.47669259])"
      ]
     },
     "execution_count": 274,
     "metadata": {},
     "output_type": "execute_result"
    }
   ],
   "source": [
    "x_pt_C1"
   ]
  },
  {
   "cell_type": "code",
   "execution_count": 213,
   "metadata": {},
   "outputs": [
    {
     "data": {
      "text/plain": [
       "array([-5.00000000e+00+0.j, -2.59064741e+03+0.j, -2.59319416e+03+0.j,\n",
       "       -8.37802498e-04+0.j, -3.09510217e+06+0.j])"
      ]
     },
     "execution_count": 213,
     "metadata": {},
     "output_type": "execute_result"
    }
   ],
   "source": [
    "from scipy.linalg import eigvals\n",
    "eigvals(A_full)"
   ]
  },
  {
   "cell_type": "code",
   "execution_count": 194,
   "metadata": {},
   "outputs": [
    {
     "data": {
      "text/plain": [
       "(6,)"
      ]
     },
     "execution_count": 194,
     "metadata": {},
     "output_type": "execute_result"
    }
   ],
   "source": [
    "np.shape(sys_reduce.x)"
   ]
  },
  {
   "cell_type": "code",
   "execution_count": 162,
   "metadata": {},
   "outputs": [],
   "source": [
    "arrr = np.zeros( (5,5) )"
   ]
  },
  {
   "cell_type": "code",
   "execution_count": 168,
   "metadata": {},
   "outputs": [
    {
     "data": {
      "text/plain": [
       "array([[0., 0., 0., 0., 0.],\n",
       "       [0., 0., 0., 0., 0.]])"
      ]
     },
     "execution_count": 168,
     "metadata": {},
     "output_type": "execute_result"
    }
   ],
   "source": [
    "arrr[2:-1,:]"
   ]
  },
  {
   "cell_type": "code",
   "execution_count": 179,
   "metadata": {},
   "outputs": [
    {
     "data": {
      "text/plain": [
       "array([36.42819151])"
      ]
     },
     "execution_count": 179,
     "metadata": {},
     "output_type": "execute_result"
    }
   ],
   "source": [
    "out_sol[:,list(timepoints_ode).index(t)]"
   ]
  },
  {
   "cell_type": "code",
   "execution_count": 210,
   "metadata": {},
   "outputs": [
    {
     "data": {
      "text/plain": [
       "array([[-3.09510217e+06,  0.00000000e+00,  0.00000000e+00,\n",
       "         0.00000000e+00,  0.00000000e+00],\n",
       "       [ 2.00000000e+00, -2.17258455e+00,  2.59002241e+03,\n",
       "         0.00000000e+00,  0.00000000e+00],\n",
       "       [ 0.00000000e+00,  2.17258455e+00, -2.59102241e+03,\n",
       "         0.00000000e+00,  0.00000000e+00],\n",
       "       [ 0.00000000e+00,  1.44859968e+00,  0.00000000e+00,\n",
       "        -2.59064741e+03,  0.00000000e+00],\n",
       "       [ 0.00000000e+00,  0.00000000e+00,  1.00000000e+00,\n",
       "         0.00000000e+00, -5.00000000e+00]])"
      ]
     },
     "execution_count": 210,
     "metadata": {},
     "output_type": "execute_result"
    }
   ],
   "source": [
    "J_full[1:6,1:6]\n",
    "# A_full"
   ]
  },
  {
   "cell_type": "code",
   "execution_count": 200,
   "metadata": {},
   "outputs": [
    {
     "data": {
      "text/plain": [
       "array([[-1.13082019e-02,  3.09561517e+05,  0.00000000e+00,\n",
       "         0.00000000e+00,  0.00000000e+00,  0.00000000e+00],\n",
       "       [ 1.13082016e-01, -3.09510217e+06,  0.00000000e+00,\n",
       "         0.00000000e+00,  0.00000000e+00,  0.00000000e+00],\n",
       "       [ 0.00000000e+00,  2.00000000e+00, -2.17258455e+00,\n",
       "         2.59002241e+03,  0.00000000e+00,  0.00000000e+00],\n",
       "       [ 0.00000000e+00,  0.00000000e+00,  2.17258455e+00,\n",
       "        -2.59102241e+03,  0.00000000e+00,  0.00000000e+00],\n",
       "       [ 0.00000000e+00,  0.00000000e+00,  1.44859968e+00,\n",
       "         0.00000000e+00, -2.59064741e+03,  0.00000000e+00],\n",
       "       [ 0.00000000e+00,  0.00000000e+00,  0.00000000e+00,\n",
       "         1.00000000e+00,  0.00000000e+00, -5.00000000e+00]])"
      ]
     },
     "execution_count": 200,
     "metadata": {},
     "output_type": "execute_result"
    }
   ],
   "source": [
    "J_full"
   ]
  },
  {
   "cell_type": "code",
   "execution_count": 258,
   "metadata": {},
   "outputs": [],
   "source": [
    "# At t = 0.1\n",
    "norm_full = 0.04\n",
    "norm_gtx = 5.4555e-13\n",
    "norm_gc1tx = 0.04\n",
    "norm_gc2tx = 0\n",
    "norm_gc3tx = 2.7277e-13\n",
    "\n",
    "# At t = 0.4\n",
    "norm_full = 0.04\n",
    "norm_gtx = 3.3490e-13\n",
    "norm_c1gtx = 0.04\n",
    "norm_c2gtx = 1.1543e-11\n",
    "norm_c3gtx = 5.0234e-13\n",
    "\n",
    "\n",
    "# At t = 1\n",
    "norm_full = 0.0400\n",
    "norm_gtx =  2.8312e-13\n",
    "norm_c1gtx = 0.0400\n",
    "norm_c2gtx = 5.8298e-13\n",
    "norm_c3gtx =  5.6624e-13\n"
   ]
  },
  {
   "cell_type": "code",
   "execution_count": 264,
   "metadata": {},
   "outputs": [
    {
     "data": {
      "text/latex": [
       "$\\displaystyle C_{1} \\left(k_{bp} + k_{tx}\\right) - G k_{up} \\left(- C_{1} + P_{tot}\\right)$"
      ],
      "text/plain": [
       "C1*(k_bp + k_tx) - G*k_up*(-C1 + P_tot)"
      ]
     },
     "execution_count": 264,
     "metadata": {},
     "output_type": "execute_result"
    }
   ],
   "source": [
    "sys_gc1tx.f[0]"
   ]
  },
  {
   "cell_type": "code",
   "execution_count": 265,
   "metadata": {},
   "outputs": [
    {
     "data": {
      "text/latex": [
       "$\\displaystyle - C_{1} \\left(k_{tx} + k_{up}\\right) + G k_{bp} \\left(- C_{1} + P_{tot}\\right)$"
      ],
      "text/plain": [
       "-C1*(k_tx + k_up) + G*k_bp*(-C1 + P_tot)"
      ]
     },
     "execution_count": 265,
     "metadata": {},
     "output_type": "execute_result"
    }
   ],
   "source": [
    "sys_gc1tx.f[1]"
   ]
  },
  {
   "cell_type": "code",
   "execution_count": 272,
   "metadata": {},
   "outputs": [
    {
     "data": {
      "text/latex": [
       "$\\displaystyle C_{1} k_{tx} + \\frac{R_{tot} T k_{br} k_{ur}}{T k_{br} + k_{tl} + k_{ur}} - T k_{br} \\left(- \\frac{R_{tot} T k_{br}}{T k_{br} + k_{tl} + k_{ur}} + R_{tot}\\right)$"
      ],
      "text/plain": [
       "C1*k_tx + R_tot*T*k_br*k_ur/(T*k_br + k_tl + k_ur) - T*k_br*(-R_tot*T*k_br/(T*k_br + k_tl + k_ur) + R_tot)"
      ]
     },
     "execution_count": 272,
     "metadata": {},
     "output_type": "execute_result"
    }
   ],
   "source": [
    "sys_gc1tx.f[2]"
   ]
  },
  {
   "cell_type": "code",
   "execution_count": 271,
   "metadata": {},
   "outputs": [
    {
     "data": {
      "text/latex": [
       "$\\displaystyle \\frac{R_{tot} T k_{br} k_{tl}}{T k_{br} + k_{tl} + k_{ur}} - X d$"
      ],
      "text/plain": [
       "R_tot*T*k_br*k_tl/(T*k_br + k_tl + k_ur) - X*d"
      ]
     },
     "execution_count": 271,
     "metadata": {},
     "output_type": "execute_result"
    }
   ],
   "source": [
    "\n",
    "sys_gc1tx.f[3]"
   ]
  },
  {
   "cell_type": "code",
   "execution_count": 270,
   "metadata": {},
   "outputs": [
    {
     "data": {
      "text/plain": [
       "[G, C1, T, X]"
      ]
     },
     "execution_count": 270,
     "metadata": {},
     "output_type": "execute_result"
    }
   ],
   "source": [
    "sys_gc1tx.x"
   ]
  },
  {
   "cell_type": "code",
   "execution_count": 268,
   "metadata": {},
   "outputs": [
    {
     "data": {
      "text/latex": [
       "$\\displaystyle C_{1} \\left(k_{bp} + k_{tx}\\right) - G k_{up} \\left(- C_{1} + P_{tot}\\right)$"
      ],
      "text/plain": [
       "C1*(k_bp + k_tx) - G*k_up*(-C1 + P_tot)"
      ]
     },
     "execution_count": 268,
     "metadata": {},
     "output_type": "execute_result"
    }
   ],
   "source": [
    "sys.f[0]"
   ]
  },
  {
   "cell_type": "code",
   "execution_count": 275,
   "metadata": {},
   "outputs": [
    {
     "data": {
      "text/plain": [
       "array([[-3.09510217e+06,  0.00000000e+00,  0.00000000e+00],\n",
       "       [ 2.00000000e+00, -1.44961953e-04,  3.79950280e-14],\n",
       "       [ 0.00000000e+00,  1.44961948e-04, -5.00000000e+00]])"
      ]
     },
     "execution_count": 275,
     "metadata": {},
     "output_type": "execute_result"
    }
   ],
   "source": [
    "A_gc1tx"
   ]
  },
  {
   "cell_type": "code",
   "execution_count": 276,
   "metadata": {},
   "outputs": [
    {
     "data": {
      "text/plain": [
       "array([-1.13081920e-02,  3.09561517e+05,  0.00000000e+00,  0.00000000e+00])"
      ]
     },
     "execution_count": 276,
     "metadata": {},
     "output_type": "execute_result"
    }
   ],
   "source": [
    "B_gc1tx"
   ]
  },
  {
   "cell_type": "code",
   "execution_count": null,
   "metadata": {},
   "outputs": [],
   "source": []
  }
 ],
 "metadata": {
  "kernelspec": {
   "display_name": "Python 3",
   "language": "python",
   "name": "python3"
  },
  "language_info": {
   "codemirror_mode": {
    "name": "ipython",
    "version": 3
   },
   "file_extension": ".py",
   "mimetype": "text/x-python",
   "name": "python",
   "nbconvert_exporter": "python",
   "pygments_lexer": "ipython3",
   "version": "3.7.4"
  }
 },
 "nbformat": 4,
 "nbformat_minor": 2
}
