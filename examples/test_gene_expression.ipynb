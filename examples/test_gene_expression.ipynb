{
 "cells": [
  {
   "cell_type": "code",
   "execution_count": 1,
   "metadata": {},
   "outputs": [],
   "source": [
    "%matplotlib inline\n",
    "from IPython.core.interactiveshell import InteractiveShell\n",
    "InteractiveShell.ast_node_interactivity = \"all\"\n",
    "from autoreduce import *\n",
    "import numpy as np\n",
    "from sympy import symbols\n",
    "\n",
    "# Post conservation law and other approximations phenomenological model at the RNA level\n",
    "n = 8 # Number of states : P, C1, T, R, C2, E, C3, X\n",
    "nouts = 1 # Number of outputs, X_i\n",
    "\n",
    "# Inputs by user \n",
    "x_init = np.zeros(n)\n",
    "x_init[0] = 100\n",
    "x_init[3] = 400\n",
    "x_init[5] = 20\n",
    "C = np.zeros((nouts,n), dtype=int)\n",
    "C[0][7] = 1\n",
    "\n",
    "nstates_tol_max = 3\n",
    "nsatees_tol_min = 2\n",
    "error_tol = 3000\n",
    "# System dynamics symbolically\n",
    "\n",
    "# k_bp, k_up, k_tx, k_br, k_ur, k_tl, k_be, k_ue, d_i, d = params, len(params) = 10\n",
    "\n",
    "\n",
    "x0 = symbols('P')\n",
    "x1 = symbols('C1') # G:P\n",
    "x2 = symbols('T')\n",
    "x3 = symbols('R')\n",
    "x4 = symbols('C2') # T:R\n",
    "x5 = symbols('E')\n",
    "x6 = symbols('C3') # T:E\n",
    "x7 = symbols('X')\n",
    "\n",
    "x = [x0, x1, x2, x3, x4, x5, x6, x7]\n",
    "\n",
    "G = symbols('G')\n",
    "k_bp = symbols('k_bp')\n",
    "k_up = symbols('k_up')\n",
    "k_tx = symbols('k_tx')\n",
    "k_br = symbols('k_br')\n",
    "k_ur = symbols('k_ur')\n",
    "k_tl = symbols('k_tl')\n",
    "k_be = symbols('k_be')\n",
    "k_ue = symbols('k_ue')\n",
    "d_i = symbols('d_i')\n",
    "d = symbols('d')\n",
    "\n",
    "E_tot = symbols('E_tot')\n",
    "P_tot = symbols('P_tot')\n",
    "R_tot = symbols('R_tot')\n",
    "params = [k_bp, k_up, k_tx, k_br, k_ur, k_tl, k_be, k_ue, d_i, d, E_tot, P_tot, R_tot, G]\n",
    "# f0 = (k_bp + k_tx) * x1 - k_up * G * x0\n",
    "f0 = (k_up + k_tx) * x1 - k_bp * G * x0\n",
    "f1 = k_bp * G * x0 - (k_up + k_tx)*x1\n",
    "f2 = k_tx * x1 + (k_ur + k_tl) * x4 - k_br * x2 * x3\n",
    "f3 = (k_ur + k_tl) * x4 - k_br * x2 * x3\n",
    "f4 = k_br * x2 * x3 - (k_ur + k_tl) * x4\n",
    "f5 = (k_ue + d_i) * x6 - k_be * x2 * x5\n",
    "f6 = k_be * x2 * x5 - (k_ue + d_i) * x6\n",
    "f7 = k_tl * x4 - d * x7\n",
    "    \n",
    "f = [f0,f1,f2,f3,f4,f5,f6,f7]\n",
    "# parameter values\n",
    "# E_tot = 20\n",
    "# P_tot = 100\n",
    "# R_tot = 400\n",
    "params_values = [30, 10, 0.50, 80, 2, 8, 10, 2, 1, 0.5, 20, 100, 400, 10]\n",
    "# params_values = [100, 10, 4, 10, 0.25, 2, 10, 0.5, 1, 1, 1000, 1000, 1000, 10]\n",
    "sys = System(x, f, params = params, params_values = params_values, C = C, x_init = x_init)"
   ]
  },
  {
   "cell_type": "code",
   "execution_count": 2,
   "metadata": {},
   "outputs": [],
   "source": [
    "from autoreduce.utils import get_reducible\n",
    "timepoints_ssm = np.linspace(0,2,10)\n",
    "timepoints_ode = np.linspace(0,2,100)\n",
    "sys_reduce = get_reducible(sys, timepoints_ode, timepoints_ssm)\n",
    "sys_reduce.nstates_tol_min = 2\n",
    "sys_reduce.nstates_tol_max = 3"
   ]
  },
  {
   "cell_type": "code",
   "execution_count": 3,
   "metadata": {},
   "outputs": [],
   "source": [
    "P, C1, T, R, C2, E, C3, X = sys.x\n",
    "conserved_quantities = [P + C1 - P_tot, R + C2 - R_tot, E + C3 - E_tot]\n",
    "states_to_eliminate = [C1, C2, C3]\n",
    "f_cons = sys_reduce.set_conservation_laws(conserved_quantities, states_to_eliminate)"
   ]
  },
  {
   "cell_type": "code",
   "execution_count": 4,
   "metadata": {},
   "outputs": [
    {
     "data": {
      "text/plain": [
       "[-G*P*k_bp + (-P + P_tot)*(k_tx + k_up),\n",
       " -R*T*k_br + k_tx*(-P + P_tot) + (-R + R_tot)*(k_tl + k_ur),\n",
       " -R*T*k_br + (-R + R_tot)*(k_tl + k_ur),\n",
       " -E*T*k_be + (-E + E_tot)*(d_i + k_ue),\n",
       " -X*d + k_tl*(-R + R_tot)]"
      ]
     },
     "execution_count": 4,
     "metadata": {},
     "output_type": "execute_result"
    }
   ],
   "source": [
    "sys_reduce.f"
   ]
  },
  {
   "cell_type": "code",
   "execution_count": 5,
   "metadata": {},
   "outputs": [
    {
     "name": "stdout",
     "output_type": "stream",
     "text": [
      "Reduced set of variables is [T, X]\n",
      "f_hat =  [-R*T*k_br + k_tx*(-P + P_tot) + (-R + R_tot)*(k_tl + k_ur), -X*d + k_tl*(-R + R_tot)]\n",
      "Collapsed set of variables is [P, R, E]\n",
      "In sympy_solve_and_substitute, solving for  P\n",
      "From  -G*P*k_bp + (-P + P_tot)*(k_tx + k_up)\n",
      "Solution found:  {P: [P_tot*(k_tx + k_up)/(G*k_bp + k_tx + k_up)]}\n",
      "Updated f_hat now is  [-R*T*k_br + k_tx*(-P_tot*(k_tx + k_up)/(G*k_bp + k_tx + k_up) + P_tot) + (-R + R_tot)*(k_tl + k_ur), -X*d + k_tl*(-R + R_tot)]\n",
      "In sympy_solve_and_substitute, solving for  R\n",
      "From  -R*T*k_br + (-R + R_tot)*(k_tl + k_ur)\n",
      "Solution found:  {P: [P_tot*(k_tx + k_up)/(G*k_bp + k_tx + k_up)], R: [R_tot*(k_tl + k_ur)/(T*k_br + k_tl + k_ur)]}\n",
      "Updated f_hat now is  [-R_tot*T*k_br*(k_tl + k_ur)/(T*k_br + k_tl + k_ur) + k_tx*(-P_tot*(k_tx + k_up)/(G*k_bp + k_tx + k_up) + P_tot) + (k_tl + k_ur)*(-R_tot*(k_tl + k_ur)/(T*k_br + k_tl + k_ur) + R_tot), -X*d + k_tl*(-R_tot*(k_tl + k_ur)/(T*k_br + k_tl + k_ur) + R_tot)]\n",
      "In sympy_solve_and_substitute, solving for  E\n",
      "From  -E*T*k_be + (-E + E_tot)*(d_i + k_ue)\n",
      "Solution found:  {P: [P_tot*(k_tx + k_up)/(G*k_bp + k_tx + k_up)], R: [R_tot*(k_tl + k_ur)/(T*k_br + k_tl + k_ur)], E: [E_tot*(d_i + k_ue)/(T*k_be + d_i + k_ue)]}\n",
      "Updated f_hat now is  [-R_tot*T*k_br*(k_tl + k_ur)/(T*k_br + k_tl + k_ur) + k_tx*(-P_tot*(k_tx + k_up)/(G*k_bp + k_tx + k_up) + P_tot) + (k_tl + k_ur)*(-R_tot*(k_tl + k_ur)/(T*k_br + k_tl + k_ur) + R_tot), -X*d + k_tl*(-R_tot*(k_tl + k_ur)/(T*k_br + k_tl + k_ur) + R_tot)]\n",
      "Successful time-scale separation solution obtained!\n"
     ]
    }
   ],
   "source": [
    "reduced_sys, fast_ss = sys_reduce.solve_timescale_separation([T,X], debug = True)\n"
   ]
  },
  {
   "cell_type": "code",
   "execution_count": null,
   "metadata": {},
   "outputs": [],
   "source": []
  }
 ],
 "metadata": {
  "kernelspec": {
   "display_name": "Python 3",
   "language": "python",
   "name": "python3"
  },
  "language_info": {
   "codemirror_mode": {
    "name": "ipython",
    "version": 3
   },
   "file_extension": ".py",
   "mimetype": "text/x-python",
   "name": "python",
   "nbconvert_exporter": "python",
   "pygments_lexer": "ipython3",
   "version": "3.7.4"
  }
 },
 "nbformat": 4,
 "nbformat_minor": 2
}
