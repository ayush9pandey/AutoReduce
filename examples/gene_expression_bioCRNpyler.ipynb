{
 "cells": [
  {
   "cell_type": "markdown",
   "metadata": {},
   "source": [
    "  $G_i + P \\quad[k^{b_P}_i]<->[k^{u_P}_i] \\quad  G_i:P \\\\\n",
    "    G_i:P \\quad  --> [k_i^{tx}] \\quad  G_i + P + T_i \\\\\n",
    "    T_i + R \\quad  [k^{b_R}_i]<->[k^{u_R}_i]\\quad   T_i:R \\\\\n",
    "    T_i:R  \\quad -->[k_i^{tl}]\\quad T_i + R + X_i \\\\\n",
    "    T_i + E \\quad  [k^{b_E}_i]<->[k^{u_E}_i] \\quad  T_i:E \\\\\n",
    "    T_i:E \\quad-->[\\delta_i]\\quad E \\\\\n",
    "    X \\quad-->[d]\\quad $"
   ]
  },
  {
   "cell_type": "code",
   "execution_count": 1,
   "metadata": {},
   "outputs": [],
   "source": [
    "%matplotlib inline\n",
    "from IPython.core.interactiveshell import InteractiveShell\n",
    "InteractiveShell.ast_node_interactivity = \"all\"\n",
    "\n",
    "from auto_reduce import *\n",
    "import numpy as np\n",
    "from sympy import symbols"
   ]
  },
  {
   "cell_type": "code",
   "execution_count": 2,
   "metadata": {},
   "outputs": [],
   "source": [
    "# Post conservation law and other approximations phenomenological model at the RNA level\n",
    "n = 9 # Number of states : G, P, C1, T, R, C2, E, C3, X\n",
    "nouts = 1 # Number of outputs, X_i\n",
    "\n",
    "# Inputs by user \n",
    "x_init = np.zeros(n)\n",
    "x_init[0] = 10\n",
    "x_init[1] = 10000\n",
    "x_init[4] = 10000\n",
    "x_init[6] = 10000\n",
    "C = np.zeros((nouts,n), dtype=int)\n",
    "C[0][8] = 1\n",
    "\n",
    "nstates_tol = 8\n",
    "error_tol = 3000\n",
    "# System dynamics symbolically\n",
    "\n",
    "# k_bp, k_up, k_tx, k_br, k_ur, k_tl, k_be, k_ue, d_i, d = params, len(params) = 10\n",
    "\n",
    "x0 = symbols('G')\n",
    "x1 = symbols('P')\n",
    "x2 = symbols('C1') # G:P\n",
    "x3 = symbols('T')\n",
    "x4 = symbols('R')\n",
    "x5 = symbols('C2') # T:R\n",
    "x6 = symbols('E')\n",
    "x7 = symbols('C3') # T:E\n",
    "x8 = symbols('X')\n",
    "\n",
    "x = [x0, x1, x2, x3, x4, x5, x6, x7, x8]\n",
    "\n",
    "k_bp = symbols('k_bp')\n",
    "k_up = symbols('k_up')\n",
    "k_tx = symbols('k_tx')\n",
    "k_br = symbols('k_br')\n",
    "k_ur = symbols('k_ur')\n",
    "k_tl = symbols('k_tl')\n",
    "k_be = symbols('k_be')\n",
    "k_ue = symbols('k_ue')\n",
    "d_i = symbols('d_i')\n",
    "d = symbols('d')\n",
    "\n",
    "E_tot = symbols('E_tot')\n",
    "P_tot = symbols('P_tot')\n",
    "R_tot = symbols('R_tot')\n",
    "params = [k_bp, k_up, k_tx, k_br, k_ur, k_tl, k_be, k_ue, d_i, d, E_tot, P_tot, R_tot]\n",
    "f0 = (k_bp + k_tx) * x2 - k_up * x0 * x1\n",
    "f1 = (k_bp + k_tx) * x2 - k_up * x0 * x1\n",
    "f2 = k_bp * x0 * x1 - (k_up + k_tx)*x2\n",
    "f3 = k_tx * x2 + k_ur * x5 - k_br * x3 * x4\n",
    "f4 = (k_ur + k_tl) * x5 - k_br * x3 * x4\n",
    "f5 = k_br * x3 * x4 - (k_ur + k_tl) * x5\n",
    "f6 = (k_ue + d_i) * x7 - k_be * x3 * x6\n",
    "f7 = k_be * x3 * x6 - (k_ue + d_i) * x7\n",
    "f8 = k_tl * x5 - d * x8\n",
    "    \n",
    "f = [f0,f1,f2,f3,f4,f5,f6,f7,f8]\n",
    "# parameter values\n",
    "params_values = [100, 10, 4, 10, 0.25, 2, 10, 0.5, 1, 1, 1000, 1000, 1000]\n",
    "sys = System(x, f, params = params, params_values = params_values, C = C, x_init = x_init)"
   ]
  },
  {
   "cell_type": "code",
   "execution_count": null,
   "metadata": {},
   "outputs": [],
   "source": [
    "from auto_reduce.utils import get_ODE\n",
    "timepoints_ode = np.linspace(0, 20, 100)\n",
    "sys_ode = get_ODE(sys, timepoints_ode)\n",
    "sol = sys_ode.solve_system().T\n",
    "import matplotlib.pyplot as plt\n",
    "plt.plot(timepoints_ode, np.transpose(np.array(C)@sol))\n",
    "plt.xlabel('Time')\n",
    "plt.ylabel('[Outputs]')\n",
    "plt.show()"
   ]
  },
  {
   "cell_type": "code",
   "execution_count": null,
   "metadata": {},
   "outputs": [],
   "source": [
    "from auto_reduce.utils import get_SSM\n",
    "timepoints_ssm = np.linspace(0,100,10)\n",
    "sys_ssm = get_SSM(sys, timepoints_ssm)\n",
    "Ss = sys_ssm.compute_SSM() # len(timepoints) x len(params) x len(states)\n",
    "out_Ss = []\n",
    "for i in range(len(params)):\n",
    "    out_Ss.append((np.array(C)@(Ss[:,i,:].T)))\n",
    "out_Ss = np.reshape(np.array(out_Ss), (len(timepoints_ssm), len(params), nouts))"
   ]
  },
  {
   "cell_type": "code",
   "execution_count": null,
   "metadata": {},
   "outputs": [],
   "source": [
    "J1 = sys_ssm.compute_J([10,10,1000,5,10000,100,10000,5,10])\n",
    "import scipy\n",
    "scipy.linalg.eigvals(J1)"
   ]
  },
  {
   "cell_type": "code",
   "execution_count": null,
   "metadata": {},
   "outputs": [],
   "source": [
    "import seaborn as sn\n",
    "import matplotlib.pyplot as plt\n",
    "for j in range(nouts):\n",
    "    sn.heatmap(out_Ss[:,:,j].T)\n",
    "    plt.xlabel('Time')\n",
    "    plt.ylabel('Parameters')\n",
    "    plt.title('Sensitivity of output[{0}] with respect to all parameters'.format(j))\n",
    "    plt.show()"
   ]
  },
  {
   "cell_type": "markdown",
   "metadata": {},
   "source": [
    "### Model reduction starts here:"
   ]
  },
  {
   "cell_type": "code",
   "execution_count": 10,
   "metadata": {},
   "outputs": [],
   "source": [
    "from auto_reduce.utils import reduce\n",
    "timepoints_ssm = np.linspace(0,2,100)\n",
    "timepoints_ode = np.linspace(0,2,100)\n",
    "sys_reduce = reduce(sys, timepoints_ode, timepoints_ssm)\n",
    "sys_reduce.nstates_tol = 3"
   ]
  },
  {
   "cell_type": "code",
   "execution_count": 11,
   "metadata": {},
   "outputs": [],
   "source": [
    "G, P, C1, T, R, C2, E, C3, X = sys.x\n",
    "conserved_quantities = [P + C1 - P_tot, R + C2 - R_tot, E + C3 - E_tot]\n",
    "states_to_eliminate = [1,4,6]\n",
    "f_cons = sys_reduce.set_conservation_laws(conserved_quantities, states_to_eliminate)"
   ]
  },
  {
   "cell_type": "code",
   "execution_count": 12,
   "metadata": {},
   "outputs": [
    {
     "data": {
      "image/png": "[encoded data removed]",
      "text/plain": [
       "<Figure size 432x288 with 1 Axes>"
      ]
     },
     "metadata": {
      "needs_background": "light"
     },
     "output_type": "display_data"
    }
   ],
   "source": [
    "from auto_reduce.utils import get_ODE\n",
    "timepoints_ode = np.linspace(0, 2, 100)\n",
    "params_values = [100, 10, 4, 10, 0.25, 2, 10, 0.5, 1, 10, 1000, 1000, 1000]\n",
    "sys_reduce.params_values = params_values\n",
    "sys_ode = get_ODE(sys_reduce, timepoints_ode)\n",
    "sol = sys_ode.solve_system().T\n",
    "import matplotlib.pyplot as plt\n",
    "plt.plot(timepoints_ode, np.transpose(np.array(sys_reduce.C)@sol))\n",
    "plt.xlabel('Time')\n",
    "plt.ylabel('[Outputs]')\n",
    "plt.show()"
   ]
  },
  {
   "cell_type": "code",
   "execution_count": 45,
   "metadata": {},
   "outputs": [
    {
     "name": "stdout",
     "output_type": "stream",
     "text": [
      "SSM Progress: |██████████████████████████████████████████████████| 100.0% Complete\n"
     ]
    }
   ],
   "source": [
    "from auto_reduce.utils import get_SSM\n",
    "timepoints_ssm = np.linspace(0, 2, 10)\n",
    "# k_bp, k_up, k_tx, k_br, k_ur, k_tl, k_be, k_ue, d_i, d, E_tot, P_tot, R_tot\n",
    "params_values = [100, 120, 4, 10, 0.25, 2, 10, 0.5, 10, 10, 10000, 10000, 10000]\n",
    "sys_reduce = reduce(sys, timepoints_ode, timepoints_ssm)\n",
    "sys_reduce.params_values = params_values\n",
    "_, x_sol2, red_ssm = sys_reduce.get_solutions()\n",
    "# sys_reduce_ssm = get_SSM(sys_reduce, timepoints_ssm)\n",
    "\n",
    "# Jr = red_ssm.compute_J(x_sol2[0,:])\n",
    "# Zr = red_ssm.compute_Zj(x_sol2[0,:],0)\n",
    "red_S = red_ssm.compute_SSM()\n",
    "\n",
    "# f_cons\n",
    "#k_up, k_tl, d_i"
   ]
  },
  {
   "cell_type": "code",
   "execution_count": 46,
   "metadata": {},
   "outputs": [
    {
     "data": {
      "text/plain": [
       "array([[[ 0.00000000e+00,  0.00000000e+00,  0.00000000e+00, ...,\n",
       "          0.00000000e+00,  0.00000000e+00,  0.00000000e+00],\n",
       "        [ 0.00000000e+00,  0.00000000e+00,  0.00000000e+00, ...,\n",
       "          0.00000000e+00,  0.00000000e+00,  0.00000000e+00],\n",
       "        [ 0.00000000e+00,  0.00000000e+00,  0.00000000e+00, ...,\n",
       "          0.00000000e+00,  0.00000000e+00,  0.00000000e+00],\n",
       "        ...,\n",
       "        [ 0.00000000e+00,  0.00000000e+00,  0.00000000e+00, ...,\n",
       "          0.00000000e+00,  0.00000000e+00,  0.00000000e+00],\n",
       "        [ 0.00000000e+00,  0.00000000e+00,  0.00000000e+00, ...,\n",
       "          0.00000000e+00,  0.00000000e+00,  0.00000000e+00],\n",
       "        [ 0.00000000e+00,  0.00000000e+00,  0.00000000e+00, ...,\n",
       "          0.00000000e+00,  0.00000000e+00,  0.00000000e+00]],\n",
       "\n",
       "       [[ 5.41007998e-07,  5.41007998e-07,  1.21548841e+02, ...,\n",
       "         -4.52385501e-02,  4.52385501e-02, -1.18941640e+02],\n",
       "        [-4.53287600e-07, -4.53287600e-07, -1.82323262e+02, ...,\n",
       "          6.78578246e-02, -6.78578246e-02,  9.46454350e+01],\n",
       "        [ 8.77203986e-08,  8.77203986e-08, -6.07744213e+01, ...,\n",
       "         -1.08704095e+00,  1.08704095e+00, -2.42082552e+01],\n",
       "        ...,\n",
       "        [ 1.39148510e-23,  1.47388377e-23, -2.88087171e-23, ...,\n",
       "         -9.99894906e-01,  9.99894906e-01,  3.22432673e-23],\n",
       "        [ 1.39103738e-23,  1.41038001e-23, -1.80087804e-18, ...,\n",
       "          8.52025276e-22, -8.52025276e-22,  1.05167910e-18],\n",
       "        [-1.22163657e-24, -6.84785982e-25, -9.63251585e-26, ...,\n",
       "          1.22177949e-03, -1.22177949e-03,  1.34000040e-01]],\n",
       "\n",
       "       [[ 4.13986085e-13,  4.13986084e-13,  2.22000000e+07, ...,\n",
       "         -1.93257100e-16,  1.93257100e-16,  1.04409715e-16],\n",
       "        [-8.32500000e+01, -8.32500000e+01, -1.84999306e+07, ...,\n",
       "          6.96962818e-16, -6.96962818e-16, -3.23311006e-16],\n",
       "        [ 9.16440300e-11,  9.16440300e-11, -2.01019186e-06, ...,\n",
       "          1.00924188e-13, -1.00924188e-13, -4.53644944e-14],\n",
       "        ...,\n",
       "        [-2.48469233e+01, -2.48469233e+01,  4.01497899e+05, ...,\n",
       "         -2.42558813e-02,  2.42558813e-02,  7.86947500e-03],\n",
       "        [-9.99000000e-01, -9.99000000e-01,  8.32500005e-01, ...,\n",
       "          9.40076632e-18, -9.40076632e-18, -4.34585619e-18],\n",
       "        [ 2.48448553e+01,  2.48448553e+01, -4.01452198e+05, ...,\n",
       "          2.42533720e-02, -2.42533720e-02, -7.86840702e-03]],\n",
       "\n",
       "       ...,\n",
       "\n",
       "       [[ 7.80589298e+03,  7.80589299e+03,  2.38524013e-03, ...,\n",
       "         -9.86283518e+01,  9.86283518e+01,  4.63617099e-11],\n",
       "        [-9.35638628e+03, -9.35638629e+03, -1.28216254e-02, ...,\n",
       "          1.32356736e+03, -1.32356736e+03, -4.81268864e-10],\n",
       "        [-1.55518595e+03, -1.55518595e+03, -1.04679715e-02, ...,\n",
       "         -3.02467780e+08,  3.02467780e+08,  1.07449747e-04],\n",
       "        ...,\n",
       "        [ 0.00000000e+00,  0.00000000e+00,  0.00000000e+00, ...,\n",
       "         -7.77777628e+04,  7.77777628e+04,  0.00000000e+00],\n",
       "        [-3.60397217e+01, -3.60397218e+01,  9.99865142e-01, ...,\n",
       "         -1.20971860e+05,  1.20971860e+05,  4.32590085e-08],\n",
       "        [ 0.00000000e+00,  0.00000000e+00,  0.00000000e+00, ...,\n",
       "          1.38265920e+05, -1.38265920e+05,  1.99911648e-01]],\n",
       "\n",
       "       [[ 5.41941704e-04,  5.41941704e-04,  6.09320456e+00, ...,\n",
       "         -2.56705973e+00,  2.56705973e+00,  1.10014681e+01],\n",
       "        [-6.41182075e-04, -6.41182075e-04, -5.07770972e+00, ...,\n",
       "          2.13923287e+00, -2.13923287e+00, -9.16794706e+00],\n",
       "        [ 2.09261567e-09,  2.09261567e-09, -2.14132555e-05, ...,\n",
       "         -4.96947591e-04,  4.96947591e-04,  2.23196423e-03],\n",
       "        ...,\n",
       "        [-1.32881820e-15, -1.32881820e-15, -1.14992686e-11, ...,\n",
       "         -2.86524314e-03,  2.86524314e-03, -1.88859286e-11],\n",
       "        [-2.27475853e-06, -2.27475853e-06,  1.33352612e-10, ...,\n",
       "         -1.27299471e-09,  1.27299471e-09,  1.63478264e-07],\n",
       "        [ 1.32933983e-15,  1.32933983e-15,  1.14985748e-11, ...,\n",
       "          2.86524221e-03, -2.86524221e-03,  2.50760891e-07]],\n",
       "\n",
       "       [[ 3.11832233e-03,  3.11832233e-03,  3.16616875e+01, ...,\n",
       "         -1.47273141e+01,  1.47273141e+01,  1.04010470e+01],\n",
       "        [-3.58360230e-03, -3.58360230e-03, -2.63852452e+01, ...,\n",
       "          1.22729960e+01, -1.22729960e+01, -8.66770219e+00],\n",
       "        [ 2.43215884e-08,  2.43215884e-08, -2.75815568e-04, ...,\n",
       "         -7.07347696e-03,  7.07347696e-03,  5.04252778e-03],\n",
       "        ...,\n",
       "        [-8.73480802e-16, -8.73480802e-16, -1.68560937e-11, ...,\n",
       "         -3.65380352e-02,  3.65380352e-02, -4.09780372e-12],\n",
       "        [-1.18199939e-05, -1.18199939e-05,  5.40004679e-10, ...,\n",
       "         -1.07277412e-08,  1.07277412e-08,  3.76885215e-08],\n",
       "        [ 8.73414376e-16,  8.73414377e-16,  1.68548316e-11, ...,\n",
       "          3.65380317e-02, -3.65380317e-02,  1.34690764e-07]]])"
      ]
     },
     "execution_count": 46,
     "metadata": {},
     "output_type": "execute_result"
    }
   ],
   "source": [
    "# from scipy.linalg import eigvals\n",
    "# eigvals(Jr)\n",
    "red_S"
   ]
  },
  {
   "cell_type": "code",
   "execution_count": 47,
   "metadata": {},
   "outputs": [
    {
     "name": "stdout",
     "output_type": "stream",
     "text": [
      "attempting : [8]\n",
      "Could not find solution for this collapsed variable : P from C1*(k_bp + k_tx) - G*k_up*(-C1 + P_tot)\n",
      "Could not find solution for this collapsed variable : R from C2*(k_tl + k_ur) - T*k_br*(-C2 + R_tot)\n",
      "Could not find solution for this collapsed variable : E from C3*(d_i + k_ue) - T*k_be*(-C3 + E_tot)\n",
      "The time-scale separation that retains states [8] does not work\n",
      "attempting : [0, 8]\n",
      "Could not find solution for this collapsed variable : P from C1*(k_bp + k_tx) - G*k_up*(-C1 + P_tot)\n",
      "Could not find solution for this collapsed variable : R from C2*(k_tl + k_ur) - T*k_br*(-C2 + R_tot)\n",
      "Could not find solution for this collapsed variable : E from C3*(d_i + k_ue) - T*k_be*(-C3 + E_tot)\n",
      "The time-scale separation that retains states [0, 8] does not work\n",
      "attempting : [1, 8]\n",
      "Could not find solution for this collapsed variable : R from C2*(k_tl + k_ur) - T*k_br*(-C2 + R_tot)\n",
      "Could not find solution for this collapsed variable : E from C3*(d_i + k_ue) - T*k_be*(-C3 + E_tot)\n",
      "The time-scale separation that retains states [1, 8] does not work\n",
      "attempting : [2, 8]\n",
      "Could not find solution for this collapsed variable : P from C1*(k_bp + k_tx) - G*k_up*(-C1 + P_tot)\n",
      "Could not find solution for this collapsed variable : R from C2*(k_tl + k_ur) - T*k_br*(-C2 + R_tot)\n",
      "Could not find solution for this collapsed variable : E from C3*(d_i + k_ue) - T*k_be*(-C3 + E_tot)\n",
      "The time-scale separation that retains states [2, 8] does not work\n",
      "attempting : [3, 8]\n",
      "Could not find solution for this collapsed variable : P from C1*(k_bp + k_tx) - G*k_up*(-C1 + P_tot)\n",
      "Could not find solution for this collapsed variable : R from C2*(k_tl + k_ur) - T*k_br*(-C2 + R_tot)\n",
      "Could not find solution for this collapsed variable : E from C3*(d_i + k_ue) - T*k_be*(-C3 + E_tot)\n",
      "The time-scale separation that retains states [3, 8] does not work\n",
      "attempting : [4, 8]\n",
      "Could not find solution for this collapsed variable : P from C1*(k_bp + k_tx) - G*k_up*(-C1 + P_tot)\n",
      "Could not find solution for this collapsed variable : E from C3*(d_i + k_ue) - T*k_be*(-C3 + E_tot)\n",
      "The time-scale separation that retains states [4, 8] does not work\n",
      "attempting : [5, 8]\n",
      "Could not find solution for this collapsed variable : P from C1*(k_bp + k_tx) - G*k_up*(-C1 + P_tot)\n",
      "Could not find solution for this collapsed variable : R from C2*(k_tl + k_ur) - T*k_br*(-C2 + R_tot)\n",
      "Could not find solution for this collapsed variable : E from C3*(d_i + k_ue) - T*k_be*(-C3 + E_tot)\n",
      "The time-scale separation that retains states [5, 8] does not work\n",
      "attempting : [6, 8]\n",
      "Could not find solution for this collapsed variable : P from C1*(k_bp + k_tx) - G*k_up*(-C1 + P_tot)\n",
      "Could not find solution for this collapsed variable : R from C2*(k_tl + k_ur) - T*k_br*(-C2 + R_tot)\n",
      "The time-scale separation that retains states [6, 8] does not work\n",
      "attempting : [7, 8]\n",
      "Could not find solution for this collapsed variable : P from C1*(k_bp + k_tx) - G*k_up*(-C1 + P_tot)\n",
      "Could not find solution for this collapsed variable : R from C2*(k_tl + k_ur) - T*k_br*(-C2 + R_tot)\n",
      "Could not find solution for this collapsed variable : E from C3*(d_i + k_ue) - T*k_be*(-C3 + E_tot)\n",
      "The time-scale separation that retains states [7, 8] does not work\n",
      "attempting : [0, 1, 8]\n",
      "Could not find solution for this collapsed variable : R from C2*(k_tl + k_ur) - T*k_br*(-C2 + R_tot)\n",
      "Could not find solution for this collapsed variable : E from C3*(d_i + k_ue) - T*k_be*(-C3 + E_tot)\n",
      "The time-scale separation that retains states [0, 1, 8] does not work\n",
      "attempting : [0, 2, 8]\n",
      "Could not find solution for this collapsed variable : P from C1*(k_bp + k_tx) - G*k_up*(-C1 + P_tot)\n",
      "Could not find solution for this collapsed variable : R from C2*(k_tl + k_ur) - T*k_br*(-C2 + R_tot)\n",
      "Could not find solution for this collapsed variable : E from C3*(d_i + k_ue) - T*k_be*(-C3 + E_tot)\n",
      "The time-scale separation that retains states [0, 2, 8] does not work\n",
      "attempting : [0, 3, 8]\n",
      "Could not find solution for this collapsed variable : P from C1*(k_bp + k_tx) - G*k_up*(-C1 + P_tot)\n",
      "Could not find solution for this collapsed variable : R from C2*(k_tl + k_ur) - T*k_br*(-C2 + R_tot)\n",
      "Could not find solution for this collapsed variable : E from C3*(d_i + k_ue) - T*k_be*(-C3 + E_tot)\n",
      "SSM Progress: |██████████████████████████████████████████████████| 100.0% Complete\n",
      "SSM Progress: |██████████████████████████████████████████████████| 100.0% Complete\n",
      "Robustness Metric Progress: |██████████████████████████████████████████████████| 100.0% Complete\n",
      "attempting : [0, 4, 8]\n",
      "Could not find solution for this collapsed variable : P from C1*(k_bp + k_tx) - G*k_up*(-C1 + P_tot)\n",
      "Could not find solution for this collapsed variable : E from C3*(d_i + k_ue) - T*k_be*(-C3 + E_tot)\n",
      "The time-scale separation that retains states [0, 4, 8] does not work\n",
      "attempting : [0, 5, 8]\n",
      "Could not find solution for this collapsed variable : P from C1*(k_bp + k_tx) - G*k_up*(-C1 + P_tot)\n",
      "Could not find solution for this collapsed variable : R from C2*(k_tl + k_ur) - T*k_br*(-C2 + R_tot)\n",
      "Could not find solution for this collapsed variable : E from C3*(d_i + k_ue) - T*k_be*(-C3 + E_tot)\n",
      "SSM Progress: |██████████████████████████████████████████████████| 100.0% Complete\n",
      "SSM Progress: |██████████████████████████████████████████████████| 100.0% Complete\n",
      "Robustness Metric Progress: |██████████████████████████████████████████████████| 100.0% Complete\n",
      "attempting : [0, 6, 8]\n",
      "Could not find solution for this collapsed variable : P from C1*(k_bp + k_tx) - G*k_up*(-C1 + P_tot)\n",
      "Could not find solution for this collapsed variable : R from C2*(k_tl + k_ur) - T*k_br*(-C2 + R_tot)\n",
      "The time-scale separation that retains states [0, 6, 8] does not work\n",
      "attempting : [0, 7, 8]\n",
      "Could not find solution for this collapsed variable : P from C1*(k_bp + k_tx) - G*k_up*(-C1 + P_tot)\n",
      "Could not find solution for this collapsed variable : R from C2*(k_tl + k_ur) - T*k_br*(-C2 + R_tot)\n",
      "Could not find solution for this collapsed variable : E from C3*(d_i + k_ue) - T*k_be*(-C3 + E_tot)\n",
      "The time-scale separation that retains states [0, 7, 8] does not work\n",
      "attempting : [1, 2, 8]\n",
      "Could not find solution for this collapsed variable : R from C2*(k_tl + k_ur) - T*k_br*(-C2 + R_tot)\n",
      "Could not find solution for this collapsed variable : E from C3*(d_i + k_ue) - T*k_be*(-C3 + E_tot)\n",
      "The time-scale separation that retains states [1, 2, 8] does not work\n",
      "attempting : [1, 3, 8]\n",
      "Could not find solution for this collapsed variable : R from C2*(k_tl + k_ur) - T*k_br*(-C2 + R_tot)\n",
      "Could not find solution for this collapsed variable : E from C3*(d_i + k_ue) - T*k_be*(-C3 + E_tot)\n",
      "The time-scale separation that retains states [1, 3, 8] does not work\n",
      "attempting : [1, 4, 8]\n",
      "Could not find solution for this collapsed variable : E from C3*(d_i + k_ue) - T*k_be*(-C3 + E_tot)\n",
      "The time-scale separation that retains states [1, 4, 8] does not work\n",
      "attempting : [1, 5, 8]\n",
      "Could not find solution for this collapsed variable : R from C2*(k_tl + k_ur) - T*k_br*(-C2 + R_tot)\n",
      "Could not find solution for this collapsed variable : E from C3*(d_i + k_ue) - T*k_be*(-C3 + E_tot)\n",
      "The time-scale separation that retains states [1, 5, 8] does not work\n",
      "attempting : [1, 6, 8]\n",
      "Could not find solution for this collapsed variable : R from C2*(k_tl + k_ur) - T*k_br*(-C2 + R_tot)\n",
      "The time-scale separation that retains states [1, 6, 8] does not work\n",
      "attempting : [1, 7, 8]\n",
      "Could not find solution for this collapsed variable : R from C2*(k_tl + k_ur) - T*k_br*(-C2 + R_tot)\n",
      "Could not find solution for this collapsed variable : E from C3*(d_i + k_ue) - T*k_be*(-C3 + E_tot)\n",
      "The time-scale separation that retains states [1, 7, 8] does not work\n",
      "attempting : [2, 3, 8]\n",
      "Could not find solution for this collapsed variable : P from C1*(k_bp + k_tx) - G*k_up*(-C1 + P_tot)\n",
      "Could not find solution for this collapsed variable : R from C2*(k_tl + k_ur) - T*k_br*(-C2 + R_tot)\n",
      "Could not find solution for this collapsed variable : E from C3*(d_i + k_ue) - T*k_be*(-C3 + E_tot)\n",
      "SSM Progress: |██████████████████████████████████████████████████| 100.0% Complete\n",
      "SSM Progress: |██████████████████████████████████████████████████| 100.0% Complete\n",
      "Robustness Metric Progress: |██████████████████████████████████████████████████| 100.0% Complete\n",
      "attempting : [2, 4, 8]\n",
      "Could not find solution for this collapsed variable : P from C1*(k_bp + k_tx) - G*k_up*(-C1 + P_tot)\n",
      "Could not find solution for this collapsed variable : E from C3*(d_i + k_ue) - T*k_be*(-C3 + E_tot)\n"
     ]
    },
    {
     "name": "stdout",
     "output_type": "stream",
     "text": [
      "The time-scale separation that retains states [2, 4, 8] does not work\n",
      "attempting : [2, 5, 8]\n",
      "Could not find solution for this collapsed variable : P from C1*(k_bp + k_tx) - G*k_up*(-C1 + P_tot)\n",
      "Could not find solution for this collapsed variable : R from C2*(k_tl + k_ur) - T*k_br*(-C2 + R_tot)\n",
      "Could not find solution for this collapsed variable : E from C3*(d_i + k_ue) - T*k_be*(-C3 + E_tot)\n",
      "SSM Progress: |██████████████████████████████████████████████████| 100.0% Complete\n",
      "SSM Progress: |██████████████████████████████████████████████████| 100.0% Complete\n",
      "Robustness Metric Progress: |██████████████████████████████████████████████████| 100.0% Complete\n",
      "attempting : [2, 6, 8]\n",
      "Could not find solution for this collapsed variable : P from C1*(k_bp + k_tx) - G*k_up*(-C1 + P_tot)\n",
      "Could not find solution for this collapsed variable : R from C2*(k_tl + k_ur) - T*k_br*(-C2 + R_tot)\n",
      "The time-scale separation that retains states [2, 6, 8] does not work\n",
      "attempting : [2, 7, 8]\n",
      "Could not find solution for this collapsed variable : P from C1*(k_bp + k_tx) - G*k_up*(-C1 + P_tot)\n",
      "Could not find solution for this collapsed variable : R from C2*(k_tl + k_ur) - T*k_br*(-C2 + R_tot)\n",
      "Could not find solution for this collapsed variable : E from C3*(d_i + k_ue) - T*k_be*(-C3 + E_tot)\n",
      "The time-scale separation that retains states [2, 7, 8] does not work\n",
      "attempting : [3, 4, 8]\n",
      "Could not find solution for this collapsed variable : P from C1*(k_bp + k_tx) - G*k_up*(-C1 + P_tot)\n",
      "Could not find solution for this collapsed variable : E from C3*(d_i + k_ue) - T*k_be*(-C3 + E_tot)\n",
      "The time-scale separation that retains states [3, 4, 8] does not work\n",
      "attempting : [3, 5, 8]\n",
      "Could not find solution for this collapsed variable : P from C1*(k_bp + k_tx) - G*k_up*(-C1 + P_tot)\n",
      "Could not find solution for this collapsed variable : R from C2*(k_tl + k_ur) - T*k_br*(-C2 + R_tot)\n",
      "Could not find solution for this collapsed variable : E from C3*(d_i + k_ue) - T*k_be*(-C3 + E_tot)\n",
      "The time-scale separation that retains states [3, 5, 8] does not work\n",
      "attempting : [3, 6, 8]\n",
      "Could not find solution for this collapsed variable : P from C1*(k_bp + k_tx) - G*k_up*(-C1 + P_tot)\n",
      "Could not find solution for this collapsed variable : R from C2*(k_tl + k_ur) - T*k_br*(-C2 + R_tot)\n",
      "The time-scale separation that retains states [3, 6, 8] does not work\n",
      "attempting : [3, 7, 8]\n",
      "Could not find solution for this collapsed variable : P from C1*(k_bp + k_tx) - G*k_up*(-C1 + P_tot)\n",
      "Could not find solution for this collapsed variable : R from C2*(k_tl + k_ur) - T*k_br*(-C2 + R_tot)\n",
      "Could not find solution for this collapsed variable : E from C3*(d_i + k_ue) - T*k_be*(-C3 + E_tot)\n",
      "The time-scale separation that retains states [3, 7, 8] does not work\n",
      "attempting : [4, 5, 8]\n",
      "Could not find solution for this collapsed variable : P from C1*(k_bp + k_tx) - G*k_up*(-C1 + P_tot)\n",
      "Could not find solution for this collapsed variable : E from C3*(d_i + k_ue) - T*k_be*(-C3 + E_tot)\n",
      "The time-scale separation that retains states [4, 5, 8] does not work\n",
      "attempting : [4, 6, 8]\n",
      "Could not find solution for this collapsed variable : P from C1*(k_bp + k_tx) - G*k_up*(-C1 + P_tot)\n",
      "The time-scale separation that retains states [4, 6, 8] does not work\n",
      "attempting : [4, 7, 8]\n",
      "Could not find solution for this collapsed variable : P from C1*(k_bp + k_tx) - G*k_up*(-C1 + P_tot)\n",
      "Could not find solution for this collapsed variable : E from C3*(d_i + k_ue) - T*k_be*(-C3 + E_tot)\n",
      "The time-scale separation that retains states [4, 7, 8] does not work\n",
      "attempting : [5, 6, 8]\n",
      "Could not find solution for this collapsed variable : P from C1*(k_bp + k_tx) - G*k_up*(-C1 + P_tot)\n",
      "Could not find solution for this collapsed variable : R from C2*(k_tl + k_ur) - T*k_br*(-C2 + R_tot)\n",
      "The time-scale separation that retains states [5, 6, 8] does not work\n",
      "attempting : [5, 7, 8]\n",
      "Could not find solution for this collapsed variable : P from C1*(k_bp + k_tx) - G*k_up*(-C1 + P_tot)\n",
      "Could not find solution for this collapsed variable : R from C2*(k_tl + k_ur) - T*k_br*(-C2 + R_tot)\n",
      "Could not find solution for this collapsed variable : E from C3*(d_i + k_ue) - T*k_be*(-C3 + E_tot)\n",
      "The time-scale separation that retains states [5, 7, 8] does not work\n",
      "attempting : [6, 7, 8]\n",
      "Could not find solution for this collapsed variable : P from C1*(k_bp + k_tx) - G*k_up*(-C1 + P_tot)\n",
      "Could not find solution for this collapsed variable : R from C2*(k_tl + k_ur) - T*k_br*(-C2 + R_tot)\n",
      "The time-scale separation that retains states [6, 7, 8] does not work\n",
      "attempting : [0, 1, 2, 8]\n",
      "Could not find solution for this collapsed variable : R from C2*(k_tl + k_ur) - T*k_br*(-C2 + R_tot)\n",
      "Could not find solution for this collapsed variable : E from C3*(d_i + k_ue) - T*k_be*(-C3 + E_tot)\n",
      "The time-scale separation that retains states [0, 1, 2, 8] does not work\n",
      "attempting : [0, 1, 3, 8]\n",
      "Could not find solution for this collapsed variable : R from C2*(k_tl + k_ur) - T*k_br*(-C2 + R_tot)\n",
      "Could not find solution for this collapsed variable : E from C3*(d_i + k_ue) - T*k_be*(-C3 + E_tot)\n",
      "SSM Progress: |██████████████████████████████████████████████████| 100.0% Complete\n",
      "SSM Progress: |██████████████████████████████████████████████████| 100.0% Complete\n",
      "Robustness Metric Progress: |██████████████████████████████████████████████████| 100.0% Complete\n",
      "attempting : [0, 1, 4, 8]\n",
      "Could not find solution for this collapsed variable : E from C3*(d_i + k_ue) - T*k_be*(-C3 + E_tot)\n",
      "The time-scale separation that retains states [0, 1, 4, 8] does not work\n",
      "attempting : [0, 1, 5, 8]\n",
      "Could not find solution for this collapsed variable : R from C2*(k_tl + k_ur) - T*k_br*(-C2 + R_tot)\n",
      "Could not find solution for this collapsed variable : E from C3*(d_i + k_ue) - T*k_be*(-C3 + E_tot)\n",
      "SSM Progress: |██████████████████████████████████████████████████| 100.0% Complete\n",
      "SSM Progress: |███████████---------------------------------------| 23.3% Complete\r"
     ]
    },
    {
     "name": "stderr",
     "output_type": "stream",
     "text": [
      "C:\\Users\\apand\\AppData\\Local\\Continuum\\anaconda3\\lib\\site-packages\\scipy\\integrate\\odepack.py:247: ODEintWarning: Excess accuracy requested (tolerances too small). Run with full_output = 1 to get quantitative information.\n",
      "  warnings.warn(warning_msg, ODEintWarning)\n"
     ]
    },
    {
     "name": "stdout",
     "output_type": "stream",
     "text": [
      "SSM Progress: |██████████████████████████████████████████████████| 100.0% Complete\n"
     ]
    },
    {
     "ename": "ValueError",
     "evalue": "array must not contain infs or NaNs",
     "output_type": "error",
     "traceback": [
      "\u001b[1;31m---------------------------------------------------------------------------\u001b[0m",
      "\u001b[1;31mValueError\u001b[0m                                Traceback (most recent call last)",
      "\u001b[1;32m<ipython-input-47-91045d15ef28>\u001b[0m in \u001b[0;36m<module>\u001b[1;34m\u001b[0m\n\u001b[1;32m----> 1\u001b[1;33m \u001b[0mresults\u001b[0m \u001b[1;33m=\u001b[0m \u001b[0msys_reduce\u001b[0m\u001b[1;33m.\u001b[0m\u001b[0mreduce_Cx\u001b[0m\u001b[1;33m(\u001b[0m\u001b[1;33m)\u001b[0m\u001b[1;33m\u001b[0m\u001b[1;33m\u001b[0m\u001b[0m\n\u001b[0m\u001b[0;32m      2\u001b[0m \u001b[1;31m# reduced_sys, fast_ss = sys_reduce.solve_timescale_separation([0,2,5])\u001b[0m\u001b[1;33m\u001b[0m\u001b[1;33m\u001b[0m\u001b[1;33m\u001b[0m\u001b[0m\n\u001b[0;32m      3\u001b[0m \u001b[1;31m# sys_reduce.get_robustness_metric(reduced_sys, fast_ss, [0,2,5])\u001b[0m\u001b[1;33m\u001b[0m\u001b[1;33m\u001b[0m\u001b[1;33m\u001b[0m\u001b[0m\n\u001b[0;32m      4\u001b[0m \u001b[1;31m# sys_reduce.get_error_metric(reduced_sys)\u001b[0m\u001b[1;33m\u001b[0m\u001b[1;33m\u001b[0m\u001b[1;33m\u001b[0m\u001b[0m\n",
      "\u001b[1;32m~\\synBio\\auto_reduce\\auto_reduce\\model_reduction.py\u001b[0m in \u001b[0;36mreduce_Cx\u001b[1;34m(self)\u001b[0m\n\u001b[0;32m    340\u001b[0m             \u001b[1;31m# Get metrics for this reduced system\u001b[0m\u001b[1;33m\u001b[0m\u001b[1;33m\u001b[0m\u001b[1;33m\u001b[0m\u001b[0m\n\u001b[0;32m    341\u001b[0m             \u001b[0me\u001b[0m \u001b[1;33m=\u001b[0m \u001b[0mself\u001b[0m\u001b[1;33m.\u001b[0m\u001b[0mget_error_metric\u001b[0m\u001b[1;33m(\u001b[0m\u001b[0mreduced_sys\u001b[0m\u001b[1;33m)\u001b[0m\u001b[1;33m\u001b[0m\u001b[1;33m\u001b[0m\u001b[0m\n\u001b[1;32m--> 342\u001b[1;33m             \u001b[0mSe\u001b[0m \u001b[1;33m=\u001b[0m \u001b[0mself\u001b[0m\u001b[1;33m.\u001b[0m\u001b[0mget_robustness_metric\u001b[0m\u001b[1;33m(\u001b[0m\u001b[0mreduced_sys\u001b[0m\u001b[1;33m,\u001b[0m \u001b[0mfast_subsystem\u001b[0m\u001b[1;33m,\u001b[0m \u001b[0mattempt\u001b[0m\u001b[1;33m)\u001b[0m\u001b[1;33m\u001b[0m\u001b[1;33m\u001b[0m\u001b[0m\n\u001b[0m\u001b[0;32m    343\u001b[0m             \u001b[0mresults_dict\u001b[0m\u001b[1;33m[\u001b[0m\u001b[0mreduced_sys\u001b[0m\u001b[1;33m]\u001b[0m \u001b[1;33m=\u001b[0m \u001b[1;33m[\u001b[0m\u001b[0me\u001b[0m\u001b[1;33m,\u001b[0m \u001b[0mSe\u001b[0m\u001b[1;33m]\u001b[0m\u001b[1;33m\u001b[0m\u001b[1;33m\u001b[0m\u001b[0m\n\u001b[0;32m    344\u001b[0m         \u001b[0mself\u001b[0m\u001b[1;33m.\u001b[0m\u001b[0mresults_dict\u001b[0m \u001b[1;33m=\u001b[0m \u001b[0mresults_dict\u001b[0m\u001b[1;33m\u001b[0m\u001b[1;33m\u001b[0m\u001b[0m\n",
      "\u001b[1;32m~\\synBio\\auto_reduce\\auto_reduce\\model_reduction.py\u001b[0m in \u001b[0;36mget_robustness_metric\u001b[1;34m(self, reduced_sys, fast_subsystem, attempt)\u001b[0m\n\u001b[0;32m    159\u001b[0m                 \u001b[1;31m#     warnings.warn('NaN or inf found in Jacobians, continuing')\u001b[0m\u001b[1;33m\u001b[0m\u001b[1;33m\u001b[0m\u001b[1;33m\u001b[0m\u001b[0m\n\u001b[0;32m    160\u001b[0m                 \u001b[1;31m#     continue\u001b[0m\u001b[1;33m\u001b[0m\u001b[1;33m\u001b[0m\u001b[1;33m\u001b[0m\u001b[0m\n\u001b[1;32m--> 161\u001b[1;33m                 \u001b[0mP\u001b[0m \u001b[1;33m=\u001b[0m \u001b[0msolve_lyapunov\u001b[0m\u001b[1;33m(\u001b[0m\u001b[0mJ_bar\u001b[0m\u001b[1;33m,\u001b[0m \u001b[1;33m-\u001b[0m\u001b[1;36m1\u001b[0m \u001b[1;33m*\u001b[0m \u001b[0mC_bar\u001b[0m\u001b[1;33m.\u001b[0m\u001b[0mT\u001b[0m\u001b[1;33m@\u001b[0m\u001b[0mC_bar\u001b[0m\u001b[1;33m)\u001b[0m\u001b[1;33m\u001b[0m\u001b[1;33m\u001b[0m\u001b[0m\n\u001b[0m\u001b[0;32m    162\u001b[0m                 \u001b[1;31m# P11 = P[0:self.n, 0:self.n]\u001b[0m\u001b[1;33m\u001b[0m\u001b[1;33m\u001b[0m\u001b[1;33m\u001b[0m\u001b[0m\n\u001b[0;32m    163\u001b[0m                 \u001b[1;31m# P12 = P[0:self.n, self.n:self.n + reduced_sys.n + 1]\u001b[0m\u001b[1;33m\u001b[0m\u001b[1;33m\u001b[0m\u001b[1;33m\u001b[0m\u001b[0m\n",
      "\u001b[1;32m~\\AppData\\Local\\Continuum\\anaconda3\\lib\\site-packages\\scipy\\linalg\\_solvers.py\u001b[0m in \u001b[0;36msolve_continuous_lyapunov\u001b[1;34m(a, q)\u001b[0m\n\u001b[0;32m    157\u001b[0m     \"\"\"\n\u001b[0;32m    158\u001b[0m \u001b[1;33m\u001b[0m\u001b[0m\n\u001b[1;32m--> 159\u001b[1;33m     \u001b[0ma\u001b[0m \u001b[1;33m=\u001b[0m \u001b[0mnp\u001b[0m\u001b[1;33m.\u001b[0m\u001b[0matleast_2d\u001b[0m\u001b[1;33m(\u001b[0m\u001b[0m_asarray_validated\u001b[0m\u001b[1;33m(\u001b[0m\u001b[0ma\u001b[0m\u001b[1;33m,\u001b[0m \u001b[0mcheck_finite\u001b[0m\u001b[1;33m=\u001b[0m\u001b[1;32mTrue\u001b[0m\u001b[1;33m)\u001b[0m\u001b[1;33m)\u001b[0m\u001b[1;33m\u001b[0m\u001b[1;33m\u001b[0m\u001b[0m\n\u001b[0m\u001b[0;32m    160\u001b[0m     \u001b[0mq\u001b[0m \u001b[1;33m=\u001b[0m \u001b[0mnp\u001b[0m\u001b[1;33m.\u001b[0m\u001b[0matleast_2d\u001b[0m\u001b[1;33m(\u001b[0m\u001b[0m_asarray_validated\u001b[0m\u001b[1;33m(\u001b[0m\u001b[0mq\u001b[0m\u001b[1;33m,\u001b[0m \u001b[0mcheck_finite\u001b[0m\u001b[1;33m=\u001b[0m\u001b[1;32mTrue\u001b[0m\u001b[1;33m)\u001b[0m\u001b[1;33m)\u001b[0m\u001b[1;33m\u001b[0m\u001b[1;33m\u001b[0m\u001b[0m\n\u001b[0;32m    161\u001b[0m \u001b[1;33m\u001b[0m\u001b[0m\n",
      "\u001b[1;32m~\\AppData\\Local\\Continuum\\anaconda3\\lib\\site-packages\\scipy\\_lib\\_util.py\u001b[0m in \u001b[0;36m_asarray_validated\u001b[1;34m(a, check_finite, sparse_ok, objects_ok, mask_ok, as_inexact)\u001b[0m\n\u001b[0;32m    237\u001b[0m             \u001b[1;32mraise\u001b[0m \u001b[0mValueError\u001b[0m\u001b[1;33m(\u001b[0m\u001b[1;34m'masked arrays are not supported'\u001b[0m\u001b[1;33m)\u001b[0m\u001b[1;33m\u001b[0m\u001b[1;33m\u001b[0m\u001b[0m\n\u001b[0;32m    238\u001b[0m     \u001b[0mtoarray\u001b[0m \u001b[1;33m=\u001b[0m \u001b[0mnp\u001b[0m\u001b[1;33m.\u001b[0m\u001b[0masarray_chkfinite\u001b[0m \u001b[1;32mif\u001b[0m \u001b[0mcheck_finite\u001b[0m \u001b[1;32melse\u001b[0m \u001b[0mnp\u001b[0m\u001b[1;33m.\u001b[0m\u001b[0masarray\u001b[0m\u001b[1;33m\u001b[0m\u001b[1;33m\u001b[0m\u001b[0m\n\u001b[1;32m--> 239\u001b[1;33m     \u001b[0ma\u001b[0m \u001b[1;33m=\u001b[0m \u001b[0mtoarray\u001b[0m\u001b[1;33m(\u001b[0m\u001b[0ma\u001b[0m\u001b[1;33m)\u001b[0m\u001b[1;33m\u001b[0m\u001b[1;33m\u001b[0m\u001b[0m\n\u001b[0m\u001b[0;32m    240\u001b[0m     \u001b[1;32mif\u001b[0m \u001b[1;32mnot\u001b[0m \u001b[0mobjects_ok\u001b[0m\u001b[1;33m:\u001b[0m\u001b[1;33m\u001b[0m\u001b[1;33m\u001b[0m\u001b[0m\n\u001b[0;32m    241\u001b[0m         \u001b[1;32mif\u001b[0m \u001b[0ma\u001b[0m\u001b[1;33m.\u001b[0m\u001b[0mdtype\u001b[0m \u001b[1;32mis\u001b[0m \u001b[0mnp\u001b[0m\u001b[1;33m.\u001b[0m\u001b[0mdtype\u001b[0m\u001b[1;33m(\u001b[0m\u001b[1;34m'O'\u001b[0m\u001b[1;33m)\u001b[0m\u001b[1;33m:\u001b[0m\u001b[1;33m\u001b[0m\u001b[1;33m\u001b[0m\u001b[0m\n",
      "\u001b[1;32m~\\AppData\\Local\\Continuum\\anaconda3\\lib\\site-packages\\numpy\\lib\\function_base.py\u001b[0m in \u001b[0;36masarray_chkfinite\u001b[1;34m(a, dtype, order)\u001b[0m\n\u001b[0;32m    496\u001b[0m     \u001b[1;32mif\u001b[0m \u001b[0ma\u001b[0m\u001b[1;33m.\u001b[0m\u001b[0mdtype\u001b[0m\u001b[1;33m.\u001b[0m\u001b[0mchar\u001b[0m \u001b[1;32min\u001b[0m \u001b[0mtypecodes\u001b[0m\u001b[1;33m[\u001b[0m\u001b[1;34m'AllFloat'\u001b[0m\u001b[1;33m]\u001b[0m \u001b[1;32mand\u001b[0m \u001b[1;32mnot\u001b[0m \u001b[0mnp\u001b[0m\u001b[1;33m.\u001b[0m\u001b[0misfinite\u001b[0m\u001b[1;33m(\u001b[0m\u001b[0ma\u001b[0m\u001b[1;33m)\u001b[0m\u001b[1;33m.\u001b[0m\u001b[0mall\u001b[0m\u001b[1;33m(\u001b[0m\u001b[1;33m)\u001b[0m\u001b[1;33m:\u001b[0m\u001b[1;33m\u001b[0m\u001b[1;33m\u001b[0m\u001b[0m\n\u001b[0;32m    497\u001b[0m         raise ValueError(\n\u001b[1;32m--> 498\u001b[1;33m             \"array must not contain infs or NaNs\")\n\u001b[0m\u001b[0;32m    499\u001b[0m     \u001b[1;32mreturn\u001b[0m \u001b[0ma\u001b[0m\u001b[1;33m\u001b[0m\u001b[1;33m\u001b[0m\u001b[0m\n\u001b[0;32m    500\u001b[0m \u001b[1;33m\u001b[0m\u001b[0m\n",
      "\u001b[1;31mValueError\u001b[0m: array must not contain infs or NaNs"
     ]
    }
   ],
   "source": [
    "results = sys_reduce.reduce_Cx()\n",
    "# reduced_sys, fast_ss = sys_reduce.solve_timescale_separation([0,2,5])\n",
    "# sys_reduce.get_robustness_metric(reduced_sys, fast_ss, [0,2,5])\n",
    "# sys_reduce.get_error_metric(reduced_sys)"
   ]
  },
  {
   "cell_type": "code",
   "execution_count": 48,
   "metadata": {},
   "outputs": [
    {
     "data": {
      "text/plain": [
       "{<auto_reduce.system.System at 0x22ad1b0fa90>: [342.5525413062808,\n",
       "  array([4.48844934e+282, 6.62587362e+298, 1.42744674e+295, 1.70117122e+292,\n",
       "         8.02932427e+287, 8.84673929e+294, 1.94635159e+302, 2.04635741e+295,\n",
       "         1.12705158e+288, 1.13898938e+305, 7.65491131e+293, 7.50252457e+295,\n",
       "         4.61580783e+300])],\n",
       " <auto_reduce.system.System at 0x22ad171f3c8>: [1297.4004345486082,\n",
       "  array([7.88556653e+282, 1.17615815e+283, 2.96957854e+280, 9.24408967e+282,\n",
       "         1.22387890e+280, 2.78875256e+287, 8.08105390e+283, 7.22676146e+277,\n",
       "         9.70953394e+279, 1.44253697e+287, 2.11750097e+284, 1.62593827e+279,\n",
       "         8.76153557e+281])],\n",
       " <auto_reduce.system.System at 0x22acfad17f0>: [1820.9105557960245,\n",
       "  array([1.02594990e+284, 1.17472002e+283, 1.58268339e+278, 9.24408967e+282,\n",
       "         1.22388029e+280, 8.89439811e+286, 8.08105388e+283, 7.22648643e+277,\n",
       "         5.79279336e+278, 3.57450537e+286, 2.11751404e+284, 2.12685828e+280,\n",
       "         8.83163112e+281])],\n",
       " <auto_reduce.system.System at 0x22ad2b03d30>: [1820.9105557960245,\n",
       "  array([1.02594990e+284, 1.17472002e+283, 1.58268339e+278, 9.24408967e+282,\n",
       "         1.22388029e+280, 8.89439811e+286, 8.08105388e+283, 7.22648643e+277,\n",
       "         5.79279336e+278, 3.57450537e+286, 2.11751404e+284, 2.12685828e+280,\n",
       "         8.83163112e+281])]}"
      ]
     },
     "execution_count": 48,
     "metadata": {},
     "output_type": "execute_result"
    }
   ],
   "source": [
    "results"
   ]
  },
  {
   "cell_type": "code",
   "execution_count": null,
   "metadata": {},
   "outputs": [],
   "source": [
    "reduced_sys, fast_ss = sys_reduce.solve_timescale_separation([0,2,5])\n",
    "# reduced_sys.f[1]\n",
    "# from auto_reduce.utils import get_ODE\n",
    "# x_sol_hat = get_ODE(sys_reduce.get_system(), timepoints_ode).solve_system()\n",
    "Se = sys_reduce.get_robustness_metric(reduced_sys, fast_ss, [0,2,5])"
   ]
  },
  {
   "cell_type": "code",
   "execution_count": null,
   "metadata": {},
   "outputs": [],
   "source": [
    "T,T1,T2 = sys_reduce.get_T([0,2,4,5])\n",
    "reduced_sys.x\n",
    "from auto_reduce.utils import get_SSM\n",
    "reduced_ssm = get_SSM(reduced_sys, timepoints_ssm)\n",
    "S = reduced_ssm.compute_SSM()"
   ]
  },
  {
   "cell_type": "code",
   "execution_count": null,
   "metadata": {},
   "outputs": [],
   "source": [
    "# fast_ss.f\n",
    "# # sys_reduce.f\n",
    "np.nan"
   ]
  },
  {
   "cell_type": "code",
   "execution_count": null,
   "metadata": {},
   "outputs": [],
   "source": [
    "import matplotlib.pyplot as plt\n",
    "y_hat = sys_reduce.C@x_sol_hat.T\n",
    "plt.plot(timepoints_ode,y_hat.T)"
   ]
  },
  {
   "cell_type": "code",
   "execution_count": null,
   "metadata": {},
   "outputs": [],
   "source": [
    "from auto_reduce.utils import reduce_utils\n",
    "rx = reduce_utils(sys_reduce)\n",
    "rx.write_results('gene_expression_results.txt')"
   ]
  }
 ],
 "metadata": {
  "kernelspec": {
   "display_name": "Python 3",
   "language": "python",
   "name": "python3"
  },
  "language_info": {
   "codemirror_mode": {
    "name": "ipython",
    "version": 3
   },
   "file_extension": ".py",
   "mimetype": "text/x-python",
   "name": "python",
   "nbconvert_exporter": "python",
   "pygments_lexer": "ipython3",
   "version": "3.7.4"
  }
 },
 "nbformat": 4,
 "nbformat_minor": 2
}
