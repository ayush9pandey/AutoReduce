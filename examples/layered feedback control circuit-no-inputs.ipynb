{
 "cells": [
  {
   "cell_type": "markdown",
   "metadata": {},
   "source": [
    "### Layered feedback control circuit (sRNA mediated)\n"
   ]
  },
  {
   "cell_type": "markdown",
   "metadata": {},
   "source": [
    " $P_1 + I_1 \\quad [d_1]<->[a_1] \\quad C_1, \\qquad C_1 + I_1 \\quad [d_2]<->[a_2] \\quad C_2 \\\\\n",
    "    C_2 + T_1 \\quad [d_3]<->[a_3]\\quad  A_T, \\qquad R + A_T \\quad -->[k_1]\\quad  T_1 \\\\\n",
    "    A_T  -->[\\beta_A] \\quad M_S + A_T, \\qquad M_S -->[d_M] \\quad  \\varnothing\\\\\n",
    "    M_S  -->[k_{tl}]\\quad  M_S + S, \\qquad S -->[d_S]\\quad \\varnothing  \\\\\n",
    "    S  -->[k_r]\\quad  S^*, \\qquad S^* -->[d_{S^*}] \\quad \\varnothing \\\\\n",
    "     S^* + I_2 \\quad [d_4]<->[a_4]\\quad  C_C, \\qquad C_C + T_2 \\quad [d_5]<->[a_5]\\quad  A_C \\\\\n",
    "    R + A_C \\quad -->[k_2]\\quad  T_2 \\\\\n",
    "    A_C  -->[\\beta_C]\\quad R + M_G + A_C, \\qquad R -->[d_R]\\quad  \\varnothing\\\\\n",
    "    M_G  -->[k_{G}]\\quad  M_G + G, \\qquad G -->[d_G]\\quad\\varnothing \\\\\n",
    "    G  -->[k_{r_2}] \\quad G^*, \\qquad G^* -->[d_{G^*}]\\quad \\varnothing $"
   ]
  },
  {
   "cell_type": "code",
   "execution_count": 1,
   "metadata": {},
   "outputs": [],
   "source": [
    "%matplotlib inline\n",
    "from IPython.core.interactiveshell import InteractiveShell\n",
    "InteractiveShell.ast_node_interactivity = \"all\"\n",
    "\n",
    "from auto_reduce import *\n",
    "import numpy as np\n",
    "from sympy import symbols"
   ]
  },
  {
   "cell_type": "code",
   "execution_count": 2,
   "metadata": {},
   "outputs": [],
   "source": [
    "# Post conservation law and other approximations phenomenological model at the RNA level\n",
    "n = 17 # Number of states : P, A_T, C1, T1, R, C2, M_S, S, Ss, I2, C_C, A_C, M_G, G, Gs, T2, I1\n",
    "nouts = 1 # Number of outputs, Gs\n",
    "\n",
    "# Inputs by user \n",
    "x_init = np.zeros(n)\n",
    "x_init[0] = 0.01\n",
    "x_init[16] = 2e6\n",
    "x_init[9] = 1e15\n",
    "x_init[6] = 0\n",
    "C = np.zeros((nouts,n), dtype=int)\n",
    "C[0][14] = 1 #Gs\n",
    "\n",
    "error_tol = 30000\n",
    "# System dynamics symbolically\n",
    "\n",
    "P1 = symbols('P1')\n",
    "A_T = symbols('A_T')\n",
    "C1 = symbols('C1') # P:I1\n",
    "T1 = symbols('T1')\n",
    "R = symbols('R')\n",
    "C2 = symbols('C2') # C1:I1\n",
    "M_S = symbols('M_S')\n",
    "S = symbols('S') \n",
    "Ss = symbols('Ss')\n",
    "\n",
    "I2 = symbols('I2')\n",
    "C_C = symbols('C_C')\n",
    "A_C = symbols('A_C') \n",
    "M_G = symbols('M_G')\n",
    "G = symbols('G')\n",
    "Gs = symbols('Gs') \n",
    "T2 = symbols('T2')\n",
    "I1 = symbols('I1')\n",
    "# x = [x0, x1, x2, x3, x4, x5, x6, x7, x8, x9, x10, x11, x12, x13, x14, x15, x16]\n",
    "x = [P1, A_T, C1, T1, R, C2, M_S, S, Ss, I2, C_C, A_C, M_G, G, Gs, T2, I1]\n",
    "\n",
    "\n",
    "a1 = symbols('a1')\n",
    "d1 = symbols('d1')\n",
    "a2 = symbols('a2')\n",
    "d2 = symbols('d2')\n",
    "a3 = symbols('a3')\n",
    "d3 = symbols('d3')\n",
    "k1 = symbols('k1')\n",
    "b_A = symbols('b_A')\n",
    "d_M = symbols('d_M')\n",
    "k_tl = symbols('k_tl')\n",
    "d_S = symbols('d_S')\n",
    "k_r = symbols('k_r')\n",
    "d_Ss = symbols('d_Ss')\n",
    "a4 = symbols('a4')\n",
    "d4 = symbols('d4')\n",
    "a5 = symbols('a5')\n",
    "d5 = symbols('d5')\n",
    "k2 = symbols('k2')\n",
    "b_C = symbols('b_C')\n",
    "d_R = symbols('d_R')\n",
    "k_G = symbols('k_G')\n",
    "d_G = symbols('d_G')\n",
    "d_Gs = symbols('d_Gs')\n",
    "k_r2 = symbols('k_r2')\n",
    "\n",
    "\n",
    "T1_tot = symbols('T1_tot')\n",
    "T2_tot = symbols('T2_tot')\n",
    "# R_tot = symbols('R_tot')\n",
    "\n",
    "params = [a1,d1,a2,d2,a3,d3,k1,b_A,d_M,k_tl,d_S,k_r,d_Ss,a4,d4,a5,d5,k2,b_C,d_R,k_G,d_G,d_Gs,k_r2,T1_tot,T2_tot]\n",
    "\n",
    "# Number of states : \n",
    "# P (0), A_T (1), C1 (2), T1 (3), R (4), C2 (5), M_S (6), S (7), Ss (8), I2 (9), \n",
    "# C_C (10), A_C (11), M_G (12), G (13), Gs (14), T2 (15), I1 (16)\n",
    "f0 = d1*C1 - a1*P1*I1 #P\n",
    "f1 = a3*C2*T1 - d3*A_T - k1*R*A_T  #A_T\n",
    "f2 = a1*P1*I1 + d2*C2 - d1*C1 - a2*C1*I1 #C1\n",
    "f3 = d3*A_T - a3*C2*T1 + k1*R*A_T #T1\n",
    "f4 = b_C*A_C - k1*R*A_T - k2*R*A_C - d_R*R #R\n",
    "f5 = a2*C1*I1 + d3*A_T - d2*C2 - a3*C2*T1 #C2\n",
    "f6 = b_A*A_T - d_M*M_S #M_S\n",
    "f7 = k_tl*M_S - d_S*S - k_r*S #S\n",
    "f8 = k_r*S + d4*C_C - d_Ss*Ss - a4*Ss*I2 # Ss\n",
    "f9 = d4*C_C - a4*Ss*I2 #I_2\n",
    "f10 = a4*Ss*I2 + d5*A_C - d4*C_C - a5*C_C*T2 #C_C\n",
    "f11 = a5*C_C*T2 - d5*A_C - k2*R*A_C #A_C\n",
    "f12 = b_C*A_C - d_M*M_G #M_G\n",
    "f13 = k_G*M_G - d_G*G - k_r2*G #G\n",
    "f14 = k_r2*G - d_Gs*Gs #Gs\n",
    "f15 = d5*A_C + k2*R*A_C - a5*C_C*T2#T2\n",
    "f16 = d1*C1 + d2*C2 - a1*P1*I1 - a2*C1*I1 #I1\n",
    "\n",
    "f = [f0,f1,f2,f3,f4,f5,f6,f7,f8,f9,f10,f11,f12,f13,f14, f15, f16]\n",
    "# parameter values\n",
    "params_values = [10,10,20,10,50,10,1,2,0.1,0.1,0.03,0.2,0.03,20,10,50,20,1,20,0.3,10,0.05,0.001,20,1000,1000]\n",
    "\n",
    "sys = System(x, f, params = params, params_values = params_values, C = C, x_init = x_init)\n"
   ]
  },
  {
   "cell_type": "code",
   "execution_count": 3,
   "metadata": {},
   "outputs": [],
   "source": [
    "from auto_reduce.utils import reduce\n",
    "timepoints_ssm = np.linspace(0,20,10)\n",
    "timepoints_ode = np.linspace(0,20,10)\n",
    "sys_reduce = reduce(sys, timepoints_ode, timepoints_ssm)\n",
    "sys_reduce.nstates_tol = 8\n",
    "sys_reduce.nstates_tol_min = 6"
   ]
  },
  {
   "cell_type": "code",
   "execution_count": 4,
   "metadata": {},
   "outputs": [],
   "source": [
    "conserved_quantities = [A_T + T1 - T1_tot, A_C + T2 - T2_tot]\n",
    "states_to_eliminate = [T1,T2]\n",
    "f_cons = sys_reduce.set_conservation_laws(conserved_quantities, states_to_eliminate)"
   ]
  },
  {
   "cell_type": "code",
   "execution_count": 5,
   "metadata": {},
   "outputs": [
    {
     "data": {
      "text/plain": [
       "[<matplotlib.lines.Line2D at 0x1b68065d348>]"
      ]
     },
     "execution_count": 5,
     "metadata": {},
     "output_type": "execute_result"
    },
    {
     "data": {
      "text/plain": [
       "Text(0.5, 0, 'Time')"
      ]
     },
     "execution_count": 5,
     "metadata": {},
     "output_type": "execute_result"
    },
    {
     "data": {
      "text/plain": [
       "Text(0, 0.5, '[Outputs]')"
      ]
     },
     "execution_count": 5,
     "metadata": {},
     "output_type": "execute_result"
    },
    {
     "data": {
      "image/png": "[encoded data removed]",
      "text/plain": [
       "<Figure size 432x288 with 1 Axes>"
      ]
     },
     "metadata": {
      "needs_background": "light"
     },
     "output_type": "display_data"
    }
   ],
   "source": [
    "from auto_reduce.utils import get_ODE\n",
    "timepoints_ode = np.linspace(0, 200, 100)\n",
    "sys_reduce.params_values = params_values\n",
    "sys_ode = get_ODE(sys_reduce, timepoints_ode)\n",
    "sol = sys_ode.solve_system().T\n",
    "import matplotlib.pyplot as plt\n",
    "# plt.plot(timepoints_ode, np.transpose(np.array(sys_reduce.C)@sol))\n",
    "plt.plot(timepoints_ode, sol[13,:])\n",
    "plt.xlabel('Time')\n",
    "plt.ylabel('[Outputs]')\n",
    "plt.show()"
   ]
  },
  {
   "cell_type": "code",
   "execution_count": 6,
   "metadata": {
    "scrolled": true
   },
   "outputs": [
    {
     "name": "stdout",
     "output_type": "stream",
     "text": [
      "attempting to retain : [0, 1, 2, 3, 4, 13]\n",
      "Successful time-scale separation solution obtained.\n",
      "SSM Progress: |████████████████████------------------------------| 40.5% Complete\r"
     ]
    },
    {
     "name": "stderr",
     "output_type": "stream",
     "text": [
      "C:\\Users\\apand\\Anaconda3\\lib\\site-packages\\scipy\\integrate\\odepack.py:247: ODEintWarning: Excess work done on this call (perhaps wrong Dfun type). Run with full_output = 1 to get quantitative information.\n",
      "  warnings.warn(warning_msg, ODEintWarning)\n"
     ]
    },
    {
     "name": "stdout",
     "output_type": "stream",
     "text": [
      "SSM Progress: |██████████████████████████████████████████████████| 100.0% Complete\n",
      "SSM Progress: |██████████████████████████████████████████████████| 100.0% Complete\n"
     ]
    },
    {
     "name": "stderr",
     "output_type": "stream",
     "text": [
      "C:\\Users\\apand\\Anaconda3\\lib\\site-packages\\scipy\\linalg\\_solvers.py:196: RuntimeWarning: Input \"a\" has an eigenvalue pair whose sum is very close to or exactly zero. The solution is obtained via perturbing the coefficients.\n",
      "  RuntimeWarning)\n",
      "C:\\Users\\apand\\OneDrive\\Documents\\synBio\\autoReduce\\auto_reduce\\model_reduction.py:200: ComplexWarning: Casting complex values to real discards the imaginary part\n",
      "  Se[j] = max_eig_P + 2*len(reduced_ssm.timepoints)*S_metric_max\n"
     ]
    },
    {
     "name": "stdout",
     "output_type": "stream",
     "text": [
      "Robustness Metric Progress: |██████████████████████████████████████████████████| 100.0% Complete\n",
      "attempting to retain : [0, 1, 2, 3, 5, 13]\n",
      "Successful time-scale separation solution obtained.\n",
      "SSM Progress: |██████████████████████████████████████████████████| 100.0% Complete\n",
      "SSM Progress: |██████████████████████████████████████████████████| 100.0% Complete\n",
      "Robustness Metric Progress: |██████████████████████████████████████████████████| 100.0% Complete\n",
      "attempting to retain : [0, 1, 2, 3, 6, 13]\n",
      "Successful time-scale separation solution obtained.\n",
      "SSM Progress: |██████████████████████████████████████████████████| 100.0% Complete\n",
      "SSM Progress: |██████████████████████████████████████████████████| 100.0% Complete\n",
      "Robustness Metric Progress: |██████████████████████████████████████████████████| 100.0% Complete\n",
      "attempting to retain : [0, 1, 2, 3, 7, 13]\n",
      "Successful time-scale separation solution obtained.\n",
      "SSM Progress: |██████████████████████████████████████████████████| 100.0% Complete\n",
      "SSM Progress: |██████████████████████████████████████████████████| 100.0% Complete\n",
      "Robustness Metric Progress: |██████████████████████████████████████████████████| 100.0% Complete\n",
      "attempting to retain : [0, 1, 2, 3, 8, 13]\n",
      "Successful time-scale separation solution obtained.\n"
     ]
    },
    {
     "name": "stderr",
     "output_type": "stream",
     "text": [
      "<string>:4: RuntimeWarning: divide by zero encountered in double_scalars\n",
      "<string>:4: RuntimeWarning: invalid value encountered in double_scalars\n",
      "C:\\Users\\apand\\Anaconda3\\lib\\site-packages\\numpy\\lib\\scimath.py:122: RuntimeWarning: invalid value encountered in less\n",
      "  if any(isreal(x) & (x < 0)):\n",
      "C:\\Users\\apand\\Anaconda3\\lib\\site-packages\\scipy\\integrate\\odepack.py:247: ODEintWarning: Illegal input detected (internal error). Run with full_output = 1 to get quantitative information.\n",
      "  warnings.warn(warning_msg, ODEintWarning)\n"
     ]
    },
    {
     "name": "stdout",
     "output_type": "stream",
     "text": [
      "The error is NaN, something wrong...continuing.\n",
      "SSM Progress: |██████████████████████████████████████████████████| 100.0% Complete\n"
     ]
    },
    {
     "name": "stderr",
     "output_type": "stream",
     "text": [
      "<string>:4: RuntimeWarning: divide by zero encountered in double_scalars\n",
      "<string>:4: RuntimeWarning: invalid value encountered in double_scalars\n",
      "<string>:4: RuntimeWarning: divide by zero encountered in double_scalars\n",
      "<string>:4: RuntimeWarning: invalid value encountered in double_scalars\n"
     ]
    },
    {
     "name": "stdout",
     "output_type": "stream",
     "text": [
      "SSM Progress: |██████████----------------------------------------| 20.1% Complete\r"
     ]
    },
    {
     "name": "stderr",
     "output_type": "stream",
     "text": [
      "C:\\Users\\apand\\Anaconda3\\lib\\site-packages\\scipy\\integrate\\odepack.py:247: ODEintWarning: Excess accuracy requested (tolerances too small). Run with full_output = 1 to get quantitative information.\n",
      "  warnings.warn(warning_msg, ODEintWarning)\n"
     ]
    },
    {
     "name": "stdout",
     "output_type": "stream",
     "text": [
      "SSM Progress: |██████████████████████----------------------------| 45.6% Complete\r"
     ]
    },
    {
     "name": "stderr",
     "output_type": "stream",
     "text": [
      "C:\\Users\\apand\\Anaconda3\\lib\\site-packages\\scipy\\integrate\\odepack.py:247: ODEintWarning: Repeated convergence failures (perhaps bad Jacobian or tolerances). Run with full_output = 1 to get quantitative information.\n",
      "  warnings.warn(warning_msg, ODEintWarning)\n"
     ]
    },
    {
     "name": "stdout",
     "output_type": "stream",
     "text": [
      "SSM Progress: |██████████████████████████████████████████████████| 100.0% Complete\n"
     ]
    },
    {
     "ename": "ValueError",
     "evalue": "array must not contain infs or NaNs",
     "output_type": "error",
     "traceback": [
      "\u001b[1;31m---------------------------------------------------------------------------\u001b[0m",
      "\u001b[1;31mValueError\u001b[0m                                Traceback (most recent call last)",
      "\u001b[1;32m<ipython-input-6-97e72a2fc69c>\u001b[0m in \u001b[0;36m<module>\u001b[1;34m\u001b[0m\n\u001b[0;32m      1\u001b[0m \u001b[1;31m# We want to retain R, M_S, C_C, M_G, G, Gs\u001b[0m\u001b[1;33m\u001b[0m\u001b[1;33m\u001b[0m\u001b[1;33m\u001b[0m\u001b[0m\n\u001b[0;32m      2\u001b[0m \u001b[1;31m# reduced_sys, fast_ss = sys_reduce.solve_timescale_separation([R, M_S, A_T, C_C, Ss, M_G, G, Gs, I1, I2])\u001b[0m\u001b[1;33m\u001b[0m\u001b[1;33m\u001b[0m\u001b[1;33m\u001b[0m\u001b[0m\n\u001b[1;32m----> 3\u001b[1;33m \u001b[0mresults\u001b[0m \u001b[1;33m=\u001b[0m \u001b[0msys_reduce\u001b[0m\u001b[1;33m.\u001b[0m\u001b[0mreduce_simple\u001b[0m\u001b[1;33m(\u001b[0m\u001b[1;33m)\u001b[0m\u001b[1;33m\u001b[0m\u001b[1;33m\u001b[0m\u001b[0m\n\u001b[0m\u001b[0;32m      4\u001b[0m \u001b[1;31m# results = sys_reduce.get_error_metric(reduced_sys)\u001b[0m\u001b[1;33m\u001b[0m\u001b[1;33m\u001b[0m\u001b[1;33m\u001b[0m\u001b[0m\n",
      "\u001b[1;32m~\\OneDrive\\Documents\\synBio\\autoReduce\\auto_reduce\\model_reduction.py\u001b[0m in \u001b[0;36mreduce_simple\u001b[1;34m(self)\u001b[0m\n\u001b[0;32m    519\u001b[0m             \u001b[1;31m# Get metrics for this reduced system\u001b[0m\u001b[1;33m\u001b[0m\u001b[1;33m\u001b[0m\u001b[1;33m\u001b[0m\u001b[0m\n\u001b[0;32m    520\u001b[0m             \u001b[0me\u001b[0m \u001b[1;33m=\u001b[0m \u001b[0mself\u001b[0m\u001b[1;33m.\u001b[0m\u001b[0mget_error_metric\u001b[0m\u001b[1;33m(\u001b[0m\u001b[0mreduced_sys\u001b[0m\u001b[1;33m)\u001b[0m\u001b[1;33m\u001b[0m\u001b[1;33m\u001b[0m\u001b[0m\n\u001b[1;32m--> 521\u001b[1;33m             \u001b[0mSe\u001b[0m \u001b[1;33m=\u001b[0m \u001b[0mself\u001b[0m\u001b[1;33m.\u001b[0m\u001b[0mget_robustness_metric\u001b[0m\u001b[1;33m(\u001b[0m\u001b[0mreduced_sys\u001b[0m\u001b[1;33m)\u001b[0m\u001b[1;33m\u001b[0m\u001b[1;33m\u001b[0m\u001b[0m\n\u001b[0m\u001b[0;32m    522\u001b[0m             \u001b[0mresults_dict\u001b[0m\u001b[1;33m[\u001b[0m\u001b[0mreduced_sys\u001b[0m\u001b[1;33m]\u001b[0m \u001b[1;33m=\u001b[0m \u001b[1;33m[\u001b[0m\u001b[0me\u001b[0m\u001b[1;33m,\u001b[0m \u001b[0mSe\u001b[0m\u001b[1;33m]\u001b[0m\u001b[1;33m\u001b[0m\u001b[1;33m\u001b[0m\u001b[0m\n\u001b[0;32m    523\u001b[0m         \u001b[0mself\u001b[0m\u001b[1;33m.\u001b[0m\u001b[0mresults_dict\u001b[0m \u001b[1;33m=\u001b[0m \u001b[0mresults_dict\u001b[0m\u001b[1;33m\u001b[0m\u001b[1;33m\u001b[0m\u001b[0m\n",
      "\u001b[1;32m~\\OneDrive\\Documents\\synBio\\autoReduce\\auto_reduce\\model_reduction.py\u001b[0m in \u001b[0;36mget_robustness_metric\u001b[1;34m(self, reduced_sys)\u001b[0m\n\u001b[0;32m    188\u001b[0m                 \u001b[1;31m#     warnings.warn('NaN or inf found in Jacobians, continuing')\u001b[0m\u001b[1;33m\u001b[0m\u001b[1;33m\u001b[0m\u001b[1;33m\u001b[0m\u001b[0m\n\u001b[0;32m    189\u001b[0m                 \u001b[1;31m#     continue\u001b[0m\u001b[1;33m\u001b[0m\u001b[1;33m\u001b[0m\u001b[1;33m\u001b[0m\u001b[0m\n\u001b[1;32m--> 190\u001b[1;33m                 \u001b[0mP\u001b[0m \u001b[1;33m=\u001b[0m \u001b[0msolve_lyapunov\u001b[0m\u001b[1;33m(\u001b[0m\u001b[0mJ_bar\u001b[0m\u001b[1;33m,\u001b[0m \u001b[1;33m-\u001b[0m\u001b[1;36m1\u001b[0m \u001b[1;33m*\u001b[0m \u001b[0mC_bar\u001b[0m\u001b[1;33m.\u001b[0m\u001b[0mT\u001b[0m\u001b[1;33m@\u001b[0m\u001b[0mC_bar\u001b[0m\u001b[1;33m)\u001b[0m\u001b[1;33m\u001b[0m\u001b[1;33m\u001b[0m\u001b[0m\n\u001b[0m\u001b[0;32m    191\u001b[0m                 \u001b[1;32mif\u001b[0m \u001b[0mk\u001b[0m \u001b[1;33m==\u001b[0m \u001b[1;36m0\u001b[0m\u001b[1;33m:\u001b[0m\u001b[1;33m\u001b[0m\u001b[1;33m\u001b[0m\u001b[0m\n\u001b[0;32m    192\u001b[0m                     \u001b[0mmax_eig_P\u001b[0m \u001b[1;33m=\u001b[0m \u001b[0mmax\u001b[0m\u001b[1;33m(\u001b[0m\u001b[0meigvals\u001b[0m\u001b[1;33m(\u001b[0m\u001b[0mP\u001b[0m\u001b[1;33m)\u001b[0m\u001b[1;33m)\u001b[0m\u001b[1;33m\u001b[0m\u001b[1;33m\u001b[0m\u001b[0m\n",
      "\u001b[1;32m~\\Anaconda3\\lib\\site-packages\\scipy\\linalg\\_solvers.py\u001b[0m in \u001b[0;36msolve_continuous_lyapunov\u001b[1;34m(a, q)\u001b[0m\n\u001b[0;32m    157\u001b[0m     \"\"\"\n\u001b[0;32m    158\u001b[0m \u001b[1;33m\u001b[0m\u001b[0m\n\u001b[1;32m--> 159\u001b[1;33m     \u001b[0ma\u001b[0m \u001b[1;33m=\u001b[0m \u001b[0mnp\u001b[0m\u001b[1;33m.\u001b[0m\u001b[0matleast_2d\u001b[0m\u001b[1;33m(\u001b[0m\u001b[0m_asarray_validated\u001b[0m\u001b[1;33m(\u001b[0m\u001b[0ma\u001b[0m\u001b[1;33m,\u001b[0m \u001b[0mcheck_finite\u001b[0m\u001b[1;33m=\u001b[0m\u001b[1;32mTrue\u001b[0m\u001b[1;33m)\u001b[0m\u001b[1;33m)\u001b[0m\u001b[1;33m\u001b[0m\u001b[1;33m\u001b[0m\u001b[0m\n\u001b[0m\u001b[0;32m    160\u001b[0m     \u001b[0mq\u001b[0m \u001b[1;33m=\u001b[0m \u001b[0mnp\u001b[0m\u001b[1;33m.\u001b[0m\u001b[0matleast_2d\u001b[0m\u001b[1;33m(\u001b[0m\u001b[0m_asarray_validated\u001b[0m\u001b[1;33m(\u001b[0m\u001b[0mq\u001b[0m\u001b[1;33m,\u001b[0m \u001b[0mcheck_finite\u001b[0m\u001b[1;33m=\u001b[0m\u001b[1;32mTrue\u001b[0m\u001b[1;33m)\u001b[0m\u001b[1;33m)\u001b[0m\u001b[1;33m\u001b[0m\u001b[1;33m\u001b[0m\u001b[0m\n\u001b[0;32m    161\u001b[0m \u001b[1;33m\u001b[0m\u001b[0m\n",
      "\u001b[1;32m~\\Anaconda3\\lib\\site-packages\\scipy\\_lib\\_util.py\u001b[0m in \u001b[0;36m_asarray_validated\u001b[1;34m(a, check_finite, sparse_ok, objects_ok, mask_ok, as_inexact)\u001b[0m\n\u001b[0;32m    237\u001b[0m             \u001b[1;32mraise\u001b[0m \u001b[0mValueError\u001b[0m\u001b[1;33m(\u001b[0m\u001b[1;34m'masked arrays are not supported'\u001b[0m\u001b[1;33m)\u001b[0m\u001b[1;33m\u001b[0m\u001b[1;33m\u001b[0m\u001b[0m\n\u001b[0;32m    238\u001b[0m     \u001b[0mtoarray\u001b[0m \u001b[1;33m=\u001b[0m \u001b[0mnp\u001b[0m\u001b[1;33m.\u001b[0m\u001b[0masarray_chkfinite\u001b[0m \u001b[1;32mif\u001b[0m \u001b[0mcheck_finite\u001b[0m \u001b[1;32melse\u001b[0m \u001b[0mnp\u001b[0m\u001b[1;33m.\u001b[0m\u001b[0masarray\u001b[0m\u001b[1;33m\u001b[0m\u001b[1;33m\u001b[0m\u001b[0m\n\u001b[1;32m--> 239\u001b[1;33m     \u001b[0ma\u001b[0m \u001b[1;33m=\u001b[0m \u001b[0mtoarray\u001b[0m\u001b[1;33m(\u001b[0m\u001b[0ma\u001b[0m\u001b[1;33m)\u001b[0m\u001b[1;33m\u001b[0m\u001b[1;33m\u001b[0m\u001b[0m\n\u001b[0m\u001b[0;32m    240\u001b[0m     \u001b[1;32mif\u001b[0m \u001b[1;32mnot\u001b[0m \u001b[0mobjects_ok\u001b[0m\u001b[1;33m:\u001b[0m\u001b[1;33m\u001b[0m\u001b[1;33m\u001b[0m\u001b[0m\n\u001b[0;32m    241\u001b[0m         \u001b[1;32mif\u001b[0m \u001b[0ma\u001b[0m\u001b[1;33m.\u001b[0m\u001b[0mdtype\u001b[0m \u001b[1;32mis\u001b[0m \u001b[0mnp\u001b[0m\u001b[1;33m.\u001b[0m\u001b[0mdtype\u001b[0m\u001b[1;33m(\u001b[0m\u001b[1;34m'O'\u001b[0m\u001b[1;33m)\u001b[0m\u001b[1;33m:\u001b[0m\u001b[1;33m\u001b[0m\u001b[1;33m\u001b[0m\u001b[0m\n",
      "\u001b[1;32m~\\Anaconda3\\lib\\site-packages\\numpy\\lib\\function_base.py\u001b[0m in \u001b[0;36masarray_chkfinite\u001b[1;34m(a, dtype, order)\u001b[0m\n\u001b[0;32m    496\u001b[0m     \u001b[1;32mif\u001b[0m \u001b[0ma\u001b[0m\u001b[1;33m.\u001b[0m\u001b[0mdtype\u001b[0m\u001b[1;33m.\u001b[0m\u001b[0mchar\u001b[0m \u001b[1;32min\u001b[0m \u001b[0mtypecodes\u001b[0m\u001b[1;33m[\u001b[0m\u001b[1;34m'AllFloat'\u001b[0m\u001b[1;33m]\u001b[0m \u001b[1;32mand\u001b[0m \u001b[1;32mnot\u001b[0m \u001b[0mnp\u001b[0m\u001b[1;33m.\u001b[0m\u001b[0misfinite\u001b[0m\u001b[1;33m(\u001b[0m\u001b[0ma\u001b[0m\u001b[1;33m)\u001b[0m\u001b[1;33m.\u001b[0m\u001b[0mall\u001b[0m\u001b[1;33m(\u001b[0m\u001b[1;33m)\u001b[0m\u001b[1;33m:\u001b[0m\u001b[1;33m\u001b[0m\u001b[1;33m\u001b[0m\u001b[0m\n\u001b[0;32m    497\u001b[0m         raise ValueError(\n\u001b[1;32m--> 498\u001b[1;33m             \"array must not contain infs or NaNs\")\n\u001b[0m\u001b[0;32m    499\u001b[0m     \u001b[1;32mreturn\u001b[0m \u001b[0ma\u001b[0m\u001b[1;33m\u001b[0m\u001b[1;33m\u001b[0m\u001b[0m\n\u001b[0;32m    500\u001b[0m \u001b[1;33m\u001b[0m\u001b[0m\n",
      "\u001b[1;31mValueError\u001b[0m: array must not contain infs or NaNs"
     ]
    }
   ],
   "source": [
    "# We want to retain R, M_S, C_C, M_G, G, Gs\n",
    "# reduced_sys, fast_ss = sys_reduce.solve_timescale_separation([R, M_S, A_T, C_C, Ss, M_G, G, Gs, I1, I2])\n",
    "results = sys_reduce.reduce_simple()\n",
    "# results = sys_reduce.get_error_metric(reduced_sys)"
   ]
  },
  {
   "cell_type": "code",
   "execution_count": 87,
   "metadata": {},
   "outputs": [
    {
     "data": {
      "text/plain": [
       "[-A_T*R*k1 - A_T*d3*(-A_T + T1_tot)/(A_T - T1_tot) - A_T*d3,\n",
       " -A_T*R*k1 - C_C*R*T2_tot*a5*k2/(C_C*a5 + R*k2 + d5) + C_C*T2_tot*a5*b_C/(C_C*a5 + R*k2 + d5) - R*d_R,\n",
       " A_T*b_A - M_S*d_M,\n",
       " C_C*d4 - I2*Ss*a4 + M_S*k_r*k_tl/(d_S + k_r) - Ss*d_Ss,\n",
       " C_C*d4 - I2*Ss*a4,\n",
       " C_C*T2_tot*a5*d5/(C_C*a5 + R*k2 + d5) - C_C*a5*(-C_C*T2_tot*a5/(C_C*a5 + R*k2 + d5) + T2_tot) - C_C*d4 + I2*Ss*a4,\n",
       " C_C*T2_tot*a5*b_C/(C_C*a5 + R*k2 + d5) - M_G*d_M,\n",
       " -G*d_G - G*k_r2 + M_G*k_G,\n",
       " G*k_r2 - Gs*d_Gs,\n",
       " 0]"
      ]
     },
     "execution_count": 87,
     "metadata": {},
     "output_type": "execute_result"
    }
   ],
   "source": [
    "reduced_sys.f"
   ]
  },
  {
   "cell_type": "code",
   "execution_count": 7,
   "metadata": {},
   "outputs": [
    {
     "ename": "NameError",
     "evalue": "name 'results' is not defined",
     "output_type": "error",
     "traceback": [
      "\u001b[1;31m---------------------------------------------------------------------------\u001b[0m",
      "\u001b[1;31mNameError\u001b[0m                                 Traceback (most recent call last)",
      "\u001b[1;32m<ipython-input-7-100f62972f2f>\u001b[0m in \u001b[0;36m<module>\u001b[1;34m\u001b[0m\n\u001b[1;32m----> 1\u001b[1;33m \u001b[0mresults\u001b[0m\u001b[1;33m\u001b[0m\u001b[1;33m\u001b[0m\u001b[0m\n\u001b[0m",
      "\u001b[1;31mNameError\u001b[0m: name 'results' is not defined"
     ]
    }
   ],
   "source": [
    "results"
   ]
  },
  {
   "cell_type": "code",
   "execution_count": 85,
   "metadata": {},
   "outputs": [
    {
     "data": {
      "text/plain": [
       "[<matplotlib.lines.Line2D at 0x1eebec2ef48>]"
      ]
     },
     "execution_count": 85,
     "metadata": {},
     "output_type": "execute_result"
    },
    {
     "data": {
      "text/plain": [
       "Text(0.5, 0, 'Time')"
      ]
     },
     "execution_count": 85,
     "metadata": {},
     "output_type": "execute_result"
    },
    {
     "data": {
      "text/plain": [
       "Text(0, 0.5, '[Outputs]')"
      ]
     },
     "execution_count": 85,
     "metadata": {},
     "output_type": "execute_result"
    },
    {
     "data": {
      "image/png": "[encoded data removed]",
      "text/plain": [
       "<Figure size 432x288 with 1 Axes>"
      ]
     },
     "metadata": {
      "needs_background": "light"
     },
     "output_type": "display_data"
    }
   ],
   "source": [
    "from auto_reduce.utils import get_ODE\n",
    "timepoints_ode = np.linspace(0, 150, 100)\n",
    "sys_reduce.params_values = params_values\n",
    "sysr_ode = get_ODE(reduced_sys, timepoints_ode)\n",
    "solr = sysr_ode.solve_system().T\n",
    "import matplotlib.pyplot as plt\n",
    "plt.plot(timepoints_ode, np.transpose(np.array(reduced_sys.C)@solr))\n",
    "plt.xlabel('Time')\n",
    "plt.ylabel('[Outputs]')\n",
    "plt.show()"
   ]
  },
  {
   "cell_type": "code",
   "execution_count": 9,
   "metadata": {},
   "outputs": [
    {
     "data": {
      "text/plain": [
       "[P1, A_T, C1, R, C2, M_S, S, Ss, I2, C_C, A_C, M_G, G, Gs, I1]"
      ]
     },
     "execution_count": 9,
     "metadata": {},
     "output_type": "execute_result"
    }
   ],
   "source": [
    "#A_C, A_T, Ss, S\n",
    "sys_reduce.x"
   ]
  },
  {
   "cell_type": "code",
   "execution_count": 10,
   "metadata": {},
   "outputs": [],
   "source": [
    "dict1 = {}\n",
    "dict1[P1] = C2**2"
   ]
  },
  {
   "cell_type": "code",
   "execution_count": 11,
   "metadata": {},
   "outputs": [
    {
     "data": {
      "text/plain": [
       "[P1, C1, T1, R, C2, M_S, S, Ss, I2, C_C, M_G, G, Gs, T2, I1]"
      ]
     },
     "execution_count": 11,
     "metadata": {},
     "output_type": "execute_result"
    }
   ],
   "source": [
    "# 3,5,9,10,11,12,14\n",
    "sys_reduce.x"
   ]
  },
  {
   "cell_type": "code",
   "execution_count": 12,
   "metadata": {},
   "outputs": [],
   "source": [
    "f_cons = sys_reduce.f"
   ]
  },
  {
   "cell_type": "code",
   "execution_count": 13,
   "metadata": {},
   "outputs": [
    {
     "data": {
      "text/plain": [
       "[C1*d1 - I1*P1*a1,\n",
       " -C1*I1*a2 - C1*d1 + C2*d2 + I1*P1*a1,\n",
       " -C2*T1*a3 + R*k1*(-T1 + T1_tot) + d3*(-T1 + T1_tot),\n",
       " -R*d_R - R*k1*(-T1 + T1_tot) - R*k2*(-T2 + T2_tot) + b_C*(-T2 + T2_tot),\n",
       " C1*I1*a2 - C2*T1*a3 - C2*d2 + d3*(-T1 + T1_tot),\n",
       " -M_S*d_M + b_A*(-T1 + T1_tot),\n",
       " M_S*k_tl - S*d_S - S*k_r,\n",
       " C_C*d4 - I2*Ss*a4 + S*k_r - Ss*d_Ss,\n",
       " C_C*d4 - I2*Ss*a4,\n",
       " -C_C*T2*a5 - C_C*d4 + I2*Ss*a4 + d5*(-T2 + T2_tot),\n",
       " -M_G*d_M + b_C*(-T2 + T2_tot),\n",
       " -G*d_G - G*k_r2 + M_G*k_G,\n",
       " G*k_r2 - Gs*d_Gs,\n",
       " -C_C*T2*a5 + R*k2*(-T2 + T2_tot) + d5*(-T2 + T2_tot),\n",
       " -C1*I1*a2 + C1*d1 + C2*d2 - I1*P1*a1]"
      ]
     },
     "execution_count": 13,
     "metadata": {},
     "output_type": "execute_result"
    }
   ],
   "source": [
    "f_cons"
   ]
  },
  {
   "cell_type": "code",
   "execution_count": 56,
   "metadata": {},
   "outputs": [],
   "source": [
    "from sympy import solve, Eq\n",
    "collapsed_sols = {}\n",
    "collapsed_sols[P1] = solve(Eq(f_cons[0]),P1)[0]\n",
    "f_cons[1] = f_cons[1].subs(P1,collapsed_sols[P1])\n",
    "collapsed_sols[C1] = solve(Eq(f_cons[1]),C1)[0]\n",
    "collapsed_sols[T1] = solve(Eq(f_cons[2]),T1)[0]\n",
    "\n",
    "collapsed_sols[P1] = collapsed_sols[P1].subs(C1, collapsed_sols[C1])\n",
    "f_cons[3] = f_cons[3].subs(T1, collapsed_sols[T1])\n",
    "\n",
    "f_cons[4] = f_cons[4].subs(C1,collapsed_sols[C1])\n",
    "f_cons[4] = f_cons[4].subs(T1,collapsed_sols[T1])\n",
    "\n",
    "collapsed_sols[C2] = solve(Eq(f_cons[4]),C2)[0]\n",
    "\n",
    "f_cons[5] = f_cons[5].subs(T1, collapsed_sols[T1])\n",
    "# S, Ss, I2\n",
    "collapsed_sols[S] = solve(Eq(f_cons[6]),S)[0]\n",
    "\n",
    "f_cons[7] = f_cons[7].subs(S, collapsed_sols[S])\n",
    "collapsed_sols[Ss] = solve(Eq(f_cons[7]),Ss)[0]\n",
    "\n",
    "f_cons[8] = f_cons[8].subs(Ss, collapsed_sols[Ss])\n",
    "\n",
    "collapsed_sols[T2] = solve(Eq(f_cons[13]),T2)[0]\n",
    "\n",
    "f_cons[9] = f_cons[9].subs(T2, collapsed_sols[T2])\n",
    "f_cons[10] = f_cons[10].subs(T2, collapsed_sols[T2])\n",
    "f_cons[3] = f_cons[3].subs(T2, collapsed_sols[T2])\n",
    "f_cons[14] = f_cons[14].subs(C1, collapsed_sols[C1])"
   ]
  },
  {
   "cell_type": "code",
   "execution_count": 57,
   "metadata": {},
   "outputs": [
    {
     "data": {
      "text/plain": [
       "{P1: C2*d1*d2/(I1**2*a1*a2),\n",
       " C1: C2*d2/(I1*a2),\n",
       " T1: T1_tot*(R*k1 + d3)/(C2*a3 + R*k1 + d3),\n",
       " C2: 0,\n",
       " S: M_S*k_tl/(d_S + k_r),\n",
       " Ss: (C_C*d4*d_S + C_C*d4*k_r + M_S*k_r*k_tl)/(I2*a4*d_S + I2*a4*k_r + d_S*d_Ss + d_Ss*k_r),\n",
       " T2: T2_tot*(R*k2 + d5)/(C_C*a5 + R*k2 + d5)}"
      ]
     },
     "execution_count": 57,
     "metadata": {},
     "output_type": "execute_result"
    }
   ],
   "source": [
    "collapsed_sols"
   ]
  },
  {
   "cell_type": "code",
   "execution_count": 55,
   "metadata": {},
   "outputs": [
    {
     "data": {
      "text/latex": [
       "$\\displaystyle \\frac{C_{2} d_{1} d_{2}}{I_{1} a_{2}} - I_{1} P_{1} a_{1}$"
      ],
      "text/plain": [
       "C2*d1*d2/(I1*a2) - I1*P1*a1"
      ]
     },
     "execution_count": 55,
     "metadata": {},
     "output_type": "execute_result"
    },
    {
     "data": {
      "text/plain": [
       "[P1, C1, T1, R, C2, M_S, S, Ss, I2, C_C, M_G, G, Gs, T2, I1]"
      ]
     },
     "execution_count": 55,
     "metadata": {},
     "output_type": "execute_result"
    }
   ],
   "source": [
    "f_cons[14]\n",
    "sys_reduce.x"
   ]
  },
  {
   "cell_type": "code",
   "execution_count": 17,
   "metadata": {},
   "outputs": [
    {
     "data": {
      "text/latex": [
       "$\\displaystyle - R d_{R} - R k_{1} \\left(- \\frac{T_{1 tot} \\left(R k_{1} + d_{3}\\right)}{C_{2} a_{3} + R k_{1} + d_{3}} + T_{1 tot}\\right) - R k_{2} \\left(- T_{2} + T_{2 tot}\\right) + b_{C} \\left(- T_{2} + T_{2 tot}\\right)$"
      ],
      "text/plain": [
       "-R*d_R - R*k1*(-T1_tot*(R*k1 + d3)/(C2*a3 + R*k1 + d3) + T1_tot) - R*k2*(-T2 + T2_tot) + b_C*(-T2 + T2_tot)"
      ]
     },
     "execution_count": 17,
     "metadata": {},
     "output_type": "execute_result"
    }
   ],
   "source": [
    "# 3,5,9,10,11,12,14\n",
    "# [R, M_S, C_C, M_G, G, Gs, I1]\n",
    "f_red = []\n",
    "f_red.append(f_cons[3])\n",
    "f_red.append(f_cons[5])\n",
    "f_red.append(f_cons[9])\n",
    "f_red.append(f_cons[10])\n",
    "f_red.append(f_cons[11])\n",
    "f_red.append(f_cons[12])\n",
    "f_red.append(f_cons[14])\n",
    "f_red[0]"
   ]
  },
  {
   "cell_type": "code",
   "execution_count": 51,
   "metadata": {},
   "outputs": [
    {
     "data": {
      "text/latex": [
       "$\\displaystyle \\frac{C_{2} d_{1} d_{2}}{I_{1} a_{2}} - I_{1} P_{1} a_{1}$"
      ],
      "text/plain": [
       "C2*d1*d2/(I1*a2) - I1*P1*a1"
      ]
     },
     "execution_count": 51,
     "metadata": {},
     "output_type": "execute_result"
    }
   ],
   "source": [
    "f_red[6]"
   ]
  },
  {
   "cell_type": "code",
   "execution_count": 52,
   "metadata": {},
   "outputs": [
    {
     "data": {
      "text/plain": [
       "[R, M_S, C_C, M_G, G, Gs, I1]"
      ]
     },
     "execution_count": 52,
     "metadata": {},
     "output_type": "execute_result"
    },
    {
     "data": {
      "text/latex": [
       "$\\displaystyle 0$"
      ],
      "text/plain": [
       "0"
      ]
     },
     "execution_count": 52,
     "metadata": {},
     "output_type": "execute_result"
    }
   ],
   "source": [
    "reduced_sys.x\n",
    "reduced_sys.f[6]"
   ]
  },
  {
   "cell_type": "code",
   "execution_count": 20,
   "metadata": {},
   "outputs": [
    {
     "name": "stdout",
     "output_type": "stream",
     "text": [
      "{P1, d1, C1, I1, a1}\n",
      "{C2, C1, a2, I1, d2}\n",
      "{T1, k1, C2, T1_tot, d3, a3, R}\n",
      "{k1, C2, d3, a3, d_R, k2, T2_tot, T1_tot, R, T2, b_C}\n",
      "{k1, C2, d3, a3, T1_tot, R}\n",
      "{k1, C2, M_S, d3, a3, d_M, T1_tot, b_A, R}\n",
      "{S, k_tl, M_S, k_r, d_S}\n",
      "{d4, k_tl, M_S, C_C, k_r, a4, Ss, d_S, d_Ss, I2}\n",
      "{d4, k_tl, M_S, C_C, k_r, a4, d_Ss, d_S, I2}\n",
      "{d4, a5, C_C, a4, d5, Ss, T2_tot, R, I2, k2}\n",
      "{a5, C_C, d5, d_M, M_G, T2_tot, b_C, R, k2}\n",
      "{d_G, k_r2, k_G, G, M_G}\n",
      "{G, k_r2, Gs, d_Gs}\n",
      "{T2_tot, a5, C_C, k2, R, T2, d5}\n",
      "{d1, C2, a1, d2, P1, a2, I1}\n"
     ]
    }
   ],
   "source": [
    "f_cons_subs = [fi for fi in f_cons]\n",
    "for i in range(len(f_cons)):\n",
    "    fic = f_cons[i]\n",
    "    f_cons_subs[i] = fic.subs({b_A:2,\n",
    "    d_M:0.1,\n",
    "    k_tl:0.1,\n",
    "    d_S:0.03,\n",
    "    d_Ss:0.03,\n",
    "    d_G:0.03,\n",
    "    d_Gs:0.03,\n",
    "    d_R:0.03,\n",
    "    b_C:20,\n",
    "    d_R:0.3,\n",
    "    k_r2:0.2,\n",
    "    I1:2e6,\n",
    "    k_G:0.1,\n",
    "    a1:10,\n",
    "    d1:10,\n",
    "    a2:20,\n",
    "    d2:10,\n",
    "    a3:50,\n",
    "    d3:10,\n",
    "    a4:20,\n",
    "    d4:10,\n",
    "    a5:50,\n",
    "    d5:20,\n",
    "    k1:1,\n",
    "    k2:1})\n",
    "    print(fic.free_symbols)"
   ]
  },
  {
   "cell_type": "code",
   "execution_count": 21,
   "metadata": {},
   "outputs": [
    {
     "ename": "AttributeError",
     "evalue": "'list' object has no attribute 'free_symbols'",
     "output_type": "error",
     "traceback": [
      "\u001b[1;31m---------------------------------------------------------------------------\u001b[0m",
      "\u001b[1;31mAttributeError\u001b[0m                            Traceback (most recent call last)",
      "\u001b[1;32m<ipython-input-21-63daa23ebc5b>\u001b[0m in \u001b[0;36m<module>\u001b[1;34m\u001b[0m\n\u001b[1;32m----> 1\u001b[1;33m \u001b[0mf_cons\u001b[0m\u001b[1;33m.\u001b[0m\u001b[0mfree_symbols\u001b[0m\u001b[1;33m\u001b[0m\u001b[1;33m\u001b[0m\u001b[0m\n\u001b[0m",
      "\u001b[1;31mAttributeError\u001b[0m: 'list' object has no attribute 'free_symbols'"
     ]
    }
   ],
   "source": [
    "f_cons.free_symbols"
   ]
  },
  {
   "cell_type": "code",
   "execution_count": null,
   "metadata": {},
   "outputs": [],
   "source": []
  }
 ],
 "metadata": {
  "kernelspec": {
   "display_name": "Python 3",
   "language": "python",
   "name": "python3"
  },
  "language_info": {
   "codemirror_mode": {
    "name": "ipython",
    "version": 3
   },
   "file_extension": ".py",
   "mimetype": "text/x-python",
   "name": "python",
   "nbconvert_exporter": "python",
   "pygments_lexer": "ipython3",
   "version": "3.7.4"
  }
 },
 "nbformat": 4,
 "nbformat_minor": 2
}
