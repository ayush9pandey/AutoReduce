{
 "cells": [
  {
   "cell_type": "markdown",
   "metadata": {},
   "source": [
    "For full version of this notebook, check `IJRNC examples/`"
   ]
  },
  {
   "cell_type": "markdown",
   "metadata": {},
   "source": [
    "$G_i + P \\quad[k^{b_P}_i]<->[k^{u_P}_i] \\quad  G_i:P \\\\\n",
    "G_i:P \\quad  --> [k_i^{tx}] \\quad  G_i + P + T_i \\\\\n",
    "T_i + R \\quad  [k^{b_R}_i]<->[k^{u_R}_i]\\quad   T_i:R \\\\\n",
    "T_i:R  \\quad -->[k_i^{tl}]\\quad T_i + R + X_i \\\\\n",
    "T_i + E \\quad  [k^{b_E}_i]<->[k^{u_E}_i] \\quad  T_i:E \\\\\n",
    "T_i:E \\quad-->[\\delta_i]\\quad E \\\\\n",
    "T \\quad-->[d_T]\\quad \\\\\n",
    "X \\quad-->[d]\\quad $"
   ]
  },
  {
   "cell_type": "code",
   "execution_count": 1,
   "metadata": {},
   "outputs": [],
   "source": [
    "\n",
    "from IPython.core.interactiveshell import InteractiveShell\n",
    "InteractiveShell.ast_node_interactivity = \"all\"\n",
    "from autoreduce import *\n",
    "import numpy as np\n",
    "from sympy import symbols"
   ]
  },
  {
   "cell_type": "code",
   "execution_count": 2,
   "metadata": {},
   "outputs": [],
   "source": [
    "# Post conservation law and other approximations phenomenological model at the RNA level\n",
    "n = 8 # Number of states : P, C1, T, R, C2, E, C3, X\n",
    "nouts = 1 # Number of outputs, X_i\n",
    "\n",
    "# Inputs by user \n",
    "x_init = np.zeros(n)\n",
    "x_init[0] = 100\n",
    "x_init[3] = 400\n",
    "x_init[5] = 20\n",
    "C = np.zeros((nouts,n), dtype=int)\n",
    "C[0][7] = 1\n",
    "\n",
    "nstates_tol_max = 3\n",
    "nsatees_tol_min = 2\n",
    "error_tol = 3000\n",
    "# System dynamics symbolically\n",
    "\n",
    "# k_bp, k_up, k_tx, k_br, k_ur, k_tl, k_be, k_ue, d_i, d = params, len(params) = 10\n",
    "\n",
    "\n",
    "x0 = symbols('P')\n",
    "x1 = symbols('C1') # G:P\n",
    "x2 = symbols('T')\n",
    "x3 = symbols('R')\n",
    "x4 = symbols('C2') # T:R\n",
    "x5 = symbols('E')\n",
    "x6 = symbols('C3') # T:E\n",
    "x7 = symbols('X')\n",
    "\n",
    "x = [x0, x1, x2, x3, x4, x5, x6, x7]\n",
    "\n",
    "G = symbols('G')\n",
    "k_bp = symbols('k_bp')\n",
    "k_up = symbols('k_up')\n",
    "k_tx = symbols('k_tx')\n",
    "k_br = symbols('k_br')\n",
    "k_ur = symbols('k_ur')\n",
    "k_tl = symbols('k_tl')\n",
    "k_be = symbols('k_be')\n",
    "k_ue = symbols('k_ue')\n",
    "d_i = symbols('d_i')\n",
    "d = symbols('d')\n",
    "d_T = symbols('d_T')\n",
    "\n",
    "E_tot = symbols('E_tot')\n",
    "P_tot = symbols('P_tot')\n",
    "R_tot = symbols('R_tot')\n",
    "params = [k_bp, k_up, k_tx, k_br, k_ur, k_tl, k_be, k_ue, d_i, d, d_T, E_tot, P_tot, R_tot, G]\n",
    "# f0 = (k_bp + k_tx) * x1 - k_up * G * x0\n",
    "f0 = (k_up + k_tx) * x1 - k_bp * G * x0\n",
    "f1 = k_bp * G * x0 - (k_up + k_tx)*x1\n",
    "f2 = k_tx * x1 + (k_ur + k_tl) * x4 + k_ue * x6 - k_br * x2 * x3 - k_be * x2 * x5 - d_T * x2\n",
    "f3 = (k_ur + k_tl) * x4 - k_br * x2 * x3\n",
    "f4 = k_br * x2 * x3 - (k_ur + k_tl) * x4\n",
    "f5 = (k_ue + d_i) * x6 - k_be * x2 * x5\n",
    "f6 = k_be * x2 * x5 - (k_ue + d_i) * x6\n",
    "f7 = k_tl * x4 - d * x7\n",
    "    \n",
    "f = [f0,f1,f2,f3,f4,f5,f6,f7]\n",
    "# parameter values\n",
    "# E_tot = 20\n",
    "# P_tot = 100\n",
    "# R_tot = 400\n",
    "params_values = [80, 2, 0.50, 80, 2, 0.5, 10, 2, 0.1, 0.5, 0.01, 100, 100, 400, 10]\n",
    "# params_values = [100, 10, 4, 10, 0.25, 2, 10, 0.5, 1, 1, 1000, 1000, 1000, 10]\n",
    "sys = System(x, f, params = params, params_values = params_values, C = C, x_init = x_init)"
   ]
  },
  {
   "cell_type": "code",
   "execution_count": 4,
   "metadata": {},
   "outputs": [
    {
     "data": {
      "text/plain": [
       "[<matplotlib.lines.Line2D at 0x2314356b730>]"
      ]
     },
     "execution_count": 4,
     "metadata": {},
     "output_type": "execute_result"
    },
    {
     "data": {
      "text/plain": [
       "Text(0.5, 0, 'Time')"
      ]
     },
     "execution_count": 4,
     "metadata": {},
     "output_type": "execute_result"
    },
    {
     "data": {
      "text/plain": [
       "Text(0, 0.5, '[Outputs]')"
      ]
     },
     "execution_count": 4,
     "metadata": {},
     "output_type": "execute_result"
    },
    {
     "data": {
      "image/png": "[encoded data removed]",
      "text/plain": [
       "<Figure size 432x288 with 1 Axes>"
      ]
     },
     "metadata": {
      "needs_background": "light"
     },
     "output_type": "display_data"
    }
   ],
   "source": [
    "from autoreduce.utils import get_ODE\n",
    "timepoints_ode = np.linspace(0, 24, 100)\n",
    "sys_ode = get_ODE(sys, timepoints_ode)\n",
    "sol = sys_ode.solve_system().T\n",
    "try:\n",
    "    import matplotlib.pyplot as plt\n",
    "    plt.plot(timepoints_ode, np.transpose(np.array(C)@sol));\n",
    "    plt.xlabel('Time');\n",
    "    plt.ylabel('[Outputs]');\n",
    "    plt.show();\n",
    "except:\n",
    "    print('Plotting libraries missing.')"
   ]
  },
  {
   "cell_type": "code",
   "execution_count": 5,
   "metadata": {},
   "outputs": [],
   "source": [
    "from autoreduce.utils import get_reducible\n",
    "timepoints_ssm = np.linspace(0,2,10)\n",
    "timepoints_ode = np.linspace(0,2,100)\n",
    "sys_reduce = get_reducible(sys, timepoints_ode, timepoints_ssm)\n",
    "sys_reduce.nstates_tol_min = 2\n",
    "sys_reduce.nstates_tol_max = 3"
   ]
  },
  {
   "cell_type": "code",
   "execution_count": 6,
   "metadata": {},
   "outputs": [],
   "source": [
    "P, C1, T, R, C2, E, C3, X = sys.x\n",
    "conserved_quantities = [P + C1 - P_tot, R + C2 - R_tot, E + C3 - E_tot]\n",
    "states_to_eliminate = [C1, C2, C3]\n",
    "f_cons = sys_reduce.set_conservation_laws(conserved_quantities, states_to_eliminate)"
   ]
  },
  {
   "cell_type": "code",
   "execution_count": 7,
   "metadata": {},
   "outputs": [
    {
     "data": {
      "text/plain": [
       "[-G*P*k_bp + (-P + P_tot)*(k_tx + k_up),\n",
       " -E*T*k_be - R*T*k_br - T*d_T + k_tx*(-P + P_tot) + k_ue*(-E + E_tot) + (-R + R_tot)*(k_tl + k_ur),\n",
       " -R*T*k_br + (-R + R_tot)*(k_tl + k_ur),\n",
       " -E*T*k_be + (-E + E_tot)*(d_i + k_ue),\n",
       " -X*d + k_tl*(-R + R_tot)]"
      ]
     },
     "execution_count": 7,
     "metadata": {},
     "output_type": "execute_result"
    }
   ],
   "source": [
    "f_cons"
   ]
  },
  {
   "cell_type": "code",
   "execution_count": 12,
   "metadata": {},
   "outputs": [
    {
     "data": {
      "text/plain": [
       "[<matplotlib.lines.Line2D at 0x231470a4250>]"
      ]
     },
     "execution_count": 12,
     "metadata": {},
     "output_type": "execute_result"
    },
    {
     "data": {
      "text/plain": [
       "Text(0.5, 0, 'Time')"
      ]
     },
     "execution_count": 12,
     "metadata": {},
     "output_type": "execute_result"
    },
    {
     "data": {
      "text/plain": [
       "Text(0, 0.5, '[X]')"
      ]
     },
     "execution_count": 12,
     "metadata": {},
     "output_type": "execute_result"
    },
    {
     "data": {
      "image/png": "[encoded data removed]",
      "text/plain": [
       "<Figure size 432x288 with 1 Axes>"
      ]
     },
     "metadata": {
      "needs_background": "light"
     },
     "output_type": "display_data"
    }
   ],
   "source": [
    "from autoreduce.utils import get_ODE\n",
    "timepoints_ode = np.linspace(0, 24, 100)\n",
    "# params = [k_bp, k_up, k_tx, k_br, k_ur, k_tl, k_be, k_ue, d_i, d, E_tot, P_tot, R_tot, G]\n",
    "# params_values = [100, 10, 4, 10, 0.25, 2, 10, 0.5, 1, 10, 10000, 10000, 10000, 0.01]\n",
    "# params_values = [30, 10, 0.50, 80, 2, 8, 10, 2, 1, 0.5, 0.01, 20, 100, 400, 10]\n",
    "# sys_reduce.params_values = params_values\n",
    "sys_ode = get_ODE(sys_reduce, timepoints_ode)\n",
    "sol = sys_ode.solve_system().T\n",
    "try:\n",
    "    import matplotlib.pyplot as plt\n",
    "    fig, ax = plt.subplots()\n",
    "    plt.plot(timepoints_ode, np.transpose(np.array(sys_reduce.C)@sol), linewidth = 3)\n",
    "    plt.xlabel('Time', fontsize = 18)\n",
    "    plt.ylabel('[X]', fontsize = 18)\n",
    "    ax.tick_params(axis='both', which='major', labelsize=14)\n",
    "    # plt.legend()\n",
    "    plt.show();\n",
    "except:\n",
    "    print('Plotting libraries missing.')"
   ]
  },
  {
   "cell_type": "code",
   "execution_count": 13,
   "metadata": {},
   "outputs": [
    {
     "data": {
      "text/plain": [
       "[-G*P*k_bp + (-P + P_tot)*(k_tx + k_up),\n",
       " -E*T*k_be - R*T*k_br - T*d_T + k_tx*(-P + P_tot) + k_ue*(-E + E_tot) + (-R + R_tot)*(k_tl + k_ur),\n",
       " -R*T*k_br + (-R + R_tot)*(k_tl + k_ur),\n",
       " -E*T*k_be + (-E + E_tot)*(d_i + k_ue),\n",
       " -X*d + k_tl*(-R + R_tot)]"
      ]
     },
     "execution_count": 13,
     "metadata": {},
     "output_type": "execute_result"
    }
   ],
   "source": [
    "sys_reduce.f"
   ]
  },
  {
   "cell_type": "code",
   "execution_count": 14,
   "metadata": {},
   "outputs": [
    {
     "data": {
      "text/plain": [
       "[P, T, R, E, X]"
      ]
     },
     "execution_count": 14,
     "metadata": {},
     "output_type": "execute_result"
    }
   ],
   "source": [
    "sys_reduce.x"
   ]
  },
  {
   "cell_type": "code",
   "execution_count": 15,
   "metadata": {},
   "outputs": [
    {
     "name": "stdout",
     "output_type": "stream",
     "text": [
      "Successful time-scale separation solution obtained with states: [T, R, X]!\n"
     ]
    }
   ],
   "source": [
    "reduced_sys_trx, fast_ss = sys_reduce.solve_timescale_separation([T, R, X], fast_states = [P, E], debug = False)\n"
   ]
  },
  {
   "cell_type": "code",
   "execution_count": 16,
   "metadata": {},
   "outputs": [
    {
     "data": {
      "text/latex": [
       "$\\displaystyle \\frac{- E_{tot} T d_{i} k_{be} \\left(G k_{bp} + k_{tx} + k_{up}\\right) + G P_{tot} k_{bp} k_{tx} \\left(T k_{be} + d_{i} + k_{ue}\\right) - \\left(G k_{bp} + k_{tx} + k_{up}\\right) \\left(T k_{be} + d_{i} + k_{ue}\\right) \\left(R T k_{br} + T d_{T} + \\left(R - R_{tot}\\right) \\left(k_{tl} + k_{ur}\\right)\\right)}{\\left(G k_{bp} + k_{tx} + k_{up}\\right) \\left(T k_{be} + d_{i} + k_{ue}\\right)}$"
      ],
      "text/plain": [
       "(-E_tot*T*d_i*k_be*(G*k_bp + k_tx + k_up) + G*P_tot*k_bp*k_tx*(T*k_be + d_i + k_ue) - (G*k_bp + k_tx + k_up)*(T*k_be + d_i + k_ue)*(R*T*k_br + T*d_T + (R - R_tot)*(k_tl + k_ur)))/((G*k_bp + k_tx + k_up)*(T*k_be + d_i + k_ue))"
      ]
     },
     "execution_count": 16,
     "metadata": {},
     "output_type": "execute_result"
    }
   ],
   "source": [
    "reduced_sys_trx.f[0]"
   ]
  },
  {
   "cell_type": "markdown",
   "metadata": {},
   "source": [
    "# Reduced model (obtained using time-scale separation above) vs Full model"
   ]
  },
  {
   "cell_type": "code",
   "execution_count": 17,
   "metadata": {},
   "outputs": [
    {
     "data": {
      "image/png": "[encoded data removed]",
      "text/plain": [
       "<Figure size 432x288 with 1 Axes>"
      ]
     },
     "metadata": {
      "needs_background": "light"
     },
     "output_type": "display_data"
    }
   ],
   "source": [
    "reduced_sys = reduced_sys_trx\n",
    "try:\n",
    "    fig, ax = plt.subplots() \n",
    "    # params = [k_bp, k_up, k_tx, k_br, k_ur, k_tl, k_be, k_ue, d_i, d, d_T, E_tot, P_tot, R_tot, G]\n",
    "    params_values_new = [80, 2, 0.5, 80, 2, 0.5, 8, 0.2, 0.1, 0.5, 0.05, 100, 100, 400, 0.1]\n",
    "    # Set new parameters \n",
    "    sys.params_values = params_values_new\n",
    "    reduced_sys.params_values = params_values_new\n",
    "    # Set new initial conditions \n",
    "    sys.x_init[0] = params_values_new[-3]\n",
    "    sys.x_init[3] = params_values_new[-2]\n",
    "    sys.x_init[5] = params_values_new[-4]\n",
    "    if P in reduced_sys.x:\n",
    "        ind = reduced_sys.x.index(P)\n",
    "        reduced_sys.x_init[ind] = params_values[-3]\n",
    "    if R in reduced_sys.x:\n",
    "        ind = reduced_sys.x.index(R)\n",
    "        reduced_sys.x_init[ind] = params_values[-2]\n",
    "    if E in reduced_sys.x:\n",
    "        ind = reduced_sys.x.index(E)\n",
    "        reduced_sys.x_init[ind] = params_values[-4]\n",
    "    # Solve ODEs and plot\n",
    "    sys_ode = get_ODE(sys, timepoints_ode)\n",
    "    sol = sys_ode.solve_system().T\n",
    "    _ = plt.plot(timepoints_ode, np.transpose(np.array(sys.C)@sol), 'k--', label = 'Full CRN model', linewidth = 5)\n",
    "    reduced_ode = get_ODE(reduced_sys, timepoints_ode)\n",
    "    reduced_sol = reduced_ode.solve_system().T\n",
    "    _ = plt.plot(timepoints_ode, np.transpose(np.array(reduced_sys.C)@reduced_sol), 'r', label = 'Reduced model', linewidth = 2)\n",
    "    \n",
    "    plt.savefig('trx.svg')\n",
    "    plt.show()\n",
    "except:\n",
    "    print('Plotting libraries missing.')"
   ]
  },
  {
   "cell_type": "markdown",
   "metadata": {},
   "source": [
    "# Robustness [T, R, X]"
   ]
  },
  {
   "cell_type": "code",
   "execution_count": 18,
   "metadata": {},
   "outputs": [
    {
     "name": "stdout",
     "output_type": "stream",
     "text": [
      "SSM Progress: |██████████████████████████████████████████████████| 100.0% Complete\n",
      "SSM Progress: |██████████████████████████████████████████████████| 100.0% Complete\n"
     ]
    }
   ],
   "source": [
    "Se_trx = sys_reduce.get_robustness_metric(reduced_sys_trx)"
   ]
  },
  {
   "cell_type": "code",
   "execution_count": 19,
   "metadata": {},
   "outputs": [
    {
     "data": {
      "text/plain": [
       "(array([3.83705486e+00, 3.36388190e+00, 8.76099204e-01, 2.00297842e-01,\n",
       "        3.83705488e+00, 3.83705470e+00, 2.00297556e-01, 1.97825897e+04,\n",
       "        5.23385286e-08, 1.79232933e+02, 5.08471194e-07, 6.58560796e-08,\n",
       "        1.39836314e+02, 2.74921437e+01, 2.74921441e+01]),\n",
       " 0.003875416964245933)"
      ]
     },
     "execution_count": 19,
     "metadata": {},
     "output_type": "execute_result"
    }
   ],
   "source": [
    "Se_trx"
   ]
  },
  {
   "cell_type": "markdown",
   "metadata": {},
   "source": [
    "Uncomment to run all the other reduced models."
   ]
  },
  {
   "cell_type": "markdown",
   "metadata": {},
   "source": [
    "# [T, X] model"
   ]
  },
  {
   "cell_type": "code",
   "execution_count": 20,
   "metadata": {},
   "outputs": [
    {
     "name": "stdout",
     "output_type": "stream",
     "text": [
      "Successful time-scale separation solution obtained with states: [T, X]!\n"
     ]
    }
   ],
   "source": [
    "reduced_sys_tx, fast_ss = sys_reduce.solve_timescale_separation([T, X], fast_states = [P, R, E], debug = False)\n"
   ]
  },
  {
   "cell_type": "markdown",
   "metadata": {},
   "source": [
    "\n",
    "For all of the robustness analysis, go to `IJRNC examples/gene expression analysis.ipynb`"
   ]
  }
 ],
 "metadata": {
  "kernelspec": {
   "display_name": "Python 3.9.12 ('base')",
   "language": "python",
   "name": "python3"
  },
  "language_info": {
   "codemirror_mode": {
    "name": "ipython",
    "version": 3
   },
   "file_extension": ".py",
   "mimetype": "text/x-python",
   "name": "python",
   "nbconvert_exporter": "python",
   "pygments_lexer": "ipython3",
   "version": "3.9.12"
  },
  "vscode": {
   "interpreter": {
    "hash": "086edbbad6d007afd932f3998127bea1c36f47a35b43b79d0f508f10f9e57cc3"
   }
  }
 },
 "nbformat": 4,
 "nbformat_minor": 2
}
