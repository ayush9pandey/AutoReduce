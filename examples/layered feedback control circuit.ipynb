{
 "cells": [
  {
   "cell_type": "markdown",
   "metadata": {},
   "source": [
    "### Layered feedback control circuit "
   ]
  },
  {
   "cell_type": "markdown",
   "metadata": {},
   "source": [
    " $P_1 + I_1 \\quad [d_1]<->[a_1] \\quad C_1, \\qquad C_1 + I_1 \\quad [d_2]<->[a_2] \\quad C_2 \\\\\n",
    "    C_2 + T_1 \\quad [d_3]<->[a_3]\\quad  A_T, \\qquad R + A_T \\quad -->[k_1]\\quad  T_1 \\\\\n",
    "    A_T  -->[\\beta_A] \\quad M_S + A_T, \\qquad M_S -->[d_M] \\quad  \\varnothing\\\\\n",
    "    M_S  -->[k_{tl}]\\quad  M_S + S, \\qquad S -->[d_S]\\quad \\varnothing  \\\\\n",
    "    S  -->[k_r]\\quad  S^*, \\qquad S^* -->[d_{S^*}] \\quad \\varnothing \\\\\n",
    "     S^* + I_2 \\quad [d_4]<->[a_4]\\quad  C_C, \\qquad C_C + T_2 \\quad [d_5]<->[a_5]\\quad  A_C \\\\\n",
    "    R + A_C \\quad -->[k_2]\\quad  T_2 \\\\\n",
    "    A_C  -->[\\beta_C]\\quad R + M_G + A_C, \\qquad R -->[d_R]\\quad  \\varnothing\\\\\n",
    "    M_G  -->[k_{G}]\\quad  M_G + G, \\qquad G -->[d_G]\\quad\\varnothing \\\\\n",
    "    G  -->[k_{r_2}] \\quad G^*, \\qquad G^* -->[d_{G^*}]\\quad \\varnothing $"
   ]
  },
  {
   "cell_type": "code",
   "execution_count": 1,
   "metadata": {},
   "outputs": [],
   "source": [
    "%matplotlib inline\n",
    "from IPython.core.interactiveshell import InteractiveShell\n",
    "InteractiveShell.ast_node_interactivity = \"all\"\n",
    "\n",
    "from auto_reduce import *\n",
    "import numpy as np\n",
    "from sympy import symbols"
   ]
  },
  {
   "cell_type": "code",
   "execution_count": 13,
   "metadata": {},
   "outputs": [],
   "source": [
    "# Post conservation law and other approximations phenomenological model at the RNA level\n",
    "n = 15 # Number of states : P, A_T, C1, T1, R, C2, M_S, S, Ss, C_C, A_C, M_G, G, Gs, T2\n",
    "ninp = 2 # Number of inputs, I1, I2\n",
    "nouts = 1 # Number of outputs, Gs\n",
    "\n",
    "# Inputs by user \n",
    "x_init = np.zeros(n)\n",
    "x_init[0] = 10\n",
    "x_init[1] = 10000\n",
    "x_init[4] = 10000\n",
    "x_init[6] = 10000\n",
    "C = np.zeros((nouts,n), dtype=int)\n",
    "C[0][13] = 1 #Gs\n",
    "\n",
    "error_tol = 30000\n",
    "# System dynamics symbolically\n",
    "\n",
    "P1 = symbols('P1')\n",
    "A_T = symbols('A_T')\n",
    "C1 = symbols('C1') # P:I1\n",
    "T1 = symbols('T1')\n",
    "R = symbols('R')\n",
    "C2 = symbols('C2') # C1:I1\n",
    "M_S = symbols('M_S')\n",
    "S = symbols('S') \n",
    "Ss = symbols('Ss')\n",
    "\n",
    "I2 = symbols('I2')\n",
    "C_C = symbols('C_C')\n",
    "A_C = symbols('A_C') \n",
    "M_G = symbols('M_G')\n",
    "G = symbols('G')\n",
    "Gs = symbols('Gs') \n",
    "T2 = symbols('T2')\n",
    "I1 = symbols('I1')\n",
    "# x = [x0, x1, x2, x3, x4, x5, x6, x7, x8, x9, x10, x11, x12, x13, x14, x15, x16]\n",
    "x = [P1, A_T, C1, T1, R, C2, M_S, S, Ss, C_C, A_C, M_G, G, Gs, T2]\n",
    "u = [I1, I2]\n",
    "\n",
    "a1 = symbols('a1')\n",
    "d1 = symbols('d1')\n",
    "a2 = symbols('a2')\n",
    "d2 = symbols('d2')\n",
    "a3 = symbols('a3')\n",
    "d3 = symbols('d3')\n",
    "k1 = symbols('k1')\n",
    "b_A = symbols('b_A')\n",
    "d_M = symbols('d_M')\n",
    "k_tl = symbols('k_tl')\n",
    "d_S = symbols('d_S')\n",
    "k_r = symbols('k_r')\n",
    "d_Ss = symbols('d_Ss')\n",
    "a4 = symbols('a4')\n",
    "d4 = symbols('d4')\n",
    "a5 = symbols('a5')\n",
    "d5 = symbols('d5')\n",
    "k2 = symbols('k2')\n",
    "b_C = symbols('b_C')\n",
    "d_R = symbols('d_R')\n",
    "k_G = symbols('k_G')\n",
    "d_G = symbols('d_G')\n",
    "d_Gs = symbols('d_Gs')\n",
    "k_r2 = symbols('k_r2')\n",
    "\n",
    "\n",
    "T1_tot = symbols('T1_tot')\n",
    "T2_tot = symbols('T2_tot')\n",
    "# R_tot = symbols('R_tot')\n",
    "\n",
    "params = [a1,d1,a2,d2,a3,d3,k1,b_A,d_M,k_tl,d_S,k_r,d_Ss,a4,d4,a5,d5,k2,b_C,d_R,k_G,d_G,d_Gs,k_r2,T1_tot,T2_tot]\n",
    "\n",
    "# Number of states : \n",
    "# P (0), A_T (1), C1 (2), T1 (3), R (4), C2 (5), M_S (6), S (7), Ss (8),\n",
    "# C_C (9), A_C (10), M_G (11), G (12), Gs (13), T2 (14)\n",
    "# [P1, A_T, C1, T1, R, C2, M_S, S, Ss, C_C, A_C, M_G, G, Gs, T2]\n",
    "f0 = d1*C1  #P1\n",
    "g0 = - a1*P1*I1\n",
    "f1 = a3*C2*T1 - d3*A_T - k1*R*A_T  #A_T\n",
    "g1 = 0\n",
    "f2 = d2*C2 - d1*C1  #C1\n",
    "g2 = a1*P1*I1 - a2*C1*I1\n",
    "f3 = d3*A_T - a3*C2*T1 + k1*R*A_T #T1\n",
    "g3 = 0\n",
    "# f4 = b_C*A_C - k1*R*A_T - k2*R*A_C - d_R*R #R\n",
    "f4 = b_C*A_C - d_R*R #R\n",
    "g4 = 0\n",
    "f5 = d3*A_T - d2*C2 - a3*C2*T1 #C2\n",
    "g5 = a2*C1*I1 \n",
    "f6 = b_A*A_T - d_M*M_S #M_S\n",
    "g6 = 0\n",
    "f7 = k_tl*M_S - d_S*S - k_r*S #S\n",
    "g7 = 0\n",
    "f8 = k_r*S + d4*C_C - d_Ss*Ss# Ss\n",
    "g8 =  - a4*Ss*I2 \n",
    "# f9 = d4*C_C  #I_2\n",
    "# g9 = - a4*Ss*I2\n",
    "f9 = d5*A_C - d4*C_C - a5*C_C*T2 #C_C\n",
    "g9 = a4*Ss*I2 \n",
    "f10 = a5*C_C*T2 - d5*A_C - k2*R*A_C #A_C\n",
    "g10 = 0\n",
    "f11 = b_C*A_C - d_M*M_G #M_G\n",
    "g11 = 0\n",
    "f12 = k_G*M_G - d_G*G - k_r2*G #G\n",
    "g12 = 0\n",
    "f13 = k_r2*G - d_Gs*Gs #Gs\n",
    "g13 = 0\n",
    "f14 = d5*A_C + k2*R*A_C - a5*C_C*T2#T2\n",
    "g14 = 0\n",
    "# f16 = d1*C1 + d2*C2 #I1\n",
    "# g16 = - a1*P1*I1 - a2*C1*I1\n",
    "f = [f0,f1,f2,f3,f4,f5,f6,f7,f8,f9,f10,f11,f12,f13,f14]\n",
    "g = [g0,g1,g2,g3,g4,g5,g6,g7,g8,g9,g10,g11,g12,g13,g14]\n",
    "# parameter values\n",
    "params_values = [100, 10, 4, 10, 0.25, 2, 10, 0.5, 1, 1, 1000, 1000, 1000]\n",
    "sys = System(x, f, params = params, g = g, u = u,  params_values = params_values, C = C, x_init = x_init)"
   ]
  },
  {
   "cell_type": "code",
   "execution_count": 14,
   "metadata": {},
   "outputs": [],
   "source": [
    "from auto_reduce.utils import reduce\n",
    "timepoints_ssm = np.linspace(0,20,10)\n",
    "timepoints_ode = np.linspace(0,20,10)\n",
    "sys_reduce = reduce(sys, timepoints_ode, timepoints_ssm)\n",
    "sys_reduce.nstates_tol = 7"
   ]
  },
  {
   "cell_type": "code",
   "execution_count": 15,
   "metadata": {},
   "outputs": [],
   "source": [
    "# P (0), A_T (1), C1 (2), T1 (3), R (4), C2 (5), M_S (6), S (7), Ss (8),\n",
    "# C_C (9), A_C (10), M_G (11), G (12), Gs (13), T2 (14)\n",
    "conserved_quantities = [A_T + T1 - T1_tot, A_C + T2 - T2_tot]\n",
    "states_to_eliminate = [T1,T2]\n",
    "f_cons = sys_reduce.set_conservation_laws(conserved_quantities, states_to_eliminate)"
   ]
  },
  {
   "cell_type": "code",
   "execution_count": 65,
   "metadata": {},
   "outputs": [
    {
     "name": "stdout",
     "output_type": "stream",
     "text": [
      "attempting : [3, 5, 1, 8, 7, 10, 11, 12]\n"
     ]
    }
   ],
   "source": [
    "#  P1 (0), C1 (1), T1 (2), R (3), C2 (4), M_S (5), S (6), Ss (7), \n",
    "# , C_C (8), M_G (9), G (10), Gs (11), T2 (12)\n",
    "\n",
    "# We want to retain R, M_S, C_C, M_G, G, Gs\n",
    "reduced_sys, fast_ss = sys_reduce.solve_timescale_separation_with_input([R, M_S, A_T, C_C, Ss, M_G, G, Gs])\n"
   ]
  },
  {
   "cell_type": "code",
   "execution_count": 91,
   "metadata": {},
   "outputs": [
    {
     "data": {
      "text/latex": [
       "$\\displaystyle - A_{T} R k_{1} + \\frac{A_{T} a_{3} d_{3} \\left(- A_{T} + T_{1 tot}\\right)}{- A_{T} a_{3} + T_{1 tot} a_{3} + d_{2}} - A_{T} d_{3}$"
      ],
      "text/plain": [
       "-A_T*R*k1 + A_T*a3*d3*(-A_T + T1_tot)/(-A_T*a3 + T1_tot*a3 + d2) - A_T*d3"
      ]
     },
     "execution_count": 91,
     "metadata": {},
     "output_type": "execute_result"
    }
   ],
   "source": [
    "reduced_sys.f[0]"
   ]
  },
  {
   "cell_type": "code",
   "execution_count": 79,
   "metadata": {},
   "outputs": [
    {
     "data": {
      "text/plain": [
       "[A_T, R, M_S, Ss, C_C, M_G, G, Gs]"
      ]
     },
     "execution_count": 79,
     "metadata": {},
     "output_type": "execute_result"
    }
   ],
   "source": [
    "reduced_sys.x"
   ]
  },
  {
   "cell_type": "code",
   "execution_count": 8,
   "metadata": {},
   "outputs": [
    {
     "data": {
      "text/plain": [
       "[C1*d1,\n",
       " -A_T*R*k1 - A_T*d3 + C2*a3*(-A_T + T1_tot),\n",
       " -C1*d1 + C2*d2,\n",
       " -A_C*R*k2 + A_C*b_C - A_T*R*k1 - R*d_R,\n",
       " A_T*d3 - C2*a3*(-A_T + T1_tot) - C2*d2,\n",
       " A_T*b_A - M_S*d_M,\n",
       " M_S*k_tl - S*d_S - S*k_r,\n",
       " C_C*d4 + S*k_r - Ss*d_Ss,\n",
       " A_C*d5 - C_C*a5*(-A_C + T2_tot) - C_C*d4,\n",
       " -A_C*R*k2 - A_C*d5 + C_C*a5*(-A_C + T2_tot),\n",
       " A_C*b_C - M_G*d_M,\n",
       " -G*d_G - G*k_r2 + M_G*k_G,\n",
       " G*k_r2 - Gs*d_Gs]"
      ]
     },
     "execution_count": 8,
     "metadata": {},
     "output_type": "execute_result"
    }
   ],
   "source": [
    "f_cons"
   ]
  },
  {
   "cell_type": "code",
   "execution_count": 30,
   "metadata": {},
   "outputs": [
    {
     "data": {
      "text/plain": [
       "[P1, A_T, C1, R, C2, M_S, S, Ss, C_C, A_C, M_G, G, Gs]"
      ]
     },
     "execution_count": 30,
     "metadata": {},
     "output_type": "execute_result"
    }
   ],
   "source": [
    "sys_reduce.x"
   ]
  },
  {
   "cell_type": "code",
   "execution_count": 32,
   "metadata": {},
   "outputs": [
    {
     "name": "stdout",
     "output_type": "stream",
     "text": [
      "- R d_{R} + \\frac{b_{C} \\left(C_{C} T_{2 tot} a_{5} + I_{2} Ss a_{4}\\right)}{C_{C} a_{5} + R k_{2} + d_{5}}\n",
      "- M_{S} d_{M} + \\frac{T_{1 tot} a_{3} b_{A} \\left(- \\frac{R T_{1 tot} k_{1}}{d_{2}} - \\frac{R k_{1}}{a_{3}} - \\frac{d_{3}}{a_{3}}\\right)}{R k_{1} + a_{3} \\left(- \\frac{R T_{1 tot} k_{1}}{d_{2}} - \\frac{R k_{1}}{a_{3}} - \\frac{d_{3}}{a_{3}}\\right) + d_{3}} + d_{2} \\left(- \\frac{R T_{1 tot} k_{1}}{d_{2}} - \\frac{R k_{1}}{a_{3}} - \\frac{d_{3}}{a_{3}}\\right)\n",
      "C_{C} d_{4} + \\frac{M_{S} k_{r} k_{tl}}{d_{S} + k_{r}} - Ss d_{Ss}\n",
      "- C_{C} a_{5} \\left(T_{2 tot} - \\frac{C_{C} T_{2 tot} a_{5} + I_{2} Ss a_{4}}{C_{C} a_{5} + R k_{2} + d_{5}}\\right) - C_{C} d_{4} - I_{2} Ss a_{4} + \\frac{d_{5} \\left(C_{C} T_{2 tot} a_{5} + I_{2} Ss a_{4}\\right)}{C_{C} a_{5} + R k_{2} + d_{5}}\n",
      "- M_{G} d_{M} + \\frac{b_{C} \\left(C_{C} T_{2 tot} a_{5} + I_{2} Ss a_{4}\\right)}{C_{C} a_{5} + R k_{2} + d_{5}}\n",
      "- G d_{G} - G k_{r2} + M_{G} k_{G}\n",
      "G k_{r2} - Gs d_{Gs}\n"
     ]
    }
   ],
   "source": [
    "from sympy import latex\n",
    "red_ff = reduced_sys.f\n",
    "for k in range(len(red_ff)):\n",
    "    print(latex(red_ff[k]))"
   ]
  },
  {
   "cell_type": "code",
   "execution_count": 39,
   "metadata": {},
   "outputs": [
    {
     "data": {
      "text/plain": [
       "'- M_{G} d_{M} + \\\\frac{b_{C} \\\\left(C_{C} T_{2 tot} a_{5} + I_{2} Ss a_{4}\\\\right)}{C_{C} a_{5} + R k_{2} + d_{5}}'"
      ]
     },
     "execution_count": 39,
     "metadata": {},
     "output_type": "execute_result"
    }
   ],
   "source": [
    "latex(reduced_sys.f[4])"
   ]
  },
  {
   "cell_type": "code",
   "execution_count": 51,
   "metadata": {},
   "outputs": [
    {
     "data": {
      "text/latex": [
       "$\\displaystyle - R d_{R} + \\frac{b_{C} \\left(C_{C} T_{2 tot} a_{5} + I_{2} Ss a_{4}\\right)}{C_{C} a_{5} + R k_{2} + d_{5}}$"
      ],
      "text/plain": [
       "-R*d_R + b_C*(C_C*T2_tot*a5 + I2*Ss*a4)/(C_C*a5 + R*k2 + d5)"
      ]
     },
     "execution_count": 51,
     "metadata": {},
     "output_type": "execute_result"
    }
   ],
   "source": [
    "reduced_sys.f[0]"
   ]
  },
  {
   "cell_type": "code",
   "execution_count": 41,
   "metadata": {},
   "outputs": [
    {
     "data": {
      "text/plain": [
       "[R, M_S, Ss, C_C, M_G, G, Gs]"
      ]
     },
     "execution_count": 41,
     "metadata": {},
     "output_type": "execute_result"
    }
   ],
   "source": [
    "reduced_sys.x"
   ]
  },
  {
   "cell_type": "code",
   "execution_count": null,
   "metadata": {},
   "outputs": [],
   "source": []
  }
 ],
 "metadata": {
  "kernelspec": {
   "display_name": "Python 3",
   "language": "python",
   "name": "python3"
  },
  "language_info": {
   "codemirror_mode": {
    "name": "ipython",
    "version": 3
   },
   "file_extension": ".py",
   "mimetype": "text/x-python",
   "name": "python",
   "nbconvert_exporter": "python",
   "pygments_lexer": "ipython3",
   "version": "3.7.4"
  }
 },
 "nbformat": 4,
 "nbformat_minor": 2
}
