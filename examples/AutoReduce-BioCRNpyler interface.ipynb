{
 "cells": [
  {
   "cell_type": "markdown",
   "metadata": {},
   "source": [
    "# Create SBML model from BioCRNpyler"
   ]
  },
  {
   "cell_type": "code",
   "execution_count": 166,
   "metadata": {},
   "outputs": [
    {
     "name": "stdout",
     "output_type": "stream",
     "text": [
      "Species = dna_X, protein_RNAP_machinery, rna_X, complex_dna_X_protein_RNAP_machinery_, protein_Ribo_machinery, protein_X, complex_protein_Ribo_machinery_rna_X_\n",
      "Reactions = [\n",
      "\tdna[X]+protein[RNAP(machinery)] <--> complex[dna[X]:protein[RNAP]]\n",
      "\tcomplex[dna[X]:protein[RNAP]] --> dna[X]+rna[X]+protein[RNAP(machinery)]\n",
      "\trna[X]+protein[Ribo(machinery)] <--> complex[protein[Ribo]:rna[X]]\n",
      "\tcomplex[protein[Ribo]:rna[X]] --> rna[X]+protein[X]+protein[Ribo(machinery)]\n",
      "\trna[X] --> \n",
      "\tprotein[X] --> \n",
      "] \n",
      " Species(N = 7) = {\n",
      "complex[protein[Ribo]:rna[X]] (@ 0),  complex[dna[X]:protein[RNAP]] (@ 0),  protein[X] (@ 0),  rna[X] (@ 0),  dna[X] (@ 0),  protein[Ribo] (@ 0),  protein[RNAP] (@ 0),  \n",
      "}\n",
      "\n",
      "Reactions (6) = [\n",
      "0. dna[X]+protein[RNAP] <--> complex[dna[X]:protein[RNAP]]\n",
      " Kf=k_forward * dna_X * protein_RNAP_machinery\n",
      " Kr=k_reverse * complex_dna_X_protein_RNAP_machinery_\n",
      "  k_forward=100.0\n",
      "  found_key=(mech=None, partid=None, name=kb).\n",
      "  search_key=(mech=transcription_mm, partid=strong, name=kb).\n",
      "  k_reverse=0.5\n",
      "  found_key=(mech=None, partid=strong, name=ku).\n",
      "  search_key=(mech=transcription_mm, partid=strong, name=ku).\n",
      "\n",
      "1. complex[dna[X]:protein[RNAP]] --> dna[X]+rna[X]+protein[RNAP]\n",
      " Kf=k_forward * complex_dna_X_protein_RNAP_machinery_\n",
      "  k_forward=3.926187672\n",
      "  found_key=(mech=None, partid=strong, name=ktx).\n",
      "  search_key=(mech=transcription_mm, partid=strong, name=ktx).\n",
      "\n",
      "2. rna[X]+protein[Ribo] <--> complex[protein[Ribo]:rna[X]]\n",
      " Kf=k_forward * rna_X * protein_Ribo_machinery\n",
      " Kr=k_reverse * complex_protein_Ribo_machinery_rna_X_\n",
      "  k_forward=100.0\n",
      "  found_key=(mech=None, partid=None, name=kb).\n",
      "  search_key=(mech=translation_mm, partid=weak, name=kb).\n",
      "  k_reverse=5.0\n",
      "  found_key=(mech=None, partid=weak, name=ku).\n",
      "  search_key=(mech=translation_mm, partid=weak, name=ku).\n",
      "\n",
      "3. complex[protein[Ribo]:rna[X]] --> rna[X]+protein[X]+protein[Ribo]\n",
      " Kf=k_forward * complex_protein_Ribo_machinery_rna_X_\n",
      "  k_forward=0.05\n",
      "  found_key=(mech=None, partid=None, name=ktl).\n",
      "  search_key=(mech=translation_mm, partid=weak, name=ktl).\n",
      "\n",
      "4. rna[X] --> \n",
      " Kf=k_forward * rna_X\n",
      "  k_forward=0.001\n",
      "  found_key=(mech=None, partid=None, name=kdil).\n",
      "  search_key=(mech=rna_degradation, partid=rna_X, name=kdil).\n",
      "\n",
      "5. protein[X] --> \n",
      " Kf=k_forward * protein_X\n",
      "  k_forward=0.001\n",
      "  found_key=(mech=None, partid=None, name=kdil).\n",
      "  search_key=(mech=protein_degradation, partid=protein_X, name=kdil).\n",
      "\n",
      "] \n",
      "\n",
      "\n"
     ]
    },
    {
     "name": "stderr",
     "output_type": "stream",
     "text": [
      "c:\\Users\\Ayush\\anaconda3\\lib\\site-packages\\biocrnpyler\\parameter.py:507: UserWarning: parameter file contains no unit column! Please add a column named ['unit', 'units'].\n",
      "  warn(f\"parameter file contains no {accepted_name} column! Please add a \"\n",
      "c:\\Users\\Ayush\\anaconda3\\lib\\site-packages\\biocrnpyler\\global_mechanism.py:104: UserWarning: species complex_protein_Ribo_machinery_rna_X_ has multiple attributes(or material type) which conflict with global mechanism filter rna_degradation. Using default value False.\n",
      "  warn(f\"species {repr(s)} has multiple attributes(or material type) which conflict with global mechanism filter {repr(self)}. Using default value {self.default_on}.\")\n",
      "c:\\Users\\Ayush\\anaconda3\\lib\\site-packages\\biocrnpyler\\global_mechanism.py:104: UserWarning: species protein_RNAP_machinery has multiple attributes(or material type) which conflict with global mechanism filter protein_degradation. Using default value False.\n",
      "  warn(f\"species {repr(s)} has multiple attributes(or material type) which conflict with global mechanism filter {repr(self)}. Using default value {self.default_on}.\")\n",
      "c:\\Users\\Ayush\\anaconda3\\lib\\site-packages\\biocrnpyler\\global_mechanism.py:104: UserWarning: species complex_dna_X_protein_RNAP_machinery_ has multiple attributes(or material type) which conflict with global mechanism filter protein_degradation. Using default value False.\n",
      "  warn(f\"species {repr(s)} has multiple attributes(or material type) which conflict with global mechanism filter {repr(self)}. Using default value {self.default_on}.\")\n",
      "c:\\Users\\Ayush\\anaconda3\\lib\\site-packages\\biocrnpyler\\global_mechanism.py:104: UserWarning: species protein_Ribo_machinery has multiple attributes(or material type) which conflict with global mechanism filter protein_degradation. Using default value False.\n",
      "  warn(f\"species {repr(s)} has multiple attributes(or material type) which conflict with global mechanism filter {repr(self)}. Using default value {self.default_on}.\")\n",
      "c:\\Users\\Ayush\\anaconda3\\lib\\site-packages\\biocrnpyler\\global_mechanism.py:104: UserWarning: species complex_protein_Ribo_machinery_rna_X_ has multiple attributes(or material type) which conflict with global mechanism filter protein_degradation. Using default value False.\n",
      "  warn(f\"species {repr(s)} has multiple attributes(or material type) which conflict with global mechanism filter {repr(self)}. Using default value {self.default_on}.\")\n"
     ]
    },
    {
     "data": {
      "text/plain": [
       "True"
      ]
     },
     "execution_count": 166,
     "metadata": {},
     "output_type": "execute_result"
    }
   ],
   "source": [
    "#Also notice that the names of transcript and protein can be changed, or set to Species.\n",
    "total_RNAP = 10\n",
    "total_Ribo = 50\n",
    "total_DNA = 0.5\n",
    "x0_dict = {\"protein_RNAP_machinery\":total_RNAP, \"protein_Ribo_machinery\":total_Ribo,'dna_X':total_DNA}\n",
    "\n",
    "try:\n",
    "    from biocrnpyler import * \n",
    "    class GeneExpressionExtract(Mixture):\n",
    "        def __init__(self, name=\"\", rnap=\"RNAP\", ribosome=\"Ribo\", **kwargs):\n",
    "            \"\"\"Initializes a TxTlExtract instance.\n",
    "\n",
    "            :param name: name of the mixture\n",
    "            :param rnap: name of the RNA polymerase, default: RNAP\n",
    "            :param ribosome: name of the ribosome, default: Ribo\n",
    "            :param kwargs: keywords passed into the parent Class (Mixture)\n",
    "            \"\"\"\n",
    "            # Always call the superlcass Mixture.__init__(...)\n",
    "            Mixture.__init__(self, name=name, **kwargs)\n",
    "            \n",
    "            # create default Components to represent cellular machinery\n",
    "            self.rnap = Protein(rnap, attributes=[\"machinery\"])\n",
    "            self.ribosome = Protein(ribosome, attributes=[\"machinery\"])\n",
    "\n",
    "            default_components = [self.rnap, self.ribosome]\n",
    "            self.add_components(default_components)\n",
    "\n",
    "            # Create default TxTl Mechanisms\n",
    "            mech_tx = Transcription_MM(rnap=self.rnap.get_species())\n",
    "            mech_tl = Translation_MM(ribosome=self.ribosome.get_species())\n",
    "            mech_cat = MichaelisMenten()\n",
    "            mech_bind = One_Step_Binding()\n",
    "\n",
    "            default_mechanisms = {\n",
    "                mech_tx.mechanism_type: mech_tx,\n",
    "                mech_tl.mechanism_type: mech_tl,\n",
    "                mech_cat.mechanism_type: mech_cat,\n",
    "                mech_bind.mechanism_type: mech_bind\n",
    "            }\n",
    "            self.add_mechanisms(default_mechanisms)\n",
    "            # global mechanisms for dilution and rna degredation\n",
    "            mech_rna_deg_global = Dilution(name=\"rna_degradation\", \n",
    "                                        filter_dict={\"rna\": True, \"complex\":False},\n",
    "                                        default_on=False)\n",
    "            mech_protein_deg_global = Dilution(name=\"protein_degradation\", \n",
    "                                            filter_dict={\"protein\": True, \"machinery\":False, \"complex\":False},\n",
    "                                            default_on=False)\n",
    "            global_mechanisms = {\"rna_degradation\": mech_rna_deg_global,\n",
    "                                \"protein_degradation\":mech_protein_deg_global}\n",
    "            self.add_mechanisms(global_mechanisms)\n",
    "\n",
    "\n",
    "\n",
    "    #Here are some parameters loaded into default_parameters.txt\n",
    "    #Promoter Names: strong, medium, weak correspond to bicistronic RBSs: BCD2, BCD8 and BCD12\n",
    "    #RBS Names: strong, medium, Weak correspond to Anderson Promoters: J23100, J23106, and J23103\n",
    "    G = DNAassembly(\"X\", promoter = \"strong\", rbs = \"weak\", transcript = None, protein = None)\n",
    "    \n",
    "    model_txtl = GeneExpressionExtract(\"txtl\", components = [G], parameter_file = \"default_parameters.txt\",\n",
    "                                    initial_condition_dictionary = x0_dict)\n",
    "\n",
    "    CRN = model_txtl.compile_crn()\n",
    "    print(repr(CRN),\"\\n\", CRN.pretty_print(show_attributes = False, show_material = True, show_rates = True),\"\\n\\n\")\n",
    "    CRN.write_sbml_file('biocrnpyler_gene_expression.xml')\n",
    "except:\n",
    "    print('BioCRNpyler not found. To run this notebook, make sure you run pip install biocrnpyler first.')"
   ]
  },
  {
   "cell_type": "code",
   "execution_count": 219,
   "metadata": {},
   "outputs": [],
   "source": [
    "from IPython.core.interactiveshell import InteractiveShell\n",
    "InteractiveShell.ast_node_interactivity = \"all\"\n",
    "\n",
    "from autoreduce import *\n",
    "import numpy as np\n",
    "from sympy import symbols"
   ]
  },
  {
   "cell_type": "code",
   "execution_count": 248,
   "metadata": {},
   "outputs": [],
   "source": [
    "from autoreduce.converters import load_sbml\n",
    "sys = load_sbml('biocrnpyler_gene_expression.xml', outputs = ['protein_X'])\n",
    "for x, x_ic in x0_dict.items():\n",
    "    curr_ind = sys.x.index(Symbol(x))\n",
    "    sys.x_init[curr_ind] = x_ic"
   ]
  },
  {
   "cell_type": "code",
   "execution_count": 249,
   "metadata": {},
   "outputs": [
    {
     "data": {
      "text/plain": [
       "[dna_X,\n",
       " protein_RNAP_machinery,\n",
       " rna_X,\n",
       " complex_dna_X_protein_RNAP_machinery_,\n",
       " protein_Ribo_machinery,\n",
       " protein_X,\n",
       " complex_protein_Ribo_machinery_rna_X_]"
      ]
     },
     "execution_count": 249,
     "metadata": {},
     "output_type": "execute_result"
    }
   ],
   "source": [
    "sys.x"
   ]
  },
  {
   "cell_type": "code",
   "execution_count": 250,
   "metadata": {},
   "outputs": [],
   "source": [
    "new_params_values = [100.0, 0.5, 3.926187672, 5.0, 0.05, 0.01]\n",
    "sys.params_values = new_params_values"
   ]
  },
  {
   "cell_type": "markdown",
   "metadata": {},
   "source": [
    "# Create and solve the ODE for the model"
   ]
  },
  {
   "cell_type": "code",
   "execution_count": 251,
   "metadata": {},
   "outputs": [
    {
     "data": {
      "text/plain": [
       "[<matplotlib.lines.Line2D at 0x2044873e6d0>]"
      ]
     },
     "execution_count": 251,
     "metadata": {},
     "output_type": "execute_result"
    },
    {
     "data": {
      "text/plain": [
       "Text(0.5, 0, 'Time')"
      ]
     },
     "execution_count": 251,
     "metadata": {},
     "output_type": "execute_result"
    },
    {
     "data": {
      "text/plain": [
       "Text(0, 0.5, '[Outputs]')"
      ]
     },
     "execution_count": 251,
     "metadata": {},
     "output_type": "execute_result"
    },
    {
     "data": {
      "image/png": "[encoded data removed]",
      "text/plain": [
       "<Figure size 432x288 with 1 Axes>"
      ]
     },
     "metadata": {
      "needs_background": "light"
     },
     "output_type": "display_data"
    }
   ],
   "source": [
    "from autoreduce.utils import get_ODE\n",
    "timepoints_ode = np.linspace(0, 200, 100)\n",
    "sys_ode = get_ODE(sys, timepoints_ode)\n",
    "sol = sys_ode.solve_system().T\n",
    "try:\n",
    "    import matplotlib.pyplot as plt\n",
    "    full_model = np.transpose(np.array(sys.C)@sol)\n",
    "    plt.plot(timepoints_ode, full_model)\n",
    "    plt.xlabel('Time')\n",
    "    plt.ylabel('[Outputs]')\n",
    "    plt.show()\n",
    "except:\n",
    "    print('Plotting libraries missing.')"
   ]
  },
  {
   "cell_type": "markdown",
   "metadata": {},
   "source": [
    "# Local sensitivity analysis for BioCRNpyler model"
   ]
  },
  {
   "cell_type": "code",
   "execution_count": 266,
   "metadata": {},
   "outputs": [],
   "source": [
    "from autoreduce.utils import get_SSM\n",
    "timepoints_ssm = np.linspace(0,20,10)\n",
    "sys_ssm = get_SSM(sys, timepoints_ssm)\n",
    "# Uncomment to run\n",
    "# Ss = sys_ssm.compute_SSM() # len(timepoints) x len(params) x len(states)"
   ]
  },
  {
   "cell_type": "code",
   "execution_count": 267,
   "metadata": {},
   "outputs": [],
   "source": [
    "# out_Ss = []\n",
    "# for i in range(len(sys.params)):\n",
    "#     out_Ss.append((np.array(sys.C)@(Ss[:,i,:].T)))\n",
    "# out_Ss = np.reshape(np.array(out_Ss), (len(timepoints_ssm), len(sys.params), 1))"
   ]
  },
  {
   "cell_type": "markdown",
   "metadata": {},
   "source": [
    "# Plot heatmap for sensitivity analysis"
   ]
  },
  {
   "cell_type": "code",
   "execution_count": 268,
   "metadata": {},
   "outputs": [],
   "source": [
    "# try:\n",
    "#     import seaborn as sn\n",
    "#     import matplotlib.pyplot as plt\n",
    "#     sn.heatmap(out_Ss[:,:,0].T)\n",
    "#     plt.xlabel('Time')\n",
    "#     plt.ylabel('Parameters')\n",
    "#     plt.title('Sensitivity of protein with all parameters'.format(j))\n",
    "#     plt.show()\n",
    "# except:\n",
    "#     print('Plotting libraries missing.')"
   ]
  },
  {
   "cell_type": "markdown",
   "metadata": {},
   "source": [
    "# Model reduction starts here:"
   ]
  },
  {
   "cell_type": "code",
   "execution_count": 227,
   "metadata": {},
   "outputs": [],
   "source": [
    "sys = load_sbml('biocrnpyler_gene_expression.xml', outputs = ['protein_X'])\n",
    "for x, x_ic in x0_dict.items():\n",
    "    curr_ind = sys.x.index(Symbol(x))\n",
    "    sys.x_init[curr_ind] = x_ic"
   ]
  },
  {
   "cell_type": "code",
   "execution_count": 228,
   "metadata": {},
   "outputs": [
    {
     "data": {
      "text/plain": [
       "[dna_X,\n",
       " protein_RNAP_machinery,\n",
       " rna_X,\n",
       " complex_dna_X_protein_RNAP_machinery_,\n",
       " protein_Ribo_machinery,\n",
       " protein_X,\n",
       " complex_protein_Ribo_machinery_rna_X_]"
      ]
     },
     "execution_count": 228,
     "metadata": {},
     "output_type": "execute_result"
    }
   ],
   "source": [
    "sys.x"
   ]
  },
  {
   "cell_type": "markdown",
   "metadata": {},
   "source": [
    "# Conservation Laws (if any)"
   ]
  },
  {
   "cell_type": "code",
   "execution_count": 229,
   "metadata": {},
   "outputs": [
    {
     "name": "stdout",
     "output_type": "stream",
     "text": [
      "Found conservation laws: [complex_dna_X_protein_RNAP_machinery_ + protein_RNAP_machinery - protein_RNAP_machinery_total, complex_protein_Ribo_machinery_rna_X_ + protein_Ribo_machinery - protein_Ribo_machinery_total]\n"
     ]
    }
   ],
   "source": [
    "G, P, T, C1, R, X, C2 = sys.x\n",
    "conserved_sets = [[P,C1],[R,C2]]\n",
    "con = sys.solve_conservation_laws(conserved_sets=conserved_sets,\n",
    "                                  states_to_eliminate=[P, R])"
   ]
  },
  {
   "cell_type": "code",
   "execution_count": 230,
   "metadata": {},
   "outputs": [],
   "source": [
    "sys.params_values = new_params_values + [total_RNAP, total_Ribo]"
   ]
  },
  {
   "cell_type": "code",
   "execution_count": 231,
   "metadata": {},
   "outputs": [
    {
     "data": {
      "text/plain": [
       "[dna_X,\n",
       " rna_X,\n",
       " complex_dna_X_protein_RNAP_machinery_,\n",
       " protein_X,\n",
       " complex_protein_Ribo_machinery_rna_X_]"
      ]
     },
     "execution_count": 231,
     "metadata": {},
     "output_type": "execute_result"
    }
   ],
   "source": [
    "sys.x"
   ]
  },
  {
   "cell_type": "code",
   "execution_count": 241,
   "metadata": {},
   "outputs": [
    {
     "data": {
      "text/plain": [
       "[<matplotlib.lines.Line2D at 0x204485e5250>]"
      ]
     },
     "execution_count": 241,
     "metadata": {},
     "output_type": "execute_result"
    },
    {
     "data": {
      "text/plain": [
       "[<matplotlib.lines.Line2D at 0x204485e5640>]"
      ]
     },
     "execution_count": 241,
     "metadata": {},
     "output_type": "execute_result"
    },
    {
     "data": {
      "text/plain": [
       "Text(0.5, 0, 'Time')"
      ]
     },
     "execution_count": 241,
     "metadata": {},
     "output_type": "execute_result"
    },
    {
     "data": {
      "text/plain": [
       "Text(0, 0.5, '[Outputs]')"
      ]
     },
     "execution_count": 241,
     "metadata": {},
     "output_type": "execute_result"
    },
    {
     "data": {
      "text/plain": [
       "<matplotlib.legend.Legend at 0x204485e5820>"
      ]
     },
     "execution_count": 241,
     "metadata": {},
     "output_type": "execute_result"
    },
    {
     "data": {
      "image/png": "[encoded data removed]",
      "text/plain": [
       "<Figure size 432x288 with 1 Axes>"
      ]
     },
     "metadata": {
      "needs_background": "light"
     },
     "output_type": "display_data"
    }
   ],
   "source": [
    "from autoreduce.utils import get_ODE\n",
    "timepoints_ode = np.linspace(0, 200, 100)\n",
    "sys_ode = get_ODE(sys, timepoints_ode)\n",
    "sol = sys_ode.solve_system().T\n",
    "try:\n",
    "    import matplotlib.pyplot as plt\n",
    "    plt.plot(timepoints_ode, np.transpose(np.array(sys.C)@sol), lw = 3, label = 'Reduced model')\n",
    "    plt.plot(timepoints_ode, full_model, '--', alpha = 0.5, lw = 5, label = 'Full model')\n",
    "    plt.xlabel('Time')\n",
    "    plt.ylabel('[Outputs]')\n",
    "    plt.legend()\n",
    "    plt.show()\n",
    "except:\n",
    "    print('Plotting libraries missing.')"
   ]
  },
  {
   "cell_type": "code",
   "execution_count": 235,
   "metadata": {},
   "outputs": [
    {
     "data": {
      "text/plain": [
       "[dna_X,\n",
       " rna_X,\n",
       " complex_dna_X_protein_RNAP_machinery_,\n",
       " protein_X,\n",
       " complex_protein_Ribo_machinery_rna_X_]"
      ]
     },
     "execution_count": 235,
     "metadata": {},
     "output_type": "execute_result"
    }
   ],
   "source": [
    "sys.x"
   ]
  },
  {
   "cell_type": "markdown",
   "metadata": {},
   "source": [
    "# Derive model with no intermediate complexes"
   ]
  },
  {
   "cell_type": "code",
   "execution_count": 236,
   "metadata": {},
   "outputs": [
    {
     "name": "stdout",
     "output_type": "stream",
     "text": [
      "Successful time-scale separation solution obtained with states: [dna_X, rna_X, protein_X]!\n"
     ]
    }
   ],
   "source": [
    "reduced_sys, fast_ss = sys.solve_timescale_separation([G,T,X])"
   ]
  },
  {
   "cell_type": "code",
   "execution_count": 242,
   "metadata": {},
   "outputs": [
    {
     "data": {
      "text/plain": [
       "[dna_X, rna_X, protein_X]"
      ]
     },
     "execution_count": 242,
     "metadata": {},
     "output_type": "execute_result"
    }
   ],
   "source": [
    "reduced_sys.x"
   ]
  },
  {
   "cell_type": "code",
   "execution_count": 246,
   "metadata": {},
   "outputs": [
    {
     "data": {
      "text/plain": [
       "[<matplotlib.lines.Line2D at 0x2044870a5b0>]"
      ]
     },
     "execution_count": 246,
     "metadata": {},
     "output_type": "execute_result"
    },
    {
     "data": {
      "text/plain": [
       "[<matplotlib.lines.Line2D at 0x2044870a970>]"
      ]
     },
     "execution_count": 246,
     "metadata": {},
     "output_type": "execute_result"
    },
    {
     "data": {
      "text/plain": [
       "Text(0.5, 0, 'Time')"
      ]
     },
     "execution_count": 246,
     "metadata": {},
     "output_type": "execute_result"
    },
    {
     "data": {
      "text/plain": [
       "Text(0, 0.5, '[Outputs]')"
      ]
     },
     "execution_count": 246,
     "metadata": {},
     "output_type": "execute_result"
    },
    {
     "data": {
      "text/plain": [
       "<matplotlib.legend.Legend at 0x2044870a850>"
      ]
     },
     "execution_count": 246,
     "metadata": {},
     "output_type": "execute_result"
    },
    {
     "data": {
      "image/png": "[encoded data removed]",
      "text/plain": [
       "<Figure size 432x288 with 1 Axes>"
      ]
     },
     "metadata": {
      "needs_background": "light"
     },
     "output_type": "display_data"
    }
   ],
   "source": [
    "from autoreduce.utils import get_ODE\n",
    "timepoints_ode = np.linspace(0, 200, 100)\n",
    "# reduced_sys.params_values = new_params_values + []\n",
    "reduced_ode = get_ODE(reduced_sys, timepoints_ode)\n",
    "sol = reduced_ode.solve_system().T\n",
    "try:\n",
    "    import matplotlib.pyplot as plt\n",
    "    plt.plot(timepoints_ode, sol[2,:], lw = 3, label='Reduced Model')\n",
    "    plt.plot(timepoints_ode, full_model, '--', lw = 5, alpha = 0.5, label='Full Model')\n",
    "    plt.xlabel('Time')\n",
    "    plt.ylabel('[Outputs]')\n",
    "    plt.legend()\n",
    "    plt.show()\n",
    "except:\n",
    "    print('Plotting libraries missing.')"
   ]
  },
  {
   "cell_type": "markdown",
   "metadata": {},
   "source": [
    "## Write the reduced model to an SBML file to integrate other tools!"
   ]
  },
  {
   "cell_type": "code",
   "execution_count": 247,
   "metadata": {},
   "outputs": [
    {
     "data": {
      "text/plain": [
       "<SBMLDocument>"
      ]
     },
     "execution_count": 247,
     "metadata": {},
     "output_type": "execute_result"
    }
   ],
   "source": [
    "reduced_sys.write_sbml(\"reduced_gene_expression.xml\")"
   ]
  }
 ],
 "metadata": {
  "kernelspec": {
   "display_name": "Python 3.9.12 ('base')",
   "language": "python",
   "name": "python3"
  },
  "language_info": {
   "codemirror_mode": {
    "name": "ipython",
    "version": 3
   },
   "file_extension": ".py",
   "mimetype": "text/x-python",
   "name": "python",
   "nbconvert_exporter": "python",
   "pygments_lexer": "ipython3",
   "version": "3.9.12"
  },
  "vscode": {
   "interpreter": {
    "hash": "086edbbad6d007afd932f3998127bea1c36f47a35b43b79d0f508f10f9e57cc3"
   }
  }
 },
 "nbformat": 4,
 "nbformat_minor": 2
}
