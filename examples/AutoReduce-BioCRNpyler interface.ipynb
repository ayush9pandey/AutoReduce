{
 "cells": [
  {
   "cell_type": "markdown",
   "metadata": {},
   "source": [
    "# Create SBML model from BioCRNpyler"
   ]
  },
  {
   "cell_type": "code",
   "execution_count": 1,
   "metadata": {},
   "outputs": [
    {
     "name": "stdout",
     "output_type": "stream",
     "text": [
      "Species = dna_X, protein_RNAP_machinery, rna_X, complex_dna_X_protein_RNAP_machinery_, protein_Ribo_machinery, protein_X, complex_protein_Ribo_machinery_rna_X_, protein_RNAase_machinery, dna_cellular_processes, rna_cellular_processes, complex_dna_cellular_processes_protein_RNAP_machinery_, protein_cellular_processes, complex_protein_Ribo_machinery_rna_cellular_processes_, complex_protein_RNAase_machinery_rna_X_, complex_complex_protein_Ribo_machinery_rna_X__protein_RNAase_machinery_, complex_protein_RNAase_machinery_rna_cellular_processes_, complex_complex_protein_Ribo_machinery_rna_cellular_processes__protein_RNAase_machinery_\n",
      "Reactions = [\n",
      "\tdna[X]+protein[RNAP(machinery)] <--> complex[dna[X]:protein[RNAP]]\n",
      "\tcomplex[dna[X]:protein[RNAP]] --> dna[X]+rna[X]+protein[RNAP(machinery)]\n",
      "\trna[X]+protein[Ribo(machinery)] <--> complex[protein[Ribo]:rna[X]]\n",
      "\tcomplex[protein[Ribo]:rna[X]] --> rna[X]+protein[X]+protein[Ribo(machinery)]\n",
      "\tdna[cellular_processes]+protein[RNAP(machinery)] <--> complex[dna[cellular_processes]:protein[RNAP]]\n",
      "\tcomplex[dna[cellular_processes]:protein[RNAP]] --> dna[cellular_processes]+rna[cellular_processes]+protein[RNAP(machinery)]\n",
      "\trna[cellular_processes]+protein[Ribo(machinery)] <--> complex[protein[Ribo]:rna[cellular_processes]]\n",
      "\tcomplex[protein[Ribo]:rna[cellular_processes]] --> rna[cellular_processes]+protein[cellular_processes]+protein[Ribo(machinery)]\n",
      "\trna[X]+protein[RNAase(machinery)] <--> complex[protein[RNAase]:rna[X]]\n",
      "\tcomplex[protein[RNAase]:rna[X]] --> protein[RNAase(machinery)]\n",
      "\tcomplex[protein[Ribo]:rna[X]]+protein[RNAase(machinery)] <--> complex[complex[protein[Ribo]:rna[X]]:protein[RNAase]]\n",
      "\tcomplex[complex[protein[Ribo]:rna[X]]:protein[RNAase]] --> protein[Ribo(machinery)]+protein[RNAase(machinery)]\n",
      "\trna[cellular_processes]+protein[RNAase(machinery)] <--> complex[protein[RNAase]:rna[cellular_processes]]\n",
      "\tcomplex[protein[RNAase]:rna[cellular_processes]] --> protein[RNAase(machinery)]\n",
      "\tcomplex[protein[Ribo]:rna[cellular_processes]]+protein[RNAase(machinery)] <--> complex[complex[protein[Ribo]:rna[cellular_processes]]:protein[RNAase]]\n",
      "\tcomplex[complex[protein[Ribo]:rna[cellular_processes]]:protein[RNAase]] --> protein[Ribo(machinery)]+protein[RNAase(machinery)]\n",
      "\trna[X] --> \n",
      "\tprotein[X] --> \n",
      "\trna[cellular_processes] --> \n",
      "\tprotein[cellular_processes] --> \n",
      "] \n",
      " Species(N = 17) = {\n",
      "complex[protein[Ribo]:rna[cellular_processes]] (@ 0),  complex[protein[Ribo]:rna[X]] (@ 0),  complex[protein[RNAase]:rna[cellular_processes]] (@ 0),  complex[protein[RNAase]:rna[X]] (@ 0),  complex[dna[cellular_processes]:protein[RNAP]] (@ 0),  complex[dna[X]:protein[RNAP]] (@ 0),  complex[complex[protein[Ribo]:rna[cellular_processes]]:protein[RNAase]] (@ 0),  complex[complex[protein[Ribo]:rna[X]]:protein[RNAase]] (@ 0),  protein[cellular_processes] (@ 0),  rna[cellular_processes] (@ 0),  dna[cellular_processes] (@ 0),  protein[X] (@ 0),  rna[X] (@ 0),  dna[X] (@ 0),  protein[Ribo(machinery)] (@ 0),  protein[RNAase(machinery)] (@ 0),  protein[RNAP(machinery)] (@ 0),  \n",
      "}\n",
      "\n",
      "Reactions (20) = [\n",
      "0. dna[X]+protein[RNAP(machinery)] <--> complex[dna[X]:protein[RNAP]]\n",
      " Kf=k_forward * dna_X * protein_RNAP_machinery\n",
      " Kr=k_reverse * complex_dna_X_protein_RNAP_machinery_\n",
      "  k_forward=100.0\n",
      "  found_key=(mech=None, partid=None, name=kb).\n",
      "  search_key=(mech=transcription_mm, partid=strong, name=kb).\n",
      "  k_reverse=0.5\n",
      "  found_key=(mech=None, partid=strong, name=ku).\n",
      "  search_key=(mech=transcription_mm, partid=strong, name=ku).\n",
      "\n",
      "1. complex[dna[X]:protein[RNAP]] --> dna[X]+rna[X]+protein[RNAP(machinery)]\n",
      " Kf=k_forward * complex_dna_X_protein_RNAP_machinery_\n",
      "  k_forward=3.926187672\n",
      "  found_key=(mech=None, partid=strong, name=ktx).\n",
      "  search_key=(mech=transcription_mm, partid=strong, name=ktx).\n",
      "\n",
      "2. rna[X]+protein[Ribo(machinery)] <--> complex[protein[Ribo]:rna[X]]\n",
      " Kf=k_forward * rna_X * protein_Ribo_machinery\n",
      " Kr=k_reverse * complex_protein_Ribo_machinery_rna_X_\n",
      "  k_forward=100.0\n",
      "  found_key=(mech=None, partid=None, name=kb).\n",
      "  search_key=(mech=translation_mm, partid=weak, name=kb).\n",
      "  k_reverse=5.0\n",
      "  found_key=(mech=None, partid=weak, name=ku).\n",
      "  search_key=(mech=translation_mm, partid=weak, name=ku).\n",
      "\n",
      "3. complex[protein[Ribo]:rna[X]] --> rna[X]+protein[X]+protein[Ribo(machinery)]\n",
      " Kf=k_forward * complex_protein_Ribo_machinery_rna_X_\n",
      "  k_forward=0.05\n",
      "  found_key=(mech=None, partid=None, name=ktl).\n",
      "  search_key=(mech=translation_mm, partid=weak, name=ktl).\n",
      "\n",
      "4. dna[cellular_processes]+protein[RNAP(machinery)] <--> complex[dna[cellular_processes]:protein[RNAP]]\n",
      " Kf=k_forward * dna_cellular_processes * protein_RNAP_machinery\n",
      " Kr=k_reverse * complex_dna_cellular_processes_protein_RNAP_machinery_\n",
      "  k_forward=500\n",
      "  found_key=(mech=transcription, partid=None, name=kb).\n",
      "  search_key=(mech=transcription_mm, partid=average_promoter, name=kb).\n",
      "  k_reverse=50\n",
      "  found_key=(mech=transcription, partid=None, name=ku).\n",
      "  search_key=(mech=transcription_mm, partid=average_promoter, name=ku).\n",
      "\n",
      "5. complex[dna[cellular_processes]:protein[RNAP]] --> dna[cellular_processes]+rna[cellular_processes]+protein[RNAP(machinery)]\n",
      " Kf=k_forward * complex_dna_cellular_processes_protein_RNAP_machinery_\n",
      "  k_forward=0.1\n",
      "  found_key=(mech=transcription, partid=None, name=ktx).\n",
      "  search_key=(mech=transcription_mm, partid=average_promoter, name=ktx).\n",
      "\n",
      "6. rna[cellular_processes]+protein[Ribo(machinery)] <--> complex[protein[Ribo]:rna[cellular_processes]]\n",
      " Kf=k_forward * rna_cellular_processes * protein_Ribo_machinery\n",
      " Kr=k_reverse * complex_protein_Ribo_machinery_rna_cellular_processes_\n",
      "  k_forward=500\n",
      "  found_key=(mech=translation, partid=None, name=kb).\n",
      "  search_key=(mech=translation_mm, partid=average_rbs, name=kb).\n",
      "  k_reverse=5\n",
      "  found_key=(mech=translation, partid=None, name=ku).\n",
      "  search_key=(mech=translation_mm, partid=average_rbs, name=ku).\n",
      "\n",
      "7. complex[protein[Ribo]:rna[cellular_processes]] --> rna[cellular_processes]+protein[cellular_processes]+protein[Ribo(machinery)]\n",
      " Kf=k_forward * complex_protein_Ribo_machinery_rna_cellular_processes_\n",
      "  k_forward=0.1\n",
      "  found_key=(mech=translation, partid=None, name=ktl).\n",
      "  search_key=(mech=translation_mm, partid=average_rbs, name=ktl).\n",
      "\n",
      "8. rna[X]+protein[RNAase(machinery)] <--> complex[protein[RNAase]:rna[X]]\n",
      " Kf=k_forward * rna_X * protein_RNAase_machinery\n",
      " Kr=k_reverse * complex_protein_RNAase_machinery_rna_X_\n",
      "  k_forward=100.0\n",
      "  found_key=(mech=None, partid=None, name=kb).\n",
      "  search_key=(mech=rna_degredation_mm, partid=rna_X, name=kb).\n",
      "  k_reverse=10.0\n",
      "  found_key=(mech=None, partid=None, name=ku).\n",
      "  search_key=(mech=rna_degredation_mm, partid=rna_X, name=ku).\n",
      "\n",
      "9. complex[protein[RNAase]:rna[X]] --> protein[RNAase(machinery)]\n",
      " Kf=k_forward * complex_protein_RNAase_machinery_rna_X_\n",
      "  k_forward=0.001\n",
      "  found_key=(mech=rna_degredation_mm, partid=None, name=kdeg).\n",
      "  search_key=(mech=rna_degredation_mm, partid=rna_X, name=kdeg).\n",
      "\n",
      "10. complex[protein[Ribo]:rna[X]]+protein[RNAase(machinery)] <--> complex[complex[protein[Ribo]:rna[X]]:protein[RNAase]]\n",
      " Kf=k_forward * complex_protein_Ribo_machinery_rna_X_ * protein_RNAase_machinery\n",
      " Kr=k_reverse * complex_complex_protein_Ribo_machinery_rna_X__protein_RNAase_machinery_\n",
      "  k_forward=100.0\n",
      "  found_key=(mech=None, partid=None, name=kb).\n",
      "  search_key=(mech=rna_degredation_mm, partid=complex_protein_Ribo_machinery_rna_X_, name=kb).\n",
      "  k_reverse=10.0\n",
      "  found_key=(mech=None, partid=None, name=ku).\n",
      "  search_key=(mech=rna_degredation_mm, partid=complex_protein_Ribo_machinery_rna_X_, name=ku).\n",
      "\n",
      "11. complex[complex[protein[Ribo]:rna[X]]:protein[RNAase]] --> protein[Ribo(machinery)]+protein[RNAase(machinery)]\n",
      " Kf=k_forward * complex_complex_protein_Ribo_machinery_rna_X__protein_RNAase_machinery_\n",
      "  k_forward=0.001\n",
      "  found_key=(mech=rna_degredation_mm, partid=None, name=kdeg).\n",
      "  search_key=(mech=rna_degredation_mm, partid=complex_protein_Ribo_machinery_rna_X_, name=kdeg).\n",
      "\n",
      "12. rna[cellular_processes]+protein[RNAase(machinery)] <--> complex[protein[RNAase]:rna[cellular_processes]]\n",
      " Kf=k_forward * rna_cellular_processes * protein_RNAase_machinery\n",
      " Kr=k_reverse * complex_protein_RNAase_machinery_rna_cellular_processes_\n",
      "  k_forward=100.0\n",
      "  found_key=(mech=None, partid=None, name=kb).\n",
      "  search_key=(mech=rna_degredation_mm, partid=rna_cellular_processes, name=kb).\n",
      "  k_reverse=10.0\n",
      "  found_key=(mech=None, partid=None, name=ku).\n",
      "  search_key=(mech=rna_degredation_mm, partid=rna_cellular_processes, name=ku).\n",
      "\n",
      "13. complex[protein[RNAase]:rna[cellular_processes]] --> protein[RNAase(machinery)]\n",
      " Kf=k_forward * complex_protein_RNAase_machinery_rna_cellular_processes_\n",
      "  k_forward=0.001\n",
      "  found_key=(mech=rna_degredation_mm, partid=None, name=kdeg).\n",
      "  search_key=(mech=rna_degredation_mm, partid=rna_cellular_processes, name=kdeg).\n",
      "\n",
      "14. complex[protein[Ribo]:rna[cellular_processes]]+protein[RNAase(machinery)] <--> complex[complex[protein[Ribo]:rna[cellular_processes]]:protein[RNAase]]\n",
      " Kf=k_forward * complex_protein_Ribo_machinery_rna_cellular_processes_ * protein_RNAase_machinery\n",
      " Kr=k_reverse * complex_complex_protein_Ribo_machinery_rna_cellular_processes__protein_RNAase_machinery_\n",
      "  k_forward=100.0\n",
      "  found_key=(mech=None, partid=None, name=kb).\n",
      "  search_key=(mech=rna_degredation_mm, partid=complex_protein_Ribo_machinery_rna_cellular_processes_, name=kb).\n",
      "  k_reverse=10.0\n",
      "  found_key=(mech=None, partid=None, name=ku).\n",
      "  search_key=(mech=rna_degredation_mm, partid=complex_protein_Ribo_machinery_rna_cellular_processes_, name=ku).\n",
      "\n",
      "15. complex[complex[protein[Ribo]:rna[cellular_processes]]:protein[RNAase]] --> protein[Ribo(machinery)]+protein[RNAase(machinery)]\n",
      " Kf=k_forward * complex_complex_protein_Ribo_machinery_rna_cellular_processes__protein_RNAase_machinery_\n",
      "  k_forward=0.001\n",
      "  found_key=(mech=rna_degredation_mm, partid=None, name=kdeg).\n",
      "  search_key=(mech=rna_degredation_mm, partid=complex_protein_Ribo_machinery_rna_cellular_processes_, name=kdeg).\n",
      "\n",
      "16. rna[X] --> \n",
      " Kf=k_forward * rna_X\n",
      "  k_forward=0.001\n",
      "  found_key=(mech=None, partid=None, name=kdil).\n",
      "  search_key=(mech=global_degredation_via_dilution, partid=rna_X, name=kdil).\n",
      "\n",
      "17. protein[X] --> \n",
      " Kf=k_forward * protein_X\n",
      "  k_forward=0.001\n",
      "  found_key=(mech=None, partid=None, name=kdil).\n",
      "  search_key=(mech=global_degredation_via_dilution, partid=protein_X, name=kdil).\n",
      "\n",
      "18. rna[cellular_processes] --> \n",
      " Kf=k_forward * rna_cellular_processes\n",
      "  k_forward=0.001\n",
      "  found_key=(mech=None, partid=None, name=kdil).\n",
      "  search_key=(mech=global_degredation_via_dilution, partid=rna_cellular_processes, name=kdil).\n",
      "\n",
      "19. protein[cellular_processes] --> \n",
      " Kf=k_forward * protein_cellular_processes\n",
      "  k_forward=0.001\n",
      "  found_key=(mech=None, partid=None, name=kdil).\n",
      "  search_key=(mech=global_degredation_via_dilution, partid=protein_cellular_processes, name=kdil).\n",
      "\n",
      "] \n",
      "\n",
      "\n"
     ]
    },
    {
     "name": "stderr",
     "output_type": "stream",
     "text": [
      "C:\\Users\\Ayush\\anaconda3\\lib\\site-packages\\biocrnpyler\\parameter.py:507: UserWarning: parameter file contains no unit column! Please add a column named ['unit', 'units'].\n",
      "  warn(f\"parameter file contains no {accepted_name} column! Please add a \"\n"
     ]
    }
   ],
   "source": [
    "try:\n",
    "    from biocrnpyler import * \n",
    "    #Here are some parameters loaded into default_parameters.txt\n",
    "    #Promoter Names: strong, medium, weak correspond to bicistronic RBSs: BCD2, BCD8 and BCD12\n",
    "    #RBS Names: strong, medium, Weak correspond to Anderson Promoters: J23100, J23106, and J23103\n",
    "    G = DNAassembly(\"X\", promoter = \"strong\", rbs = \"weak\", transcript = None, protein = None)\n",
    "    #Also notice that the names of transcript and protein can be changed, or set to Species.\n",
    "    x0_dict = {\"protein_RNAP_machinery\":10., \"protein_RNAase_machinery\":5.0, \"protein_Ribo_machinery\":50.,\n",
    "                   'dna_X':0.5, 'dna_cellular_processes':0.01}\n",
    "    model_txtl = TxTlDilutionMixture(\"txtl\", components = [G], parameter_file = \"default_parameters.txt\",\n",
    "                                    initial_condition_dictionary = x0_dict)\n",
    "\n",
    "    CRN = model_txtl.compile_crn()\n",
    "    print(repr(CRN),\"\\n\", CRN.pretty_print(show_attributes = True, show_material = True, show_rates = True),\"\\n\\n\")\n",
    "    # except:\n",
    "    #     print('BioCRNpyler not found. To run this notebook, make sure you run pip install biocrnpyler first.')\n",
    "    CRN.write_sbml_file('biocrnpyler_gene_expression.xml')\n",
    "except:\n",
    "    print('BioCRNpyler not found. To run this notebook make sure you run pip install biocrpyler first.')"
   ]
  },
  {
   "cell_type": "code",
   "execution_count": 2,
   "metadata": {},
   "outputs": [],
   "source": [
    "from IPython.core.interactiveshell import InteractiveShell\n",
    "InteractiveShell.ast_node_interactivity = \"all\"\n",
    "\n",
    "from autoreduce import *\n",
    "import numpy as np\n",
    "from sympy import symbols"
   ]
  },
  {
   "cell_type": "code",
   "execution_count": 4,
   "metadata": {},
   "outputs": [],
   "source": [
    "from autoreduce.converters import load_sbml\n",
    "sys = load_sbml('biocrnpyler_gene_expression.xml', outputs = ['protein_X'])"
   ]
  },
  {
   "cell_type": "code",
   "execution_count": 14,
   "metadata": {},
   "outputs": [],
   "source": [
    "for x, x_ic in x0_dict.items():\n",
    "    curr_ind = sys.x.index(Symbol(x))\n",
    "    sys.x_init[curr_ind] = x_ic"
   ]
  },
  {
   "cell_type": "markdown",
   "metadata": {},
   "source": [
    "# Create and solve the ODE for the model"
   ]
  },
  {
   "cell_type": "code",
   "execution_count": 16,
   "metadata": {},
   "outputs": [
    {
     "data": {
      "text/plain": [
       "[<matplotlib.lines.Line2D at 0x20daa6e7520>]"
      ]
     },
     "execution_count": 16,
     "metadata": {},
     "output_type": "execute_result"
    },
    {
     "data": {
      "text/plain": [
       "Text(0.5, 0, 'Time')"
      ]
     },
     "execution_count": 16,
     "metadata": {},
     "output_type": "execute_result"
    },
    {
     "data": {
      "text/plain": [
       "Text(0, 0.5, '[Outputs]')"
      ]
     },
     "execution_count": 16,
     "metadata": {},
     "output_type": "execute_result"
    },
    {
     "data": {
      "image/png": "[encoded data removed]",
      "text/plain": [
       "<Figure size 432x288 with 1 Axes>"
      ]
     },
     "metadata": {
      "needs_background": "light"
     },
     "output_type": "display_data"
    }
   ],
   "source": [
    "from autoreduce.utils import get_ODE\n",
    "timepoints_ode = np.linspace(0, 200, 100)\n",
    "sys_ode = get_ODE(sys, timepoints_ode)\n",
    "sol = sys_ode.solve_system().T\n",
    "try:\n",
    "    import matplotlib.pyplot as plt\n",
    "    plt.plot(timepoints_ode, np.transpose(np.array(sys.C)@sol))\n",
    "    plt.xlabel('Time')\n",
    "    plt.ylabel('[Outputs]')\n",
    "    plt.show()\n",
    "except:\n",
    "    print('Plotting libraries missing.')"
   ]
  },
  {
   "cell_type": "markdown",
   "metadata": {},
   "source": [
    "# Local sensitivity analysis for BioCRNpyler model"
   ]
  },
  {
   "cell_type": "code",
   "execution_count": 17,
   "metadata": {},
   "outputs": [],
   "source": [
    "from autoreduce.utils import get_SSM\n",
    "timepoints_ssm = np.linspace(0,20,10)\n",
    "sys_ssm = get_SSM(sys, timepoints_ssm)\n",
    "# Uncomment to run\n",
    "# Ss = sys_ssm.compute_SSM() # len(timepoints) x len(params) x len(states)"
   ]
  },
  {
   "cell_type": "code",
   "execution_count": 18,
   "metadata": {},
   "outputs": [],
   "source": [
    "# out_Ss = []\n",
    "# for i in range(len(P)):\n",
    "#     out_Ss.append((np.array(C)@(Ss[:,i,:].T)))\n",
    "# out_Ss = np.reshape(np.array(out_Ss), (len(timepoints_ssm), len(P), 1))"
   ]
  },
  {
   "cell_type": "markdown",
   "metadata": {},
   "source": [
    "# Plot heatmap for sensitivity analysis"
   ]
  },
  {
   "cell_type": "code",
   "execution_count": 19,
   "metadata": {},
   "outputs": [],
   "source": [
    "# try:\n",
    "    # import seaborn as sn\n",
    "    # import matplotlib.pyplot as plt\n",
    "    # for j in range(1):\n",
    "    #     sn.heatmap(out_Ss[:,:,j].T)\n",
    "    #     plt.xlabel('Time')\n",
    "    #     plt.ylabel('Parameters')\n",
    "    #     plt.title('Sensitivity of output[{0}] with respect to all parameters'.format(j))\n",
    "    #     plt.show()\n",
    "# except:\n",
    "#     print('Plotting libraries missing.')"
   ]
  },
  {
   "cell_type": "markdown",
   "metadata": {},
   "source": [
    "# Model reduction starts here:"
   ]
  },
  {
   "cell_type": "code",
   "execution_count": 22,
   "metadata": {},
   "outputs": [],
   "source": [
    "from autoreduce.utils import get_reducible\n",
    "timepoints_ssm = np.linspace(0,20,10)\n",
    "sys_reduce.nstates_tol_min = 3 # Minimum number of states tbat you want in the reduced model"
   ]
  },
  {
   "cell_type": "markdown",
   "metadata": {},
   "source": [
    "# Conservation Laws (if any)"
   ]
  },
  {
   "cell_type": "code",
   "execution_count": 11,
   "metadata": {},
   "outputs": [],
   "source": [
    "G, P, C1, T, R, C2, E, C3, X = sys.x\n",
    "conserved_quantities = [P + C1 - P_tot, R + C2 - R_tot, E + C3 - E_tot]\n",
    "states_to_eliminate = [1,4,6]\n",
    "f_cons = sys_reduce.solve_conservation_laws(conserved_quantities, states_to_eliminate)"
   ]
  },
  {
   "cell_type": "code",
   "execution_count": 12,
   "metadata": {},
   "outputs": [
    {
     "data": {
      "image/png": "[encoded data removed]",
      "text/plain": [
       "<Figure size 432x288 with 1 Axes>"
      ]
     },
     "metadata": {
      "needs_background": "light"
     },
     "output_type": "display_data"
    }
   ],
   "source": [
    "# from autoreduce.utils import get_ODE\n",
    "# timepoints_ode = np.linspace(0, 2, 100)\n",
    "# params_values = [100, 10, 4, 10, 0.25, 2, 10, 0.5, 1, 10, 1000, 1000, 1000]\n",
    "# sys_reduce.params_values = params_values\n",
    "# sys_ode = get_ODE(sys_reduce, timepoints_ode)\n",
    "# sol = sys_ode.solve_system().T\n",
    "# try:\n",
    "    # import matplotlib.pyplot as plt\n",
    "    # plt.plot(timepoints_ode, np.transpose(np.array(sys_reduce.C)@sol))\n",
    "    # plt.xlabel('Time')\n",
    "    # plt.ylabel('[Outputs]')\n",
    "    # plt.show()\n",
    "# except:\n",
    "#     print('Plotting libraries missing.')"
   ]
  },
  {
   "cell_type": "markdown",
   "metadata": {},
   "source": [
    "# Derive model with no intermediate complexes"
   ]
  },
  {
   "cell_type": "code",
   "execution_count": 44,
   "metadata": {},
   "outputs": [
    {
     "name": "stdout",
     "output_type": "stream",
     "text": [
      "count 1\n",
      "Successful time-scale separation solution obtained with states: [dna_X, protein_RNAP_machinery, rna_X, complex_dna_X_protein_RNAP_machinery_, protein_Ribo_machinery, protein_X, complex_protein_Ribo_machinery_rna_X_, protein_RNAase_machinery, dna_cellular_processes, rna_cellular_processes, complex_dna_cellular_processes_protein_RNAP_machinery_, protein_cellular_processes]!\n"
     ]
    }
   ],
   "source": [
    "# states_to_remove = [x[12], x[12], x[14], x[15], x[16]]\n",
    "# retained_states = []\n",
    "# for state in x:\n",
    "#     index = sys.x.index(state)\n",
    "#     if state not in states_to_remove:\n",
    "#         retained_states.append(x[index])\n",
    "reduced_sys, fast_ss = sys_reduce.solve_timescale_separation([x[0], x[1], x[2], x[3], x[4], x[5], \n",
    "                                                             x[6], x[7], x[8], x[9], x[10], x[11]],\n",
    "                                                             debug = False)\n",
    "# reduced_sys.f[1]\n",
    "# Se = sys_reduce.get_robustness_metric(reduced_sys, fast_ss, [0,2,5])"
   ]
  },
  {
   "cell_type": "code",
   "execution_count": 43,
   "metadata": {},
   "outputs": [
    {
     "data": {
      "text/plain": [
       "[complex_dna_X_protein_RNAP_machinery_*ktx_strong_ + complex_dna_X_protein_RNAP_machinery_*ku_strong_ - dna_X*kb__*protein_RNAP_machinery,\n",
       " complex_dna_X_protein_RNAP_machinery_*ktx_strong_ + complex_dna_X_protein_RNAP_machinery_*ku_strong_ + complex_dna_cellular_processes_protein_RNAP_machinery_*ktx__transcription + complex_dna_cellular_processes_protein_RNAP_machinery_*ku__transcription - dna_X*kb__*protein_RNAP_machinery - dna_cellular_processes*kb__transcription*protein_RNAP_machinery,\n",
       " complex_dna_X_protein_RNAP_machinery_*ktx_strong_ + complex_protein_Ribo_machinery_rna_X_*ktl__ + complex_protein_Ribo_machinery_rna_X_*ku_weak_ + kb__*ku__*protein_RNAase_machinery*rna_X/(kdeg__rna_degredation_mm + ku__) - kb__*protein_RNAase_machinery*rna_X - kb__*protein_Ribo_machinery*rna_X - kdil__*rna_X,\n",
       " -complex_dna_X_protein_RNAP_machinery_*ktx_strong_ - complex_dna_X_protein_RNAP_machinery_*ku_strong_ + dna_X*kb__*protein_RNAP_machinery,\n",
       " complex_protein_Ribo_machinery_rna_X_*kb__*kdeg__rna_degredation_mm*protein_RNAase_machinery/(kdeg__rna_degredation_mm + ku__) + complex_protein_Ribo_machinery_rna_X_*ktl__ + complex_protein_Ribo_machinery_rna_X_*ku_weak_ + kb__*kb__translation*kdeg__rna_degredation_mm*protein_RNAase_machinery*protein_Ribo_machinery*rna_cellular_processes/(kb__*kdeg__rna_degredation_mm*protein_RNAase_machinery + kdeg__rna_degredation_mm*ktl__translation + kdeg__rna_degredation_mm*ku__translation + ktl__translation*ku__ + ku__*ku__translation) - kb__*protein_Ribo_machinery*rna_X - kb__translation*protein_Ribo_machinery*rna_cellular_processes + ktl__translation*(kb__*kb__translation*ku__*protein_RNAase_machinery*protein_Ribo_machinery*rna_cellular_processes/(kb__*kdeg__rna_degredation_mm*protein_RNAase_machinery + kdeg__rna_degredation_mm*ktl__translation + kdeg__rna_degredation_mm*ku__translation + ktl__translation*ku__ + ku__*ku__translation) + kb__translation*protein_Ribo_machinery*rna_cellular_processes)/(kb__*protein_RNAase_machinery + ktl__translation + ku__translation) + ku__translation*(kb__*kb__translation*ku__*protein_RNAase_machinery*protein_Ribo_machinery*rna_cellular_processes/(kb__*kdeg__rna_degredation_mm*protein_RNAase_machinery + kdeg__rna_degredation_mm*ktl__translation + kdeg__rna_degredation_mm*ku__translation + ktl__translation*ku__ + ku__*ku__translation) + kb__translation*protein_Ribo_machinery*rna_cellular_processes)/(kb__*protein_RNAase_machinery + ktl__translation + ku__translation),\n",
       " complex_protein_Ribo_machinery_rna_X_*ktl__ - kdil__*protein_X,\n",
       " complex_protein_Ribo_machinery_rna_X_*kb__*ku__*protein_RNAase_machinery/(kdeg__rna_degredation_mm + ku__) - complex_protein_Ribo_machinery_rna_X_*kb__*protein_RNAase_machinery - complex_protein_Ribo_machinery_rna_X_*ktl__ - complex_protein_Ribo_machinery_rna_X_*ku_weak_ + kb__*protein_Ribo_machinery*rna_X,\n",
       " complex_protein_Ribo_machinery_rna_X_*kb__*kdeg__rna_degredation_mm*protein_RNAase_machinery/(kdeg__rna_degredation_mm + ku__) + complex_protein_Ribo_machinery_rna_X_*kb__*ku__*protein_RNAase_machinery/(kdeg__rna_degredation_mm + ku__) - complex_protein_Ribo_machinery_rna_X_*kb__*protein_RNAase_machinery + kb__*kb__translation*kdeg__rna_degredation_mm*protein_RNAase_machinery*protein_Ribo_machinery*rna_cellular_processes/(kb__*kdeg__rna_degredation_mm*protein_RNAase_machinery + kdeg__rna_degredation_mm*ktl__translation + kdeg__rna_degredation_mm*ku__translation + ktl__translation*ku__ + ku__*ku__translation) + kb__*kb__translation*ku__*protein_RNAase_machinery*protein_Ribo_machinery*rna_cellular_processes/(kb__*kdeg__rna_degredation_mm*protein_RNAase_machinery + kdeg__rna_degredation_mm*ktl__translation + kdeg__rna_degredation_mm*ku__translation + ktl__translation*ku__ + ku__*ku__translation) + kb__*kdeg__rna_degredation_mm*protein_RNAase_machinery*rna_X/(kdeg__rna_degredation_mm + ku__) + kb__*kdeg__rna_degredation_mm*protein_RNAase_machinery*rna_cellular_processes/(kdeg__rna_degredation_mm + ku__) + kb__*ku__*protein_RNAase_machinery*rna_X/(kdeg__rna_degredation_mm + ku__) + kb__*ku__*protein_RNAase_machinery*rna_cellular_processes/(kdeg__rna_degredation_mm + ku__) - kb__*protein_RNAase_machinery*rna_X - kb__*protein_RNAase_machinery*rna_cellular_processes - kb__*protein_RNAase_machinery*(kb__*kb__translation*ku__*protein_RNAase_machinery*protein_Ribo_machinery*rna_cellular_processes/(kb__*kdeg__rna_degredation_mm*protein_RNAase_machinery + kdeg__rna_degredation_mm*ktl__translation + kdeg__rna_degredation_mm*ku__translation + ktl__translation*ku__ + ku__*ku__translation) + kb__translation*protein_Ribo_machinery*rna_cellular_processes)/(kb__*protein_RNAase_machinery + ktl__translation + ku__translation),\n",
       " complex_dna_cellular_processes_protein_RNAP_machinery_*ktx__transcription + complex_dna_cellular_processes_protein_RNAP_machinery_*ku__transcription - dna_cellular_processes*kb__transcription*protein_RNAP_machinery,\n",
       " complex_dna_cellular_processes_protein_RNAP_machinery_*ktx__transcription + kb__*ku__*protein_RNAase_machinery*rna_cellular_processes/(kdeg__rna_degredation_mm + ku__) - kb__*protein_RNAase_machinery*rna_cellular_processes - kb__translation*protein_Ribo_machinery*rna_cellular_processes - kdil__*rna_cellular_processes + ktl__translation*(kb__*kb__translation*ku__*protein_RNAase_machinery*protein_Ribo_machinery*rna_cellular_processes/(kb__*kdeg__rna_degredation_mm*protein_RNAase_machinery + kdeg__rna_degredation_mm*ktl__translation + kdeg__rna_degredation_mm*ku__translation + ktl__translation*ku__ + ku__*ku__translation) + kb__translation*protein_Ribo_machinery*rna_cellular_processes)/(kb__*protein_RNAase_machinery + ktl__translation + ku__translation) + ku__translation*(kb__*kb__translation*ku__*protein_RNAase_machinery*protein_Ribo_machinery*rna_cellular_processes/(kb__*kdeg__rna_degredation_mm*protein_RNAase_machinery + kdeg__rna_degredation_mm*ktl__translation + kdeg__rna_degredation_mm*ku__translation + ktl__translation*ku__ + ku__*ku__translation) + kb__translation*protein_Ribo_machinery*rna_cellular_processes)/(kb__*protein_RNAase_machinery + ktl__translation + ku__translation),\n",
       " -complex_dna_cellular_processes_protein_RNAP_machinery_*ktx__transcription - complex_dna_cellular_processes_protein_RNAP_machinery_*ku__transcription + dna_cellular_processes*kb__transcription*protein_RNAP_machinery,\n",
       " -kdil__*protein_cellular_processes + ktl__translation*(kb__*kb__translation*ku__*protein_RNAase_machinery*protein_Ribo_machinery*rna_cellular_processes/(kb__*kdeg__rna_degredation_mm*protein_RNAase_machinery + kdeg__rna_degredation_mm*ktl__translation + kdeg__rna_degredation_mm*ku__translation + ktl__translation*ku__ + ku__*ku__translation) + kb__translation*protein_Ribo_machinery*rna_cellular_processes)/(kb__*protein_RNAase_machinery + ktl__translation + ku__translation)]"
      ]
     },
     "execution_count": 43,
     "metadata": {},
     "output_type": "execute_result"
    }
   ],
   "source": [
    "reduced_sys.f"
   ]
  }
 ],
 "metadata": {
  "kernelspec": {
   "display_name": "Python 3 (ipykernel)",
   "language": "python",
   "name": "python3"
  },
  "language_info": {
   "codemirror_mode": {
    "name": "ipython",
    "version": 3
   },
   "file_extension": ".py",
   "mimetype": "text/x-python",
   "name": "python",
   "nbconvert_exporter": "python",
   "pygments_lexer": "ipython3",
   "version": "3.9.12"
  }
 },
 "nbformat": 4,
 "nbformat_minor": 2
}
