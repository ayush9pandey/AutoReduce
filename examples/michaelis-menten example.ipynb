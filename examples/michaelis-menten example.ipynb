{
 "cells": [
  {
   "cell_type": "code",
   "execution_count": 1,
   "metadata": {},
   "outputs": [],
   "source": [
    "from autoreduce import *\n",
    "import numpy as np"
   ]
  },
  {
   "cell_type": "markdown",
   "metadata": {},
   "source": [
    "$ \\dot{x} = f(x, \\Theta) + g(x)u \\\\ y = Cx  \\\\\n",
    "y = h(x, \\Theta)$"
   ]
  },
  {
   "cell_type": "code",
   "execution_count": 48,
   "metadata": {},
   "outputs": [],
   "source": [
    "# Post conservation law model\n",
    "n = 2\n",
    "nouts = 1 # Number of outputs\n",
    "# Either\n",
    "# sys.load_SBML_model('my_sbml_model.xml')\n",
    "\n",
    "# OR write ODEs\n",
    "#      x = ES, P\n",
    "#      P = a, d, k, Etot, Stot\n",
    "\n",
    "# parameter values\n",
    "P = np.zeros(5)\n",
    "P[0] = 10\n",
    "P[1] = 10\n",
    "P[2] = 0.1\n",
    "P[3] = 1\n",
    "P[4] = 1\n",
    "\n",
    "params_values = P.copy()\n",
    "timepoints_ode = np.linspace(0, 150, 100) # timepoints for simulation\n",
    "\n",
    "x_init = np.zeros(n) # Initial conditions\n",
    "\n",
    "error_tol = 100\n",
    "nstates_tol = 1\n",
    "x,f,P = load_ODE_model(n, len(params_values))\n",
    "params = P\n",
    "f[0] = P[0]*(P[3] - x[0])*(P[4] - x[0] - x[1]) - P[1]*x[0] - P[2]*x[0]\n",
    "f[1] = P[2]*x[0]\n",
    "C = np.zeros((nouts,len(x)), dtype=int)\n",
    "C[0][1] = 1\n",
    "C = C.tolist()\n",
    "sys = System(x,f,params=params,C=C, params_values=params_values,x_init=[0,0])"
   ]
  },
  {
   "cell_type": "code",
   "execution_count": 50,
   "metadata": {},
   "outputs": [
    {
     "data": {
      "image/png": "[encoded data removed]",
      "text/plain": [
       "<Figure size 432x288 with 1 Axes>"
      ]
     },
     "metadata": {
      "needs_background": "light"
     },
     "output_type": "display_data"
    }
   ],
   "source": [
    "from autoreduce.utils import get_ODE\n",
    "sys_ode = get_ODE(sys, timepoints_ode)\n",
    "sol = sys_ode.solve_system().T\n",
    "try:\n",
    "    import matplotlib.pyplot as plt\n",
    "    plt.plot(timepoints_ode, np.transpose(np.array(C)@sol))\n",
    "    plt.xlabel('Time')\n",
    "    plt.ylabel('[Product]')\n",
    "    plt.show()\n",
    "except:\n",
    "    print('Plotting libraries missing.')"
   ]
  },
  {
   "cell_type": "code",
   "execution_count": 57,
   "metadata": {},
   "outputs": [
    {
     "name": "stdout",
     "output_type": "stream",
     "text": [
      "SSM Progress: |██████████████████████████████████████████████████| 100.0% Complete\n"
     ]
    },
    {
     "name": "stderr",
     "output_type": "stream",
     "text": [
      "c:\\users\\ayush\\documents\\autoreduce\\autoreduce\\local_sensitivity.py:211: RuntimeWarning: invalid value encountered in true_divide\n",
      "  SSM_normalized[:,j,i] = np.divide(self.SSM[:,j,i]*self.params_values[j], self.xs[:,i])\n"
     ]
    }
   ],
   "source": [
    "from autoreduce.utils import get_SSM\n",
    "timepoints_ssm = np.linspace(0,60,10)\n",
    "sys_ssm = get_SSM(sys, timepoints_ssm)\n",
    "Ss = sys_ssm.compute_SSM(normalize = True) # len(timepoints) x len(params) x len(states)\n",
    "out_Ss = []\n",
    "for i in range(len(params)):\n",
    "    out_Ss.append((np.array(C)@(Ss[:,i,:].T)))\n",
    "out_Ss = np.reshape(np.array(out_Ss), (len(timepoints_ssm), len(params), nouts))"
   ]
  },
  {
   "cell_type": "code",
   "execution_count": 58,
   "metadata": {},
   "outputs": [
    {
     "data": {
      "image/png": "[encoded data removed]",
      "text/plain": [
       "<Figure size 432x288 with 2 Axes>"
      ]
     },
     "metadata": {
      "needs_background": "light"
     },
     "output_type": "display_data"
    }
   ],
   "source": [
    "try:\n",
    "    import seaborn as sn\n",
    "    for j in range(nouts):\n",
    "        sn.heatmap(out_Ss[:,:,j].T)\n",
    "        plt.xlabel('Time')\n",
    "        plt.ylabel('Parameters')\n",
    "        plt.title('Sensitivity of output[{0}] with respect to all parameters'.format(j))\n",
    "        plt.show()\n",
    "except:\n",
    "    print('Plotting libraries missing.')"
   ]
  },
  {
   "cell_type": "code",
   "execution_count": 59,
   "metadata": {},
   "outputs": [
    {
     "name": "stdout",
     "output_type": "stream",
     "text": [
      "Successful time-scale separation solution obtained with states: [x1]!\n",
      "SSM Progress: |██████████████████████████████████████████████████| 100.0% Complete\n",
      "SSM Progress: |██████████████████████████████████████████████████| 100.0% Complete\n"
     ]
    }
   ],
   "source": [
    "from autoreduce.utils import get_reducible\n",
    "timepoints_ssm = np.linspace(0,60,10)\n",
    "timepoints_ode = np.linspace(0, 100, 100)\n",
    "sys_reduce = get_reducible(sys, timepoints_ode, timepoints_ssm)\n",
    "results = sys_reduce.reduce_simple()"
   ]
  },
  {
   "cell_type": "code",
   "execution_count": 60,
   "metadata": {},
   "outputs": [
    {
     "data": {
      "text/plain": [
       "{<autoreduce.system.System at 0x28049db40a0>: [0.004223796000449995,\n",
       "  array([1602.00536597,  217.03400257,  847.81758415,  512.61413589,\n",
       "         1962.49827603]),\n",
       "  2.0355356851167846e-07]}"
      ]
     },
     "execution_count": 60,
     "metadata": {},
     "output_type": "execute_result"
    }
   ],
   "source": [
    "results"
   ]
  },
  {
   "cell_type": "code",
   "execution_count": 61,
   "metadata": {},
   "outputs": [],
   "source": [
    "err = results[list(results.keys())[0]][0]\n",
    "Se = results[list(results.keys())[0]][1]\n",
    "weighted_se = 0\n",
    "for p, Se_i in zip(params_values, Se):\n",
    "    weighted_se += p*Se_i"
   ]
  },
  {
   "cell_type": "code",
   "execution_count": 62,
   "metadata": {},
   "outputs": [
    {
     "data": {
      "text/plain": [
       "4912710.711770492"
      ]
     },
     "execution_count": 62,
     "metadata": {},
     "output_type": "execute_result"
    }
   ],
   "source": [
    "d_R = weighted_se/err\n",
    "d_R"
   ]
  },
  {
   "cell_type": "code",
   "execution_count": 63,
   "metadata": {},
   "outputs": [
    {
     "data": {
      "text/plain": [
       "4912.714935566492"
      ]
     },
     "execution_count": 63,
     "metadata": {},
     "output_type": "execute_result"
    }
   ],
   "source": [
    "w1 = 1\n",
    "w2 = 1e-3\n",
    "r = w1*err + w2*d_R\n",
    "r"
   ]
  },
  {
   "cell_type": "code",
   "execution_count": 64,
   "metadata": {},
   "outputs": [
    {
     "name": "stdout",
     "output_type": "stream",
     "text": [
      "Successful time-scale separation solution obtained with states: [x1]!\n"
     ]
    },
    {
     "data": {
      "text/latex": [
       "$\\displaystyle \\frac{P_{2} \\left(P_{0} P_{3} + P_{0} P_{4} - P_{0} x_{1} + P_{1} + P_{2} - \\sqrt{P_{0}^{2} P_{3}^{2} - 2 P_{0}^{2} P_{3} P_{4} + 2 P_{0}^{2} P_{3} x_{1} + P_{0}^{2} P_{4}^{2} - 2 P_{0}^{2} P_{4} x_{1} + P_{0}^{2} x_{1}^{2} + 2 P_{0} P_{1} P_{3} + 2 P_{0} P_{1} P_{4} - 2 P_{0} P_{1} x_{1} + 2 P_{0} P_{2} P_{3} + 2 P_{0} P_{2} P_{4} - 2 P_{0} P_{2} x_{1} + P_{1}^{2} + 2 P_{1} P_{2} + P_{2}^{2}}\\right)}{2 P_{0}}$"
      ],
      "text/plain": [
       "P2*(P0*P3 + P0*P4 - P0*x1 + P1 + P2 - sqrt(P0**2*P3**2 - 2*P0**2*P3*P4 + 2*P0**2*P3*x1 + P0**2*P4**2 - 2*P0**2*P4*x1 + P0**2*x1**2 + 2*P0*P1*P3 + 2*P0*P1*P4 - 2*P0*P1*x1 + 2*P0*P2*P3 + 2*P0*P2*P4 - 2*P0*P2*x1 + P1**2 + 2*P1*P2 + P2**2))/(2*P0)"
      ]
     },
     "execution_count": 64,
     "metadata": {},
     "output_type": "execute_result"
    }
   ],
   "source": [
    "slow_system, fast_system = sys_reduce.solve_timescale_separation([x[1]])\n",
    "slow_system.f[0]"
   ]
  },
  {
   "cell_type": "code",
   "execution_count": null,
   "metadata": {},
   "outputs": [],
   "source": []
  }
 ],
 "metadata": {
  "kernelspec": {
   "display_name": "Python 3.9.12 ('base')",
   "language": "python",
   "name": "python3"
  },
  "language_info": {
   "codemirror_mode": {
    "name": "ipython",
    "version": 3
   },
   "file_extension": ".py",
   "mimetype": "text/x-python",
   "name": "python",
   "nbconvert_exporter": "python",
   "pygments_lexer": "ipython3",
   "version": "3.9.12"
  },
  "vscode": {
   "interpreter": {
    "hash": "086edbbad6d007afd932f3998127bea1c36f47a35b43b79d0f508f10f9e57cc3"
   }
  }
 },
 "nbformat": 4,
 "nbformat_minor": 2
}
