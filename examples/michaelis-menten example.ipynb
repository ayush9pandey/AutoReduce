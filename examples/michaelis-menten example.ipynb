{
 "cells": [
  {
   "cell_type": "code",
   "execution_count": 1,
   "metadata": {},
   "outputs": [],
   "source": [
    "%matplotlib inline\n",
    "from auto_reduce import *\n",
    "import numpy as np"
   ]
  },
  {
   "cell_type": "markdown",
   "metadata": {},
   "source": [
    "$ \\dot{x} = f(x, \\Theta) + g(x)u \\\\ y = Cx  \\\\\n",
    "y = h(x, \\Theta)$"
   ]
  },
  {
   "cell_type": "code",
   "execution_count": 2,
   "metadata": {},
   "outputs": [],
   "source": [
    "# Post conservation law model\n",
    "n = 2\n",
    "nouts = 1 # Number of outputs\n",
    "# Either\n",
    "# sys.load_SBML_model('my_sbml_model.xml')\n",
    "\n",
    "# OR write ODEs\n",
    "#      x = ES, P\n",
    "#      P = a, d, k, Etot, Stot\n",
    "\n",
    "# parameter values\n",
    "P = np.zeros(5)\n",
    "P[0] = 10\n",
    "P[1] = 10\n",
    "P[2] = 0.1\n",
    "P[3] = 1\n",
    "P[4] = 100\n",
    "\n",
    "params_values = P.copy()\n",
    "timepoints_ode = np.linspace(0, 1500, 100) # timepoints for simulation\n",
    "\n",
    "x_init = np.zeros(n) # Initial conditions\n",
    "\n",
    "error_tol = 100\n",
    "nstates_tol = 1\n",
    "x, f, P = system.load_ODE_model(n, len(params_values))\n",
    "params = P\n",
    "f[0] = P[0]*(P[3] - x[0])*(P[4] - x[0] - x[1]) - P[1]*x[0] - P[2]*x[0]\n",
    "f[1] = P[2]*x[0]\n",
    "C = np.zeros((nouts,len(x)), dtype=int)\n",
    "C[0][1] = 1\n",
    "C = C.tolist()\n",
    "sys = System(x, f, params = P, params_values = params_values, C = C, x_init = x_init)"
   ]
  },
  {
   "cell_type": "code",
   "execution_count": 3,
   "metadata": {},
   "outputs": [
    {
     "data": {
      "image/png": "[encoded data removed]",
      "text/plain": [
       "<Figure size 432x288 with 1 Axes>"
      ]
     },
     "metadata": {
      "needs_background": "light"
     },
     "output_type": "display_data"
    }
   ],
   "source": [
    "from auto_reduce.utils import get_ODE\n",
    "sys_ode = get_ODE(sys, timepoints_ode)\n",
    "sol = sys_ode.solve_system().T\n",
    "import matplotlib.pyplot as plt\n",
    "plt.plot(timepoints_ode, np.transpose(np.array(C)@sol))\n",
    "plt.xlabel('Time')\n",
    "plt.ylabel('[Product]')\n",
    "plt.show()"
   ]
  },
  {
   "cell_type": "code",
   "execution_count": 4,
   "metadata": {},
   "outputs": [
    {
     "name": "stdout",
     "output_type": "stream",
     "text": [
      "SSM Progress: |██████████████████████████████████████████████████| 100.0% Complete\n"
     ]
    }
   ],
   "source": [
    "from auto_reduce.utils import get_SSM\n",
    "timepoints_ssm = np.linspace(0,100,10)\n",
    "sys_ssm = get_SSM(sys, timepoints_ssm)\n",
    "Ss = sys_ssm.compute_SSM() # len(timepoints) x len(params) x len(states)\n",
    "out_Ss = []\n",
    "for i in range(len(params)):\n",
    "    out_Ss.append((np.array(C)@(Ss[:,i,:].T)))\n",
    "out_Ss = np.reshape(np.array(out_Ss), (len(timepoints_ssm), len(params), nouts))"
   ]
  },
  {
   "cell_type": "code",
   "execution_count": 5,
   "metadata": {},
   "outputs": [
    {
     "data": {
      "image/png": "[encoded data removed]",
      "text/plain": [
       "<Figure size 432x288 with 2 Axes>"
      ]
     },
     "metadata": {
      "needs_background": "light"
     },
     "output_type": "display_data"
    }
   ],
   "source": [
    "import seaborn as sn\n",
    "for j in range(nouts):\n",
    "    sn.heatmap(out_Ss[:,:,j].T)\n",
    "    plt.xlabel('Time')\n",
    "    plt.ylabel('Parameters')\n",
    "    plt.title('Sensitivity of output[{0}] with respect to all parameters'.format(j))\n",
    "    plt.show()"
   ]
  },
  {
   "cell_type": "code",
   "execution_count": 6,
   "metadata": {},
   "outputs": [
    {
     "name": "stdout",
     "output_type": "stream",
     "text": [
      "attempting : [1]\n",
      "SSM Progress: |██████████████████████████████████████████████████| 100.0% Complete\n",
      "SSM Progress: |██████████████████████████████████████████████████| 100.0% Complete\n"
     ]
    },
    {
     "name": "stderr",
     "output_type": "stream",
     "text": [
      "C:\\Users\\apand\\synBio\\auto_reduce\\auto_reduce\\model_reduction.py:151: UserWarning: NaN or inf found in Jacobians, continuing\n",
      "  warnings.warn('NaN or inf found in Jacobians, continuing')\n"
     ]
    }
   ],
   "source": [
    "from auto_reduce.utils import reduce\n",
    "timepoints_ssm = np.linspace(0,100,10)\n",
    "timepoints_ode = np.linspace(0, 100, 100)\n",
    "sys_reduce = reduce(sys, timepoints_ode, timepoints_ssm)\n",
    "results = sys_reduce.reduce_Cx()"
   ]
  },
  {
   "cell_type": "code",
   "execution_count": 8,
   "metadata": {},
   "outputs": [
    {
     "data": {
      "text/plain": [
       "{<auto_reduce.system.System at 0x1af67d8b320>: [0.0009793151742578127,\n",
       "  array([0., 0., 0., 0., 0.])]}"
      ]
     },
     "execution_count": 8,
     "metadata": {},
     "output_type": "execute_result"
    }
   ],
   "source": [
    "results"
   ]
  },
  {
   "cell_type": "code",
   "execution_count": 4,
   "metadata": {},
   "outputs": [],
   "source": [
    "aa,bb = sys_reduce.solve_timescale_separation([1])\n",
    "# from sympy import solve, Eq\n",
    "# collapse = solve(Eq(bb.f[0]), x[0])\n",
    "# aa.f[0] = aa.f[0].subs(x[0], collapse)"
   ]
  },
  {
   "cell_type": "code",
   "execution_count": 10,
   "metadata": {},
   "outputs": [],
   "source": [
    "T, T1, T2 = sys_reduce.get_T([1])"
   ]
  },
  {
   "cell_type": "code",
   "execution_count": 5,
   "metadata": {},
   "outputs": [
    {
     "data": {
      "text/plain": [
       "[P0*(P3 - x0)*(P4 - x0) - P1*x0 - P2*x0]"
      ]
     },
     "execution_count": 5,
     "metadata": {},
     "output_type": "execute_result"
    }
   ],
   "source": [
    "bb.f"
   ]
  },
  {
   "cell_type": "code",
   "execution_count": 50,
   "metadata": {},
   "outputs": [],
   "source": [
    "P = np.array([[-3.65375409e+46, -4.05648192e+30,  4.05648192e+30],\n",
    " [-4.05648192e+30, -9.00719925e+14,  9.00719925e+14],\n",
    " [ 4.05648192e+30,  9.00719925e+14, -9.00719925e+14]])\n",
    "P11 = P[0:2, 0:2]\n",
    "P12 = P[0:2, 2:4]\n",
    "P21 = P[2:4, 0:2]\n",
    "P22 = P[2:4, 2:4]\n",
    "q11 = np.array(P11@T1 + P12)\n",
    "q12 = np.array(P11@T2)\n",
    "q21 = np.array(P21@T1 + P22)\n",
    "q22 = np.array(P21@T2)\n",
    "Q_s = np.zeros( (2+1, 2))\n",
    "Q_s[0:2,0:1] = q11\n",
    "Q_s[0:2,1:3] = q12\n",
    "Q_s[2:4,0:1] = q21\n",
    "Q_s[2:4,1:3] = q22"
   ]
  },
  {
   "cell_type": "code",
   "execution_count": 56,
   "metadata": {},
   "outputs": [
    {
     "data": {
      "text/plain": [
       "array([[ 0.00000000e+00, -3.65375409e+46],\n",
       "       [ 0.00000000e+00, -4.05648192e+30],\n",
       "       [ 0.00000000e+00,  4.05648192e+30]])"
      ]
     },
     "execution_count": 56,
     "metadata": {},
     "output_type": "execute_result"
    }
   ],
   "source": [
    "Q_s"
   ]
  },
  {
   "cell_type": "code",
   "execution_count": null,
   "metadata": {},
   "outputs": [],
   "source": [
    "# Pre conservation law model\n",
    "n = 4 # Number of states \n",
    "nouts = 1 # Number of outputs\n",
    "# Either\n",
    "# sys.load_SBML_model('my_sbml_model.xml')\n",
    "\n",
    "# OR write ODEs\n",
    "#      x = E, S, ES, P\n",
    "#      P = a, d, k, Etot\n",
    "\n",
    "# parameter values\n",
    "P = np.zeros(4)\n",
    "P[0] = 10\n",
    "P[1] = 10\n",
    "P[2] = 0.1\n",
    "P[3] = 1\n",
    "params_values = P.copy()\n",
    "timepoints_ode = np.linspace(0, 100, 100) # timepoints for simulation\n",
    "\n",
    "x_init = np.zeros(n) # Initial conditions\n",
    "x_init[0] = 1\n",
    "x_init[1] = 0.5\n",
    "\n",
    "error_tol = 100\n",
    "nstates_tol = 1\n",
    "x, f, P = system.load_ODE_model(n, len(params_values))\n",
    "params = P\n",
    "# T1 and A1\n",
    "f[0] = -P[0]*(P[3] - x[2])*x[1] + P[1]*x[2] + P[2]*x[2]\n",
    "f[1] = -P[0]*(P[3] - x[2])*x[1] + P[1]*x[2]\n",
    "f[2] = P[0]*(P[3] - x[2])*x[1] - (P[1] + P[2])*x[2]\n",
    "f[3] = P[2]*x[2]\n",
    "\n",
    "C = np.zeros((nouts,len(x)), dtype=int)\n",
    "C[0][3] = 1\n",
    "C = C.tolist()\n",
    "sys = System(x, f, params = P, params_values = params_values, C = C, x_init = x_init)"
   ]
  }
 ],
 "metadata": {
  "kernelspec": {
   "display_name": "Python 3",
   "language": "python",
   "name": "python3"
  },
  "language_info": {
   "codemirror_mode": {
    "name": "ipython",
    "version": 3
   },
   "file_extension": ".py",
   "mimetype": "text/x-python",
   "name": "python",
   "nbconvert_exporter": "python",
   "pygments_lexer": "ipython3",
   "version": "3.7.3"
  }
 },
 "nbformat": 4,
 "nbformat_minor": 2
}
