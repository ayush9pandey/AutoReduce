{
 "cells": [
  {
   "cell_type": "code",
   "execution_count": 1,
   "metadata": {},
   "outputs": [],
   "source": [
    "%matplotlib inline\n",
    "from autoreduce import *\n",
    "import numpy as np"
   ]
  },
  {
   "cell_type": "markdown",
   "metadata": {},
   "source": [
    "$ \\dot{x} = f(x, \\Theta) + g(x)u \\\\ y = Cx  \\\\\n",
    "y = h(x, \\Theta)$"
   ]
  },
  {
   "cell_type": "code",
   "execution_count": 3,
   "metadata": {},
   "outputs": [],
   "source": [
    "# Post conservation law model\n",
    "n = 2\n",
    "nouts = 1 # Number of outputs\n",
    "# Either\n",
    "# sys.load_SBML_model('my_sbml_model.xml')\n",
    "\n",
    "# OR write ODEs\n",
    "#      x = ES, P\n",
    "#      P = a, d, k, Etot, Stot\n",
    "\n",
    "# parameter values\n",
    "P = np.zeros(5)\n",
    "P[0] = 10\n",
    "P[1] = 10\n",
    "P[2] = 0.1\n",
    "P[3] = 1\n",
    "P[4] = 100\n",
    "\n",
    "params_values = P.copy()\n",
    "timepoints_ode = np.linspace(0, 1500, 100) # timepoints for simulation\n",
    "\n",
    "x_init = np.zeros(n) # Initial conditions\n",
    "\n",
    "error_tol = 100\n",
    "nstates_tol = 1\n",
    "x, f, P = system.load_ODE_model(n, len(params_values))\n",
    "params = P\n",
    "f[0] = P[0]*(P[3] - x[0])*(P[4] - x[0] - x[1]) - P[1]*x[0] - P[2]*x[0]\n",
    "f[1] = P[2]*x[0]\n",
    "C = np.zeros((nouts,len(x)), dtype=int)\n",
    "C[0][1] = 1\n",
    "C = C.tolist()\n",
    "sys = System(x, f, params = P, params_values = params_values, C = C, x_init = x_init)"
   ]
  },
  {
   "cell_type": "code",
   "execution_count": 4,
   "metadata": {},
   "outputs": [
    {
     "data": {
      "image/png": "[encoded data removed]",
      "text/plain": [
       "<Figure size 432x288 with 1 Axes>"
      ]
     },
     "metadata": {
      "needs_background": "light"
     },
     "output_type": "display_data"
    }
   ],
   "source": [
    "from autoreduce.utils import get_ODE\n",
    "sys_ode = get_ODE(sys, timepoints_ode)\n",
    "sol = sys_ode.solve_system().T\n",
    "import matplotlib.pyplot as plt\n",
    "plt.plot(timepoints_ode, np.transpose(np.array(C)@sol))\n",
    "plt.xlabel('Time')\n",
    "plt.ylabel('[Product]')\n",
    "plt.show()"
   ]
  },
  {
   "cell_type": "code",
   "execution_count": 5,
   "metadata": {},
   "outputs": [
    {
     "name": "stdout",
     "output_type": "stream",
     "text": [
      "SSM Progress: |██████████████████████████████████████████████████| 100.0% Complete\n"
     ]
    }
   ],
   "source": [
    "from autoreduce.utils import get_SSM\n",
    "timepoints_ssm = np.linspace(0,100,10)\n",
    "sys_ssm = get_SSM(sys, timepoints_ssm)\n",
    "Ss = sys_ssm.compute_SSM() # len(timepoints) x len(params) x len(states)\n",
    "out_Ss = []\n",
    "for i in range(len(params)):\n",
    "    out_Ss.append((np.array(C)@(Ss[:,i,:].T)))\n",
    "out_Ss = np.reshape(np.array(out_Ss), (len(timepoints_ssm), len(params), nouts))"
   ]
  },
  {
   "cell_type": "code",
   "execution_count": 6,
   "metadata": {},
   "outputs": [
    {
     "data": {
      "image/png": "[encoded data removed]",
      "text/plain": [
       "<Figure size 432x288 with 2 Axes>"
      ]
     },
     "metadata": {
      "needs_background": "light"
     },
     "output_type": "display_data"
    }
   ],
   "source": [
    "import seaborn as sn\n",
    "for j in range(nouts):\n",
    "    sn.heatmap(out_Ss[:,:,j].T)\n",
    "    plt.xlabel('Time')\n",
    "    plt.ylabel('Parameters')\n",
    "    plt.title('Sensitivity of output[{0}] with respect to all parameters'.format(j))\n",
    "    plt.show()"
   ]
  },
  {
   "cell_type": "code",
   "execution_count": 9,
   "metadata": {},
   "outputs": [
    {
     "name": "stdout",
     "output_type": "stream",
     "text": [
      "Successful time-scale separation solution obtained!\n",
      "SSM Progress: |██████████████████████████████████████████████████| 100.0% Complete\n",
      "SSM Progress: |██████████████████████████████████████████████████| 100.0% Complete\n"
     ]
    },
    {
     "name": "stderr",
     "output_type": "stream",
     "text": [
      "C:\\Users\\apand\\Anaconda3\\lib\\site-packages\\scipy\\linalg\\_solvers.py:196: RuntimeWarning: Input \"a\" has an eigenvalue pair whose sum is very close to or exactly zero. The solution is obtained via perturbing the coefficients.\n",
      "  RuntimeWarning)\n",
      "c:\\users\\apand\\box\\biocircuits\\ayush\\synbio\\autoreduce\\autoreduce\\model_reduction.py:202: ComplexWarning: Casting complex values to real discards the imaginary part\n",
      "  Se[j] = max_eig_P + 2*len(reduced_ssm.timepoints)*S_metric_max\n"
     ]
    },
    {
     "name": "stdout",
     "output_type": "stream",
     "text": [
      "Robustness Metric Progress: |██████████████████████████████████████████████████| 100.0% Complete\n"
     ]
    }
   ],
   "source": [
    "from autoreduce.utils import get_reducible\n",
    "timepoints_ssm = np.linspace(0,100,10)\n",
    "timepoints_ode = np.linspace(0, 100, 100)\n",
    "sys_reduce = get_reducible(sys, timepoints_ode, timepoints_ssm)\n",
    "results = sys_reduce.reduce_simple()"
   ]
  },
  {
   "cell_type": "code",
   "execution_count": 7,
   "metadata": {},
   "outputs": [
    {
     "data": {
      "text/latex": [
       "$\\displaystyle \\frac{P_{2} \\left(P_{0} P_{3} + P_{0} P_{4} - P_{0} x_{1} + P_{1} + P_{2} - \\sqrt{P_{0}^{2} P_{3}^{2} - 2 P_{0}^{2} P_{3} P_{4} + 2 P_{0}^{2} P_{3} x_{1} + P_{0}^{2} P_{4}^{2} - 2 P_{0}^{2} P_{4} x_{1} + P_{0}^{2} x_{1}^{2} + 2 P_{0} P_{1} P_{3} + 2 P_{0} P_{1} P_{4} - 2 P_{0} P_{1} x_{1} + 2 P_{0} P_{2} P_{3} + 2 P_{0} P_{2} P_{4} - 2 P_{0} P_{2} x_{1} + P_{1}^{2} + 2 P_{1} P_{2} + P_{2}^{2}}\\right)}{2 P_{0}}$"
      ],
      "text/plain": [
       "{<autoreduce.system.System at 0x25e3988cf48>: [0.0009793151742578127,\n",
       "  array([9.92731412e+52, 6.47269138e+10, 7.66533353e+34, 7.60659496e+39,\n",
       "         1.11440876e+37])]}"
      ]
     },
     "execution_count": 10,
     "metadata": {},
     "output_type": "execute_result"
    }
   ],
   "source": [
    "results"
   ]
  },
  {
   "cell_type": "code",
   "execution_count": 19,
   "metadata": {},
   "outputs": [
    {
     "name": "stdout",
     "output_type": "stream",
     "text": [
      "Successful time-scale separation solution obtained!\n"
     ]
    },
    {
     "data": {
      "text/latex": [
       "$\\displaystyle \\frac{P_{2} \\left(P_{0} P_{3} + P_{0} P_{4} - P_{0} x_{1} + P_{1} + P_{2} - \\sqrt{P_{0}^{2} P_{3}^{2} - 2 P_{0}^{2} P_{3} P_{4} + 2 P_{0}^{2} P_{3} x_{1} + P_{0}^{2} P_{4}^{2} - 2 P_{0}^{2} P_{4} x_{1} + P_{0}^{2} x_{1}^{2} + 2 P_{0} P_{1} P_{3} + 2 P_{0} P_{1} P_{4} - 2 P_{0} P_{1} x_{1} + 2 P_{0} P_{2} P_{3} + 2 P_{0} P_{2} P_{4} - 2 P_{0} P_{2} x_{1} + P_{1}^{2} + 2 P_{1} P_{2} + P_{2}^{2}}\\right)}{2 P_{0}}$"
      ],
      "text/plain": [
       "P2*(P0*P3 + P0*P4 - P0*x1 + P1 + P2 - sqrt(P0**2*P3**2 - 2*P0**2*P3*P4 + 2*P0**2*P3*x1 + P0**2*P4**2 - 2*P0**2*P4*x1 + P0**2*x1**2 + 2*P0*P1*P3 + 2*P0*P1*P4 - 2*P0*P1*x1 + 2*P0*P2*P3 + 2*P0*P2*P4 - 2*P0*P2*x1 + P1**2 + 2*P1*P2 + P2**2))/(2*P0)"
      ]
     },
     "execution_count": 19,
     "metadata": {},
     "output_type": "execute_result"
    }
   ],
   "source": [
    "slow_system, fast_system = sys_reduce.solve_timescale_separation([x[1]])\n",
    "slow_system.f[0]"
   ]
  },
  {
   "cell_type": "code",
   "execution_count": null,
   "metadata": {},
   "outputs": [],
   "source": []
  }
 ],
 "metadata": {
  "kernelspec": {
   "display_name": "Python 3",
   "language": "python",
   "name": "python3"
  }
 },
 "nbformat": 4,
 "nbformat_minor": 2
}
