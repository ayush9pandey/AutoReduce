{
 "cells": [
  {
   "cell_type": "code",
   "execution_count": 1,
   "metadata": {},
   "outputs": [],
   "source": [
    "from autoreduce import *\n",
    "import numpy as np"
   ]
  },
  {
   "cell_type": "markdown",
   "metadata": {},
   "source": [
    "## System object attributes"
   ]
  },
  {
   "cell_type": "code",
   "execution_count": 2,
   "metadata": {},
   "outputs": [
    {
     "name": "stdout",
     "output_type": "stream",
     "text": [
      "The states : [x0, x1]\n",
      "The dynamics f : [P0*x1 - x0**2, -P1*x1]\n",
      "The dynamics P : [P0, P1]\n"
     ]
    }
   ],
   "source": [
    "# Create symbolic objects\n",
    "x, f, P = load_ODE_model(2, 2)\n",
    "f[0] = -x[0]**2 + P[0]*x[1]\n",
    "f[1] = -P[1]*x[1]\n",
    "print('The states : {0}'.format(x))\n",
    "print('The dynamics f : {0}'.format(f))\n",
    "print('The dynamics P : {0}'.format(P))\n",
    "C = np.array([[0,1]]).tolist()"
   ]
  },
  {
   "cell_type": "code",
   "execution_count": 3,
   "metadata": {},
   "outputs": [],
   "source": [
    "# System class\n",
    "sys = System(x, f, params = P, C = C)"
   ]
  },
  {
   "cell_type": "markdown",
   "metadata": {},
   "source": [
    "## Solve the System using the ODE subclass "
   ]
  },
  {
   "cell_type": "code",
   "execution_count": 4,
   "metadata": {},
   "outputs": [],
   "source": [
    "# Solve ODE from System\n",
    "from autoreduce.ode import ODE\n",
    "timepoints = np.linspace(0,20,100)\n",
    "sys.params_values = [2, 4]\n",
    "sys.x_init = [0,10]\n",
    "sys_ode = ODE(sys.x, sys.f, params = sys.params, params_values = sys.params_values,\n",
    "              C = sys.C, x_init = sys.x_init, timepoints = timepoints)\n",
    "solution = sys_ode.solve_system()"
   ]
  },
  {
   "cell_type": "markdown",
   "metadata": {},
   "source": [
    "## Local sensitivity analysis tools for System using the SSM subclass"
   ]
  },
  {
   "cell_type": "code",
   "execution_count": 5,
   "metadata": {},
   "outputs": [
    {
     "name": "stdout",
     "output_type": "stream",
     "text": [
      "SSM Progress: |██████████████████████████████████████████████████| 100.0% Complete\n"
     ]
    }
   ],
   "source": [
    "# Solve for sensitivity analysis from System\n",
    "from autoreduce.local_sensitivity import SSM\n",
    "timepoints = np.linspace(0,20,10)\n",
    "sys.params_values = [2, 4]\n",
    "sys.x_init = [0,10]\n",
    "sys_ssm = SSM(sys.x, sys.f, params = sys.params, params_values = sys.params_values,\n",
    "              C = sys.C, x_init = sys.x_init, timepoints = timepoints)\n",
    "solution = sys_ssm.compute_SSM()"
   ]
  },
  {
   "cell_type": "code",
   "execution_count": 6,
   "metadata": {},
   "outputs": [
    {
     "name": "stdout",
     "output_type": "stream",
     "text": [
      "J =  [[ 0. -2.]\n",
      " [ 0. -2.]]\n",
      "Z =  [ 0.  -0.5]\n",
      "SSM =  [[[ 0.00000000e+00  0.00000000e+00]\n",
      "  [ 0.00000000e+00  0.00000000e+00]]\n",
      "\n",
      " [[ 1.75024701e-01  2.29836955e-14]\n",
      "  [ 1.36106614e-01 -3.89180870e-02]]\n",
      "\n",
      " [[ 2.05899440e-01  1.03151368e-12]\n",
      "  [ 1.82738946e-01 -2.31604933e-02]]\n",
      "\n",
      " [[ 2.18762852e-01  0.00000000e+00]\n",
      "  [ 2.02355664e-01 -1.64071878e-02]]\n",
      "\n",
      " [[ 2.25816815e-01  0.00000000e+00]\n",
      "  [ 2.13114620e-01 -1.27021959e-02]]\n",
      "\n",
      " [[ 7.66182579e-03  0.00000000e+00]\n",
      "  [ 7.31704352e-03 -3.44782265e-04]]\n",
      "\n",
      " [[ 2.63590284e-10  0.00000000e+00]\n",
      "  [ 2.53705629e-10 -9.88465494e-12]]\n",
      "\n",
      " [[-2.70825331e-09  0.00000000e+00]\n",
      "  [-2.62120225e-09  8.70510635e-11]]\n",
      "\n",
      " [[ 4.10298779e-08  0.00000000e+00]\n",
      "  [ 3.98759118e-08 -1.15396610e-09]]\n",
      "\n",
      " [[ 9.43881879e-09  0.00000000e+00]\n",
      "  [ 9.20284817e-09 -2.35970616e-10]]]\n"
     ]
    }
   ],
   "source": [
    "J = sys_ssm.compute_J([2,1])\n",
    "Z = sys_ssm.compute_Zj([2,1], 1)\n",
    "print('J = ',J)\n",
    "print('Z = ', Z)\n",
    "print('SSM = ',solution)"
   ]
  }
 ],
 "metadata": {
  "kernelspec": {
   "display_name": "Python 3.9.12 ('base')",
   "language": "python",
   "name": "python3"
  },
  "language_info": {
   "codemirror_mode": {
    "name": "ipython",
    "version": 3
   },
   "file_extension": ".py",
   "mimetype": "text/x-python",
   "name": "python",
   "nbconvert_exporter": "python",
   "pygments_lexer": "ipython3",
   "version": "3.9.12"
  },
  "vscode": {
   "interpreter": {
    "hash": "086edbbad6d007afd932f3998127bea1c36f47a35b43b79d0f508f10f9e57cc3"
   }
  }
 },
 "nbformat": 4,
 "nbformat_minor": 2
}
