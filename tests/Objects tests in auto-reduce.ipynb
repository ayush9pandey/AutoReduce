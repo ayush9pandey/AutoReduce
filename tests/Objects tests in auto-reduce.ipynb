{
 "cells": [
  {
   "cell_type": "code",
   "execution_count": 1,
   "metadata": {},
   "outputs": [],
   "source": [
    "from autoreduce import *\n",
    "import numpy as np"
   ]
  },
  {
   "cell_type": "markdown",
   "metadata": {},
   "source": [
    "## System object attributes"
   ]
  },
  {
   "cell_type": "code",
   "execution_count": 3,
   "metadata": {},
   "outputs": [
    {
     "output_type": "stream",
     "name": "stdout",
     "text": [
      "The states : [x0, x1]\nThe dynamics f : [P0*x1 - x0**2, -P1*x1]\nThe dynamics P : [P0, P1]\n"
     ]
    }
   ],
   "source": [
    "# Create symbolic objects\n",
    "x, f, P = system.load_ODE_model(2, 2)\n",
    "f[0] = -x[0]**2 + P[0]*x[1]\n",
    "f[1] = -P[1]*x[1]\n",
    "print('The states : {0}'.format(x))\n",
    "print('The dynamics f : {0}'.format(f))\n",
    "print('The dynamics P : {0}'.format(P))\n",
    "C = np.array([[0,1]]).tolist()"
   ]
  },
  {
   "cell_type": "code",
   "execution_count": 4,
   "metadata": {},
   "outputs": [],
   "source": [
    "# System class\n",
    "sys = System(x, f, params = P, C = C)"
   ]
  },
  {
   "cell_type": "markdown",
   "metadata": {},
   "source": [
    "## Solve the System using the ODE subclass "
   ]
  },
  {
   "cell_type": "code",
   "execution_count": 5,
   "metadata": {},
   "outputs": [],
   "source": [
    "# Solve ODE from System\n",
    "from autoreduce.ode import ODE\n",
    "timepoints = np.linspace(0,20,100)\n",
    "sys.params_values = [2, 4]\n",
    "sys.x_init = [0,10]\n",
    "sys_ode = ODE(sys.x, sys.f, params = sys.params, params_values = sys.params_values,\n",
    "              C = sys.C, x_init = sys.x_init, timepoints = timepoints)\n",
    "solution = sys_ode.solve_system()"
   ]
  },
  {
   "cell_type": "markdown",
   "metadata": {},
   "source": [
    "## Local sensitivity analysis tools for System using the SSM subclass"
   ]
  },
  {
   "cell_type": "code",
   "execution_count": 6,
   "metadata": {},
   "outputs": [
    {
     "output_type": "stream",
     "name": "stdout",
     "text": [
      "SSM Progress: |██████████████████████████████████████████████████| 100.0% Complete\n"
     ]
    }
   ],
   "source": [
    "# Solve for sensitivity analysis from System\n",
    "from autoreduce.local_sensitivity import SSM\n",
    "timepoints = np.linspace(0,20,10)\n",
    "sys.params_values = [2, 4]\n",
    "sys.x_init = [0,10]\n",
    "sys_ssm = SSM(sys.x, sys.f, params = sys.params, params_values = sys.params_values,\n",
    "              C = sys.C, x_init = sys.x_init, timepoints = timepoints)\n",
    "solution = sys_ssm.compute_SSM()"
   ]
  },
  {
   "cell_type": "code",
   "execution_count": 7,
   "metadata": {},
   "outputs": [
    {
     "output_type": "stream",
     "name": "stdout",
     "text": [
      "J =  [[-2.06  1.  ]\n [ 0.   -2.  ]]\nZ =  [ 0.  -0.5]\nSSM =  [[[ 0.00000000e+00  0.00000000e+00]\n  [ 0.00000000e+00  0.00000000e+00]]\n\n [[ 1.34336602e-01  4.36756653e-16]\n  [-5.45133802e-02 -3.89180870e-02]]\n\n [[ 1.59522028e-01  7.92846941e-16]\n  [-7.25396519e-02 -2.31604933e-02]]\n\n [[ 1.69993653e-01  0.00000000e+00]\n  [-7.99571192e-02 -1.64071877e-02]]\n\n [[ 1.75732041e-01  4.04531915e-15]\n  [-8.39924423e-02 -1.27021957e-02]]\n\n [[ 6.69479923e-05 -5.42042053e-18]\n  [-3.34739922e-05 -3.44782135e-04]]\n\n [[ 2.63589968e-10  2.12945088e-25]\n  [-1.26852669e-10 -9.88465598e-12]]\n\n [[-2.70825328e-09  6.86216667e-23]\n  [ 1.31060111e-09  8.70510624e-11]]\n\n [[ 4.10298779e-08 -2.10396602e-20]\n  [-1.99379559e-08 -1.15396610e-09]]\n\n [[ 9.43881841e-09  2.35504663e-23]\n  [-4.60142374e-09 -2.35970617e-10]]]\n"
     ]
    }
   ],
   "source": [
    "J = sys_ssm.compute_J([2,1])\n",
    "Z = sys_ssm.compute_Zj([2,1], 1)\n",
    "print('J = ',J)\n",
    "print('Z = ', Z)\n",
    "print('SSM = ',solution)"
   ]
  },
  {
   "cell_type": "markdown",
   "metadata": {},
   "source": [
    "## Use Reduce class to perform model reduction of System "
   ]
  },
  {
   "cell_type": "code",
   "execution_count": 8,
   "metadata": {},
   "outputs": [],
   "source": [
    "from autoreduce.model_reduction import Reduce\n",
    "timepoints_ode = np.linspace(0,20,100)\n",
    "timepoints_ssm = np.linspace(0,20,10)\n",
    "sys_reduce = Reduce(sys.x, sys.f, params = sys.params, params_values = sys.params_values,\n",
    "        C = sys.C, x_init = sys.x_init, \n",
    "       timepoints_ode = timepoints_ode, timepoints_ssm = timepoints_ssm,)\n"
   ]
  },
  {
   "cell_type": "code",
   "execution_count": 9,
   "metadata": {},
   "outputs": [],
   "source": [
    "all_combinations = sys_reduce.get_all_combinations()"
   ]
  },
  {
   "cell_type": "code",
   "execution_count": null,
   "metadata": {},
   "outputs": [],
   "source": []
  },
  {
   "cell_type": "code",
   "execution_count": null,
   "metadata": {},
   "outputs": [],
   "source": []
  }
 ],
 "metadata": {
  "kernelspec": {
   "display_name": "Python 3",
   "language": "python",
   "name": "python3"
  },
  "language_info": {
   "codemirror_mode": {
    "name": "ipython",
    "version": 3
   },
   "file_extension": ".py",
   "mimetype": "text/x-python",
   "name": "python",
   "nbconvert_exporter": "python",
   "pygments_lexer": "ipython3",
   "version": "3.7.4-final"
  }
 },
 "nbformat": 4,
 "nbformat_minor": 2
}